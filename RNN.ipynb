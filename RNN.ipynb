{
 "cells": [
  {
   "cell_type": "code",
   "execution_count": 1,
   "id": "43e123ce",
   "metadata": {},
   "outputs": [],
   "source": [
    "import json\n",
    "import numpy as np\n",
    "from sklearn.model_selection import train_test_split\n",
    "import tensorflow.keras as keras\n",
    "import matplotlib.pyplot as plt"
   ]
  },
  {
   "cell_type": "code",
   "execution_count": 2,
   "id": "b270935a",
   "metadata": {},
   "outputs": [],
   "source": [
    "DATA_PATH = \"/home/ubuntu/test.json\""
   ]
  },
  {
   "cell_type": "code",
   "execution_count": 3,
   "id": "a8e77fd0",
   "metadata": {},
   "outputs": [],
   "source": [
    "def load_data(data_path):\n",
    "    \"\"\"Loads training dataset from json file.\n",
    "        :param data_path (str): Path to json file containing data\n",
    "        :return X (ndarray): Inputs\n",
    "        :return y (ndarray): Targets\n",
    "    \"\"\"\n",
    "\n",
    "    with open(data_path, \"r\") as fp:\n",
    "        data = json.load(fp)\n",
    "\n",
    "    X = np.array(data[\"mfcc\"])\n",
    "    y = np.array(data[\"labels\"])\n",
    "    return X, y\n",
    "\n"
   ]
  },
  {
   "cell_type": "code",
   "execution_count": 4,
   "id": "15c0f485",
   "metadata": {},
   "outputs": [],
   "source": [
    "def plot_history(history):\n",
    "    \"\"\"Plots accuracy/loss for training/validation set as a function of the epochs\n",
    "        :param history: Training history of model\n",
    "        :return:\n",
    "    \"\"\"\n",
    "\n",
    "    fig, axs = plt.subplots(2)\n",
    "\n",
    "    # create accuracy sublpot\n",
    "    axs[0].plot(history.history[\"accuracy\"], label=\"train accuracy\")\n",
    "    axs[0].plot(history.history[\"val_accuracy\"], label=\"test accuracy\")\n",
    "    axs[0].set_ylabel(\"Accuracy\")\n",
    "    axs[0].legend(loc=\"lower right\")\n",
    "    axs[0].set_title(\"Accuracy eval\")\n",
    "\n",
    "    # create error sublpot\n",
    "    axs[1].plot(history.history[\"loss\"], label=\"train error\")\n",
    "    axs[1].plot(history.history[\"val_loss\"], label=\"test error\")\n",
    "    axs[1].set_ylabel(\"Error\")\n",
    "    axs[1].set_xlabel(\"Epoch\")\n",
    "    axs[1].legend(loc=\"upper right\")\n",
    "    axs[1].set_title(\"Error eval\")\n",
    "\n",
    "    plt.show()\n",
    "\n"
   ]
  },
  {
   "cell_type": "code",
   "execution_count": 5,
   "id": "43c31774",
   "metadata": {},
   "outputs": [],
   "source": [
    "def prepare_datasets(test_size, validation_size):\n",
    "    \"\"\"Loads data and splits it into train, validation and test sets.\n",
    "    :param test_size (float): Value in [0, 1] indicating percentage of data set to allocate to test split\n",
    "    :param validation_size (float): Value in [0, 1] indicating percentage of train set to allocate to validation split\n",
    "    :return X_train (ndarray): Input training set\n",
    "    :return X_validation (ndarray): Input validation set\n",
    "    :return X_test (ndarray): Input test set\n",
    "    :return y_train (ndarray): Target training set\n",
    "    :return y_validation (ndarray): Target validation set\n",
    "    :return y_test (ndarray): Target test set\n",
    "    \"\"\"\n",
    "\n",
    "    # load data\n",
    "    X, y = load_data(DATA_PATH)\n",
    "\n",
    "    # create train, validation and test split\n",
    "    X_train, X_test, y_train, y_test = train_test_split(X, y, test_size=test_size)\n",
    "    X_train, X_validation, y_train, y_validation = train_test_split(X_train, y_train, test_size=validation_size)\n",
    "\n",
    "    return X_train, X_validation, X_test, y_train, y_validation, y_test\n"
   ]
  },
  {
   "cell_type": "code",
   "execution_count": 6,
   "id": "4d38664e",
   "metadata": {},
   "outputs": [],
   "source": [
    "def build_model(input_shape):\n",
    "    \"\"\"Generates RNN-LSTM model\n",
    "    :param input_shape (tuple): Shape of input set\n",
    "    :return model: RNN-LSTM model\n",
    "    \"\"\"\n",
    "\n",
    "    # build network topology\n",
    "    model = keras.Sequential()\n",
    "\n",
    "    # 2 LSTM layers\n",
    "    model.add(keras.layers.LSTM(64, input_shape=input_shape, return_sequences=True))\n",
    "    model.add(keras.layers.LSTM(64))\n",
    "\n",
    "    # dense layer\n",
    "    model.add(keras.layers.Dense(64, activation='relu'))\n",
    "    model.add(keras.layers.Dropout(0.3))\n",
    "\n",
    "    # output layer\n",
    "    model.add(keras.layers.Dense(10, activation='softmax'))\n",
    "\n",
    "    return model\n"
   ]
  },
  {
   "cell_type": "code",
   "execution_count": 7,
   "id": "c4c32844",
   "metadata": {},
   "outputs": [
    {
     "name": "stderr",
     "output_type": "stream",
     "text": [
      "2022-10-25 03:39:17.836742: I tensorflow/compiler/jit/xla_cpu_device.cc:41] Not creating XLA devices, tf_xla_enable_xla_devices not set\n",
      "2022-10-25 03:39:17.837881: I tensorflow/core/platform/cpu_feature_guard.cc:142] This TensorFlow binary is optimized with oneAPI Deep Neural Network Library (oneDNN) to use the following CPU instructions in performance-critical operations:  SSE4.1 SSE4.2 AVX AVX2 AVX512F FMA\n",
      "To enable them in other operations, rebuild TensorFlow with the appropriate compiler flags.\n",
      "2022-10-25 03:39:17.841490: I tensorflow/core/common_runtime/process_util.cc:146] Creating new thread pool with default inter op setting: 2. Tune using inter_op_parallelism_threads for best performance.\n"
     ]
    },
    {
     "name": "stdout",
     "output_type": "stream",
     "text": [
      "Model: \"sequential\"\n",
      "_________________________________________________________________\n",
      "Layer (type)                 Output Shape              Param #   \n",
      "=================================================================\n",
      "lstm (LSTM)                  (None, 130, 64)           19968     \n",
      "_________________________________________________________________\n",
      "lstm_1 (LSTM)                (None, 64)                33024     \n",
      "_________________________________________________________________\n",
      "dense (Dense)                (None, 64)                4160      \n",
      "_________________________________________________________________\n",
      "dropout (Dropout)            (None, 64)                0         \n",
      "_________________________________________________________________\n",
      "dense_1 (Dense)              (None, 10)                650       \n",
      "=================================================================\n",
      "Total params: 57,802\n",
      "Trainable params: 57,802\n",
      "Non-trainable params: 0\n",
      "_________________________________________________________________\n",
      "Epoch 1/40\n"
     ]
    },
    {
     "name": "stderr",
     "output_type": "stream",
     "text": [
      "2022-10-25 03:39:18.209535: I tensorflow/compiler/mlir/mlir_graph_optimization_pass.cc:116] None of the MLIR optimization passes are enabled (registered 2)\n",
      "2022-10-25 03:39:18.234707: I tensorflow/core/platform/profile_utils/cpu_utils.cc:112] CPU Frequency: 2899975000 Hz\n"
     ]
    },
    {
     "name": "stdout",
     "output_type": "stream",
     "text": [
      "188/188 [==============================] - 54s 268ms/step - loss: 2.2883 - accuracy: 0.1362 - val_loss: 2.1484 - val_accuracy: 0.3067\n",
      "Epoch 2/40\n",
      "188/188 [==============================] - 46s 246ms/step - loss: 2.0925 - accuracy: 0.2799 - val_loss: 1.8524 - val_accuracy: 0.4067\n",
      "Epoch 3/40\n",
      "188/188 [==============================] - 48s 256ms/step - loss: 1.7948 - accuracy: 0.3980 - val_loss: 1.6673 - val_accuracy: 0.4407\n",
      "Epoch 4/40\n",
      "188/188 [==============================] - 48s 254ms/step - loss: 1.6437 - accuracy: 0.4204 - val_loss: 1.5589 - val_accuracy: 0.4727\n",
      "Epoch 5/40\n",
      "188/188 [==============================] - 48s 255ms/step - loss: 1.5309 - accuracy: 0.4636 - val_loss: 1.4787 - val_accuracy: 0.4967\n",
      "Epoch 6/40\n",
      "188/188 [==============================] - 47s 248ms/step - loss: 1.4828 - accuracy: 0.4951 - val_loss: 1.4399 - val_accuracy: 0.4953\n",
      "Epoch 7/40\n",
      "188/188 [==============================] - 46s 247ms/step - loss: 1.4081 - accuracy: 0.5072 - val_loss: 1.3881 - val_accuracy: 0.5227\n",
      "Epoch 8/40\n",
      "188/188 [==============================] - 49s 259ms/step - loss: 1.3420 - accuracy: 0.5318 - val_loss: 1.3593 - val_accuracy: 0.5307\n",
      "Epoch 9/40\n",
      "188/188 [==============================] - 50s 264ms/step - loss: 1.3132 - accuracy: 0.5444 - val_loss: 1.3284 - val_accuracy: 0.5420\n",
      "Epoch 10/40\n",
      "188/188 [==============================] - 51s 273ms/step - loss: 1.2659 - accuracy: 0.5591 - val_loss: 1.3096 - val_accuracy: 0.5373\n",
      "Epoch 11/40\n",
      "188/188 [==============================] - 48s 257ms/step - loss: 1.2368 - accuracy: 0.5773 - val_loss: 1.2883 - val_accuracy: 0.5580\n",
      "Epoch 12/40\n",
      "188/188 [==============================] - 52s 277ms/step - loss: 1.1876 - accuracy: 0.5903 - val_loss: 1.2631 - val_accuracy: 0.5680\n",
      "Epoch 13/40\n",
      "188/188 [==============================] - 50s 264ms/step - loss: 1.1726 - accuracy: 0.6088 - val_loss: 1.2812 - val_accuracy: 0.5587\n",
      "Epoch 14/40\n",
      "188/188 [==============================] - 49s 259ms/step - loss: 1.1399 - accuracy: 0.6191 - val_loss: 1.2573 - val_accuracy: 0.5707\n",
      "Epoch 15/40\n",
      "188/188 [==============================] - 48s 257ms/step - loss: 1.1416 - accuracy: 0.6063 - val_loss: 1.2272 - val_accuracy: 0.5760\n",
      "Epoch 16/40\n",
      "188/188 [==============================] - 50s 267ms/step - loss: 1.1142 - accuracy: 0.6131 - val_loss: 1.2267 - val_accuracy: 0.5753\n",
      "Epoch 17/40\n",
      "188/188 [==============================] - 50s 264ms/step - loss: 1.0818 - accuracy: 0.6307 - val_loss: 1.2335 - val_accuracy: 0.5767\n",
      "Epoch 18/40\n",
      "188/188 [==============================] - 49s 258ms/step - loss: 1.0605 - accuracy: 0.6447 - val_loss: 1.2021 - val_accuracy: 0.5953\n",
      "Epoch 19/40\n",
      "188/188 [==============================] - 50s 268ms/step - loss: 1.0151 - accuracy: 0.6566 - val_loss: 1.1901 - val_accuracy: 0.5927\n",
      "Epoch 20/40\n",
      "188/188 [==============================] - 50s 267ms/step - loss: 1.0103 - accuracy: 0.6644 - val_loss: 1.1923 - val_accuracy: 0.5880\n",
      "Epoch 21/40\n",
      "188/188 [==============================] - 50s 266ms/step - loss: 0.9762 - accuracy: 0.6740 - val_loss: 1.1848 - val_accuracy: 0.6013\n",
      "Epoch 22/40\n",
      "188/188 [==============================] - 48s 254ms/step - loss: 0.9703 - accuracy: 0.6775 - val_loss: 1.2058 - val_accuracy: 0.5973\n",
      "Epoch 23/40\n",
      "188/188 [==============================] - 52s 275ms/step - loss: 0.9575 - accuracy: 0.6869 - val_loss: 1.1604 - val_accuracy: 0.6020\n",
      "Epoch 24/40\n",
      "188/188 [==============================] - 50s 264ms/step - loss: 0.9484 - accuracy: 0.6862 - val_loss: 1.2129 - val_accuracy: 0.5913\n",
      "Epoch 25/40\n",
      "188/188 [==============================] - 50s 268ms/step - loss: 0.9276 - accuracy: 0.6995 - val_loss: 1.1619 - val_accuracy: 0.6087\n",
      "Epoch 26/40\n",
      "188/188 [==============================] - 48s 256ms/step - loss: 0.9218 - accuracy: 0.6946 - val_loss: 1.1488 - val_accuracy: 0.6033\n",
      "Epoch 27/40\n",
      "188/188 [==============================] - 52s 279ms/step - loss: 0.8920 - accuracy: 0.7075 - val_loss: 1.1722 - val_accuracy: 0.6100\n",
      "Epoch 28/40\n",
      "188/188 [==============================] - 50s 265ms/step - loss: 0.8789 - accuracy: 0.7175 - val_loss: 1.1513 - val_accuracy: 0.6133\n",
      "Epoch 29/40\n",
      "188/188 [==============================] - 48s 256ms/step - loss: 0.8653 - accuracy: 0.7119 - val_loss: 1.1374 - val_accuracy: 0.6220\n",
      "Epoch 30/40\n",
      "188/188 [==============================] - 50s 266ms/step - loss: 0.8726 - accuracy: 0.7184 - val_loss: 1.1660 - val_accuracy: 0.6213\n",
      "Epoch 31/40\n",
      "188/188 [==============================] - 52s 275ms/step - loss: 0.8753 - accuracy: 0.7096 - val_loss: 1.1265 - val_accuracy: 0.6280\n",
      "Epoch 32/40\n",
      "188/188 [==============================] - 52s 275ms/step - loss: 0.8579 - accuracy: 0.7201 - val_loss: 1.1488 - val_accuracy: 0.6233\n",
      "Epoch 33/40\n",
      "188/188 [==============================] - 52s 275ms/step - loss: 0.8299 - accuracy: 0.7309 - val_loss: 1.1244 - val_accuracy: 0.6293\n",
      "Epoch 34/40\n",
      "188/188 [==============================] - 51s 269ms/step - loss: 0.8005 - accuracy: 0.7416 - val_loss: 1.1199 - val_accuracy: 0.6313\n",
      "Epoch 35/40\n",
      "188/188 [==============================] - 49s 261ms/step - loss: 0.8198 - accuracy: 0.7293 - val_loss: 1.1414 - val_accuracy: 0.6240\n",
      "Epoch 36/40\n",
      "188/188 [==============================] - 53s 281ms/step - loss: 0.7953 - accuracy: 0.7385 - val_loss: 1.1490 - val_accuracy: 0.6353\n",
      "Epoch 37/40\n",
      "188/188 [==============================] - 52s 277ms/step - loss: 0.7939 - accuracy: 0.7376 - val_loss: 1.1448 - val_accuracy: 0.6367\n",
      "Epoch 38/40\n",
      "188/188 [==============================] - 48s 258ms/step - loss: 0.7266 - accuracy: 0.7669 - val_loss: 1.1494 - val_accuracy: 0.6260\n",
      "Epoch 39/40\n",
      "188/188 [==============================] - 52s 275ms/step - loss: 0.7569 - accuracy: 0.7617 - val_loss: 1.1193 - val_accuracy: 0.6380\n",
      "Epoch 40/40\n",
      "188/188 [==============================] - 48s 258ms/step - loss: 0.7635 - accuracy: 0.7490 - val_loss: 1.0995 - val_accuracy: 0.6533\n"
     ]
    },
    {
     "data": {
      "image/png": "[encoded data removed]",
      "text/plain": [
       "<Figure size 432x288 with 2 Axes>"
      ]
     },
     "metadata": {
      "needs_background": "light"
     },
     "output_type": "display_data"
    },
    {
     "name": "stdout",
     "output_type": "stream",
     "text": [
      "79/79 - 5s - loss: 1.1104 - accuracy: 0.6339\n",
      "\n",
      "Test accuracy: 0.633853554725647\n"
     ]
    }
   ],
   "source": [
    "if __name__ == \"__main__\":\n",
    "\n",
    "    # get train, validation, test splits\n",
    "    X_train, X_validation, X_test, y_train, y_validation, y_test = prepare_datasets(0.25, 0.2)\n",
    "\n",
    "    # create network\n",
    "    input_shape = (X_train.shape[1], X_train.shape[2]) # 130, 13\n",
    "    model = build_model(input_shape)\n",
    "\n",
    "    # compile model\n",
    "    optimiser = keras.optimizers.Adam(learning_rate=0.0001)\n",
    "    model.compile(optimizer=optimiser,\n",
    "                  loss='sparse_categorical_crossentropy',\n",
    "                  metrics=['accuracy'])\n",
    "\n",
    "    model.summary()\n",
    "\n",
    "    # train model\n",
    "    history = model.fit(X_train, y_train, validation_data=(X_validation, y_validation), batch_size=32, epochs=40)\n",
    "\n",
    "    # plot accuracy/error for training and validation\n",
    "    plot_history(history)\n",
    "\n",
    "    # evaluate model on test set\n",
    "    test_loss, test_acc = model.evaluate(X_test, y_test, verbose=2)\n",
    "    print('\\nTest accuracy:', test_acc)"
   ]
  },
  {
   "cell_type": "code",
   "execution_count": null,
   "id": "383259fd",
   "metadata": {},
   "outputs": [],
   "source": []
  }
 ],
 "metadata": {
  "kernelspec": {
   "display_name": "Python 3 (ipykernel)",
   "language": "python",
   "name": "python3"
  },
  "language_info": {
   "codemirror_mode": {
    "name": "ipython",
    "version": 3
   },
   "file_extension": ".py",
   "mimetype": "text/x-python",
   "name": "python",
   "nbconvert_exporter": "python",
   "pygments_lexer": "ipython3",
   "version": "3.9.12"
  }
 },
 "nbformat": 4,
 "nbformat_minor": 5
}
