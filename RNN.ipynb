{
 "cells": [
  {
   "cell_type": "code",
   "execution_count": 1,
   "id": "43e123ce",
   "metadata": {},
   "outputs": [],
   "source": [
    "import json\n",
    "import numpy as np\n",
    "from sklearn.model_selection import train_test_split\n",
    "import tensorflow.keras as keras\n",
    "import matplotlib.pyplot as plt"
   ]
  },
  {
   "cell_type": "code",
   "execution_count": 2,
   "id": "b270935a",
   "metadata": {},
   "outputs": [],
   "source": [
    "DATA_PATH = \"/home/ubuntu/musikalkemist/test.json\""
   ]
  },
  {
   "cell_type": "code",
   "execution_count": 3,
   "id": "a8e77fd0",
   "metadata": {},
   "outputs": [],
   "source": [
    "def load_data(data_path):\n",
    "    \"\"\"Loads training dataset from json file.\n",
    "        :param data_path (str): Path to json file containing data\n",
    "        :return X (ndarray): Inputs\n",
    "        :return y (ndarray): Targets\n",
    "    \"\"\"\n",
    "\n",
    "    with open(data_path, \"r\") as fp:\n",
    "        data = json.load(fp)\n",
    "\n",
    "    X = np.array(data[\"mfcc\"])\n",
    "    y = np.array(data[\"labels\"])\n",
    "    return X, y\n",
    "\n"
   ]
  },
  {
   "cell_type": "code",
   "execution_count": 4,
   "id": "15c0f485",
   "metadata": {},
   "outputs": [],
   "source": [
    "def plot_history(history):\n",
    "    \"\"\"Plots accuracy/loss for training/validation set as a function of the epochs\n",
    "        :param history: Training history of model\n",
    "        :return:\n",
    "    \"\"\"\n",
    "\n",
    "    fig, axs = plt.subplots(2)\n",
    "\n",
    "    # create accuracy sublpot\n",
    "    axs[0].plot(history.history[\"accuracy\"], label=\"train accuracy\")\n",
    "    axs[0].plot(history.history[\"val_accuracy\"], label=\"test accuracy\")\n",
    "    axs[0].set_ylabel(\"Accuracy\")\n",
    "    axs[0].legend(loc=\"lower right\")\n",
    "    axs[0].set_title(\"Accuracy eval\")\n",
    "\n",
    "    # create error sublpot\n",
    "    axs[1].plot(history.history[\"loss\"], label=\"train error\")\n",
    "    axs[1].plot(history.history[\"val_loss\"], label=\"test error\")\n",
    "    axs[1].set_ylabel(\"Error\")\n",
    "    axs[1].set_xlabel(\"Epoch\")\n",
    "    axs[1].legend(loc=\"upper right\")\n",
    "    axs[1].set_title(\"Error eval\")\n",
    "\n",
    "    plt.show()\n",
    "\n"
   ]
  },
  {
   "cell_type": "code",
   "execution_count": 5,
   "id": "43c31774",
   "metadata": {},
   "outputs": [],
   "source": [
    "def prepare_datasets(test_size, validation_size):\n",
    "    \"\"\"Loads data and splits it into train, validation and test sets.\n",
    "    :param test_size (float): Value in [0, 1] indicating percentage of data set to allocate to test split\n",
    "    :param validation_size (float): Value in [0, 1] indicating percentage of train set to allocate to validation split\n",
    "    :return X_train (ndarray): Input training set\n",
    "    :return X_validation (ndarray): Input validation set\n",
    "    :return X_test (ndarray): Input test set\n",
    "    :return y_train (ndarray): Target training set\n",
    "    :return y_validation (ndarray): Target validation set\n",
    "    :return y_test (ndarray): Target test set\n",
    "    \"\"\"\n",
    "\n",
    "    # load data\n",
    "    X, y = load_data(DATA_PATH)\n",
    "\n",
    "    # create train, validation and test split\n",
    "    X_train, X_test, y_train, y_test = train_test_split(X, y, test_size=test_size)\n",
    "    X_train, X_validation, y_train, y_validation = train_test_split(X_train, y_train, test_size=validation_size)\n",
    "\n",
    "    return X_train, X_validation, X_test, y_train, y_validation, y_test\n"
   ]
  },
  {
   "cell_type": "code",
   "execution_count": 6,
   "id": "4d38664e",
   "metadata": {},
   "outputs": [],
   "source": [
    "def build_model(input_shape):\n",
    "    \"\"\"Generates RNN-LSTM model\n",
    "    :param input_shape (tuple): Shape of input set\n",
    "    :return model: RNN-LSTM model\n",
    "    \"\"\"\n",
    "\n",
    "    # build network topology\n",
    "    model = keras.Sequential()\n",
    "\n",
    "    # 2 LSTM layers\n",
    "    model.add(keras.layers.LSTM(64, input_shape=input_shape, return_sequences=True))\n",
    "    model.add(keras.layers.LSTM(64))\n",
    "\n",
    "    # dense layer\n",
    "    model.add(keras.layers.Dense(64, activation='relu'))\n",
    "    model.add(keras.layers.Dropout(0.3))\n",
    "\n",
    "    # output layer\n",
    "    model.add(keras.layers.Dense(10, activation='softmax'))\n",
    "\n",
    "    return model\n"
   ]
  },
  {
   "cell_type": "code",
   "execution_count": 7,
   "id": "c4c32844",
   "metadata": {},
   "outputs": [
    {
     "name": "stderr",
     "output_type": "stream",
     "text": [
      "2022-10-09 18:36:25.420619: I tensorflow/compiler/jit/xla_cpu_device.cc:41] Not creating XLA devices, tf_xla_enable_xla_devices not set\n",
      "2022-10-09 18:36:25.420819: I tensorflow/core/platform/cpu_feature_guard.cc:142] This TensorFlow binary is optimized with oneAPI Deep Neural Network Library (oneDNN) to use the following CPU instructions in performance-critical operations:  SSE4.1 SSE4.2 AVX AVX2 AVX512F FMA\n",
      "To enable them in other operations, rebuild TensorFlow with the appropriate compiler flags.\n",
      "2022-10-09 18:36:25.421584: I tensorflow/core/common_runtime/process_util.cc:146] Creating new thread pool with default inter op setting: 2. Tune using inter_op_parallelism_threads for best performance.\n"
     ]
    },
    {
     "name": "stdout",
     "output_type": "stream",
     "text": [
      "Model: \"sequential\"\n",
      "_________________________________________________________________\n",
      "Layer (type)                 Output Shape              Param #   \n",
      "=================================================================\n",
      "lstm (LSTM)                  (None, 130, 64)           19968     \n",
      "_________________________________________________________________\n",
      "lstm_1 (LSTM)                (None, 64)                33024     \n",
      "_________________________________________________________________\n",
      "dense (Dense)                (None, 64)                4160      \n",
      "_________________________________________________________________\n",
      "dropout (Dropout)            (None, 64)                0         \n",
      "_________________________________________________________________\n",
      "dense_1 (Dense)              (None, 10)                650       \n",
      "=================================================================\n",
      "Total params: 57,802\n",
      "Trainable params: 57,802\n",
      "Non-trainable params: 0\n",
      "_________________________________________________________________\n",
      "Epoch 1/30\n"
     ]
    },
    {
     "name": "stderr",
     "output_type": "stream",
     "text": [
      "2022-10-09 18:36:25.734306: I tensorflow/compiler/mlir/mlir_graph_optimization_pass.cc:116] None of the MLIR optimization passes are enabled (registered 2)\n",
      "2022-10-09 18:36:25.750942: I tensorflow/core/platform/profile_utils/cpu_utils.cc:112] CPU Frequency: 2899950000 Hz\n"
     ]
    },
    {
     "name": "stdout",
     "output_type": "stream",
     "text": [
      "188/188 [==============================] - 58s 291ms/step - loss: 2.2735 - accuracy: 0.1410 - val_loss: 2.0849 - val_accuracy: 0.3040\n",
      "Epoch 2/30\n",
      "188/188 [==============================] - 49s 262ms/step - loss: 2.0387 - accuracy: 0.2977 - val_loss: 1.7868 - val_accuracy: 0.3953\n",
      "Epoch 3/30\n",
      "188/188 [==============================] - 49s 259ms/step - loss: 1.8100 - accuracy: 0.3660 - val_loss: 1.6052 - val_accuracy: 0.4560\n",
      "Epoch 4/30\n",
      "188/188 [==============================] - 51s 269ms/step - loss: 1.6532 - accuracy: 0.4124 - val_loss: 1.4839 - val_accuracy: 0.4827\n",
      "Epoch 5/30\n",
      "188/188 [==============================] - 50s 266ms/step - loss: 1.5389 - accuracy: 0.4707 - val_loss: 1.4460 - val_accuracy: 0.4840\n",
      "Epoch 6/30\n",
      "188/188 [==============================] - 50s 264ms/step - loss: 1.4697 - accuracy: 0.4844 - val_loss: 1.3718 - val_accuracy: 0.5240\n",
      "Epoch 7/30\n",
      "188/188 [==============================] - 54s 289ms/step - loss: 1.4295 - accuracy: 0.5014 - val_loss: 1.3536 - val_accuracy: 0.5240\n",
      "Epoch 8/30\n",
      "188/188 [==============================] - 54s 290ms/step - loss: 1.3620 - accuracy: 0.5200 - val_loss: 1.3068 - val_accuracy: 0.5433\n",
      "Epoch 9/30\n",
      "188/188 [==============================] - 52s 279ms/step - loss: 1.3127 - accuracy: 0.5439 - val_loss: 1.2837 - val_accuracy: 0.5360\n",
      "Epoch 10/30\n",
      "188/188 [==============================] - 53s 280ms/step - loss: 1.2772 - accuracy: 0.5685 - val_loss: 1.2657 - val_accuracy: 0.5573\n",
      "Epoch 11/30\n",
      "188/188 [==============================] - 53s 281ms/step - loss: 1.2420 - accuracy: 0.5622 - val_loss: 1.3005 - val_accuracy: 0.5227\n",
      "Epoch 12/30\n",
      "188/188 [==============================] - 53s 284ms/step - loss: 1.2565 - accuracy: 0.5623 - val_loss: 1.2447 - val_accuracy: 0.5673\n",
      "Epoch 13/30\n",
      "188/188 [==============================] - 54s 285ms/step - loss: 1.2075 - accuracy: 0.5810 - val_loss: 1.2074 - val_accuracy: 0.5720\n",
      "Epoch 14/30\n",
      "188/188 [==============================] - 53s 283ms/step - loss: 1.1556 - accuracy: 0.6038 - val_loss: 1.1946 - val_accuracy: 0.5813\n",
      "Epoch 15/30\n",
      "188/188 [==============================] - 53s 281ms/step - loss: 1.1279 - accuracy: 0.6152 - val_loss: 1.1701 - val_accuracy: 0.5887\n",
      "Epoch 16/30\n",
      "188/188 [==============================] - 53s 282ms/step - loss: 1.1108 - accuracy: 0.6233 - val_loss: 1.1754 - val_accuracy: 0.5953\n",
      "Epoch 17/30\n",
      "188/188 [==============================] - 53s 281ms/step - loss: 1.1003 - accuracy: 0.6197 - val_loss: 1.1651 - val_accuracy: 0.6020\n",
      "Epoch 18/30\n",
      "188/188 [==============================] - 53s 281ms/step - loss: 1.0625 - accuracy: 0.6330 - val_loss: 1.1356 - val_accuracy: 0.5993\n",
      "Epoch 19/30\n",
      "188/188 [==============================] - 53s 284ms/step - loss: 1.0387 - accuracy: 0.6569 - val_loss: 1.1246 - val_accuracy: 0.5987\n",
      "Epoch 20/30\n",
      "188/188 [==============================] - 53s 280ms/step - loss: 1.0074 - accuracy: 0.6564 - val_loss: 1.1392 - val_accuracy: 0.6000\n",
      "Epoch 21/30\n",
      "188/188 [==============================] - 53s 281ms/step - loss: 1.0088 - accuracy: 0.6518 - val_loss: 1.1078 - val_accuracy: 0.6200\n",
      "Epoch 22/30\n",
      "188/188 [==============================] - 53s 280ms/step - loss: 0.9823 - accuracy: 0.6697 - val_loss: 1.0970 - val_accuracy: 0.6160\n",
      "Epoch 23/30\n",
      "188/188 [==============================] - 53s 281ms/step - loss: 0.9569 - accuracy: 0.6724 - val_loss: 1.0930 - val_accuracy: 0.6187\n",
      "Epoch 24/30\n",
      "188/188 [==============================] - 53s 281ms/step - loss: 0.9603 - accuracy: 0.6754 - val_loss: 1.0899 - val_accuracy: 0.6307\n",
      "Epoch 25/30\n",
      "188/188 [==============================] - 53s 284ms/step - loss: 0.9270 - accuracy: 0.6864 - val_loss: 1.0909 - val_accuracy: 0.6333\n",
      "Epoch 26/30\n",
      "188/188 [==============================] - 53s 283ms/step - loss: 0.9559 - accuracy: 0.6806 - val_loss: 1.0846 - val_accuracy: 0.6307\n",
      "Epoch 27/30\n",
      "188/188 [==============================] - 53s 282ms/step - loss: 0.8900 - accuracy: 0.7086 - val_loss: 1.0756 - val_accuracy: 0.6347\n",
      "Epoch 28/30\n",
      "188/188 [==============================] - 53s 284ms/step - loss: 0.8990 - accuracy: 0.7017 - val_loss: 1.0510 - val_accuracy: 0.6440\n",
      "Epoch 29/30\n",
      "188/188 [==============================] - 53s 282ms/step - loss: 0.8955 - accuracy: 0.6984 - val_loss: 1.0694 - val_accuracy: 0.6320\n",
      "Epoch 30/30\n",
      "188/188 [==============================] - 53s 281ms/step - loss: 0.8748 - accuracy: 0.7023 - val_loss: 1.0467 - val_accuracy: 0.6380\n"
     ]
    },
    {
     "data": {
      "image/png": "[encoded data removed]",
      "text/plain": [
       "<Figure size 432x288 with 2 Axes>"
      ]
     },
     "metadata": {
      "needs_background": "light"
     },
     "output_type": "display_data"
    },
    {
     "name": "stdout",
     "output_type": "stream",
     "text": [
      "79/79 - 6s - loss: 1.1353 - accuracy: 0.6114\n",
      "\n",
      "Test accuracy: 0.6114445924758911\n"
     ]
    }
   ],
   "source": [
    "if __name__ == \"__main__\":\n",
    "\n",
    "    # get train, validation, test splits\n",
    "    X_train, X_validation, X_test, y_train, y_validation, y_test = prepare_datasets(0.25, 0.2)\n",
    "\n",
    "    # create network\n",
    "    input_shape = (X_train.shape[1], X_train.shape[2]) # 130, 13\n",
    "    model = build_model(input_shape)\n",
    "\n",
    "    # compile model\n",
    "    optimiser = keras.optimizers.Adam(learning_rate=0.0001)\n",
    "    model.compile(optimizer=optimiser,\n",
    "                  loss='sparse_categorical_crossentropy',\n",
    "                  metrics=['accuracy'])\n",
    "\n",
    "    model.summary()\n",
    "\n",
    "    # train model\n",
    "    history = model.fit(X_train, y_train, validation_data=(X_validation, y_validation), batch_size=32, epochs=30)\n",
    "\n",
    "    # plot accuracy/error for training and validation\n",
    "    plot_history(history)\n",
    "\n",
    "    # evaluate model on test set\n",
    "    test_loss, test_acc = model.evaluate(X_test, y_test, verbose=2)\n",
    "    print('\\nTest accuracy:', test_acc)"
   ]
  },
  {
   "cell_type": "code",
   "execution_count": null,
   "id": "383259fd",
   "metadata": {},
   "outputs": [],
   "source": []
  }
 ],
 "metadata": {
  "kernelspec": {
   "display_name": "Python 3 (ipykernel)",
   "language": "python",
   "name": "python3"
  },
  "language_info": {
   "codemirror_mode": {
    "name": "ipython",
    "version": 3
   },
   "file_extension": ".py",
   "mimetype": "text/x-python",
   "name": "python",
   "nbconvert_exporter": "python",
   "pygments_lexer": "ipython3",
   "version": "3.9.12"
  }
 },
 "nbformat": 4,
 "nbformat_minor": 5
}
