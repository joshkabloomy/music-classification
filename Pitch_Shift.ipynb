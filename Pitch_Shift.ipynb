{
 "cells": [
  {
   "cell_type": "code",
   "execution_count": 20,
   "id": "7a580223",
   "metadata": {},
   "outputs": [],
   "source": [
    "import json\n",
    "import os\n",
    "import math\n",
    "import librosa\n",
    "import soundfile"
   ]
  },
  {
   "cell_type": "code",
   "execution_count": 23,
   "id": "8df155a9",
   "metadata": {},
   "outputs": [
    {
     "name": "stdout",
     "output_type": "stream",
     "text": [
      "current dir path is /home/ubuntu/Data/genres_original\n",
      "current dir path is /home/ubuntu/Data/genres_original/metal\n"
     ]
    },
    {
     "name": "stderr",
     "output_type": "stream",
     "text": [
      "/tmp/ipykernel_998/1739257450.py:12: FutureWarning: Pass sr=22050, n_steps=7 as keyword args. From version 0.10 passing these as positional arguments will result in an error\n",
      "  new_y = librosa.effects.pitch_shift(y, sr, steps)\n"
     ]
    },
    {
     "name": "stdout",
     "output_type": "stream",
     "text": [
      "/home/ubuntu/Data/genres_original/metal/changedmetal.00095.wav\n"
     ]
    },
    {
     "name": "stderr",
     "output_type": "stream",
     "text": [
      "/tmp/ipykernel_998/1739257450.py:12: FutureWarning: Pass sr=22050, n_steps=7 as keyword args. From version 0.10 passing these as positional arguments will result in an error\n",
      "  new_y = librosa.effects.pitch_shift(y, sr, steps)\n"
     ]
    },
    {
     "name": "stdout",
     "output_type": "stream",
     "text": [
      "/home/ubuntu/Data/genres_original/metal/changedmetal.00005.wav\n"
     ]
    },
    {
     "name": "stderr",
     "output_type": "stream",
     "text": [
      "/tmp/ipykernel_998/1739257450.py:12: FutureWarning: Pass sr=22050, n_steps=7 as keyword args. From version 0.10 passing these as positional arguments will result in an error\n",
      "  new_y = librosa.effects.pitch_shift(y, sr, steps)\n"
     ]
    },
    {
     "name": "stdout",
     "output_type": "stream",
     "text": [
      "/home/ubuntu/Data/genres_original/metal/changedmetal.00084.wav\n"
     ]
    },
    {
     "name": "stderr",
     "output_type": "stream",
     "text": [
      "/tmp/ipykernel_998/1739257450.py:12: FutureWarning: Pass sr=22050, n_steps=7 as keyword args. From version 0.10 passing these as positional arguments will result in an error\n",
      "  new_y = librosa.effects.pitch_shift(y, sr, steps)\n"
     ]
    },
    {
     "name": "stdout",
     "output_type": "stream",
     "text": [
      "/home/ubuntu/Data/genres_original/metal/changedmetal.00034.wav\n"
     ]
    },
    {
     "name": "stderr",
     "output_type": "stream",
     "text": [
      "/tmp/ipykernel_998/1739257450.py:12: FutureWarning: Pass sr=22050, n_steps=7 as keyword args. From version 0.10 passing these as positional arguments will result in an error\n",
      "  new_y = librosa.effects.pitch_shift(y, sr, steps)\n"
     ]
    },
    {
     "name": "stdout",
     "output_type": "stream",
     "text": [
      "/home/ubuntu/Data/genres_original/metal/changedmetal.00020.wav\n"
     ]
    },
    {
     "name": "stderr",
     "output_type": "stream",
     "text": [
      "/tmp/ipykernel_998/1739257450.py:12: FutureWarning: Pass sr=22050, n_steps=7 as keyword args. From version 0.10 passing these as positional arguments will result in an error\n",
      "  new_y = librosa.effects.pitch_shift(y, sr, steps)\n"
     ]
    },
    {
     "name": "stdout",
     "output_type": "stream",
     "text": [
      "/home/ubuntu/Data/genres_original/metal/changedmetal.00036.wav\n"
     ]
    },
    {
     "name": "stderr",
     "output_type": "stream",
     "text": [
      "/tmp/ipykernel_998/1739257450.py:12: FutureWarning: Pass sr=22050, n_steps=7 as keyword args. From version 0.10 passing these as positional arguments will result in an error\n",
      "  new_y = librosa.effects.pitch_shift(y, sr, steps)\n"
     ]
    },
    {
     "name": "stdout",
     "output_type": "stream",
     "text": [
      "/home/ubuntu/Data/genres_original/metal/changedmetal.00076.wav\n"
     ]
    },
    {
     "name": "stderr",
     "output_type": "stream",
     "text": [
      "/tmp/ipykernel_998/1739257450.py:12: FutureWarning: Pass sr=22050, n_steps=7 as keyword args. From version 0.10 passing these as positional arguments will result in an error\n",
      "  new_y = librosa.effects.pitch_shift(y, sr, steps)\n"
     ]
    },
    {
     "name": "stdout",
     "output_type": "stream",
     "text": [
      "/home/ubuntu/Data/genres_original/metal/changedmetal.00009.wav\n"
     ]
    },
    {
     "name": "stderr",
     "output_type": "stream",
     "text": [
      "/tmp/ipykernel_998/1739257450.py:12: FutureWarning: Pass sr=22050, n_steps=7 as keyword args. From version 0.10 passing these as positional arguments will result in an error\n",
      "  new_y = librosa.effects.pitch_shift(y, sr, steps)\n"
     ]
    },
    {
     "name": "stdout",
     "output_type": "stream",
     "text": [
      "/home/ubuntu/Data/genres_original/metal/changedmetal.00099.wav\n"
     ]
    },
    {
     "name": "stderr",
     "output_type": "stream",
     "text": [
      "/tmp/ipykernel_998/1739257450.py:12: FutureWarning: Pass sr=22050, n_steps=7 as keyword args. From version 0.10 passing these as positional arguments will result in an error\n",
      "  new_y = librosa.effects.pitch_shift(y, sr, steps)\n"
     ]
    },
    {
     "name": "stdout",
     "output_type": "stream",
     "text": [
      "/home/ubuntu/Data/genres_original/metal/changedmetal.00055.wav\n"
     ]
    },
    {
     "name": "stderr",
     "output_type": "stream",
     "text": [
      "/tmp/ipykernel_998/1739257450.py:12: FutureWarning: Pass sr=22050, n_steps=7 as keyword args. From version 0.10 passing these as positional arguments will result in an error\n",
      "  new_y = librosa.effects.pitch_shift(y, sr, steps)\n"
     ]
    },
    {
     "name": "stdout",
     "output_type": "stream",
     "text": [
      "/home/ubuntu/Data/genres_original/metal/changedmetal.00030.wav\n"
     ]
    },
    {
     "name": "stderr",
     "output_type": "stream",
     "text": [
      "/tmp/ipykernel_998/1739257450.py:12: FutureWarning: Pass sr=22050, n_steps=7 as keyword args. From version 0.10 passing these as positional arguments will result in an error\n",
      "  new_y = librosa.effects.pitch_shift(y, sr, steps)\n"
     ]
    },
    {
     "name": "stdout",
     "output_type": "stream",
     "text": [
      "/home/ubuntu/Data/genres_original/metal/changedmetal.00079.wav\n"
     ]
    },
    {
     "name": "stderr",
     "output_type": "stream",
     "text": [
      "/tmp/ipykernel_998/1739257450.py:12: FutureWarning: Pass sr=22050, n_steps=7 as keyword args. From version 0.10 passing these as positional arguments will result in an error\n",
      "  new_y = librosa.effects.pitch_shift(y, sr, steps)\n"
     ]
    },
    {
     "name": "stdout",
     "output_type": "stream",
     "text": [
      "/home/ubuntu/Data/genres_original/metal/changedmetal.00068.wav\n"
     ]
    },
    {
     "name": "stderr",
     "output_type": "stream",
     "text": [
      "/tmp/ipykernel_998/1739257450.py:12: FutureWarning: Pass sr=22050, n_steps=7 as keyword args. From version 0.10 passing these as positional arguments will result in an error\n",
      "  new_y = librosa.effects.pitch_shift(y, sr, steps)\n"
     ]
    },
    {
     "name": "stdout",
     "output_type": "stream",
     "text": [
      "/home/ubuntu/Data/genres_original/metal/changedmetal.00073.wav\n"
     ]
    },
    {
     "name": "stderr",
     "output_type": "stream",
     "text": [
      "/tmp/ipykernel_998/1739257450.py:12: FutureWarning: Pass sr=22050, n_steps=7 as keyword args. From version 0.10 passing these as positional arguments will result in an error\n",
      "  new_y = librosa.effects.pitch_shift(y, sr, steps)\n"
     ]
    },
    {
     "name": "stdout",
     "output_type": "stream",
     "text": [
      "/home/ubuntu/Data/genres_original/metal/changedmetal.00004.wav\n"
     ]
    },
    {
     "name": "stderr",
     "output_type": "stream",
     "text": [
      "/tmp/ipykernel_998/1739257450.py:12: FutureWarning: Pass sr=22050, n_steps=7 as keyword args. From version 0.10 passing these as positional arguments will result in an error\n",
      "  new_y = librosa.effects.pitch_shift(y, sr, steps)\n"
     ]
    },
    {
     "name": "stdout",
     "output_type": "stream",
     "text": [
      "/home/ubuntu/Data/genres_original/metal/changedmetal.00072.wav\n"
     ]
    },
    {
     "name": "stderr",
     "output_type": "stream",
     "text": [
      "/tmp/ipykernel_998/1739257450.py:12: FutureWarning: Pass sr=22050, n_steps=7 as keyword args. From version 0.10 passing these as positional arguments will result in an error\n",
      "  new_y = librosa.effects.pitch_shift(y, sr, steps)\n"
     ]
    },
    {
     "name": "stdout",
     "output_type": "stream",
     "text": [
      "/home/ubuntu/Data/genres_original/metal/changedmetal.00039.wav\n"
     ]
    },
    {
     "name": "stderr",
     "output_type": "stream",
     "text": [
      "/tmp/ipykernel_998/1739257450.py:12: FutureWarning: Pass sr=22050, n_steps=7 as keyword args. From version 0.10 passing these as positional arguments will result in an error\n",
      "  new_y = librosa.effects.pitch_shift(y, sr, steps)\n"
     ]
    },
    {
     "name": "stdout",
     "output_type": "stream",
     "text": [
      "/home/ubuntu/Data/genres_original/metal/changedmetal.00082.wav\n"
     ]
    },
    {
     "name": "stderr",
     "output_type": "stream",
     "text": [
      "/tmp/ipykernel_998/1739257450.py:12: FutureWarning: Pass sr=22050, n_steps=7 as keyword args. From version 0.10 passing these as positional arguments will result in an error\n",
      "  new_y = librosa.effects.pitch_shift(y, sr, steps)\n"
     ]
    },
    {
     "name": "stdout",
     "output_type": "stream",
     "text": [
      "/home/ubuntu/Data/genres_original/metal/changedmetal.00006.wav\n"
     ]
    },
    {
     "name": "stderr",
     "output_type": "stream",
     "text": [
      "/tmp/ipykernel_998/1739257450.py:12: FutureWarning: Pass sr=22050, n_steps=7 as keyword args. From version 0.10 passing these as positional arguments will result in an error\n",
      "  new_y = librosa.effects.pitch_shift(y, sr, steps)\n"
     ]
    },
    {
     "name": "stdout",
     "output_type": "stream",
     "text": [
      "/home/ubuntu/Data/genres_original/metal/changedmetal.00093.wav\n"
     ]
    },
    {
     "name": "stderr",
     "output_type": "stream",
     "text": [
      "/tmp/ipykernel_998/1739257450.py:12: FutureWarning: Pass sr=22050, n_steps=7 as keyword args. From version 0.10 passing these as positional arguments will result in an error\n",
      "  new_y = librosa.effects.pitch_shift(y, sr, steps)\n"
     ]
    },
    {
     "name": "stdout",
     "output_type": "stream",
     "text": [
      "/home/ubuntu/Data/genres_original/metal/changedmetal.00043.wav\n"
     ]
    },
    {
     "name": "stderr",
     "output_type": "stream",
     "text": [
      "/tmp/ipykernel_998/1739257450.py:12: FutureWarning: Pass sr=22050, n_steps=7 as keyword args. From version 0.10 passing these as positional arguments will result in an error\n",
      "  new_y = librosa.effects.pitch_shift(y, sr, steps)\n"
     ]
    },
    {
     "name": "stdout",
     "output_type": "stream",
     "text": [
      "/home/ubuntu/Data/genres_original/metal/changedmetal.00074.wav\n"
     ]
    },
    {
     "name": "stderr",
     "output_type": "stream",
     "text": [
      "/tmp/ipykernel_998/1739257450.py:12: FutureWarning: Pass sr=22050, n_steps=7 as keyword args. From version 0.10 passing these as positional arguments will result in an error\n",
      "  new_y = librosa.effects.pitch_shift(y, sr, steps)\n"
     ]
    },
    {
     "name": "stdout",
     "output_type": "stream",
     "text": [
      "/home/ubuntu/Data/genres_original/metal/changedmetal.00010.wav\n"
     ]
    },
    {
     "name": "stderr",
     "output_type": "stream",
     "text": [
      "/tmp/ipykernel_998/1739257450.py:12: FutureWarning: Pass sr=22050, n_steps=7 as keyword args. From version 0.10 passing these as positional arguments will result in an error\n",
      "  new_y = librosa.effects.pitch_shift(y, sr, steps)\n"
     ]
    },
    {
     "name": "stdout",
     "output_type": "stream",
     "text": [
      "/home/ubuntu/Data/genres_original/metal/changedmetal.00058.wav\n"
     ]
    },
    {
     "name": "stderr",
     "output_type": "stream",
     "text": [
      "/tmp/ipykernel_998/1739257450.py:12: FutureWarning: Pass sr=22050, n_steps=7 as keyword args. From version 0.10 passing these as positional arguments will result in an error\n",
      "  new_y = librosa.effects.pitch_shift(y, sr, steps)\n"
     ]
    },
    {
     "name": "stdout",
     "output_type": "stream",
     "text": [
      "/home/ubuntu/Data/genres_original/metal/changedmetal.00028.wav\n"
     ]
    },
    {
     "name": "stderr",
     "output_type": "stream",
     "text": [
      "/tmp/ipykernel_998/1739257450.py:12: FutureWarning: Pass sr=22050, n_steps=7 as keyword args. From version 0.10 passing these as positional arguments will result in an error\n",
      "  new_y = librosa.effects.pitch_shift(y, sr, steps)\n"
     ]
    },
    {
     "name": "stdout",
     "output_type": "stream",
     "text": [
      "/home/ubuntu/Data/genres_original/metal/changedmetal.00014.wav\n"
     ]
    },
    {
     "name": "stderr",
     "output_type": "stream",
     "text": [
      "/tmp/ipykernel_998/1739257450.py:12: FutureWarning: Pass sr=22050, n_steps=7 as keyword args. From version 0.10 passing these as positional arguments will result in an error\n",
      "  new_y = librosa.effects.pitch_shift(y, sr, steps)\n"
     ]
    },
    {
     "name": "stdout",
     "output_type": "stream",
     "text": [
      "/home/ubuntu/Data/genres_original/metal/changedmetal.00018.wav\n"
     ]
    },
    {
     "name": "stderr",
     "output_type": "stream",
     "text": [
      "/tmp/ipykernel_998/1739257450.py:12: FutureWarning: Pass sr=22050, n_steps=7 as keyword args. From version 0.10 passing these as positional arguments will result in an error\n",
      "  new_y = librosa.effects.pitch_shift(y, sr, steps)\n"
     ]
    },
    {
     "name": "stdout",
     "output_type": "stream",
     "text": [
      "/home/ubuntu/Data/genres_original/metal/changedmetal.00094.wav\n"
     ]
    },
    {
     "name": "stderr",
     "output_type": "stream",
     "text": [
      "/tmp/ipykernel_998/1739257450.py:12: FutureWarning: Pass sr=22050, n_steps=7 as keyword args. From version 0.10 passing these as positional arguments will result in an error\n",
      "  new_y = librosa.effects.pitch_shift(y, sr, steps)\n"
     ]
    },
    {
     "name": "stdout",
     "output_type": "stream",
     "text": [
      "/home/ubuntu/Data/genres_original/metal/changedmetal.00051.wav\n"
     ]
    },
    {
     "name": "stderr",
     "output_type": "stream",
     "text": [
      "/tmp/ipykernel_998/1739257450.py:12: FutureWarning: Pass sr=22050, n_steps=7 as keyword args. From version 0.10 passing these as positional arguments will result in an error\n",
      "  new_y = librosa.effects.pitch_shift(y, sr, steps)\n"
     ]
    },
    {
     "name": "stdout",
     "output_type": "stream",
     "text": [
      "/home/ubuntu/Data/genres_original/metal/changedmetal.00053.wav\n"
     ]
    },
    {
     "name": "stderr",
     "output_type": "stream",
     "text": [
      "/tmp/ipykernel_998/1739257450.py:12: FutureWarning: Pass sr=22050, n_steps=7 as keyword args. From version 0.10 passing these as positional arguments will result in an error\n",
      "  new_y = librosa.effects.pitch_shift(y, sr, steps)\n"
     ]
    },
    {
     "name": "stdout",
     "output_type": "stream",
     "text": [
      "/home/ubuntu/Data/genres_original/metal/changedmetal.00080.wav\n"
     ]
    },
    {
     "name": "stderr",
     "output_type": "stream",
     "text": [
      "/tmp/ipykernel_998/1739257450.py:12: FutureWarning: Pass sr=22050, n_steps=7 as keyword args. From version 0.10 passing these as positional arguments will result in an error\n",
      "  new_y = librosa.effects.pitch_shift(y, sr, steps)\n"
     ]
    },
    {
     "name": "stdout",
     "output_type": "stream",
     "text": [
      "/home/ubuntu/Data/genres_original/metal/changedmetal.00088.wav\n"
     ]
    },
    {
     "name": "stderr",
     "output_type": "stream",
     "text": [
      "/tmp/ipykernel_998/1739257450.py:12: FutureWarning: Pass sr=22050, n_steps=7 as keyword args. From version 0.10 passing these as positional arguments will result in an error\n",
      "  new_y = librosa.effects.pitch_shift(y, sr, steps)\n"
     ]
    },
    {
     "name": "stdout",
     "output_type": "stream",
     "text": [
      "/home/ubuntu/Data/genres_original/metal/changedmetal.00003.wav\n"
     ]
    },
    {
     "name": "stderr",
     "output_type": "stream",
     "text": [
      "/tmp/ipykernel_998/1739257450.py:12: FutureWarning: Pass sr=22050, n_steps=7 as keyword args. From version 0.10 passing these as positional arguments will result in an error\n",
      "  new_y = librosa.effects.pitch_shift(y, sr, steps)\n"
     ]
    },
    {
     "name": "stdout",
     "output_type": "stream",
     "text": [
      "/home/ubuntu/Data/genres_original/metal/changedmetal.00048.wav\n"
     ]
    },
    {
     "name": "stderr",
     "output_type": "stream",
     "text": [
      "/tmp/ipykernel_998/1739257450.py:12: FutureWarning: Pass sr=22050, n_steps=7 as keyword args. From version 0.10 passing these as positional arguments will result in an error\n",
      "  new_y = librosa.effects.pitch_shift(y, sr, steps)\n"
     ]
    },
    {
     "name": "stdout",
     "output_type": "stream",
     "text": [
      "/home/ubuntu/Data/genres_original/metal/changedmetal.00092.wav\n"
     ]
    },
    {
     "name": "stderr",
     "output_type": "stream",
     "text": [
      "/tmp/ipykernel_998/1739257450.py:12: FutureWarning: Pass sr=22050, n_steps=7 as keyword args. From version 0.10 passing these as positional arguments will result in an error\n",
      "  new_y = librosa.effects.pitch_shift(y, sr, steps)\n"
     ]
    },
    {
     "name": "stdout",
     "output_type": "stream",
     "text": [
      "/home/ubuntu/Data/genres_original/metal/changedmetal.00078.wav\n"
     ]
    },
    {
     "name": "stderr",
     "output_type": "stream",
     "text": [
      "/tmp/ipykernel_998/1739257450.py:12: FutureWarning: Pass sr=22050, n_steps=7 as keyword args. From version 0.10 passing these as positional arguments will result in an error\n",
      "  new_y = librosa.effects.pitch_shift(y, sr, steps)\n"
     ]
    },
    {
     "name": "stdout",
     "output_type": "stream",
     "text": [
      "/home/ubuntu/Data/genres_original/metal/changedmetal.00057.wav\n"
     ]
    },
    {
     "name": "stderr",
     "output_type": "stream",
     "text": [
      "/tmp/ipykernel_998/1739257450.py:12: FutureWarning: Pass sr=22050, n_steps=7 as keyword args. From version 0.10 passing these as positional arguments will result in an error\n",
      "  new_y = librosa.effects.pitch_shift(y, sr, steps)\n"
     ]
    },
    {
     "name": "stdout",
     "output_type": "stream",
     "text": [
      "/home/ubuntu/Data/genres_original/metal/changedmetal.00061.wav\n"
     ]
    },
    {
     "name": "stderr",
     "output_type": "stream",
     "text": [
      "/tmp/ipykernel_998/1739257450.py:12: FutureWarning: Pass sr=22050, n_steps=7 as keyword args. From version 0.10 passing these as positional arguments will result in an error\n",
      "  new_y = librosa.effects.pitch_shift(y, sr, steps)\n"
     ]
    },
    {
     "name": "stdout",
     "output_type": "stream",
     "text": [
      "/home/ubuntu/Data/genres_original/metal/changedmetal.00066.wav\n"
     ]
    },
    {
     "name": "stderr",
     "output_type": "stream",
     "text": [
      "/tmp/ipykernel_998/1739257450.py:12: FutureWarning: Pass sr=22050, n_steps=7 as keyword args. From version 0.10 passing these as positional arguments will result in an error\n",
      "  new_y = librosa.effects.pitch_shift(y, sr, steps)\n"
     ]
    },
    {
     "name": "stdout",
     "output_type": "stream",
     "text": [
      "/home/ubuntu/Data/genres_original/metal/changedmetal.00050.wav\n"
     ]
    },
    {
     "name": "stderr",
     "output_type": "stream",
     "text": [
      "/tmp/ipykernel_998/1739257450.py:12: FutureWarning: Pass sr=22050, n_steps=7 as keyword args. From version 0.10 passing these as positional arguments will result in an error\n",
      "  new_y = librosa.effects.pitch_shift(y, sr, steps)\n"
     ]
    },
    {
     "name": "stdout",
     "output_type": "stream",
     "text": [
      "/home/ubuntu/Data/genres_original/metal/changedmetal.00047.wav\n"
     ]
    },
    {
     "name": "stderr",
     "output_type": "stream",
     "text": [
      "/tmp/ipykernel_998/1739257450.py:12: FutureWarning: Pass sr=22050, n_steps=7 as keyword args. From version 0.10 passing these as positional arguments will result in an error\n",
      "  new_y = librosa.effects.pitch_shift(y, sr, steps)\n"
     ]
    },
    {
     "name": "stdout",
     "output_type": "stream",
     "text": [
      "/home/ubuntu/Data/genres_original/metal/changedchangedmetal.00095.wav\n"
     ]
    },
    {
     "name": "stderr",
     "output_type": "stream",
     "text": [
      "/tmp/ipykernel_998/1739257450.py:12: FutureWarning: Pass sr=22050, n_steps=7 as keyword args. From version 0.10 passing these as positional arguments will result in an error\n",
      "  new_y = librosa.effects.pitch_shift(y, sr, steps)\n"
     ]
    },
    {
     "name": "stdout",
     "output_type": "stream",
     "text": [
      "/home/ubuntu/Data/genres_original/metal/changedmetal.00087.wav\n"
     ]
    },
    {
     "name": "stderr",
     "output_type": "stream",
     "text": [
      "/tmp/ipykernel_998/1739257450.py:12: FutureWarning: Pass sr=22050, n_steps=7 as keyword args. From version 0.10 passing these as positional arguments will result in an error\n",
      "  new_y = librosa.effects.pitch_shift(y, sr, steps)\n"
     ]
    },
    {
     "name": "stdout",
     "output_type": "stream",
     "text": [
      "/home/ubuntu/Data/genres_original/metal/changedmetal.00040.wav\n"
     ]
    },
    {
     "name": "stderr",
     "output_type": "stream",
     "text": [
      "/tmp/ipykernel_998/1739257450.py:12: FutureWarning: Pass sr=22050, n_steps=7 as keyword args. From version 0.10 passing these as positional arguments will result in an error\n",
      "  new_y = librosa.effects.pitch_shift(y, sr, steps)\n"
     ]
    },
    {
     "name": "stdout",
     "output_type": "stream",
     "text": [
      "/home/ubuntu/Data/genres_original/metal/changedmetal.00052.wav\n"
     ]
    },
    {
     "name": "stderr",
     "output_type": "stream",
     "text": [
      "/tmp/ipykernel_998/1739257450.py:12: FutureWarning: Pass sr=22050, n_steps=7 as keyword args. From version 0.10 passing these as positional arguments will result in an error\n",
      "  new_y = librosa.effects.pitch_shift(y, sr, steps)\n"
     ]
    },
    {
     "name": "stdout",
     "output_type": "stream",
     "text": [
      "/home/ubuntu/Data/genres_original/metal/changedmetal.00026.wav\n"
     ]
    },
    {
     "name": "stderr",
     "output_type": "stream",
     "text": [
      "/tmp/ipykernel_998/1739257450.py:12: FutureWarning: Pass sr=22050, n_steps=7 as keyword args. From version 0.10 passing these as positional arguments will result in an error\n",
      "  new_y = librosa.effects.pitch_shift(y, sr, steps)\n"
     ]
    },
    {
     "name": "stdout",
     "output_type": "stream",
     "text": [
      "/home/ubuntu/Data/genres_original/metal/changedmetal.00033.wav\n"
     ]
    },
    {
     "name": "stderr",
     "output_type": "stream",
     "text": [
      "/tmp/ipykernel_998/1739257450.py:12: FutureWarning: Pass sr=22050, n_steps=7 as keyword args. From version 0.10 passing these as positional arguments will result in an error\n",
      "  new_y = librosa.effects.pitch_shift(y, sr, steps)\n"
     ]
    },
    {
     "name": "stdout",
     "output_type": "stream",
     "text": [
      "/home/ubuntu/Data/genres_original/metal/changedmetal.00027.wav\n"
     ]
    },
    {
     "name": "stderr",
     "output_type": "stream",
     "text": [
      "/tmp/ipykernel_998/1739257450.py:12: FutureWarning: Pass sr=22050, n_steps=7 as keyword args. From version 0.10 passing these as positional arguments will result in an error\n",
      "  new_y = librosa.effects.pitch_shift(y, sr, steps)\n"
     ]
    },
    {
     "name": "stdout",
     "output_type": "stream",
     "text": [
      "/home/ubuntu/Data/genres_original/metal/changedmetal.00029.wav\n"
     ]
    },
    {
     "name": "stderr",
     "output_type": "stream",
     "text": [
      "/tmp/ipykernel_998/1739257450.py:12: FutureWarning: Pass sr=22050, n_steps=7 as keyword args. From version 0.10 passing these as positional arguments will result in an error\n",
      "  new_y = librosa.effects.pitch_shift(y, sr, steps)\n"
     ]
    },
    {
     "name": "stdout",
     "output_type": "stream",
     "text": [
      "/home/ubuntu/Data/genres_original/metal/changedmetal.00059.wav\n"
     ]
    },
    {
     "name": "stderr",
     "output_type": "stream",
     "text": [
      "/tmp/ipykernel_998/1739257450.py:12: FutureWarning: Pass sr=22050, n_steps=7 as keyword args. From version 0.10 passing these as positional arguments will result in an error\n",
      "  new_y = librosa.effects.pitch_shift(y, sr, steps)\n"
     ]
    },
    {
     "name": "stdout",
     "output_type": "stream",
     "text": [
      "/home/ubuntu/Data/genres_original/metal/changedmetal.00025.wav\n"
     ]
    },
    {
     "name": "stderr",
     "output_type": "stream",
     "text": [
      "/tmp/ipykernel_998/1739257450.py:12: FutureWarning: Pass sr=22050, n_steps=7 as keyword args. From version 0.10 passing these as positional arguments will result in an error\n",
      "  new_y = librosa.effects.pitch_shift(y, sr, steps)\n"
     ]
    },
    {
     "name": "stdout",
     "output_type": "stream",
     "text": [
      "/home/ubuntu/Data/genres_original/metal/changedmetal.00085.wav\n"
     ]
    },
    {
     "name": "stderr",
     "output_type": "stream",
     "text": [
      "/tmp/ipykernel_998/1739257450.py:12: FutureWarning: Pass sr=22050, n_steps=7 as keyword args. From version 0.10 passing these as positional arguments will result in an error\n",
      "  new_y = librosa.effects.pitch_shift(y, sr, steps)\n"
     ]
    },
    {
     "name": "stdout",
     "output_type": "stream",
     "text": [
      "/home/ubuntu/Data/genres_original/metal/changedmetal.00015.wav\n"
     ]
    },
    {
     "name": "stderr",
     "output_type": "stream",
     "text": [
      "/tmp/ipykernel_998/1739257450.py:12: FutureWarning: Pass sr=22050, n_steps=7 as keyword args. From version 0.10 passing these as positional arguments will result in an error\n",
      "  new_y = librosa.effects.pitch_shift(y, sr, steps)\n"
     ]
    },
    {
     "name": "stdout",
     "output_type": "stream",
     "text": [
      "/home/ubuntu/Data/genres_original/metal/changedmetal.00049.wav\n"
     ]
    },
    {
     "name": "stderr",
     "output_type": "stream",
     "text": [
      "/tmp/ipykernel_998/1739257450.py:12: FutureWarning: Pass sr=22050, n_steps=7 as keyword args. From version 0.10 passing these as positional arguments will result in an error\n",
      "  new_y = librosa.effects.pitch_shift(y, sr, steps)\n"
     ]
    },
    {
     "name": "stdout",
     "output_type": "stream",
     "text": [
      "/home/ubuntu/Data/genres_original/metal/changedmetal.00089.wav\n"
     ]
    },
    {
     "name": "stderr",
     "output_type": "stream",
     "text": [
      "/tmp/ipykernel_998/1739257450.py:12: FutureWarning: Pass sr=22050, n_steps=7 as keyword args. From version 0.10 passing these as positional arguments will result in an error\n",
      "  new_y = librosa.effects.pitch_shift(y, sr, steps)\n"
     ]
    },
    {
     "name": "stdout",
     "output_type": "stream",
     "text": [
      "/home/ubuntu/Data/genres_original/metal/changedmetal.00024.wav\n"
     ]
    },
    {
     "name": "stderr",
     "output_type": "stream",
     "text": [
      "/tmp/ipykernel_998/1739257450.py:12: FutureWarning: Pass sr=22050, n_steps=7 as keyword args. From version 0.10 passing these as positional arguments will result in an error\n",
      "  new_y = librosa.effects.pitch_shift(y, sr, steps)\n"
     ]
    },
    {
     "name": "stdout",
     "output_type": "stream",
     "text": [
      "/home/ubuntu/Data/genres_original/metal/changedmetal.00063.wav\n"
     ]
    },
    {
     "name": "stderr",
     "output_type": "stream",
     "text": [
      "/tmp/ipykernel_998/1739257450.py:12: FutureWarning: Pass sr=22050, n_steps=7 as keyword args. From version 0.10 passing these as positional arguments will result in an error\n",
      "  new_y = librosa.effects.pitch_shift(y, sr, steps)\n"
     ]
    },
    {
     "name": "stdout",
     "output_type": "stream",
     "text": [
      "/home/ubuntu/Data/genres_original/metal/changedmetal.00086.wav\n"
     ]
    },
    {
     "name": "stderr",
     "output_type": "stream",
     "text": [
      "/tmp/ipykernel_998/1739257450.py:12: FutureWarning: Pass sr=22050, n_steps=7 as keyword args. From version 0.10 passing these as positional arguments will result in an error\n",
      "  new_y = librosa.effects.pitch_shift(y, sr, steps)\n"
     ]
    },
    {
     "name": "stdout",
     "output_type": "stream",
     "text": [
      "/home/ubuntu/Data/genres_original/metal/changedmetal.00021.wav\n"
     ]
    },
    {
     "name": "stderr",
     "output_type": "stream",
     "text": [
      "/tmp/ipykernel_998/1739257450.py:12: FutureWarning: Pass sr=22050, n_steps=7 as keyword args. From version 0.10 passing these as positional arguments will result in an error\n",
      "  new_y = librosa.effects.pitch_shift(y, sr, steps)\n"
     ]
    },
    {
     "name": "stdout",
     "output_type": "stream",
     "text": [
      "/home/ubuntu/Data/genres_original/metal/changedmetal.00042.wav\n"
     ]
    },
    {
     "name": "stderr",
     "output_type": "stream",
     "text": [
      "/tmp/ipykernel_998/1739257450.py:12: FutureWarning: Pass sr=22050, n_steps=7 as keyword args. From version 0.10 passing these as positional arguments will result in an error\n",
      "  new_y = librosa.effects.pitch_shift(y, sr, steps)\n"
     ]
    },
    {
     "name": "stdout",
     "output_type": "stream",
     "text": [
      "/home/ubuntu/Data/genres_original/metal/changedmetal.00054.wav\n"
     ]
    },
    {
     "name": "stderr",
     "output_type": "stream",
     "text": [
      "/tmp/ipykernel_998/1739257450.py:12: FutureWarning: Pass sr=22050, n_steps=7 as keyword args. From version 0.10 passing these as positional arguments will result in an error\n",
      "  new_y = librosa.effects.pitch_shift(y, sr, steps)\n"
     ]
    },
    {
     "name": "stdout",
     "output_type": "stream",
     "text": [
      "/home/ubuntu/Data/genres_original/metal/changedmetal.00041.wav\n"
     ]
    },
    {
     "name": "stderr",
     "output_type": "stream",
     "text": [
      "/tmp/ipykernel_998/1739257450.py:12: FutureWarning: Pass sr=22050, n_steps=7 as keyword args. From version 0.10 passing these as positional arguments will result in an error\n",
      "  new_y = librosa.effects.pitch_shift(y, sr, steps)\n"
     ]
    },
    {
     "name": "stdout",
     "output_type": "stream",
     "text": [
      "/home/ubuntu/Data/genres_original/metal/changedmetal.00060.wav\n"
     ]
    },
    {
     "name": "stderr",
     "output_type": "stream",
     "text": [
      "/tmp/ipykernel_998/1739257450.py:12: FutureWarning: Pass sr=22050, n_steps=7 as keyword args. From version 0.10 passing these as positional arguments will result in an error\n",
      "  new_y = librosa.effects.pitch_shift(y, sr, steps)\n"
     ]
    },
    {
     "name": "stdout",
     "output_type": "stream",
     "text": [
      "/home/ubuntu/Data/genres_original/metal/changedmetal.00056.wav\n"
     ]
    },
    {
     "name": "stderr",
     "output_type": "stream",
     "text": [
      "/tmp/ipykernel_998/1739257450.py:12: FutureWarning: Pass sr=22050, n_steps=7 as keyword args. From version 0.10 passing these as positional arguments will result in an error\n",
      "  new_y = librosa.effects.pitch_shift(y, sr, steps)\n"
     ]
    },
    {
     "name": "stdout",
     "output_type": "stream",
     "text": [
      "/home/ubuntu/Data/genres_original/metal/changedmetal.00064.wav\n"
     ]
    },
    {
     "name": "stderr",
     "output_type": "stream",
     "text": [
      "/tmp/ipykernel_998/1739257450.py:12: FutureWarning: Pass sr=22050, n_steps=7 as keyword args. From version 0.10 passing these as positional arguments will result in an error\n",
      "  new_y = librosa.effects.pitch_shift(y, sr, steps)\n"
     ]
    },
    {
     "name": "stdout",
     "output_type": "stream",
     "text": [
      "/home/ubuntu/Data/genres_original/metal/changedmetal.00065.wav\n"
     ]
    },
    {
     "name": "stderr",
     "output_type": "stream",
     "text": [
      "/tmp/ipykernel_998/1739257450.py:12: FutureWarning: Pass sr=22050, n_steps=7 as keyword args. From version 0.10 passing these as positional arguments will result in an error\n",
      "  new_y = librosa.effects.pitch_shift(y, sr, steps)\n"
     ]
    },
    {
     "name": "stdout",
     "output_type": "stream",
     "text": [
      "/home/ubuntu/Data/genres_original/metal/changedmetal.00070.wav\n"
     ]
    },
    {
     "name": "stderr",
     "output_type": "stream",
     "text": [
      "/tmp/ipykernel_998/1739257450.py:12: FutureWarning: Pass sr=22050, n_steps=7 as keyword args. From version 0.10 passing these as positional arguments will result in an error\n",
      "  new_y = librosa.effects.pitch_shift(y, sr, steps)\n"
     ]
    },
    {
     "name": "stdout",
     "output_type": "stream",
     "text": [
      "/home/ubuntu/Data/genres_original/metal/changedmetal.00019.wav\n"
     ]
    },
    {
     "name": "stderr",
     "output_type": "stream",
     "text": [
      "/tmp/ipykernel_998/1739257450.py:12: FutureWarning: Pass sr=22050, n_steps=7 as keyword args. From version 0.10 passing these as positional arguments will result in an error\n",
      "  new_y = librosa.effects.pitch_shift(y, sr, steps)\n"
     ]
    },
    {
     "name": "stdout",
     "output_type": "stream",
     "text": [
      "/home/ubuntu/Data/genres_original/metal/changedmetal.00090.wav\n"
     ]
    },
    {
     "name": "stderr",
     "output_type": "stream",
     "text": [
      "/tmp/ipykernel_998/1739257450.py:12: FutureWarning: Pass sr=22050, n_steps=7 as keyword args. From version 0.10 passing these as positional arguments will result in an error\n",
      "  new_y = librosa.effects.pitch_shift(y, sr, steps)\n"
     ]
    },
    {
     "name": "stdout",
     "output_type": "stream",
     "text": [
      "/home/ubuntu/Data/genres_original/metal/changedmetal.00037.wav\n"
     ]
    },
    {
     "name": "stderr",
     "output_type": "stream",
     "text": [
      "/tmp/ipykernel_998/1739257450.py:12: FutureWarning: Pass sr=22050, n_steps=7 as keyword args. From version 0.10 passing these as positional arguments will result in an error\n",
      "  new_y = librosa.effects.pitch_shift(y, sr, steps)\n"
     ]
    },
    {
     "name": "stdout",
     "output_type": "stream",
     "text": [
      "/home/ubuntu/Data/genres_original/metal/changedmetal.00038.wav\n"
     ]
    },
    {
     "name": "stderr",
     "output_type": "stream",
     "text": [
      "/tmp/ipykernel_998/1739257450.py:12: FutureWarning: Pass sr=22050, n_steps=7 as keyword args. From version 0.10 passing these as positional arguments will result in an error\n",
      "  new_y = librosa.effects.pitch_shift(y, sr, steps)\n"
     ]
    },
    {
     "name": "stdout",
     "output_type": "stream",
     "text": [
      "/home/ubuntu/Data/genres_original/metal/changedmetal.00075.wav\n"
     ]
    },
    {
     "name": "stderr",
     "output_type": "stream",
     "text": [
      "/tmp/ipykernel_998/1739257450.py:12: FutureWarning: Pass sr=22050, n_steps=7 as keyword args. From version 0.10 passing these as positional arguments will result in an error\n",
      "  new_y = librosa.effects.pitch_shift(y, sr, steps)\n"
     ]
    },
    {
     "name": "stdout",
     "output_type": "stream",
     "text": [
      "/home/ubuntu/Data/genres_original/metal/changedmetal.00091.wav\n"
     ]
    },
    {
     "name": "stderr",
     "output_type": "stream",
     "text": [
      "/tmp/ipykernel_998/1739257450.py:12: FutureWarning: Pass sr=22050, n_steps=7 as keyword args. From version 0.10 passing these as positional arguments will result in an error\n",
      "  new_y = librosa.effects.pitch_shift(y, sr, steps)\n"
     ]
    },
    {
     "name": "stdout",
     "output_type": "stream",
     "text": [
      "/home/ubuntu/Data/genres_original/metal/changedmetal.00062.wav\n"
     ]
    },
    {
     "name": "stderr",
     "output_type": "stream",
     "text": [
      "/tmp/ipykernel_998/1739257450.py:12: FutureWarning: Pass sr=22050, n_steps=7 as keyword args. From version 0.10 passing these as positional arguments will result in an error\n",
      "  new_y = librosa.effects.pitch_shift(y, sr, steps)\n"
     ]
    },
    {
     "name": "stdout",
     "output_type": "stream",
     "text": [
      "/home/ubuntu/Data/genres_original/metal/changedmetal.00016.wav\n"
     ]
    },
    {
     "name": "stderr",
     "output_type": "stream",
     "text": [
      "/tmp/ipykernel_998/1739257450.py:12: FutureWarning: Pass sr=22050, n_steps=7 as keyword args. From version 0.10 passing these as positional arguments will result in an error\n",
      "  new_y = librosa.effects.pitch_shift(y, sr, steps)\n"
     ]
    },
    {
     "name": "stdout",
     "output_type": "stream",
     "text": [
      "/home/ubuntu/Data/genres_original/metal/changedmetal.00069.wav\n"
     ]
    },
    {
     "name": "stderr",
     "output_type": "stream",
     "text": [
      "/tmp/ipykernel_998/1739257450.py:12: FutureWarning: Pass sr=22050, n_steps=7 as keyword args. From version 0.10 passing these as positional arguments will result in an error\n",
      "  new_y = librosa.effects.pitch_shift(y, sr, steps)\n"
     ]
    },
    {
     "name": "stdout",
     "output_type": "stream",
     "text": [
      "/home/ubuntu/Data/genres_original/metal/changedmetal.00044.wav\n"
     ]
    },
    {
     "name": "stderr",
     "output_type": "stream",
     "text": [
      "/tmp/ipykernel_998/1739257450.py:12: FutureWarning: Pass sr=22050, n_steps=7 as keyword args. From version 0.10 passing these as positional arguments will result in an error\n",
      "  new_y = librosa.effects.pitch_shift(y, sr, steps)\n"
     ]
    },
    {
     "name": "stdout",
     "output_type": "stream",
     "text": [
      "/home/ubuntu/Data/genres_original/metal/changedmetal.00035.wav\n"
     ]
    },
    {
     "name": "stderr",
     "output_type": "stream",
     "text": [
      "/tmp/ipykernel_998/1739257450.py:12: FutureWarning: Pass sr=22050, n_steps=7 as keyword args. From version 0.10 passing these as positional arguments will result in an error\n",
      "  new_y = librosa.effects.pitch_shift(y, sr, steps)\n"
     ]
    },
    {
     "name": "stdout",
     "output_type": "stream",
     "text": [
      "/home/ubuntu/Data/genres_original/metal/changedmetal.00002.wav\n"
     ]
    },
    {
     "name": "stderr",
     "output_type": "stream",
     "text": [
      "/tmp/ipykernel_998/1739257450.py:12: FutureWarning: Pass sr=22050, n_steps=7 as keyword args. From version 0.10 passing these as positional arguments will result in an error\n",
      "  new_y = librosa.effects.pitch_shift(y, sr, steps)\n"
     ]
    },
    {
     "name": "stdout",
     "output_type": "stream",
     "text": [
      "/home/ubuntu/Data/genres_original/metal/changedmetal.00097.wav\n"
     ]
    },
    {
     "name": "stderr",
     "output_type": "stream",
     "text": [
      "/tmp/ipykernel_998/1739257450.py:12: FutureWarning: Pass sr=22050, n_steps=7 as keyword args. From version 0.10 passing these as positional arguments will result in an error\n",
      "  new_y = librosa.effects.pitch_shift(y, sr, steps)\n"
     ]
    },
    {
     "name": "stdout",
     "output_type": "stream",
     "text": [
      "/home/ubuntu/Data/genres_original/metal/changedmetal.00008.wav\n"
     ]
    },
    {
     "name": "stderr",
     "output_type": "stream",
     "text": [
      "/tmp/ipykernel_998/1739257450.py:12: FutureWarning: Pass sr=22050, n_steps=7 as keyword args. From version 0.10 passing these as positional arguments will result in an error\n",
      "  new_y = librosa.effects.pitch_shift(y, sr, steps)\n"
     ]
    },
    {
     "name": "stdout",
     "output_type": "stream",
     "text": [
      "/home/ubuntu/Data/genres_original/metal/changedmetal.00023.wav\n"
     ]
    },
    {
     "name": "stderr",
     "output_type": "stream",
     "text": [
      "/tmp/ipykernel_998/1739257450.py:12: FutureWarning: Pass sr=22050, n_steps=7 as keyword args. From version 0.10 passing these as positional arguments will result in an error\n",
      "  new_y = librosa.effects.pitch_shift(y, sr, steps)\n"
     ]
    },
    {
     "name": "stdout",
     "output_type": "stream",
     "text": [
      "/home/ubuntu/Data/genres_original/metal/changedmetal.00031.wav\n"
     ]
    },
    {
     "name": "stderr",
     "output_type": "stream",
     "text": [
      "/tmp/ipykernel_998/1739257450.py:12: FutureWarning: Pass sr=22050, n_steps=7 as keyword args. From version 0.10 passing these as positional arguments will result in an error\n",
      "  new_y = librosa.effects.pitch_shift(y, sr, steps)\n"
     ]
    },
    {
     "name": "stdout",
     "output_type": "stream",
     "text": [
      "/home/ubuntu/Data/genres_original/metal/changedmetal.00071.wav\n"
     ]
    },
    {
     "name": "stderr",
     "output_type": "stream",
     "text": [
      "/tmp/ipykernel_998/1739257450.py:12: FutureWarning: Pass sr=22050, n_steps=7 as keyword args. From version 0.10 passing these as positional arguments will result in an error\n",
      "  new_y = librosa.effects.pitch_shift(y, sr, steps)\n"
     ]
    },
    {
     "name": "stdout",
     "output_type": "stream",
     "text": [
      "/home/ubuntu/Data/genres_original/metal/changedmetal.00007.wav\n"
     ]
    },
    {
     "name": "stderr",
     "output_type": "stream",
     "text": [
      "/tmp/ipykernel_998/1739257450.py:12: FutureWarning: Pass sr=22050, n_steps=7 as keyword args. From version 0.10 passing these as positional arguments will result in an error\n",
      "  new_y = librosa.effects.pitch_shift(y, sr, steps)\n"
     ]
    },
    {
     "name": "stdout",
     "output_type": "stream",
     "text": [
      "/home/ubuntu/Data/genres_original/metal/changedmetal.00096.wav\n"
     ]
    },
    {
     "name": "stderr",
     "output_type": "stream",
     "text": [
      "/tmp/ipykernel_998/1739257450.py:12: FutureWarning: Pass sr=22050, n_steps=7 as keyword args. From version 0.10 passing these as positional arguments will result in an error\n",
      "  new_y = librosa.effects.pitch_shift(y, sr, steps)\n"
     ]
    },
    {
     "name": "stdout",
     "output_type": "stream",
     "text": [
      "/home/ubuntu/Data/genres_original/metal/changedmetal.00017.wav\n"
     ]
    },
    {
     "name": "stderr",
     "output_type": "stream",
     "text": [
      "/tmp/ipykernel_998/1739257450.py:12: FutureWarning: Pass sr=22050, n_steps=7 as keyword args. From version 0.10 passing these as positional arguments will result in an error\n",
      "  new_y = librosa.effects.pitch_shift(y, sr, steps)\n"
     ]
    },
    {
     "name": "stdout",
     "output_type": "stream",
     "text": [
      "/home/ubuntu/Data/genres_original/metal/changedmetal.00022.wav\n"
     ]
    },
    {
     "name": "stderr",
     "output_type": "stream",
     "text": [
      "/tmp/ipykernel_998/1739257450.py:12: FutureWarning: Pass sr=22050, n_steps=7 as keyword args. From version 0.10 passing these as positional arguments will result in an error\n",
      "  new_y = librosa.effects.pitch_shift(y, sr, steps)\n"
     ]
    },
    {
     "name": "stdout",
     "output_type": "stream",
     "text": [
      "/home/ubuntu/Data/genres_original/metal/changedmetal.00083.wav\n"
     ]
    },
    {
     "name": "stderr",
     "output_type": "stream",
     "text": [
      "/tmp/ipykernel_998/1739257450.py:12: FutureWarning: Pass sr=22050, n_steps=7 as keyword args. From version 0.10 passing these as positional arguments will result in an error\n",
      "  new_y = librosa.effects.pitch_shift(y, sr, steps)\n"
     ]
    },
    {
     "name": "stdout",
     "output_type": "stream",
     "text": [
      "/home/ubuntu/Data/genres_original/metal/changedmetal.00077.wav\n"
     ]
    },
    {
     "name": "stderr",
     "output_type": "stream",
     "text": [
      "/tmp/ipykernel_998/1739257450.py:12: FutureWarning: Pass sr=22050, n_steps=7 as keyword args. From version 0.10 passing these as positional arguments will result in an error\n",
      "  new_y = librosa.effects.pitch_shift(y, sr, steps)\n"
     ]
    },
    {
     "name": "stdout",
     "output_type": "stream",
     "text": [
      "/home/ubuntu/Data/genres_original/metal/changedmetal.00067.wav\n"
     ]
    },
    {
     "name": "stderr",
     "output_type": "stream",
     "text": [
      "/tmp/ipykernel_998/1739257450.py:12: FutureWarning: Pass sr=22050, n_steps=7 as keyword args. From version 0.10 passing these as positional arguments will result in an error\n",
      "  new_y = librosa.effects.pitch_shift(y, sr, steps)\n"
     ]
    },
    {
     "name": "stdout",
     "output_type": "stream",
     "text": [
      "/home/ubuntu/Data/genres_original/metal/changedmetal.00045.wav\n"
     ]
    },
    {
     "name": "stderr",
     "output_type": "stream",
     "text": [
      "/tmp/ipykernel_998/1739257450.py:12: FutureWarning: Pass sr=22050, n_steps=7 as keyword args. From version 0.10 passing these as positional arguments will result in an error\n",
      "  new_y = librosa.effects.pitch_shift(y, sr, steps)\n"
     ]
    },
    {
     "name": "stdout",
     "output_type": "stream",
     "text": [
      "/home/ubuntu/Data/genres_original/metal/changedmetal.00046.wav\n"
     ]
    },
    {
     "name": "stderr",
     "output_type": "stream",
     "text": [
      "/tmp/ipykernel_998/1739257450.py:12: FutureWarning: Pass sr=22050, n_steps=7 as keyword args. From version 0.10 passing these as positional arguments will result in an error\n",
      "  new_y = librosa.effects.pitch_shift(y, sr, steps)\n"
     ]
    },
    {
     "name": "stdout",
     "output_type": "stream",
     "text": [
      "/home/ubuntu/Data/genres_original/metal/changedmetal.00081.wav\n"
     ]
    },
    {
     "name": "stderr",
     "output_type": "stream",
     "text": [
      "/tmp/ipykernel_998/1739257450.py:12: FutureWarning: Pass sr=22050, n_steps=7 as keyword args. From version 0.10 passing these as positional arguments will result in an error\n",
      "  new_y = librosa.effects.pitch_shift(y, sr, steps)\n"
     ]
    },
    {
     "name": "stdout",
     "output_type": "stream",
     "text": [
      "/home/ubuntu/Data/genres_original/metal/changedmetal.00001.wav\n"
     ]
    },
    {
     "name": "stderr",
     "output_type": "stream",
     "text": [
      "/tmp/ipykernel_998/1739257450.py:12: FutureWarning: Pass sr=22050, n_steps=7 as keyword args. From version 0.10 passing these as positional arguments will result in an error\n",
      "  new_y = librosa.effects.pitch_shift(y, sr, steps)\n"
     ]
    },
    {
     "name": "stdout",
     "output_type": "stream",
     "text": [
      "/home/ubuntu/Data/genres_original/metal/changedmetal.00098.wav\n"
     ]
    },
    {
     "name": "stderr",
     "output_type": "stream",
     "text": [
      "/tmp/ipykernel_998/1739257450.py:12: FutureWarning: Pass sr=22050, n_steps=7 as keyword args. From version 0.10 passing these as positional arguments will result in an error\n",
      "  new_y = librosa.effects.pitch_shift(y, sr, steps)\n"
     ]
    },
    {
     "name": "stdout",
     "output_type": "stream",
     "text": [
      "/home/ubuntu/Data/genres_original/metal/changedmetal.00013.wav\n"
     ]
    },
    {
     "name": "stderr",
     "output_type": "stream",
     "text": [
      "/tmp/ipykernel_998/1739257450.py:12: FutureWarning: Pass sr=22050, n_steps=7 as keyword args. From version 0.10 passing these as positional arguments will result in an error\n",
      "  new_y = librosa.effects.pitch_shift(y, sr, steps)\n"
     ]
    },
    {
     "name": "stdout",
     "output_type": "stream",
     "text": [
      "/home/ubuntu/Data/genres_original/metal/changedmetal.00012.wav\n"
     ]
    },
    {
     "name": "stderr",
     "output_type": "stream",
     "text": [
      "/tmp/ipykernel_998/1739257450.py:12: FutureWarning: Pass sr=22050, n_steps=7 as keyword args. From version 0.10 passing these as positional arguments will result in an error\n",
      "  new_y = librosa.effects.pitch_shift(y, sr, steps)\n"
     ]
    },
    {
     "name": "stdout",
     "output_type": "stream",
     "text": [
      "/home/ubuntu/Data/genres_original/metal/changedmetal.00032.wav\n"
     ]
    },
    {
     "name": "stderr",
     "output_type": "stream",
     "text": [
      "/tmp/ipykernel_998/1739257450.py:12: FutureWarning: Pass sr=22050, n_steps=7 as keyword args. From version 0.10 passing these as positional arguments will result in an error\n",
      "  new_y = librosa.effects.pitch_shift(y, sr, steps)\n"
     ]
    },
    {
     "name": "stdout",
     "output_type": "stream",
     "text": [
      "/home/ubuntu/Data/genres_original/metal/changedmetal.00011.wav\n"
     ]
    },
    {
     "name": "stderr",
     "output_type": "stream",
     "text": [
      "/tmp/ipykernel_998/1739257450.py:12: FutureWarning: Pass sr=22050, n_steps=7 as keyword args. From version 0.10 passing these as positional arguments will result in an error\n",
      "  new_y = librosa.effects.pitch_shift(y, sr, steps)\n"
     ]
    },
    {
     "name": "stdout",
     "output_type": "stream",
     "text": [
      "/home/ubuntu/Data/genres_original/metal/changedmetal.00000.wav\n",
      "current dir path is /home/ubuntu/Data/genres_original/country\n"
     ]
    },
    {
     "name": "stderr",
     "output_type": "stream",
     "text": [
      "/tmp/ipykernel_998/1739257450.py:12: FutureWarning: Pass sr=22050, n_steps=7 as keyword args. From version 0.10 passing these as positional arguments will result in an error\n",
      "  new_y = librosa.effects.pitch_shift(y, sr, steps)\n"
     ]
    },
    {
     "name": "stdout",
     "output_type": "stream",
     "text": [
      "/home/ubuntu/Data/genres_original/country/changedcountry.00032.wav\n"
     ]
    },
    {
     "name": "stderr",
     "output_type": "stream",
     "text": [
      "/tmp/ipykernel_998/1739257450.py:12: FutureWarning: Pass sr=22050, n_steps=7 as keyword args. From version 0.10 passing these as positional arguments will result in an error\n",
      "  new_y = librosa.effects.pitch_shift(y, sr, steps)\n"
     ]
    },
    {
     "name": "stdout",
     "output_type": "stream",
     "text": [
      "/home/ubuntu/Data/genres_original/country/changedcountry.00041.wav\n"
     ]
    },
    {
     "name": "stderr",
     "output_type": "stream",
     "text": [
      "/tmp/ipykernel_998/1739257450.py:12: FutureWarning: Pass sr=22050, n_steps=7 as keyword args. From version 0.10 passing these as positional arguments will result in an error\n",
      "  new_y = librosa.effects.pitch_shift(y, sr, steps)\n"
     ]
    },
    {
     "name": "stdout",
     "output_type": "stream",
     "text": [
      "/home/ubuntu/Data/genres_original/country/changedcountry.00017.wav\n"
     ]
    },
    {
     "name": "stderr",
     "output_type": "stream",
     "text": [
      "/tmp/ipykernel_998/1739257450.py:12: FutureWarning: Pass sr=22050, n_steps=7 as keyword args. From version 0.10 passing these as positional arguments will result in an error\n",
      "  new_y = librosa.effects.pitch_shift(y, sr, steps)\n"
     ]
    },
    {
     "name": "stdout",
     "output_type": "stream",
     "text": [
      "/home/ubuntu/Data/genres_original/country/changedcountry.00091.wav\n"
     ]
    },
    {
     "name": "stderr",
     "output_type": "stream",
     "text": [
      "/tmp/ipykernel_998/1739257450.py:12: FutureWarning: Pass sr=22050, n_steps=7 as keyword args. From version 0.10 passing these as positional arguments will result in an error\n",
      "  new_y = librosa.effects.pitch_shift(y, sr, steps)\n"
     ]
    },
    {
     "name": "stdout",
     "output_type": "stream",
     "text": [
      "/home/ubuntu/Data/genres_original/country/changedcountry.00005.wav\n"
     ]
    },
    {
     "name": "stderr",
     "output_type": "stream",
     "text": [
      "/tmp/ipykernel_998/1739257450.py:12: FutureWarning: Pass sr=22050, n_steps=7 as keyword args. From version 0.10 passing these as positional arguments will result in an error\n",
      "  new_y = librosa.effects.pitch_shift(y, sr, steps)\n"
     ]
    },
    {
     "name": "stdout",
     "output_type": "stream",
     "text": [
      "/home/ubuntu/Data/genres_original/country/changedcountry.00098.wav\n"
     ]
    },
    {
     "name": "stderr",
     "output_type": "stream",
     "text": [
      "/tmp/ipykernel_998/1739257450.py:12: FutureWarning: Pass sr=22050, n_steps=7 as keyword args. From version 0.10 passing these as positional arguments will result in an error\n",
      "  new_y = librosa.effects.pitch_shift(y, sr, steps)\n"
     ]
    },
    {
     "name": "stdout",
     "output_type": "stream",
     "text": [
      "/home/ubuntu/Data/genres_original/country/changedcountry.00016.wav\n"
     ]
    },
    {
     "name": "stderr",
     "output_type": "stream",
     "text": [
      "/tmp/ipykernel_998/1739257450.py:12: FutureWarning: Pass sr=22050, n_steps=7 as keyword args. From version 0.10 passing these as positional arguments will result in an error\n",
      "  new_y = librosa.effects.pitch_shift(y, sr, steps)\n"
     ]
    },
    {
     "name": "stdout",
     "output_type": "stream",
     "text": [
      "/home/ubuntu/Data/genres_original/country/changedcountry.00056.wav\n"
     ]
    },
    {
     "name": "stderr",
     "output_type": "stream",
     "text": [
      "/tmp/ipykernel_998/1739257450.py:12: FutureWarning: Pass sr=22050, n_steps=7 as keyword args. From version 0.10 passing these as positional arguments will result in an error\n",
      "  new_y = librosa.effects.pitch_shift(y, sr, steps)\n"
     ]
    },
    {
     "name": "stdout",
     "output_type": "stream",
     "text": [
      "/home/ubuntu/Data/genres_original/country/changedcountry.00026.wav\n"
     ]
    },
    {
     "name": "stderr",
     "output_type": "stream",
     "text": [
      "/tmp/ipykernel_998/1739257450.py:12: FutureWarning: Pass sr=22050, n_steps=7 as keyword args. From version 0.10 passing these as positional arguments will result in an error\n",
      "  new_y = librosa.effects.pitch_shift(y, sr, steps)\n"
     ]
    },
    {
     "name": "stdout",
     "output_type": "stream",
     "text": [
      "/home/ubuntu/Data/genres_original/country/changedcountry.00022.wav\n"
     ]
    },
    {
     "name": "stderr",
     "output_type": "stream",
     "text": [
      "/tmp/ipykernel_998/1739257450.py:12: FutureWarning: Pass sr=22050, n_steps=7 as keyword args. From version 0.10 passing these as positional arguments will result in an error\n",
      "  new_y = librosa.effects.pitch_shift(y, sr, steps)\n"
     ]
    },
    {
     "name": "stdout",
     "output_type": "stream",
     "text": [
      "/home/ubuntu/Data/genres_original/country/changedcountry.00031.wav\n"
     ]
    },
    {
     "name": "stderr",
     "output_type": "stream",
     "text": [
      "/tmp/ipykernel_998/1739257450.py:12: FutureWarning: Pass sr=22050, n_steps=7 as keyword args. From version 0.10 passing these as positional arguments will result in an error\n",
      "  new_y = librosa.effects.pitch_shift(y, sr, steps)\n"
     ]
    },
    {
     "name": "stdout",
     "output_type": "stream",
     "text": [
      "/home/ubuntu/Data/genres_original/country/changedcountry.00077.wav\n"
     ]
    },
    {
     "name": "stderr",
     "output_type": "stream",
     "text": [
      "/tmp/ipykernel_998/1739257450.py:12: FutureWarning: Pass sr=22050, n_steps=7 as keyword args. From version 0.10 passing these as positional arguments will result in an error\n",
      "  new_y = librosa.effects.pitch_shift(y, sr, steps)\n"
     ]
    },
    {
     "name": "stdout",
     "output_type": "stream",
     "text": [
      "/home/ubuntu/Data/genres_original/country/changedcountry.00096.wav\n"
     ]
    },
    {
     "name": "stderr",
     "output_type": "stream",
     "text": [
      "/tmp/ipykernel_998/1739257450.py:12: FutureWarning: Pass sr=22050, n_steps=7 as keyword args. From version 0.10 passing these as positional arguments will result in an error\n",
      "  new_y = librosa.effects.pitch_shift(y, sr, steps)\n"
     ]
    },
    {
     "name": "stdout",
     "output_type": "stream",
     "text": [
      "/home/ubuntu/Data/genres_original/country/changedcountry.00006.wav\n"
     ]
    },
    {
     "name": "stderr",
     "output_type": "stream",
     "text": [
      "/tmp/ipykernel_998/1739257450.py:12: FutureWarning: Pass sr=22050, n_steps=7 as keyword args. From version 0.10 passing these as positional arguments will result in an error\n",
      "  new_y = librosa.effects.pitch_shift(y, sr, steps)\n"
     ]
    },
    {
     "name": "stdout",
     "output_type": "stream",
     "text": [
      "/home/ubuntu/Data/genres_original/country/changedcountry.00079.wav\n"
     ]
    },
    {
     "name": "stderr",
     "output_type": "stream",
     "text": [
      "/tmp/ipykernel_998/1739257450.py:12: FutureWarning: Pass sr=22050, n_steps=7 as keyword args. From version 0.10 passing these as positional arguments will result in an error\n",
      "  new_y = librosa.effects.pitch_shift(y, sr, steps)\n"
     ]
    },
    {
     "name": "stdout",
     "output_type": "stream",
     "text": [
      "/home/ubuntu/Data/genres_original/country/changedcountry.00082.wav\n"
     ]
    },
    {
     "name": "stderr",
     "output_type": "stream",
     "text": [
      "/tmp/ipykernel_998/1739257450.py:12: FutureWarning: Pass sr=22050, n_steps=7 as keyword args. From version 0.10 passing these as positional arguments will result in an error\n",
      "  new_y = librosa.effects.pitch_shift(y, sr, steps)\n"
     ]
    },
    {
     "name": "stdout",
     "output_type": "stream",
     "text": [
      "/home/ubuntu/Data/genres_original/country/changedcountry.00083.wav\n"
     ]
    },
    {
     "name": "stderr",
     "output_type": "stream",
     "text": [
      "/tmp/ipykernel_998/1739257450.py:12: FutureWarning: Pass sr=22050, n_steps=7 as keyword args. From version 0.10 passing these as positional arguments will result in an error\n",
      "  new_y = librosa.effects.pitch_shift(y, sr, steps)\n"
     ]
    },
    {
     "name": "stdout",
     "output_type": "stream",
     "text": [
      "/home/ubuntu/Data/genres_original/country/changedcountry.00060.wav\n"
     ]
    },
    {
     "name": "stderr",
     "output_type": "stream",
     "text": [
      "/tmp/ipykernel_998/1739257450.py:12: FutureWarning: Pass sr=22050, n_steps=7 as keyword args. From version 0.10 passing these as positional arguments will result in an error\n",
      "  new_y = librosa.effects.pitch_shift(y, sr, steps)\n"
     ]
    },
    {
     "name": "stdout",
     "output_type": "stream",
     "text": [
      "/home/ubuntu/Data/genres_original/country/changedcountry.00076.wav\n"
     ]
    },
    {
     "name": "stderr",
     "output_type": "stream",
     "text": [
      "/tmp/ipykernel_998/1739257450.py:12: FutureWarning: Pass sr=22050, n_steps=7 as keyword args. From version 0.10 passing these as positional arguments will result in an error\n",
      "  new_y = librosa.effects.pitch_shift(y, sr, steps)\n"
     ]
    },
    {
     "name": "stdout",
     "output_type": "stream",
     "text": [
      "/home/ubuntu/Data/genres_original/country/changedcountry.00066.wav\n"
     ]
    },
    {
     "name": "stderr",
     "output_type": "stream",
     "text": [
      "/tmp/ipykernel_998/1739257450.py:12: FutureWarning: Pass sr=22050, n_steps=7 as keyword args. From version 0.10 passing these as positional arguments will result in an error\n",
      "  new_y = librosa.effects.pitch_shift(y, sr, steps)\n"
     ]
    },
    {
     "name": "stdout",
     "output_type": "stream",
     "text": [
      "/home/ubuntu/Data/genres_original/country/changedcountry.00075.wav\n"
     ]
    },
    {
     "name": "stderr",
     "output_type": "stream",
     "text": [
      "/tmp/ipykernel_998/1739257450.py:12: FutureWarning: Pass sr=22050, n_steps=7 as keyword args. From version 0.10 passing these as positional arguments will result in an error\n",
      "  new_y = librosa.effects.pitch_shift(y, sr, steps)\n"
     ]
    },
    {
     "name": "stdout",
     "output_type": "stream",
     "text": [
      "/home/ubuntu/Data/genres_original/country/changedcountry.00046.wav\n"
     ]
    },
    {
     "name": "stderr",
     "output_type": "stream",
     "text": [
      "/tmp/ipykernel_998/1739257450.py:12: FutureWarning: Pass sr=22050, n_steps=7 as keyword args. From version 0.10 passing these as positional arguments will result in an error\n",
      "  new_y = librosa.effects.pitch_shift(y, sr, steps)\n"
     ]
    },
    {
     "name": "stdout",
     "output_type": "stream",
     "text": [
      "/home/ubuntu/Data/genres_original/country/changedcountry.00013.wav\n"
     ]
    },
    {
     "name": "stderr",
     "output_type": "stream",
     "text": [
      "/tmp/ipykernel_998/1739257450.py:12: FutureWarning: Pass sr=22050, n_steps=7 as keyword args. From version 0.10 passing these as positional arguments will result in an error\n",
      "  new_y = librosa.effects.pitch_shift(y, sr, steps)\n"
     ]
    },
    {
     "name": "stdout",
     "output_type": "stream",
     "text": [
      "/home/ubuntu/Data/genres_original/country/changedcountry.00097.wav\n"
     ]
    },
    {
     "name": "stderr",
     "output_type": "stream",
     "text": [
      "/tmp/ipykernel_998/1739257450.py:12: FutureWarning: Pass sr=22050, n_steps=7 as keyword args. From version 0.10 passing these as positional arguments will result in an error\n",
      "  new_y = librosa.effects.pitch_shift(y, sr, steps)\n"
     ]
    },
    {
     "name": "stdout",
     "output_type": "stream",
     "text": [
      "/home/ubuntu/Data/genres_original/country/changedcountry.00042.wav\n"
     ]
    },
    {
     "name": "stderr",
     "output_type": "stream",
     "text": [
      "/tmp/ipykernel_998/1739257450.py:12: FutureWarning: Pass sr=22050, n_steps=7 as keyword args. From version 0.10 passing these as positional arguments will result in an error\n",
      "  new_y = librosa.effects.pitch_shift(y, sr, steps)\n"
     ]
    },
    {
     "name": "stdout",
     "output_type": "stream",
     "text": [
      "/home/ubuntu/Data/genres_original/country/changedcountry.00093.wav\n"
     ]
    },
    {
     "name": "stderr",
     "output_type": "stream",
     "text": [
      "/tmp/ipykernel_998/1739257450.py:12: FutureWarning: Pass sr=22050, n_steps=7 as keyword args. From version 0.10 passing these as positional arguments will result in an error\n",
      "  new_y = librosa.effects.pitch_shift(y, sr, steps)\n"
     ]
    },
    {
     "name": "stdout",
     "output_type": "stream",
     "text": [
      "/home/ubuntu/Data/genres_original/country/changedcountry.00030.wav\n"
     ]
    },
    {
     "name": "stderr",
     "output_type": "stream",
     "text": [
      "/tmp/ipykernel_998/1739257450.py:12: FutureWarning: Pass sr=22050, n_steps=7 as keyword args. From version 0.10 passing these as positional arguments will result in an error\n",
      "  new_y = librosa.effects.pitch_shift(y, sr, steps)\n"
     ]
    },
    {
     "name": "stdout",
     "output_type": "stream",
     "text": [
      "/home/ubuntu/Data/genres_original/country/changedcountry.00009.wav\n"
     ]
    },
    {
     "name": "stderr",
     "output_type": "stream",
     "text": [
      "/tmp/ipykernel_998/1739257450.py:12: FutureWarning: Pass sr=22050, n_steps=7 as keyword args. From version 0.10 passing these as positional arguments will result in an error\n",
      "  new_y = librosa.effects.pitch_shift(y, sr, steps)\n"
     ]
    },
    {
     "name": "stdout",
     "output_type": "stream",
     "text": [
      "/home/ubuntu/Data/genres_original/country/changedcountry.00028.wav\n"
     ]
    },
    {
     "name": "stderr",
     "output_type": "stream",
     "text": [
      "/tmp/ipykernel_998/1739257450.py:12: FutureWarning: Pass sr=22050, n_steps=7 as keyword args. From version 0.10 passing these as positional arguments will result in an error\n",
      "  new_y = librosa.effects.pitch_shift(y, sr, steps)\n"
     ]
    },
    {
     "name": "stdout",
     "output_type": "stream",
     "text": [
      "/home/ubuntu/Data/genres_original/country/changedcountry.00078.wav\n"
     ]
    },
    {
     "name": "stderr",
     "output_type": "stream",
     "text": [
      "/tmp/ipykernel_998/1739257450.py:12: FutureWarning: Pass sr=22050, n_steps=7 as keyword args. From version 0.10 passing these as positional arguments will result in an error\n",
      "  new_y = librosa.effects.pitch_shift(y, sr, steps)\n"
     ]
    },
    {
     "name": "stdout",
     "output_type": "stream",
     "text": [
      "/home/ubuntu/Data/genres_original/country/changedcountry.00095.wav\n"
     ]
    },
    {
     "name": "stderr",
     "output_type": "stream",
     "text": [
      "/tmp/ipykernel_998/1739257450.py:12: FutureWarning: Pass sr=22050, n_steps=7 as keyword args. From version 0.10 passing these as positional arguments will result in an error\n",
      "  new_y = librosa.effects.pitch_shift(y, sr, steps)\n"
     ]
    },
    {
     "name": "stdout",
     "output_type": "stream",
     "text": [
      "/home/ubuntu/Data/genres_original/country/changedcountry.00062.wav\n"
     ]
    },
    {
     "name": "stderr",
     "output_type": "stream",
     "text": [
      "/tmp/ipykernel_998/1739257450.py:12: FutureWarning: Pass sr=22050, n_steps=7 as keyword args. From version 0.10 passing these as positional arguments will result in an error\n",
      "  new_y = librosa.effects.pitch_shift(y, sr, steps)\n"
     ]
    },
    {
     "name": "stdout",
     "output_type": "stream",
     "text": [
      "/home/ubuntu/Data/genres_original/country/changedcountry.00099.wav\n"
     ]
    },
    {
     "name": "stderr",
     "output_type": "stream",
     "text": [
      "/tmp/ipykernel_998/1739257450.py:12: FutureWarning: Pass sr=22050, n_steps=7 as keyword args. From version 0.10 passing these as positional arguments will result in an error\n",
      "  new_y = librosa.effects.pitch_shift(y, sr, steps)\n"
     ]
    },
    {
     "name": "stdout",
     "output_type": "stream",
     "text": [
      "/home/ubuntu/Data/genres_original/country/changedcountry.00024.wav\n"
     ]
    },
    {
     "name": "stderr",
     "output_type": "stream",
     "text": [
      "/tmp/ipykernel_998/1739257450.py:12: FutureWarning: Pass sr=22050, n_steps=7 as keyword args. From version 0.10 passing these as positional arguments will result in an error\n",
      "  new_y = librosa.effects.pitch_shift(y, sr, steps)\n"
     ]
    },
    {
     "name": "stdout",
     "output_type": "stream",
     "text": [
      "/home/ubuntu/Data/genres_original/country/changedcountry.00047.wav\n"
     ]
    },
    {
     "name": "stderr",
     "output_type": "stream",
     "text": [
      "/tmp/ipykernel_998/1739257450.py:12: FutureWarning: Pass sr=22050, n_steps=7 as keyword args. From version 0.10 passing these as positional arguments will result in an error\n",
      "  new_y = librosa.effects.pitch_shift(y, sr, steps)\n"
     ]
    },
    {
     "name": "stdout",
     "output_type": "stream",
     "text": [
      "/home/ubuntu/Data/genres_original/country/changedcountry.00021.wav\n"
     ]
    },
    {
     "name": "stderr",
     "output_type": "stream",
     "text": [
      "/tmp/ipykernel_998/1739257450.py:12: FutureWarning: Pass sr=22050, n_steps=7 as keyword args. From version 0.10 passing these as positional arguments will result in an error\n",
      "  new_y = librosa.effects.pitch_shift(y, sr, steps)\n"
     ]
    },
    {
     "name": "stdout",
     "output_type": "stream",
     "text": [
      "/home/ubuntu/Data/genres_original/country/changedcountry.00051.wav\n"
     ]
    },
    {
     "name": "stderr",
     "output_type": "stream",
     "text": [
      "/tmp/ipykernel_998/1739257450.py:12: FutureWarning: Pass sr=22050, n_steps=7 as keyword args. From version 0.10 passing these as positional arguments will result in an error\n",
      "  new_y = librosa.effects.pitch_shift(y, sr, steps)\n"
     ]
    },
    {
     "name": "stdout",
     "output_type": "stream",
     "text": [
      "/home/ubuntu/Data/genres_original/country/changedcountry.00004.wav\n"
     ]
    },
    {
     "name": "stderr",
     "output_type": "stream",
     "text": [
      "/tmp/ipykernel_998/1739257450.py:12: FutureWarning: Pass sr=22050, n_steps=7 as keyword args. From version 0.10 passing these as positional arguments will result in an error\n",
      "  new_y = librosa.effects.pitch_shift(y, sr, steps)\n"
     ]
    },
    {
     "name": "stdout",
     "output_type": "stream",
     "text": [
      "/home/ubuntu/Data/genres_original/country/changedcountry.00025.wav\n"
     ]
    },
    {
     "name": "stderr",
     "output_type": "stream",
     "text": [
      "/tmp/ipykernel_998/1739257450.py:12: FutureWarning: Pass sr=22050, n_steps=7 as keyword args. From version 0.10 passing these as positional arguments will result in an error\n",
      "  new_y = librosa.effects.pitch_shift(y, sr, steps)\n"
     ]
    },
    {
     "name": "stdout",
     "output_type": "stream",
     "text": [
      "/home/ubuntu/Data/genres_original/country/changedcountry.00053.wav\n"
     ]
    },
    {
     "name": "stderr",
     "output_type": "stream",
     "text": [
      "/tmp/ipykernel_998/1739257450.py:12: FutureWarning: Pass sr=22050, n_steps=7 as keyword args. From version 0.10 passing these as positional arguments will result in an error\n",
      "  new_y = librosa.effects.pitch_shift(y, sr, steps)\n"
     ]
    },
    {
     "name": "stdout",
     "output_type": "stream",
     "text": [
      "/home/ubuntu/Data/genres_original/country/changedcountry.00000.wav\n"
     ]
    },
    {
     "name": "stderr",
     "output_type": "stream",
     "text": [
      "/tmp/ipykernel_998/1739257450.py:12: FutureWarning: Pass sr=22050, n_steps=7 as keyword args. From version 0.10 passing these as positional arguments will result in an error\n",
      "  new_y = librosa.effects.pitch_shift(y, sr, steps)\n"
     ]
    },
    {
     "name": "stdout",
     "output_type": "stream",
     "text": [
      "/home/ubuntu/Data/genres_original/country/changedcountry.00081.wav\n"
     ]
    },
    {
     "name": "stderr",
     "output_type": "stream",
     "text": [
      "/tmp/ipykernel_998/1739257450.py:12: FutureWarning: Pass sr=22050, n_steps=7 as keyword args. From version 0.10 passing these as positional arguments will result in an error\n",
      "  new_y = librosa.effects.pitch_shift(y, sr, steps)\n"
     ]
    },
    {
     "name": "stdout",
     "output_type": "stream",
     "text": [
      "/home/ubuntu/Data/genres_original/country/changedcountry.00043.wav\n"
     ]
    },
    {
     "name": "stderr",
     "output_type": "stream",
     "text": [
      "/tmp/ipykernel_998/1739257450.py:12: FutureWarning: Pass sr=22050, n_steps=7 as keyword args. From version 0.10 passing these as positional arguments will result in an error\n",
      "  new_y = librosa.effects.pitch_shift(y, sr, steps)\n"
     ]
    },
    {
     "name": "stdout",
     "output_type": "stream",
     "text": [
      "/home/ubuntu/Data/genres_original/country/changedcountry.00048.wav\n"
     ]
    },
    {
     "name": "stderr",
     "output_type": "stream",
     "text": [
      "/tmp/ipykernel_998/1739257450.py:12: FutureWarning: Pass sr=22050, n_steps=7 as keyword args. From version 0.10 passing these as positional arguments will result in an error\n",
      "  new_y = librosa.effects.pitch_shift(y, sr, steps)\n"
     ]
    },
    {
     "name": "stdout",
     "output_type": "stream",
     "text": [
      "/home/ubuntu/Data/genres_original/country/changedcountry.00073.wav\n"
     ]
    },
    {
     "name": "stderr",
     "output_type": "stream",
     "text": [
      "/tmp/ipykernel_998/1739257450.py:12: FutureWarning: Pass sr=22050, n_steps=7 as keyword args. From version 0.10 passing these as positional arguments will result in an error\n",
      "  new_y = librosa.effects.pitch_shift(y, sr, steps)\n"
     ]
    },
    {
     "name": "stdout",
     "output_type": "stream",
     "text": [
      "/home/ubuntu/Data/genres_original/country/changedcountry.00050.wav\n"
     ]
    },
    {
     "name": "stderr",
     "output_type": "stream",
     "text": [
      "/tmp/ipykernel_998/1739257450.py:12: FutureWarning: Pass sr=22050, n_steps=7 as keyword args. From version 0.10 passing these as positional arguments will result in an error\n",
      "  new_y = librosa.effects.pitch_shift(y, sr, steps)\n"
     ]
    },
    {
     "name": "stdout",
     "output_type": "stream",
     "text": [
      "/home/ubuntu/Data/genres_original/country/changedcountry.00074.wav\n"
     ]
    },
    {
     "name": "stderr",
     "output_type": "stream",
     "text": [
      "/tmp/ipykernel_998/1739257450.py:12: FutureWarning: Pass sr=22050, n_steps=7 as keyword args. From version 0.10 passing these as positional arguments will result in an error\n",
      "  new_y = librosa.effects.pitch_shift(y, sr, steps)\n"
     ]
    },
    {
     "name": "stdout",
     "output_type": "stream",
     "text": [
      "/home/ubuntu/Data/genres_original/country/changedcountry.00007.wav\n"
     ]
    },
    {
     "name": "stderr",
     "output_type": "stream",
     "text": [
      "/tmp/ipykernel_998/1739257450.py:12: FutureWarning: Pass sr=22050, n_steps=7 as keyword args. From version 0.10 passing these as positional arguments will result in an error\n",
      "  new_y = librosa.effects.pitch_shift(y, sr, steps)\n"
     ]
    },
    {
     "name": "stdout",
     "output_type": "stream",
     "text": [
      "/home/ubuntu/Data/genres_original/country/changedcountry.00057.wav\n"
     ]
    },
    {
     "name": "stderr",
     "output_type": "stream",
     "text": [
      "/tmp/ipykernel_998/1739257450.py:12: FutureWarning: Pass sr=22050, n_steps=7 as keyword args. From version 0.10 passing these as positional arguments will result in an error\n",
      "  new_y = librosa.effects.pitch_shift(y, sr, steps)\n"
     ]
    },
    {
     "name": "stdout",
     "output_type": "stream",
     "text": [
      "/home/ubuntu/Data/genres_original/country/changedcountry.00089.wav\n"
     ]
    },
    {
     "name": "stderr",
     "output_type": "stream",
     "text": [
      "/tmp/ipykernel_998/1739257450.py:12: FutureWarning: Pass sr=22050, n_steps=7 as keyword args. From version 0.10 passing these as positional arguments will result in an error\n",
      "  new_y = librosa.effects.pitch_shift(y, sr, steps)\n"
     ]
    },
    {
     "name": "stdout",
     "output_type": "stream",
     "text": [
      "/home/ubuntu/Data/genres_original/country/changedcountry.00034.wav\n"
     ]
    },
    {
     "name": "stderr",
     "output_type": "stream",
     "text": [
      "/tmp/ipykernel_998/1739257450.py:12: FutureWarning: Pass sr=22050, n_steps=7 as keyword args. From version 0.10 passing these as positional arguments will result in an error\n",
      "  new_y = librosa.effects.pitch_shift(y, sr, steps)\n"
     ]
    },
    {
     "name": "stdout",
     "output_type": "stream",
     "text": [
      "/home/ubuntu/Data/genres_original/country/changedcountry.00071.wav\n"
     ]
    },
    {
     "name": "stderr",
     "output_type": "stream",
     "text": [
      "/tmp/ipykernel_998/1739257450.py:12: FutureWarning: Pass sr=22050, n_steps=7 as keyword args. From version 0.10 passing these as positional arguments will result in an error\n",
      "  new_y = librosa.effects.pitch_shift(y, sr, steps)\n"
     ]
    },
    {
     "name": "stdout",
     "output_type": "stream",
     "text": [
      "/home/ubuntu/Data/genres_original/country/changedcountry.00038.wav\n"
     ]
    },
    {
     "name": "stderr",
     "output_type": "stream",
     "text": [
      "/tmp/ipykernel_998/1739257450.py:12: FutureWarning: Pass sr=22050, n_steps=7 as keyword args. From version 0.10 passing these as positional arguments will result in an error\n",
      "  new_y = librosa.effects.pitch_shift(y, sr, steps)\n"
     ]
    },
    {
     "name": "stdout",
     "output_type": "stream",
     "text": [
      "/home/ubuntu/Data/genres_original/country/changedcountry.00059.wav\n"
     ]
    },
    {
     "name": "stderr",
     "output_type": "stream",
     "text": [
      "/tmp/ipykernel_998/1739257450.py:12: FutureWarning: Pass sr=22050, n_steps=7 as keyword args. From version 0.10 passing these as positional arguments will result in an error\n",
      "  new_y = librosa.effects.pitch_shift(y, sr, steps)\n"
     ]
    },
    {
     "name": "stdout",
     "output_type": "stream",
     "text": [
      "/home/ubuntu/Data/genres_original/country/changedcountry.00094.wav\n"
     ]
    },
    {
     "name": "stderr",
     "output_type": "stream",
     "text": [
      "/tmp/ipykernel_998/1739257450.py:12: FutureWarning: Pass sr=22050, n_steps=7 as keyword args. From version 0.10 passing these as positional arguments will result in an error\n",
      "  new_y = librosa.effects.pitch_shift(y, sr, steps)\n"
     ]
    },
    {
     "name": "stdout",
     "output_type": "stream",
     "text": [
      "/home/ubuntu/Data/genres_original/country/changedcountry.00010.wav\n"
     ]
    },
    {
     "name": "stderr",
     "output_type": "stream",
     "text": [
      "/tmp/ipykernel_998/1739257450.py:12: FutureWarning: Pass sr=22050, n_steps=7 as keyword args. From version 0.10 passing these as positional arguments will result in an error\n",
      "  new_y = librosa.effects.pitch_shift(y, sr, steps)\n"
     ]
    },
    {
     "name": "stdout",
     "output_type": "stream",
     "text": [
      "/home/ubuntu/Data/genres_original/country/changedcountry.00003.wav\n"
     ]
    },
    {
     "name": "stderr",
     "output_type": "stream",
     "text": [
      "/tmp/ipykernel_998/1739257450.py:12: FutureWarning: Pass sr=22050, n_steps=7 as keyword args. From version 0.10 passing these as positional arguments will result in an error\n",
      "  new_y = librosa.effects.pitch_shift(y, sr, steps)\n"
     ]
    },
    {
     "name": "stdout",
     "output_type": "stream",
     "text": [
      "/home/ubuntu/Data/genres_original/country/changedcountry.00014.wav\n"
     ]
    },
    {
     "name": "stderr",
     "output_type": "stream",
     "text": [
      "/tmp/ipykernel_998/1739257450.py:12: FutureWarning: Pass sr=22050, n_steps=7 as keyword args. From version 0.10 passing these as positional arguments will result in an error\n",
      "  new_y = librosa.effects.pitch_shift(y, sr, steps)\n"
     ]
    },
    {
     "name": "stdout",
     "output_type": "stream",
     "text": [
      "/home/ubuntu/Data/genres_original/country/changedcountry.00018.wav\n"
     ]
    },
    {
     "name": "stderr",
     "output_type": "stream",
     "text": [
      "/tmp/ipykernel_998/1739257450.py:12: FutureWarning: Pass sr=22050, n_steps=7 as keyword args. From version 0.10 passing these as positional arguments will result in an error\n",
      "  new_y = librosa.effects.pitch_shift(y, sr, steps)\n"
     ]
    },
    {
     "name": "stdout",
     "output_type": "stream",
     "text": [
      "/home/ubuntu/Data/genres_original/country/changedcountry.00072.wav\n"
     ]
    },
    {
     "name": "stderr",
     "output_type": "stream",
     "text": [
      "/tmp/ipykernel_998/1739257450.py:12: FutureWarning: Pass sr=22050, n_steps=7 as keyword args. From version 0.10 passing these as positional arguments will result in an error\n",
      "  new_y = librosa.effects.pitch_shift(y, sr, steps)\n"
     ]
    },
    {
     "name": "stdout",
     "output_type": "stream",
     "text": [
      "/home/ubuntu/Data/genres_original/country/changedcountry.00090.wav\n"
     ]
    },
    {
     "name": "stderr",
     "output_type": "stream",
     "text": [
      "/tmp/ipykernel_998/1739257450.py:12: FutureWarning: Pass sr=22050, n_steps=7 as keyword args. From version 0.10 passing these as positional arguments will result in an error\n",
      "  new_y = librosa.effects.pitch_shift(y, sr, steps)\n"
     ]
    },
    {
     "name": "stdout",
     "output_type": "stream",
     "text": [
      "/home/ubuntu/Data/genres_original/country/changedcountry.00061.wav\n"
     ]
    },
    {
     "name": "stderr",
     "output_type": "stream",
     "text": [
      "/tmp/ipykernel_998/1739257450.py:12: FutureWarning: Pass sr=22050, n_steps=7 as keyword args. From version 0.10 passing these as positional arguments will result in an error\n",
      "  new_y = librosa.effects.pitch_shift(y, sr, steps)\n"
     ]
    },
    {
     "name": "stdout",
     "output_type": "stream",
     "text": [
      "/home/ubuntu/Data/genres_original/country/changedcountry.00088.wav\n"
     ]
    },
    {
     "name": "stderr",
     "output_type": "stream",
     "text": [
      "/tmp/ipykernel_998/1739257450.py:12: FutureWarning: Pass sr=22050, n_steps=7 as keyword args. From version 0.10 passing these as positional arguments will result in an error\n",
      "  new_y = librosa.effects.pitch_shift(y, sr, steps)\n"
     ]
    },
    {
     "name": "stdout",
     "output_type": "stream",
     "text": [
      "/home/ubuntu/Data/genres_original/country/changedcountry.00008.wav\n"
     ]
    },
    {
     "name": "stderr",
     "output_type": "stream",
     "text": [
      "/tmp/ipykernel_998/1739257450.py:12: FutureWarning: Pass sr=22050, n_steps=7 as keyword args. From version 0.10 passing these as positional arguments will result in an error\n",
      "  new_y = librosa.effects.pitch_shift(y, sr, steps)\n"
     ]
    },
    {
     "name": "stdout",
     "output_type": "stream",
     "text": [
      "/home/ubuntu/Data/genres_original/country/changedcountry.00085.wav\n"
     ]
    },
    {
     "name": "stderr",
     "output_type": "stream",
     "text": [
      "/tmp/ipykernel_998/1739257450.py:12: FutureWarning: Pass sr=22050, n_steps=7 as keyword args. From version 0.10 passing these as positional arguments will result in an error\n",
      "  new_y = librosa.effects.pitch_shift(y, sr, steps)\n"
     ]
    },
    {
     "name": "stdout",
     "output_type": "stream",
     "text": [
      "/home/ubuntu/Data/genres_original/country/changedcountry.00065.wav\n"
     ]
    },
    {
     "name": "stderr",
     "output_type": "stream",
     "text": [
      "/tmp/ipykernel_998/1739257450.py:12: FutureWarning: Pass sr=22050, n_steps=7 as keyword args. From version 0.10 passing these as positional arguments will result in an error\n",
      "  new_y = librosa.effects.pitch_shift(y, sr, steps)\n"
     ]
    },
    {
     "name": "stdout",
     "output_type": "stream",
     "text": [
      "/home/ubuntu/Data/genres_original/country/changedcountry.00092.wav\n"
     ]
    },
    {
     "name": "stderr",
     "output_type": "stream",
     "text": [
      "/tmp/ipykernel_998/1739257450.py:12: FutureWarning: Pass sr=22050, n_steps=7 as keyword args. From version 0.10 passing these as positional arguments will result in an error\n",
      "  new_y = librosa.effects.pitch_shift(y, sr, steps)\n"
     ]
    },
    {
     "name": "stdout",
     "output_type": "stream",
     "text": [
      "/home/ubuntu/Data/genres_original/country/changedcountry.00020.wav\n"
     ]
    },
    {
     "name": "stderr",
     "output_type": "stream",
     "text": [
      "/tmp/ipykernel_998/1739257450.py:12: FutureWarning: Pass sr=22050, n_steps=7 as keyword args. From version 0.10 passing these as positional arguments will result in an error\n",
      "  new_y = librosa.effects.pitch_shift(y, sr, steps)\n"
     ]
    },
    {
     "name": "stdout",
     "output_type": "stream",
     "text": [
      "/home/ubuntu/Data/genres_original/country/changedcountry.00054.wav\n"
     ]
    },
    {
     "name": "stderr",
     "output_type": "stream",
     "text": [
      "/tmp/ipykernel_998/1739257450.py:12: FutureWarning: Pass sr=22050, n_steps=7 as keyword args. From version 0.10 passing these as positional arguments will result in an error\n",
      "  new_y = librosa.effects.pitch_shift(y, sr, steps)\n"
     ]
    },
    {
     "name": "stdout",
     "output_type": "stream",
     "text": [
      "/home/ubuntu/Data/genres_original/country/changedcountry.00012.wav\n"
     ]
    },
    {
     "name": "stderr",
     "output_type": "stream",
     "text": [
      "/tmp/ipykernel_998/1739257450.py:12: FutureWarning: Pass sr=22050, n_steps=7 as keyword args. From version 0.10 passing these as positional arguments will result in an error\n",
      "  new_y = librosa.effects.pitch_shift(y, sr, steps)\n"
     ]
    },
    {
     "name": "stdout",
     "output_type": "stream",
     "text": [
      "/home/ubuntu/Data/genres_original/country/changedcountry.00063.wav\n"
     ]
    },
    {
     "name": "stderr",
     "output_type": "stream",
     "text": [
      "/tmp/ipykernel_998/1739257450.py:12: FutureWarning: Pass sr=22050, n_steps=7 as keyword args. From version 0.10 passing these as positional arguments will result in an error\n",
      "  new_y = librosa.effects.pitch_shift(y, sr, steps)\n"
     ]
    },
    {
     "name": "stdout",
     "output_type": "stream",
     "text": [
      "/home/ubuntu/Data/genres_original/country/changedcountry.00019.wav\n"
     ]
    },
    {
     "name": "stderr",
     "output_type": "stream",
     "text": [
      "/tmp/ipykernel_998/1739257450.py:12: FutureWarning: Pass sr=22050, n_steps=7 as keyword args. From version 0.10 passing these as positional arguments will result in an error\n",
      "  new_y = librosa.effects.pitch_shift(y, sr, steps)\n"
     ]
    },
    {
     "name": "stdout",
     "output_type": "stream",
     "text": [
      "/home/ubuntu/Data/genres_original/country/changedcountry.00064.wav\n"
     ]
    },
    {
     "name": "stderr",
     "output_type": "stream",
     "text": [
      "/tmp/ipykernel_998/1739257450.py:12: FutureWarning: Pass sr=22050, n_steps=7 as keyword args. From version 0.10 passing these as positional arguments will result in an error\n",
      "  new_y = librosa.effects.pitch_shift(y, sr, steps)\n"
     ]
    },
    {
     "name": "stdout",
     "output_type": "stream",
     "text": [
      "/home/ubuntu/Data/genres_original/country/changedcountry.00011.wav\n"
     ]
    },
    {
     "name": "stderr",
     "output_type": "stream",
     "text": [
      "/tmp/ipykernel_998/1739257450.py:12: FutureWarning: Pass sr=22050, n_steps=7 as keyword args. From version 0.10 passing these as positional arguments will result in an error\n",
      "  new_y = librosa.effects.pitch_shift(y, sr, steps)\n"
     ]
    },
    {
     "name": "stdout",
     "output_type": "stream",
     "text": [
      "/home/ubuntu/Data/genres_original/country/changedcountry.00001.wav\n"
     ]
    },
    {
     "name": "stderr",
     "output_type": "stream",
     "text": [
      "/tmp/ipykernel_998/1739257450.py:12: FutureWarning: Pass sr=22050, n_steps=7 as keyword args. From version 0.10 passing these as positional arguments will result in an error\n",
      "  new_y = librosa.effects.pitch_shift(y, sr, steps)\n"
     ]
    },
    {
     "name": "stdout",
     "output_type": "stream",
     "text": [
      "/home/ubuntu/Data/genres_original/country/changedcountry.00052.wav\n"
     ]
    },
    {
     "name": "stderr",
     "output_type": "stream",
     "text": [
      "/tmp/ipykernel_998/1739257450.py:12: FutureWarning: Pass sr=22050, n_steps=7 as keyword args. From version 0.10 passing these as positional arguments will result in an error\n",
      "  new_y = librosa.effects.pitch_shift(y, sr, steps)\n"
     ]
    },
    {
     "name": "stdout",
     "output_type": "stream",
     "text": [
      "/home/ubuntu/Data/genres_original/country/changedcountry.00015.wav\n"
     ]
    },
    {
     "name": "stderr",
     "output_type": "stream",
     "text": [
      "/tmp/ipykernel_998/1739257450.py:12: FutureWarning: Pass sr=22050, n_steps=7 as keyword args. From version 0.10 passing these as positional arguments will result in an error\n",
      "  new_y = librosa.effects.pitch_shift(y, sr, steps)\n"
     ]
    },
    {
     "name": "stdout",
     "output_type": "stream",
     "text": [
      "/home/ubuntu/Data/genres_original/country/changedcountry.00036.wav\n"
     ]
    },
    {
     "name": "stderr",
     "output_type": "stream",
     "text": [
      "/tmp/ipykernel_998/1739257450.py:12: FutureWarning: Pass sr=22050, n_steps=7 as keyword args. From version 0.10 passing these as positional arguments will result in an error\n",
      "  new_y = librosa.effects.pitch_shift(y, sr, steps)\n"
     ]
    },
    {
     "name": "stdout",
     "output_type": "stream",
     "text": [
      "/home/ubuntu/Data/genres_original/country/changedcountry.00070.wav\n"
     ]
    },
    {
     "name": "stderr",
     "output_type": "stream",
     "text": [
      "/tmp/ipykernel_998/1739257450.py:12: FutureWarning: Pass sr=22050, n_steps=7 as keyword args. From version 0.10 passing these as positional arguments will result in an error\n",
      "  new_y = librosa.effects.pitch_shift(y, sr, steps)\n"
     ]
    },
    {
     "name": "stdout",
     "output_type": "stream",
     "text": [
      "/home/ubuntu/Data/genres_original/country/changedcountry.00037.wav\n"
     ]
    },
    {
     "name": "stderr",
     "output_type": "stream",
     "text": [
      "/tmp/ipykernel_998/1739257450.py:12: FutureWarning: Pass sr=22050, n_steps=7 as keyword args. From version 0.10 passing these as positional arguments will result in an error\n",
      "  new_y = librosa.effects.pitch_shift(y, sr, steps)\n"
     ]
    },
    {
     "name": "stdout",
     "output_type": "stream",
     "text": [
      "/home/ubuntu/Data/genres_original/country/changedcountry.00035.wav\n"
     ]
    },
    {
     "name": "stderr",
     "output_type": "stream",
     "text": [
      "/tmp/ipykernel_998/1739257450.py:12: FutureWarning: Pass sr=22050, n_steps=7 as keyword args. From version 0.10 passing these as positional arguments will result in an error\n",
      "  new_y = librosa.effects.pitch_shift(y, sr, steps)\n"
     ]
    },
    {
     "name": "stdout",
     "output_type": "stream",
     "text": [
      "/home/ubuntu/Data/genres_original/country/changedcountry.00029.wav\n"
     ]
    },
    {
     "name": "stderr",
     "output_type": "stream",
     "text": [
      "/tmp/ipykernel_998/1739257450.py:12: FutureWarning: Pass sr=22050, n_steps=7 as keyword args. From version 0.10 passing these as positional arguments will result in an error\n",
      "  new_y = librosa.effects.pitch_shift(y, sr, steps)\n"
     ]
    },
    {
     "name": "stdout",
     "output_type": "stream",
     "text": [
      "/home/ubuntu/Data/genres_original/country/changedcountry.00040.wav\n"
     ]
    },
    {
     "name": "stderr",
     "output_type": "stream",
     "text": [
      "/tmp/ipykernel_998/1739257450.py:12: FutureWarning: Pass sr=22050, n_steps=7 as keyword args. From version 0.10 passing these as positional arguments will result in an error\n",
      "  new_y = librosa.effects.pitch_shift(y, sr, steps)\n"
     ]
    },
    {
     "name": "stdout",
     "output_type": "stream",
     "text": [
      "/home/ubuntu/Data/genres_original/country/changedcountry.00039.wav\n"
     ]
    },
    {
     "name": "stderr",
     "output_type": "stream",
     "text": [
      "/tmp/ipykernel_998/1739257450.py:12: FutureWarning: Pass sr=22050, n_steps=7 as keyword args. From version 0.10 passing these as positional arguments will result in an error\n",
      "  new_y = librosa.effects.pitch_shift(y, sr, steps)\n"
     ]
    },
    {
     "name": "stdout",
     "output_type": "stream",
     "text": [
      "/home/ubuntu/Data/genres_original/country/changedcountry.00084.wav\n"
     ]
    },
    {
     "name": "stderr",
     "output_type": "stream",
     "text": [
      "/tmp/ipykernel_998/1739257450.py:12: FutureWarning: Pass sr=22050, n_steps=7 as keyword args. From version 0.10 passing these as positional arguments will result in an error\n",
      "  new_y = librosa.effects.pitch_shift(y, sr, steps)\n"
     ]
    },
    {
     "name": "stdout",
     "output_type": "stream",
     "text": [
      "/home/ubuntu/Data/genres_original/country/changedcountry.00027.wav\n"
     ]
    },
    {
     "name": "stderr",
     "output_type": "stream",
     "text": [
      "/tmp/ipykernel_998/1739257450.py:12: FutureWarning: Pass sr=22050, n_steps=7 as keyword args. From version 0.10 passing these as positional arguments will result in an error\n",
      "  new_y = librosa.effects.pitch_shift(y, sr, steps)\n"
     ]
    },
    {
     "name": "stdout",
     "output_type": "stream",
     "text": [
      "/home/ubuntu/Data/genres_original/country/changedcountry.00049.wav\n"
     ]
    },
    {
     "name": "stderr",
     "output_type": "stream",
     "text": [
      "/tmp/ipykernel_998/1739257450.py:12: FutureWarning: Pass sr=22050, n_steps=7 as keyword args. From version 0.10 passing these as positional arguments will result in an error\n",
      "  new_y = librosa.effects.pitch_shift(y, sr, steps)\n"
     ]
    },
    {
     "name": "stdout",
     "output_type": "stream",
     "text": [
      "/home/ubuntu/Data/genres_original/country/changedcountry.00067.wav\n"
     ]
    },
    {
     "name": "stderr",
     "output_type": "stream",
     "text": [
      "/tmp/ipykernel_998/1739257450.py:12: FutureWarning: Pass sr=22050, n_steps=7 as keyword args. From version 0.10 passing these as positional arguments will result in an error\n",
      "  new_y = librosa.effects.pitch_shift(y, sr, steps)\n"
     ]
    },
    {
     "name": "stdout",
     "output_type": "stream",
     "text": [
      "/home/ubuntu/Data/genres_original/country/changedcountry.00080.wav\n"
     ]
    },
    {
     "name": "stderr",
     "output_type": "stream",
     "text": [
      "/tmp/ipykernel_998/1739257450.py:12: FutureWarning: Pass sr=22050, n_steps=7 as keyword args. From version 0.10 passing these as positional arguments will result in an error\n",
      "  new_y = librosa.effects.pitch_shift(y, sr, steps)\n"
     ]
    },
    {
     "name": "stdout",
     "output_type": "stream",
     "text": [
      "/home/ubuntu/Data/genres_original/country/changedcountry.00033.wav\n"
     ]
    },
    {
     "name": "stderr",
     "output_type": "stream",
     "text": [
      "/tmp/ipykernel_998/1739257450.py:12: FutureWarning: Pass sr=22050, n_steps=7 as keyword args. From version 0.10 passing these as positional arguments will result in an error\n",
      "  new_y = librosa.effects.pitch_shift(y, sr, steps)\n"
     ]
    },
    {
     "name": "stdout",
     "output_type": "stream",
     "text": [
      "/home/ubuntu/Data/genres_original/country/changedcountry.00069.wav\n"
     ]
    },
    {
     "name": "stderr",
     "output_type": "stream",
     "text": [
      "/tmp/ipykernel_998/1739257450.py:12: FutureWarning: Pass sr=22050, n_steps=7 as keyword args. From version 0.10 passing these as positional arguments will result in an error\n",
      "  new_y = librosa.effects.pitch_shift(y, sr, steps)\n"
     ]
    },
    {
     "name": "stdout",
     "output_type": "stream",
     "text": [
      "/home/ubuntu/Data/genres_original/country/changedcountry.00058.wav\n"
     ]
    },
    {
     "name": "stderr",
     "output_type": "stream",
     "text": [
      "/tmp/ipykernel_998/1739257450.py:12: FutureWarning: Pass sr=22050, n_steps=7 as keyword args. From version 0.10 passing these as positional arguments will result in an error\n",
      "  new_y = librosa.effects.pitch_shift(y, sr, steps)\n"
     ]
    },
    {
     "name": "stdout",
     "output_type": "stream",
     "text": [
      "/home/ubuntu/Data/genres_original/country/changedcountry.00086.wav\n"
     ]
    },
    {
     "name": "stderr",
     "output_type": "stream",
     "text": [
      "/tmp/ipykernel_998/1739257450.py:12: FutureWarning: Pass sr=22050, n_steps=7 as keyword args. From version 0.10 passing these as positional arguments will result in an error\n",
      "  new_y = librosa.effects.pitch_shift(y, sr, steps)\n"
     ]
    },
    {
     "name": "stdout",
     "output_type": "stream",
     "text": [
      "/home/ubuntu/Data/genres_original/country/changedcountry.00045.wav\n"
     ]
    },
    {
     "name": "stderr",
     "output_type": "stream",
     "text": [
      "/tmp/ipykernel_998/1739257450.py:12: FutureWarning: Pass sr=22050, n_steps=7 as keyword args. From version 0.10 passing these as positional arguments will result in an error\n",
      "  new_y = librosa.effects.pitch_shift(y, sr, steps)\n"
     ]
    },
    {
     "name": "stdout",
     "output_type": "stream",
     "text": [
      "/home/ubuntu/Data/genres_original/country/changedcountry.00044.wav\n"
     ]
    },
    {
     "name": "stderr",
     "output_type": "stream",
     "text": [
      "/tmp/ipykernel_998/1739257450.py:12: FutureWarning: Pass sr=22050, n_steps=7 as keyword args. From version 0.10 passing these as positional arguments will result in an error\n",
      "  new_y = librosa.effects.pitch_shift(y, sr, steps)\n"
     ]
    },
    {
     "name": "stdout",
     "output_type": "stream",
     "text": [
      "/home/ubuntu/Data/genres_original/country/changedcountry.00023.wav\n"
     ]
    },
    {
     "name": "stderr",
     "output_type": "stream",
     "text": [
      "/tmp/ipykernel_998/1739257450.py:12: FutureWarning: Pass sr=22050, n_steps=7 as keyword args. From version 0.10 passing these as positional arguments will result in an error\n",
      "  new_y = librosa.effects.pitch_shift(y, sr, steps)\n"
     ]
    },
    {
     "name": "stdout",
     "output_type": "stream",
     "text": [
      "/home/ubuntu/Data/genres_original/country/changedcountry.00002.wav\n"
     ]
    },
    {
     "name": "stderr",
     "output_type": "stream",
     "text": [
      "/tmp/ipykernel_998/1739257450.py:12: FutureWarning: Pass sr=22050, n_steps=7 as keyword args. From version 0.10 passing these as positional arguments will result in an error\n",
      "  new_y = librosa.effects.pitch_shift(y, sr, steps)\n"
     ]
    },
    {
     "name": "stdout",
     "output_type": "stream",
     "text": [
      "/home/ubuntu/Data/genres_original/country/changedcountry.00068.wav\n"
     ]
    },
    {
     "name": "stderr",
     "output_type": "stream",
     "text": [
      "/tmp/ipykernel_998/1739257450.py:12: FutureWarning: Pass sr=22050, n_steps=7 as keyword args. From version 0.10 passing these as positional arguments will result in an error\n",
      "  new_y = librosa.effects.pitch_shift(y, sr, steps)\n"
     ]
    },
    {
     "name": "stdout",
     "output_type": "stream",
     "text": [
      "/home/ubuntu/Data/genres_original/country/changedcountry.00087.wav\n"
     ]
    },
    {
     "name": "stderr",
     "output_type": "stream",
     "text": [
      "/tmp/ipykernel_998/1739257450.py:12: FutureWarning: Pass sr=22050, n_steps=7 as keyword args. From version 0.10 passing these as positional arguments will result in an error\n",
      "  new_y = librosa.effects.pitch_shift(y, sr, steps)\n"
     ]
    },
    {
     "name": "stdout",
     "output_type": "stream",
     "text": [
      "/home/ubuntu/Data/genres_original/country/changedcountry.00055.wav\n",
      "current dir path is /home/ubuntu/Data/genres_original/disco\n"
     ]
    },
    {
     "name": "stderr",
     "output_type": "stream",
     "text": [
      "/tmp/ipykernel_998/1739257450.py:12: FutureWarning: Pass sr=22050, n_steps=7 as keyword args. From version 0.10 passing these as positional arguments will result in an error\n",
      "  new_y = librosa.effects.pitch_shift(y, sr, steps)\n"
     ]
    },
    {
     "name": "stdout",
     "output_type": "stream",
     "text": [
      "/home/ubuntu/Data/genres_original/disco/changeddisco.00014.wav\n"
     ]
    },
    {
     "name": "stderr",
     "output_type": "stream",
     "text": [
      "/tmp/ipykernel_998/1739257450.py:12: FutureWarning: Pass sr=22050, n_steps=7 as keyword args. From version 0.10 passing these as positional arguments will result in an error\n",
      "  new_y = librosa.effects.pitch_shift(y, sr, steps)\n"
     ]
    },
    {
     "name": "stdout",
     "output_type": "stream",
     "text": [
      "/home/ubuntu/Data/genres_original/disco/changeddisco.00099.wav\n"
     ]
    },
    {
     "name": "stderr",
     "output_type": "stream",
     "text": [
      "/tmp/ipykernel_998/1739257450.py:12: FutureWarning: Pass sr=22050, n_steps=7 as keyword args. From version 0.10 passing these as positional arguments will result in an error\n",
      "  new_y = librosa.effects.pitch_shift(y, sr, steps)\n"
     ]
    },
    {
     "name": "stdout",
     "output_type": "stream",
     "text": [
      "/home/ubuntu/Data/genres_original/disco/changeddisco.00082.wav\n"
     ]
    },
    {
     "name": "stderr",
     "output_type": "stream",
     "text": [
      "/tmp/ipykernel_998/1739257450.py:12: FutureWarning: Pass sr=22050, n_steps=7 as keyword args. From version 0.10 passing these as positional arguments will result in an error\n",
      "  new_y = librosa.effects.pitch_shift(y, sr, steps)\n"
     ]
    },
    {
     "name": "stdout",
     "output_type": "stream",
     "text": [
      "/home/ubuntu/Data/genres_original/disco/changeddisco.00058.wav\n"
     ]
    },
    {
     "name": "stderr",
     "output_type": "stream",
     "text": [
      "/tmp/ipykernel_998/1739257450.py:12: FutureWarning: Pass sr=22050, n_steps=7 as keyword args. From version 0.10 passing these as positional arguments will result in an error\n",
      "  new_y = librosa.effects.pitch_shift(y, sr, steps)\n"
     ]
    },
    {
     "name": "stdout",
     "output_type": "stream",
     "text": [
      "/home/ubuntu/Data/genres_original/disco/changeddisco.00086.wav\n"
     ]
    },
    {
     "name": "stderr",
     "output_type": "stream",
     "text": [
      "/tmp/ipykernel_998/1739257450.py:12: FutureWarning: Pass sr=22050, n_steps=7 as keyword args. From version 0.10 passing these as positional arguments will result in an error\n",
      "  new_y = librosa.effects.pitch_shift(y, sr, steps)\n"
     ]
    },
    {
     "name": "stdout",
     "output_type": "stream",
     "text": [
      "/home/ubuntu/Data/genres_original/disco/changeddisco.00006.wav\n"
     ]
    },
    {
     "name": "stderr",
     "output_type": "stream",
     "text": [
      "/tmp/ipykernel_998/1739257450.py:12: FutureWarning: Pass sr=22050, n_steps=7 as keyword args. From version 0.10 passing these as positional arguments will result in an error\n",
      "  new_y = librosa.effects.pitch_shift(y, sr, steps)\n"
     ]
    },
    {
     "name": "stdout",
     "output_type": "stream",
     "text": [
      "/home/ubuntu/Data/genres_original/disco/changeddisco.00095.wav\n"
     ]
    },
    {
     "name": "stderr",
     "output_type": "stream",
     "text": [
      "/tmp/ipykernel_998/1739257450.py:12: FutureWarning: Pass sr=22050, n_steps=7 as keyword args. From version 0.10 passing these as positional arguments will result in an error\n",
      "  new_y = librosa.effects.pitch_shift(y, sr, steps)\n"
     ]
    },
    {
     "name": "stdout",
     "output_type": "stream",
     "text": [
      "/home/ubuntu/Data/genres_original/disco/changeddisco.00000.wav\n"
     ]
    },
    {
     "name": "stderr",
     "output_type": "stream",
     "text": [
      "/tmp/ipykernel_998/1739257450.py:12: FutureWarning: Pass sr=22050, n_steps=7 as keyword args. From version 0.10 passing these as positional arguments will result in an error\n",
      "  new_y = librosa.effects.pitch_shift(y, sr, steps)\n"
     ]
    },
    {
     "name": "stdout",
     "output_type": "stream",
     "text": [
      "/home/ubuntu/Data/genres_original/disco/changeddisco.00029.wav\n"
     ]
    },
    {
     "name": "stderr",
     "output_type": "stream",
     "text": [
      "/tmp/ipykernel_998/1739257450.py:12: FutureWarning: Pass sr=22050, n_steps=7 as keyword args. From version 0.10 passing these as positional arguments will result in an error\n",
      "  new_y = librosa.effects.pitch_shift(y, sr, steps)\n"
     ]
    },
    {
     "name": "stdout",
     "output_type": "stream",
     "text": [
      "/home/ubuntu/Data/genres_original/disco/changeddisco.00044.wav\n"
     ]
    },
    {
     "name": "stderr",
     "output_type": "stream",
     "text": [
      "/tmp/ipykernel_998/1739257450.py:12: FutureWarning: Pass sr=22050, n_steps=7 as keyword args. From version 0.10 passing these as positional arguments will result in an error\n",
      "  new_y = librosa.effects.pitch_shift(y, sr, steps)\n"
     ]
    },
    {
     "name": "stdout",
     "output_type": "stream",
     "text": [
      "/home/ubuntu/Data/genres_original/disco/changeddisco.00069.wav\n"
     ]
    },
    {
     "name": "stderr",
     "output_type": "stream",
     "text": [
      "/tmp/ipykernel_998/1739257450.py:12: FutureWarning: Pass sr=22050, n_steps=7 as keyword args. From version 0.10 passing these as positional arguments will result in an error\n",
      "  new_y = librosa.effects.pitch_shift(y, sr, steps)\n"
     ]
    },
    {
     "name": "stdout",
     "output_type": "stream",
     "text": [
      "/home/ubuntu/Data/genres_original/disco/changeddisco.00013.wav\n"
     ]
    },
    {
     "name": "stderr",
     "output_type": "stream",
     "text": [
      "/tmp/ipykernel_998/1739257450.py:12: FutureWarning: Pass sr=22050, n_steps=7 as keyword args. From version 0.10 passing these as positional arguments will result in an error\n",
      "  new_y = librosa.effects.pitch_shift(y, sr, steps)\n"
     ]
    },
    {
     "name": "stdout",
     "output_type": "stream",
     "text": [
      "/home/ubuntu/Data/genres_original/disco/changeddisco.00085.wav\n"
     ]
    },
    {
     "name": "stderr",
     "output_type": "stream",
     "text": [
      "/tmp/ipykernel_998/1739257450.py:12: FutureWarning: Pass sr=22050, n_steps=7 as keyword args. From version 0.10 passing these as positional arguments will result in an error\n",
      "  new_y = librosa.effects.pitch_shift(y, sr, steps)\n"
     ]
    },
    {
     "name": "stdout",
     "output_type": "stream",
     "text": [
      "/home/ubuntu/Data/genres_original/disco/changeddisco.00080.wav\n"
     ]
    },
    {
     "name": "stderr",
     "output_type": "stream",
     "text": [
      "/tmp/ipykernel_998/1739257450.py:12: FutureWarning: Pass sr=22050, n_steps=7 as keyword args. From version 0.10 passing these as positional arguments will result in an error\n",
      "  new_y = librosa.effects.pitch_shift(y, sr, steps)\n"
     ]
    },
    {
     "name": "stdout",
     "output_type": "stream",
     "text": [
      "/home/ubuntu/Data/genres_original/disco/changeddisco.00070.wav\n"
     ]
    },
    {
     "name": "stderr",
     "output_type": "stream",
     "text": [
      "/tmp/ipykernel_998/1739257450.py:12: FutureWarning: Pass sr=22050, n_steps=7 as keyword args. From version 0.10 passing these as positional arguments will result in an error\n",
      "  new_y = librosa.effects.pitch_shift(y, sr, steps)\n"
     ]
    },
    {
     "name": "stdout",
     "output_type": "stream",
     "text": [
      "/home/ubuntu/Data/genres_original/disco/changeddisco.00063.wav\n"
     ]
    },
    {
     "name": "stderr",
     "output_type": "stream",
     "text": [
      "/tmp/ipykernel_998/1739257450.py:12: FutureWarning: Pass sr=22050, n_steps=7 as keyword args. From version 0.10 passing these as positional arguments will result in an error\n",
      "  new_y = librosa.effects.pitch_shift(y, sr, steps)\n"
     ]
    },
    {
     "name": "stdout",
     "output_type": "stream",
     "text": [
      "/home/ubuntu/Data/genres_original/disco/changeddisco.00057.wav\n"
     ]
    },
    {
     "name": "stderr",
     "output_type": "stream",
     "text": [
      "/tmp/ipykernel_998/1739257450.py:12: FutureWarning: Pass sr=22050, n_steps=7 as keyword args. From version 0.10 passing these as positional arguments will result in an error\n",
      "  new_y = librosa.effects.pitch_shift(y, sr, steps)\n"
     ]
    },
    {
     "name": "stdout",
     "output_type": "stream",
     "text": [
      "/home/ubuntu/Data/genres_original/disco/changeddisco.00025.wav\n"
     ]
    },
    {
     "name": "stderr",
     "output_type": "stream",
     "text": [
      "/tmp/ipykernel_998/1739257450.py:12: FutureWarning: Pass sr=22050, n_steps=7 as keyword args. From version 0.10 passing these as positional arguments will result in an error\n",
      "  new_y = librosa.effects.pitch_shift(y, sr, steps)\n"
     ]
    },
    {
     "name": "stdout",
     "output_type": "stream",
     "text": [
      "/home/ubuntu/Data/genres_original/disco/changeddisco.00043.wav\n"
     ]
    },
    {
     "name": "stderr",
     "output_type": "stream",
     "text": [
      "/tmp/ipykernel_998/1739257450.py:12: FutureWarning: Pass sr=22050, n_steps=7 as keyword args. From version 0.10 passing these as positional arguments will result in an error\n",
      "  new_y = librosa.effects.pitch_shift(y, sr, steps)\n"
     ]
    },
    {
     "name": "stdout",
     "output_type": "stream",
     "text": [
      "/home/ubuntu/Data/genres_original/disco/changeddisco.00030.wav\n"
     ]
    },
    {
     "name": "stderr",
     "output_type": "stream",
     "text": [
      "/tmp/ipykernel_998/1739257450.py:12: FutureWarning: Pass sr=22050, n_steps=7 as keyword args. From version 0.10 passing these as positional arguments will result in an error\n",
      "  new_y = librosa.effects.pitch_shift(y, sr, steps)\n"
     ]
    },
    {
     "name": "stdout",
     "output_type": "stream",
     "text": [
      "/home/ubuntu/Data/genres_original/disco/changeddisco.00061.wav\n"
     ]
    },
    {
     "name": "stderr",
     "output_type": "stream",
     "text": [
      "/tmp/ipykernel_998/1739257450.py:12: FutureWarning: Pass sr=22050, n_steps=7 as keyword args. From version 0.10 passing these as positional arguments will result in an error\n",
      "  new_y = librosa.effects.pitch_shift(y, sr, steps)\n"
     ]
    },
    {
     "name": "stdout",
     "output_type": "stream",
     "text": [
      "/home/ubuntu/Data/genres_original/disco/changeddisco.00087.wav\n"
     ]
    },
    {
     "name": "stderr",
     "output_type": "stream",
     "text": [
      "/tmp/ipykernel_998/1739257450.py:12: FutureWarning: Pass sr=22050, n_steps=7 as keyword args. From version 0.10 passing these as positional arguments will result in an error\n",
      "  new_y = librosa.effects.pitch_shift(y, sr, steps)\n"
     ]
    },
    {
     "name": "stdout",
     "output_type": "stream",
     "text": [
      "/home/ubuntu/Data/genres_original/disco/changeddisco.00002.wav\n"
     ]
    },
    {
     "name": "stderr",
     "output_type": "stream",
     "text": [
      "/tmp/ipykernel_998/1739257450.py:12: FutureWarning: Pass sr=22050, n_steps=7 as keyword args. From version 0.10 passing these as positional arguments will result in an error\n",
      "  new_y = librosa.effects.pitch_shift(y, sr, steps)\n"
     ]
    },
    {
     "name": "stdout",
     "output_type": "stream",
     "text": [
      "/home/ubuntu/Data/genres_original/disco/changeddisco.00088.wav\n"
     ]
    },
    {
     "name": "stderr",
     "output_type": "stream",
     "text": [
      "/tmp/ipykernel_998/1739257450.py:12: FutureWarning: Pass sr=22050, n_steps=7 as keyword args. From version 0.10 passing these as positional arguments will result in an error\n",
      "  new_y = librosa.effects.pitch_shift(y, sr, steps)\n"
     ]
    },
    {
     "name": "stdout",
     "output_type": "stream",
     "text": [
      "/home/ubuntu/Data/genres_original/disco/changeddisco.00064.wav\n"
     ]
    },
    {
     "name": "stderr",
     "output_type": "stream",
     "text": [
      "/tmp/ipykernel_998/1739257450.py:12: FutureWarning: Pass sr=22050, n_steps=7 as keyword args. From version 0.10 passing these as positional arguments will result in an error\n",
      "  new_y = librosa.effects.pitch_shift(y, sr, steps)\n"
     ]
    },
    {
     "name": "stdout",
     "output_type": "stream",
     "text": [
      "/home/ubuntu/Data/genres_original/disco/changeddisco.00068.wav\n"
     ]
    },
    {
     "name": "stderr",
     "output_type": "stream",
     "text": [
      "/tmp/ipykernel_998/1739257450.py:12: FutureWarning: Pass sr=22050, n_steps=7 as keyword args. From version 0.10 passing these as positional arguments will result in an error\n",
      "  new_y = librosa.effects.pitch_shift(y, sr, steps)\n"
     ]
    },
    {
     "name": "stdout",
     "output_type": "stream",
     "text": [
      "/home/ubuntu/Data/genres_original/disco/changeddisco.00053.wav\n"
     ]
    },
    {
     "name": "stderr",
     "output_type": "stream",
     "text": [
      "/tmp/ipykernel_998/1739257450.py:12: FutureWarning: Pass sr=22050, n_steps=7 as keyword args. From version 0.10 passing these as positional arguments will result in an error\n",
      "  new_y = librosa.effects.pitch_shift(y, sr, steps)\n"
     ]
    },
    {
     "name": "stdout",
     "output_type": "stream",
     "text": [
      "/home/ubuntu/Data/genres_original/disco/changeddisco.00001.wav\n"
     ]
    },
    {
     "name": "stderr",
     "output_type": "stream",
     "text": [
      "/tmp/ipykernel_998/1739257450.py:12: FutureWarning: Pass sr=22050, n_steps=7 as keyword args. From version 0.10 passing these as positional arguments will result in an error\n",
      "  new_y = librosa.effects.pitch_shift(y, sr, steps)\n"
     ]
    },
    {
     "name": "stdout",
     "output_type": "stream",
     "text": [
      "/home/ubuntu/Data/genres_original/disco/changeddisco.00049.wav\n"
     ]
    },
    {
     "name": "stderr",
     "output_type": "stream",
     "text": [
      "/tmp/ipykernel_998/1739257450.py:12: FutureWarning: Pass sr=22050, n_steps=7 as keyword args. From version 0.10 passing these as positional arguments will result in an error\n",
      "  new_y = librosa.effects.pitch_shift(y, sr, steps)\n"
     ]
    },
    {
     "name": "stdout",
     "output_type": "stream",
     "text": [
      "/home/ubuntu/Data/genres_original/disco/changeddisco.00046.wav\n"
     ]
    },
    {
     "name": "stderr",
     "output_type": "stream",
     "text": [
      "/tmp/ipykernel_998/1739257450.py:12: FutureWarning: Pass sr=22050, n_steps=7 as keyword args. From version 0.10 passing these as positional arguments will result in an error\n",
      "  new_y = librosa.effects.pitch_shift(y, sr, steps)\n"
     ]
    },
    {
     "name": "stdout",
     "output_type": "stream",
     "text": [
      "/home/ubuntu/Data/genres_original/disco/changeddisco.00067.wav\n"
     ]
    },
    {
     "name": "stderr",
     "output_type": "stream",
     "text": [
      "/tmp/ipykernel_998/1739257450.py:12: FutureWarning: Pass sr=22050, n_steps=7 as keyword args. From version 0.10 passing these as positional arguments will result in an error\n",
      "  new_y = librosa.effects.pitch_shift(y, sr, steps)\n"
     ]
    },
    {
     "name": "stdout",
     "output_type": "stream",
     "text": [
      "/home/ubuntu/Data/genres_original/disco/changeddisco.00051.wav\n"
     ]
    },
    {
     "name": "stderr",
     "output_type": "stream",
     "text": [
      "/tmp/ipykernel_998/1739257450.py:12: FutureWarning: Pass sr=22050, n_steps=7 as keyword args. From version 0.10 passing these as positional arguments will result in an error\n",
      "  new_y = librosa.effects.pitch_shift(y, sr, steps)\n"
     ]
    },
    {
     "name": "stdout",
     "output_type": "stream",
     "text": [
      "/home/ubuntu/Data/genres_original/disco/changeddisco.00035.wav\n"
     ]
    },
    {
     "name": "stderr",
     "output_type": "stream",
     "text": [
      "/tmp/ipykernel_998/1739257450.py:12: FutureWarning: Pass sr=22050, n_steps=7 as keyword args. From version 0.10 passing these as positional arguments will result in an error\n",
      "  new_y = librosa.effects.pitch_shift(y, sr, steps)\n"
     ]
    },
    {
     "name": "stdout",
     "output_type": "stream",
     "text": [
      "/home/ubuntu/Data/genres_original/disco/changeddisco.00009.wav\n"
     ]
    },
    {
     "name": "stderr",
     "output_type": "stream",
     "text": [
      "/tmp/ipykernel_998/1739257450.py:12: FutureWarning: Pass sr=22050, n_steps=7 as keyword args. From version 0.10 passing these as positional arguments will result in an error\n",
      "  new_y = librosa.effects.pitch_shift(y, sr, steps)\n"
     ]
    },
    {
     "name": "stdout",
     "output_type": "stream",
     "text": [
      "/home/ubuntu/Data/genres_original/disco/changeddisco.00059.wav\n"
     ]
    },
    {
     "name": "stderr",
     "output_type": "stream",
     "text": [
      "/tmp/ipykernel_998/1739257450.py:12: FutureWarning: Pass sr=22050, n_steps=7 as keyword args. From version 0.10 passing these as positional arguments will result in an error\n",
      "  new_y = librosa.effects.pitch_shift(y, sr, steps)\n"
     ]
    },
    {
     "name": "stdout",
     "output_type": "stream",
     "text": [
      "/home/ubuntu/Data/genres_original/disco/changeddisco.00090.wav\n"
     ]
    },
    {
     "name": "stderr",
     "output_type": "stream",
     "text": [
      "/tmp/ipykernel_998/1739257450.py:12: FutureWarning: Pass sr=22050, n_steps=7 as keyword args. From version 0.10 passing these as positional arguments will result in an error\n",
      "  new_y = librosa.effects.pitch_shift(y, sr, steps)\n"
     ]
    },
    {
     "name": "stdout",
     "output_type": "stream",
     "text": [
      "/home/ubuntu/Data/genres_original/disco/changeddisco.00096.wav\n"
     ]
    },
    {
     "name": "stderr",
     "output_type": "stream",
     "text": [
      "/tmp/ipykernel_998/1739257450.py:12: FutureWarning: Pass sr=22050, n_steps=7 as keyword args. From version 0.10 passing these as positional arguments will result in an error\n",
      "  new_y = librosa.effects.pitch_shift(y, sr, steps)\n"
     ]
    },
    {
     "name": "stdout",
     "output_type": "stream",
     "text": [
      "/home/ubuntu/Data/genres_original/disco/changeddisco.00028.wav\n"
     ]
    },
    {
     "name": "stderr",
     "output_type": "stream",
     "text": [
      "/tmp/ipykernel_998/1739257450.py:12: FutureWarning: Pass sr=22050, n_steps=7 as keyword args. From version 0.10 passing these as positional arguments will result in an error\n",
      "  new_y = librosa.effects.pitch_shift(y, sr, steps)\n"
     ]
    },
    {
     "name": "stdout",
     "output_type": "stream",
     "text": [
      "/home/ubuntu/Data/genres_original/disco/changeddisco.00003.wav\n"
     ]
    },
    {
     "name": "stderr",
     "output_type": "stream",
     "text": [
      "/tmp/ipykernel_998/1739257450.py:12: FutureWarning: Pass sr=22050, n_steps=7 as keyword args. From version 0.10 passing these as positional arguments will result in an error\n",
      "  new_y = librosa.effects.pitch_shift(y, sr, steps)\n"
     ]
    },
    {
     "name": "stdout",
     "output_type": "stream",
     "text": [
      "/home/ubuntu/Data/genres_original/disco/changeddisco.00083.wav\n"
     ]
    },
    {
     "name": "stderr",
     "output_type": "stream",
     "text": [
      "/tmp/ipykernel_998/1739257450.py:12: FutureWarning: Pass sr=22050, n_steps=7 as keyword args. From version 0.10 passing these as positional arguments will result in an error\n",
      "  new_y = librosa.effects.pitch_shift(y, sr, steps)\n"
     ]
    },
    {
     "name": "stdout",
     "output_type": "stream",
     "text": [
      "/home/ubuntu/Data/genres_original/disco/changeddisco.00084.wav\n"
     ]
    },
    {
     "name": "stderr",
     "output_type": "stream",
     "text": [
      "/tmp/ipykernel_998/1739257450.py:12: FutureWarning: Pass sr=22050, n_steps=7 as keyword args. From version 0.10 passing these as positional arguments will result in an error\n",
      "  new_y = librosa.effects.pitch_shift(y, sr, steps)\n"
     ]
    },
    {
     "name": "stdout",
     "output_type": "stream",
     "text": [
      "/home/ubuntu/Data/genres_original/disco/changeddisco.00027.wav\n"
     ]
    },
    {
     "name": "stderr",
     "output_type": "stream",
     "text": [
      "/tmp/ipykernel_998/1739257450.py:12: FutureWarning: Pass sr=22050, n_steps=7 as keyword args. From version 0.10 passing these as positional arguments will result in an error\n",
      "  new_y = librosa.effects.pitch_shift(y, sr, steps)\n"
     ]
    },
    {
     "name": "stdout",
     "output_type": "stream",
     "text": [
      "/home/ubuntu/Data/genres_original/disco/changeddisco.00032.wav\n"
     ]
    },
    {
     "name": "stderr",
     "output_type": "stream",
     "text": [
      "/tmp/ipykernel_998/1739257450.py:12: FutureWarning: Pass sr=22050, n_steps=7 as keyword args. From version 0.10 passing these as positional arguments will result in an error\n",
      "  new_y = librosa.effects.pitch_shift(y, sr, steps)\n"
     ]
    },
    {
     "name": "stdout",
     "output_type": "stream",
     "text": [
      "/home/ubuntu/Data/genres_original/disco/changeddisco.00034.wav\n"
     ]
    },
    {
     "name": "stderr",
     "output_type": "stream",
     "text": [
      "/tmp/ipykernel_998/1739257450.py:12: FutureWarning: Pass sr=22050, n_steps=7 as keyword args. From version 0.10 passing these as positional arguments will result in an error\n",
      "  new_y = librosa.effects.pitch_shift(y, sr, steps)\n"
     ]
    },
    {
     "name": "stdout",
     "output_type": "stream",
     "text": [
      "/home/ubuntu/Data/genres_original/disco/changeddisco.00008.wav\n"
     ]
    },
    {
     "name": "stderr",
     "output_type": "stream",
     "text": [
      "/tmp/ipykernel_998/1739257450.py:12: FutureWarning: Pass sr=22050, n_steps=7 as keyword args. From version 0.10 passing these as positional arguments will result in an error\n",
      "  new_y = librosa.effects.pitch_shift(y, sr, steps)\n"
     ]
    },
    {
     "name": "stdout",
     "output_type": "stream",
     "text": [
      "/home/ubuntu/Data/genres_original/disco/changeddisco.00060.wav\n"
     ]
    },
    {
     "name": "stderr",
     "output_type": "stream",
     "text": [
      "/tmp/ipykernel_998/1739257450.py:12: FutureWarning: Pass sr=22050, n_steps=7 as keyword args. From version 0.10 passing these as positional arguments will result in an error\n",
      "  new_y = librosa.effects.pitch_shift(y, sr, steps)\n"
     ]
    },
    {
     "name": "stdout",
     "output_type": "stream",
     "text": [
      "/home/ubuntu/Data/genres_original/disco/changeddisco.00040.wav\n"
     ]
    },
    {
     "name": "stderr",
     "output_type": "stream",
     "text": [
      "/tmp/ipykernel_998/1739257450.py:12: FutureWarning: Pass sr=22050, n_steps=7 as keyword args. From version 0.10 passing these as positional arguments will result in an error\n",
      "  new_y = librosa.effects.pitch_shift(y, sr, steps)\n"
     ]
    },
    {
     "name": "stdout",
     "output_type": "stream",
     "text": [
      "/home/ubuntu/Data/genres_original/disco/changeddisco.00017.wav\n"
     ]
    },
    {
     "name": "stderr",
     "output_type": "stream",
     "text": [
      "/tmp/ipykernel_998/1739257450.py:12: FutureWarning: Pass sr=22050, n_steps=7 as keyword args. From version 0.10 passing these as positional arguments will result in an error\n",
      "  new_y = librosa.effects.pitch_shift(y, sr, steps)\n"
     ]
    },
    {
     "name": "stdout",
     "output_type": "stream",
     "text": [
      "/home/ubuntu/Data/genres_original/disco/changeddisco.00036.wav\n"
     ]
    },
    {
     "name": "stderr",
     "output_type": "stream",
     "text": [
      "/tmp/ipykernel_998/1739257450.py:12: FutureWarning: Pass sr=22050, n_steps=7 as keyword args. From version 0.10 passing these as positional arguments will result in an error\n",
      "  new_y = librosa.effects.pitch_shift(y, sr, steps)\n"
     ]
    },
    {
     "name": "stdout",
     "output_type": "stream",
     "text": [
      "/home/ubuntu/Data/genres_original/disco/changeddisco.00038.wav\n"
     ]
    },
    {
     "name": "stderr",
     "output_type": "stream",
     "text": [
      "/tmp/ipykernel_998/1739257450.py:12: FutureWarning: Pass sr=22050, n_steps=7 as keyword args. From version 0.10 passing these as positional arguments will result in an error\n",
      "  new_y = librosa.effects.pitch_shift(y, sr, steps)\n"
     ]
    },
    {
     "name": "stdout",
     "output_type": "stream",
     "text": [
      "/home/ubuntu/Data/genres_original/disco/changeddisco.00065.wav\n"
     ]
    },
    {
     "name": "stderr",
     "output_type": "stream",
     "text": [
      "/tmp/ipykernel_998/1739257450.py:12: FutureWarning: Pass sr=22050, n_steps=7 as keyword args. From version 0.10 passing these as positional arguments will result in an error\n",
      "  new_y = librosa.effects.pitch_shift(y, sr, steps)\n"
     ]
    },
    {
     "name": "stdout",
     "output_type": "stream",
     "text": [
      "/home/ubuntu/Data/genres_original/disco/changeddisco.00066.wav\n"
     ]
    },
    {
     "name": "stderr",
     "output_type": "stream",
     "text": [
      "/tmp/ipykernel_998/1739257450.py:12: FutureWarning: Pass sr=22050, n_steps=7 as keyword args. From version 0.10 passing these as positional arguments will result in an error\n",
      "  new_y = librosa.effects.pitch_shift(y, sr, steps)\n"
     ]
    },
    {
     "name": "stdout",
     "output_type": "stream",
     "text": [
      "/home/ubuntu/Data/genres_original/disco/changeddisco.00054.wav\n"
     ]
    },
    {
     "name": "stderr",
     "output_type": "stream",
     "text": [
      "/tmp/ipykernel_998/1739257450.py:12: FutureWarning: Pass sr=22050, n_steps=7 as keyword args. From version 0.10 passing these as positional arguments will result in an error\n",
      "  new_y = librosa.effects.pitch_shift(y, sr, steps)\n"
     ]
    },
    {
     "name": "stdout",
     "output_type": "stream",
     "text": [
      "/home/ubuntu/Data/genres_original/disco/changeddisco.00091.wav\n"
     ]
    },
    {
     "name": "stderr",
     "output_type": "stream",
     "text": [
      "/tmp/ipykernel_998/1739257450.py:12: FutureWarning: Pass sr=22050, n_steps=7 as keyword args. From version 0.10 passing these as positional arguments will result in an error\n",
      "  new_y = librosa.effects.pitch_shift(y, sr, steps)\n"
     ]
    },
    {
     "name": "stdout",
     "output_type": "stream",
     "text": [
      "/home/ubuntu/Data/genres_original/disco/changeddisco.00020.wav\n"
     ]
    },
    {
     "name": "stderr",
     "output_type": "stream",
     "text": [
      "/tmp/ipykernel_998/1739257450.py:12: FutureWarning: Pass sr=22050, n_steps=7 as keyword args. From version 0.10 passing these as positional arguments will result in an error\n",
      "  new_y = librosa.effects.pitch_shift(y, sr, steps)\n"
     ]
    },
    {
     "name": "stdout",
     "output_type": "stream",
     "text": [
      "/home/ubuntu/Data/genres_original/disco/changeddisco.00004.wav\n"
     ]
    },
    {
     "name": "stderr",
     "output_type": "stream",
     "text": [
      "/tmp/ipykernel_998/1739257450.py:12: FutureWarning: Pass sr=22050, n_steps=7 as keyword args. From version 0.10 passing these as positional arguments will result in an error\n",
      "  new_y = librosa.effects.pitch_shift(y, sr, steps)\n"
     ]
    },
    {
     "name": "stdout",
     "output_type": "stream",
     "text": [
      "/home/ubuntu/Data/genres_original/disco/changeddisco.00081.wav\n"
     ]
    },
    {
     "name": "stderr",
     "output_type": "stream",
     "text": [
      "/tmp/ipykernel_998/1739257450.py:12: FutureWarning: Pass sr=22050, n_steps=7 as keyword args. From version 0.10 passing these as positional arguments will result in an error\n",
      "  new_y = librosa.effects.pitch_shift(y, sr, steps)\n"
     ]
    },
    {
     "name": "stdout",
     "output_type": "stream",
     "text": [
      "/home/ubuntu/Data/genres_original/disco/changeddisco.00077.wav\n"
     ]
    },
    {
     "name": "stderr",
     "output_type": "stream",
     "text": [
      "/tmp/ipykernel_998/1739257450.py:12: FutureWarning: Pass sr=22050, n_steps=7 as keyword args. From version 0.10 passing these as positional arguments will result in an error\n",
      "  new_y = librosa.effects.pitch_shift(y, sr, steps)\n"
     ]
    },
    {
     "name": "stdout",
     "output_type": "stream",
     "text": [
      "/home/ubuntu/Data/genres_original/disco/changeddisco.00078.wav\n"
     ]
    },
    {
     "name": "stderr",
     "output_type": "stream",
     "text": [
      "/tmp/ipykernel_998/1739257450.py:12: FutureWarning: Pass sr=22050, n_steps=7 as keyword args. From version 0.10 passing these as positional arguments will result in an error\n",
      "  new_y = librosa.effects.pitch_shift(y, sr, steps)\n"
     ]
    },
    {
     "name": "stdout",
     "output_type": "stream",
     "text": [
      "/home/ubuntu/Data/genres_original/disco/changeddisco.00033.wav\n"
     ]
    },
    {
     "name": "stderr",
     "output_type": "stream",
     "text": [
      "/tmp/ipykernel_998/1739257450.py:12: FutureWarning: Pass sr=22050, n_steps=7 as keyword args. From version 0.10 passing these as positional arguments will result in an error\n",
      "  new_y = librosa.effects.pitch_shift(y, sr, steps)\n"
     ]
    },
    {
     "name": "stdout",
     "output_type": "stream",
     "text": [
      "/home/ubuntu/Data/genres_original/disco/changeddisco.00075.wav\n"
     ]
    },
    {
     "name": "stderr",
     "output_type": "stream",
     "text": [
      "/tmp/ipykernel_998/1739257450.py:12: FutureWarning: Pass sr=22050, n_steps=7 as keyword args. From version 0.10 passing these as positional arguments will result in an error\n",
      "  new_y = librosa.effects.pitch_shift(y, sr, steps)\n"
     ]
    },
    {
     "name": "stdout",
     "output_type": "stream",
     "text": [
      "/home/ubuntu/Data/genres_original/disco/changeddisco.00073.wav\n"
     ]
    },
    {
     "name": "stderr",
     "output_type": "stream",
     "text": [
      "/tmp/ipykernel_998/1739257450.py:12: FutureWarning: Pass sr=22050, n_steps=7 as keyword args. From version 0.10 passing these as positional arguments will result in an error\n",
      "  new_y = librosa.effects.pitch_shift(y, sr, steps)\n"
     ]
    },
    {
     "name": "stdout",
     "output_type": "stream",
     "text": [
      "/home/ubuntu/Data/genres_original/disco/changeddisco.00052.wav\n"
     ]
    },
    {
     "name": "stderr",
     "output_type": "stream",
     "text": [
      "/tmp/ipykernel_998/1739257450.py:12: FutureWarning: Pass sr=22050, n_steps=7 as keyword args. From version 0.10 passing these as positional arguments will result in an error\n",
      "  new_y = librosa.effects.pitch_shift(y, sr, steps)\n"
     ]
    },
    {
     "name": "stdout",
     "output_type": "stream",
     "text": [
      "/home/ubuntu/Data/genres_original/disco/changeddisco.00076.wav\n"
     ]
    },
    {
     "name": "stderr",
     "output_type": "stream",
     "text": [
      "/tmp/ipykernel_998/1739257450.py:12: FutureWarning: Pass sr=22050, n_steps=7 as keyword args. From version 0.10 passing these as positional arguments will result in an error\n",
      "  new_y = librosa.effects.pitch_shift(y, sr, steps)\n"
     ]
    },
    {
     "name": "stdout",
     "output_type": "stream",
     "text": [
      "/home/ubuntu/Data/genres_original/disco/changeddisco.00042.wav\n"
     ]
    },
    {
     "name": "stderr",
     "output_type": "stream",
     "text": [
      "/tmp/ipykernel_998/1739257450.py:12: FutureWarning: Pass sr=22050, n_steps=7 as keyword args. From version 0.10 passing these as positional arguments will result in an error\n",
      "  new_y = librosa.effects.pitch_shift(y, sr, steps)\n"
     ]
    },
    {
     "name": "stdout",
     "output_type": "stream",
     "text": [
      "/home/ubuntu/Data/genres_original/disco/changeddisco.00062.wav\n"
     ]
    },
    {
     "name": "stderr",
     "output_type": "stream",
     "text": [
      "/tmp/ipykernel_998/1739257450.py:12: FutureWarning: Pass sr=22050, n_steps=7 as keyword args. From version 0.10 passing these as positional arguments will result in an error\n",
      "  new_y = librosa.effects.pitch_shift(y, sr, steps)\n"
     ]
    },
    {
     "name": "stdout",
     "output_type": "stream",
     "text": [
      "/home/ubuntu/Data/genres_original/disco/changeddisco.00097.wav\n"
     ]
    },
    {
     "name": "stderr",
     "output_type": "stream",
     "text": [
      "/tmp/ipykernel_998/1739257450.py:12: FutureWarning: Pass sr=22050, n_steps=7 as keyword args. From version 0.10 passing these as positional arguments will result in an error\n",
      "  new_y = librosa.effects.pitch_shift(y, sr, steps)\n"
     ]
    },
    {
     "name": "stdout",
     "output_type": "stream",
     "text": [
      "/home/ubuntu/Data/genres_original/disco/changeddisco.00026.wav\n"
     ]
    },
    {
     "name": "stderr",
     "output_type": "stream",
     "text": [
      "/tmp/ipykernel_998/1739257450.py:12: FutureWarning: Pass sr=22050, n_steps=7 as keyword args. From version 0.10 passing these as positional arguments will result in an error\n",
      "  new_y = librosa.effects.pitch_shift(y, sr, steps)\n"
     ]
    },
    {
     "name": "stdout",
     "output_type": "stream",
     "text": [
      "/home/ubuntu/Data/genres_original/disco/changeddisco.00037.wav\n"
     ]
    },
    {
     "name": "stderr",
     "output_type": "stream",
     "text": [
      "/tmp/ipykernel_998/1739257450.py:12: FutureWarning: Pass sr=22050, n_steps=7 as keyword args. From version 0.10 passing these as positional arguments will result in an error\n",
      "  new_y = librosa.effects.pitch_shift(y, sr, steps)\n"
     ]
    },
    {
     "name": "stdout",
     "output_type": "stream",
     "text": [
      "/home/ubuntu/Data/genres_original/disco/changeddisco.00016.wav\n"
     ]
    },
    {
     "name": "stderr",
     "output_type": "stream",
     "text": [
      "/tmp/ipykernel_998/1739257450.py:12: FutureWarning: Pass sr=22050, n_steps=7 as keyword args. From version 0.10 passing these as positional arguments will result in an error\n",
      "  new_y = librosa.effects.pitch_shift(y, sr, steps)\n"
     ]
    },
    {
     "name": "stdout",
     "output_type": "stream",
     "text": [
      "/home/ubuntu/Data/genres_original/disco/changeddisco.00005.wav\n"
     ]
    },
    {
     "name": "stderr",
     "output_type": "stream",
     "text": [
      "/tmp/ipykernel_998/1739257450.py:12: FutureWarning: Pass sr=22050, n_steps=7 as keyword args. From version 0.10 passing these as positional arguments will result in an error\n",
      "  new_y = librosa.effects.pitch_shift(y, sr, steps)\n"
     ]
    },
    {
     "name": "stdout",
     "output_type": "stream",
     "text": [
      "/home/ubuntu/Data/genres_original/disco/changeddisco.00021.wav\n"
     ]
    },
    {
     "name": "stderr",
     "output_type": "stream",
     "text": [
      "/tmp/ipykernel_998/1739257450.py:12: FutureWarning: Pass sr=22050, n_steps=7 as keyword args. From version 0.10 passing these as positional arguments will result in an error\n",
      "  new_y = librosa.effects.pitch_shift(y, sr, steps)\n"
     ]
    },
    {
     "name": "stdout",
     "output_type": "stream",
     "text": [
      "/home/ubuntu/Data/genres_original/disco/changeddisco.00079.wav\n"
     ]
    },
    {
     "name": "stderr",
     "output_type": "stream",
     "text": [
      "/tmp/ipykernel_998/1739257450.py:12: FutureWarning: Pass sr=22050, n_steps=7 as keyword args. From version 0.10 passing these as positional arguments will result in an error\n",
      "  new_y = librosa.effects.pitch_shift(y, sr, steps)\n"
     ]
    },
    {
     "name": "stdout",
     "output_type": "stream",
     "text": [
      "/home/ubuntu/Data/genres_original/disco/changeddisco.00048.wav\n"
     ]
    },
    {
     "name": "stderr",
     "output_type": "stream",
     "text": [
      "/tmp/ipykernel_998/1739257450.py:12: FutureWarning: Pass sr=22050, n_steps=7 as keyword args. From version 0.10 passing these as positional arguments will result in an error\n",
      "  new_y = librosa.effects.pitch_shift(y, sr, steps)\n"
     ]
    },
    {
     "name": "stdout",
     "output_type": "stream",
     "text": [
      "/home/ubuntu/Data/genres_original/disco/changeddisco.00011.wav\n"
     ]
    },
    {
     "name": "stderr",
     "output_type": "stream",
     "text": [
      "/tmp/ipykernel_998/1739257450.py:12: FutureWarning: Pass sr=22050, n_steps=7 as keyword args. From version 0.10 passing these as positional arguments will result in an error\n",
      "  new_y = librosa.effects.pitch_shift(y, sr, steps)\n"
     ]
    },
    {
     "name": "stdout",
     "output_type": "stream",
     "text": [
      "/home/ubuntu/Data/genres_original/disco/changeddisco.00047.wav\n"
     ]
    },
    {
     "name": "stderr",
     "output_type": "stream",
     "text": [
      "/tmp/ipykernel_998/1739257450.py:12: FutureWarning: Pass sr=22050, n_steps=7 as keyword args. From version 0.10 passing these as positional arguments will result in an error\n",
      "  new_y = librosa.effects.pitch_shift(y, sr, steps)\n"
     ]
    },
    {
     "name": "stdout",
     "output_type": "stream",
     "text": [
      "/home/ubuntu/Data/genres_original/disco/changeddisco.00071.wav\n"
     ]
    },
    {
     "name": "stderr",
     "output_type": "stream",
     "text": [
      "/tmp/ipykernel_998/1739257450.py:12: FutureWarning: Pass sr=22050, n_steps=7 as keyword args. From version 0.10 passing these as positional arguments will result in an error\n",
      "  new_y = librosa.effects.pitch_shift(y, sr, steps)\n"
     ]
    },
    {
     "name": "stdout",
     "output_type": "stream",
     "text": [
      "/home/ubuntu/Data/genres_original/disco/changeddisco.00055.wav\n"
     ]
    },
    {
     "name": "stderr",
     "output_type": "stream",
     "text": [
      "/tmp/ipykernel_998/1739257450.py:12: FutureWarning: Pass sr=22050, n_steps=7 as keyword args. From version 0.10 passing these as positional arguments will result in an error\n",
      "  new_y = librosa.effects.pitch_shift(y, sr, steps)\n"
     ]
    },
    {
     "name": "stdout",
     "output_type": "stream",
     "text": [
      "/home/ubuntu/Data/genres_original/disco/changeddisco.00024.wav\n"
     ]
    },
    {
     "name": "stderr",
     "output_type": "stream",
     "text": [
      "/tmp/ipykernel_998/1739257450.py:12: FutureWarning: Pass sr=22050, n_steps=7 as keyword args. From version 0.10 passing these as positional arguments will result in an error\n",
      "  new_y = librosa.effects.pitch_shift(y, sr, steps)\n"
     ]
    },
    {
     "name": "stdout",
     "output_type": "stream",
     "text": [
      "/home/ubuntu/Data/genres_original/disco/changeddisco.00019.wav\n"
     ]
    },
    {
     "name": "stderr",
     "output_type": "stream",
     "text": [
      "/tmp/ipykernel_998/1739257450.py:12: FutureWarning: Pass sr=22050, n_steps=7 as keyword args. From version 0.10 passing these as positional arguments will result in an error\n",
      "  new_y = librosa.effects.pitch_shift(y, sr, steps)\n"
     ]
    },
    {
     "name": "stdout",
     "output_type": "stream",
     "text": [
      "/home/ubuntu/Data/genres_original/disco/changeddisco.00012.wav\n"
     ]
    },
    {
     "name": "stderr",
     "output_type": "stream",
     "text": [
      "/tmp/ipykernel_998/1739257450.py:12: FutureWarning: Pass sr=22050, n_steps=7 as keyword args. From version 0.10 passing these as positional arguments will result in an error\n",
      "  new_y = librosa.effects.pitch_shift(y, sr, steps)\n"
     ]
    },
    {
     "name": "stdout",
     "output_type": "stream",
     "text": [
      "/home/ubuntu/Data/genres_original/disco/changeddisco.00092.wav\n"
     ]
    },
    {
     "name": "stderr",
     "output_type": "stream",
     "text": [
      "/tmp/ipykernel_998/1739257450.py:12: FutureWarning: Pass sr=22050, n_steps=7 as keyword args. From version 0.10 passing these as positional arguments will result in an error\n",
      "  new_y = librosa.effects.pitch_shift(y, sr, steps)\n"
     ]
    },
    {
     "name": "stdout",
     "output_type": "stream",
     "text": [
      "/home/ubuntu/Data/genres_original/disco/changeddisco.00015.wav\n"
     ]
    },
    {
     "name": "stderr",
     "output_type": "stream",
     "text": [
      "/tmp/ipykernel_998/1739257450.py:12: FutureWarning: Pass sr=22050, n_steps=7 as keyword args. From version 0.10 passing these as positional arguments will result in an error\n",
      "  new_y = librosa.effects.pitch_shift(y, sr, steps)\n"
     ]
    },
    {
     "name": "stdout",
     "output_type": "stream",
     "text": [
      "/home/ubuntu/Data/genres_original/disco/changeddisco.00041.wav\n"
     ]
    },
    {
     "name": "stderr",
     "output_type": "stream",
     "text": [
      "/tmp/ipykernel_998/1739257450.py:12: FutureWarning: Pass sr=22050, n_steps=7 as keyword args. From version 0.10 passing these as positional arguments will result in an error\n",
      "  new_y = librosa.effects.pitch_shift(y, sr, steps)\n"
     ]
    },
    {
     "name": "stdout",
     "output_type": "stream",
     "text": [
      "/home/ubuntu/Data/genres_original/disco/changeddisco.00074.wav\n"
     ]
    },
    {
     "name": "stderr",
     "output_type": "stream",
     "text": [
      "/tmp/ipykernel_998/1739257450.py:12: FutureWarning: Pass sr=22050, n_steps=7 as keyword args. From version 0.10 passing these as positional arguments will result in an error\n",
      "  new_y = librosa.effects.pitch_shift(y, sr, steps)\n"
     ]
    },
    {
     "name": "stdout",
     "output_type": "stream",
     "text": [
      "/home/ubuntu/Data/genres_original/disco/changeddisco.00089.wav\n"
     ]
    },
    {
     "name": "stderr",
     "output_type": "stream",
     "text": [
      "/tmp/ipykernel_998/1739257450.py:12: FutureWarning: Pass sr=22050, n_steps=7 as keyword args. From version 0.10 passing these as positional arguments will result in an error\n",
      "  new_y = librosa.effects.pitch_shift(y, sr, steps)\n"
     ]
    },
    {
     "name": "stdout",
     "output_type": "stream",
     "text": [
      "/home/ubuntu/Data/genres_original/disco/changeddisco.00093.wav\n"
     ]
    },
    {
     "name": "stderr",
     "output_type": "stream",
     "text": [
      "/tmp/ipykernel_998/1739257450.py:12: FutureWarning: Pass sr=22050, n_steps=7 as keyword args. From version 0.10 passing these as positional arguments will result in an error\n",
      "  new_y = librosa.effects.pitch_shift(y, sr, steps)\n"
     ]
    },
    {
     "name": "stdout",
     "output_type": "stream",
     "text": [
      "/home/ubuntu/Data/genres_original/disco/changeddisco.00039.wav\n"
     ]
    },
    {
     "name": "stderr",
     "output_type": "stream",
     "text": [
      "/tmp/ipykernel_998/1739257450.py:12: FutureWarning: Pass sr=22050, n_steps=7 as keyword args. From version 0.10 passing these as positional arguments will result in an error\n",
      "  new_y = librosa.effects.pitch_shift(y, sr, steps)\n"
     ]
    },
    {
     "name": "stdout",
     "output_type": "stream",
     "text": [
      "/home/ubuntu/Data/genres_original/disco/changeddisco.00045.wav\n"
     ]
    },
    {
     "name": "stderr",
     "output_type": "stream",
     "text": [
      "/tmp/ipykernel_998/1739257450.py:12: FutureWarning: Pass sr=22050, n_steps=7 as keyword args. From version 0.10 passing these as positional arguments will result in an error\n",
      "  new_y = librosa.effects.pitch_shift(y, sr, steps)\n"
     ]
    },
    {
     "name": "stdout",
     "output_type": "stream",
     "text": [
      "/home/ubuntu/Data/genres_original/disco/changeddisco.00010.wav\n"
     ]
    },
    {
     "name": "stderr",
     "output_type": "stream",
     "text": [
      "/tmp/ipykernel_998/1739257450.py:12: FutureWarning: Pass sr=22050, n_steps=7 as keyword args. From version 0.10 passing these as positional arguments will result in an error\n",
      "  new_y = librosa.effects.pitch_shift(y, sr, steps)\n"
     ]
    },
    {
     "name": "stdout",
     "output_type": "stream",
     "text": [
      "/home/ubuntu/Data/genres_original/disco/changeddisco.00098.wav\n"
     ]
    },
    {
     "name": "stderr",
     "output_type": "stream",
     "text": [
      "/tmp/ipykernel_998/1739257450.py:12: FutureWarning: Pass sr=22050, n_steps=7 as keyword args. From version 0.10 passing these as positional arguments will result in an error\n",
      "  new_y = librosa.effects.pitch_shift(y, sr, steps)\n"
     ]
    },
    {
     "name": "stdout",
     "output_type": "stream",
     "text": [
      "/home/ubuntu/Data/genres_original/disco/changeddisco.00031.wav\n"
     ]
    },
    {
     "name": "stderr",
     "output_type": "stream",
     "text": [
      "/tmp/ipykernel_998/1739257450.py:12: FutureWarning: Pass sr=22050, n_steps=7 as keyword args. From version 0.10 passing these as positional arguments will result in an error\n",
      "  new_y = librosa.effects.pitch_shift(y, sr, steps)\n"
     ]
    },
    {
     "name": "stdout",
     "output_type": "stream",
     "text": [
      "/home/ubuntu/Data/genres_original/disco/changeddisco.00022.wav\n"
     ]
    },
    {
     "name": "stderr",
     "output_type": "stream",
     "text": [
      "/tmp/ipykernel_998/1739257450.py:12: FutureWarning: Pass sr=22050, n_steps=7 as keyword args. From version 0.10 passing these as positional arguments will result in an error\n",
      "  new_y = librosa.effects.pitch_shift(y, sr, steps)\n"
     ]
    },
    {
     "name": "stdout",
     "output_type": "stream",
     "text": [
      "/home/ubuntu/Data/genres_original/disco/changeddisco.00050.wav\n"
     ]
    },
    {
     "name": "stderr",
     "output_type": "stream",
     "text": [
      "/tmp/ipykernel_998/1739257450.py:12: FutureWarning: Pass sr=22050, n_steps=7 as keyword args. From version 0.10 passing these as positional arguments will result in an error\n",
      "  new_y = librosa.effects.pitch_shift(y, sr, steps)\n"
     ]
    },
    {
     "name": "stdout",
     "output_type": "stream",
     "text": [
      "/home/ubuntu/Data/genres_original/disco/changeddisco.00072.wav\n"
     ]
    },
    {
     "name": "stderr",
     "output_type": "stream",
     "text": [
      "/tmp/ipykernel_998/1739257450.py:12: FutureWarning: Pass sr=22050, n_steps=7 as keyword args. From version 0.10 passing these as positional arguments will result in an error\n",
      "  new_y = librosa.effects.pitch_shift(y, sr, steps)\n"
     ]
    },
    {
     "name": "stdout",
     "output_type": "stream",
     "text": [
      "/home/ubuntu/Data/genres_original/disco/changeddisco.00007.wav\n"
     ]
    },
    {
     "name": "stderr",
     "output_type": "stream",
     "text": [
      "/tmp/ipykernel_998/1739257450.py:12: FutureWarning: Pass sr=22050, n_steps=7 as keyword args. From version 0.10 passing these as positional arguments will result in an error\n",
      "  new_y = librosa.effects.pitch_shift(y, sr, steps)\n"
     ]
    },
    {
     "name": "stdout",
     "output_type": "stream",
     "text": [
      "/home/ubuntu/Data/genres_original/disco/changeddisco.00018.wav\n"
     ]
    },
    {
     "name": "stderr",
     "output_type": "stream",
     "text": [
      "/tmp/ipykernel_998/1739257450.py:12: FutureWarning: Pass sr=22050, n_steps=7 as keyword args. From version 0.10 passing these as positional arguments will result in an error\n",
      "  new_y = librosa.effects.pitch_shift(y, sr, steps)\n"
     ]
    },
    {
     "name": "stdout",
     "output_type": "stream",
     "text": [
      "/home/ubuntu/Data/genres_original/disco/changeddisco.00094.wav\n"
     ]
    },
    {
     "name": "stderr",
     "output_type": "stream",
     "text": [
      "/tmp/ipykernel_998/1739257450.py:12: FutureWarning: Pass sr=22050, n_steps=7 as keyword args. From version 0.10 passing these as positional arguments will result in an error\n",
      "  new_y = librosa.effects.pitch_shift(y, sr, steps)\n"
     ]
    },
    {
     "name": "stdout",
     "output_type": "stream",
     "text": [
      "/home/ubuntu/Data/genres_original/disco/changeddisco.00056.wav\n"
     ]
    },
    {
     "name": "stderr",
     "output_type": "stream",
     "text": [
      "/tmp/ipykernel_998/1739257450.py:12: FutureWarning: Pass sr=22050, n_steps=7 as keyword args. From version 0.10 passing these as positional arguments will result in an error\n",
      "  new_y = librosa.effects.pitch_shift(y, sr, steps)\n"
     ]
    },
    {
     "name": "stdout",
     "output_type": "stream",
     "text": [
      "/home/ubuntu/Data/genres_original/disco/changeddisco.00023.wav\n",
      "current dir path is /home/ubuntu/Data/genres_original/rock\n"
     ]
    },
    {
     "name": "stderr",
     "output_type": "stream",
     "text": [
      "/tmp/ipykernel_998/1739257450.py:12: FutureWarning: Pass sr=22050, n_steps=7 as keyword args. From version 0.10 passing these as positional arguments will result in an error\n",
      "  new_y = librosa.effects.pitch_shift(y, sr, steps)\n"
     ]
    },
    {
     "name": "stdout",
     "output_type": "stream",
     "text": [
      "/home/ubuntu/Data/genres_original/rock/changedrock.00013.wav\n"
     ]
    },
    {
     "name": "stderr",
     "output_type": "stream",
     "text": [
      "/tmp/ipykernel_998/1739257450.py:12: FutureWarning: Pass sr=22050, n_steps=7 as keyword args. From version 0.10 passing these as positional arguments will result in an error\n",
      "  new_y = librosa.effects.pitch_shift(y, sr, steps)\n"
     ]
    },
    {
     "name": "stdout",
     "output_type": "stream",
     "text": [
      "/home/ubuntu/Data/genres_original/rock/changedrock.00040.wav\n"
     ]
    },
    {
     "name": "stderr",
     "output_type": "stream",
     "text": [
      "/tmp/ipykernel_998/1739257450.py:12: FutureWarning: Pass sr=22050, n_steps=7 as keyword args. From version 0.10 passing these as positional arguments will result in an error\n",
      "  new_y = librosa.effects.pitch_shift(y, sr, steps)\n"
     ]
    },
    {
     "name": "stdout",
     "output_type": "stream",
     "text": [
      "/home/ubuntu/Data/genres_original/rock/changedrock.00054.wav\n"
     ]
    },
    {
     "name": "stderr",
     "output_type": "stream",
     "text": [
      "/tmp/ipykernel_998/1739257450.py:12: FutureWarning: Pass sr=22050, n_steps=7 as keyword args. From version 0.10 passing these as positional arguments will result in an error\n",
      "  new_y = librosa.effects.pitch_shift(y, sr, steps)\n"
     ]
    },
    {
     "name": "stdout",
     "output_type": "stream",
     "text": [
      "/home/ubuntu/Data/genres_original/rock/changedrock.00012.wav\n"
     ]
    },
    {
     "name": "stderr",
     "output_type": "stream",
     "text": [
      "/tmp/ipykernel_998/1739257450.py:12: FutureWarning: Pass sr=22050, n_steps=7 as keyword args. From version 0.10 passing these as positional arguments will result in an error\n",
      "  new_y = librosa.effects.pitch_shift(y, sr, steps)\n"
     ]
    },
    {
     "name": "stdout",
     "output_type": "stream",
     "text": [
      "/home/ubuntu/Data/genres_original/rock/changedrock.00070.wav\n"
     ]
    },
    {
     "name": "stderr",
     "output_type": "stream",
     "text": [
      "/tmp/ipykernel_998/1739257450.py:12: FutureWarning: Pass sr=22050, n_steps=7 as keyword args. From version 0.10 passing these as positional arguments will result in an error\n",
      "  new_y = librosa.effects.pitch_shift(y, sr, steps)\n"
     ]
    },
    {
     "name": "stdout",
     "output_type": "stream",
     "text": [
      "/home/ubuntu/Data/genres_original/rock/changedrock.00057.wav\n"
     ]
    },
    {
     "name": "stderr",
     "output_type": "stream",
     "text": [
      "/tmp/ipykernel_998/1739257450.py:12: FutureWarning: Pass sr=22050, n_steps=7 as keyword args. From version 0.10 passing these as positional arguments will result in an error\n",
      "  new_y = librosa.effects.pitch_shift(y, sr, steps)\n"
     ]
    },
    {
     "name": "stdout",
     "output_type": "stream",
     "text": [
      "/home/ubuntu/Data/genres_original/rock/changedrock.00062.wav\n"
     ]
    },
    {
     "name": "stderr",
     "output_type": "stream",
     "text": [
      "/tmp/ipykernel_998/1739257450.py:12: FutureWarning: Pass sr=22050, n_steps=7 as keyword args. From version 0.10 passing these as positional arguments will result in an error\n",
      "  new_y = librosa.effects.pitch_shift(y, sr, steps)\n"
     ]
    },
    {
     "name": "stdout",
     "output_type": "stream",
     "text": [
      "/home/ubuntu/Data/genres_original/rock/changedrock.00059.wav\n"
     ]
    },
    {
     "name": "stderr",
     "output_type": "stream",
     "text": [
      "/tmp/ipykernel_998/1739257450.py:12: FutureWarning: Pass sr=22050, n_steps=7 as keyword args. From version 0.10 passing these as positional arguments will result in an error\n",
      "  new_y = librosa.effects.pitch_shift(y, sr, steps)\n"
     ]
    },
    {
     "name": "stdout",
     "output_type": "stream",
     "text": [
      "/home/ubuntu/Data/genres_original/rock/changedrock.00063.wav\n"
     ]
    },
    {
     "name": "stderr",
     "output_type": "stream",
     "text": [
      "/tmp/ipykernel_998/1739257450.py:12: FutureWarning: Pass sr=22050, n_steps=7 as keyword args. From version 0.10 passing these as positional arguments will result in an error\n",
      "  new_y = librosa.effects.pitch_shift(y, sr, steps)\n"
     ]
    },
    {
     "name": "stdout",
     "output_type": "stream",
     "text": [
      "/home/ubuntu/Data/genres_original/rock/changedrock.00042.wav\n"
     ]
    },
    {
     "name": "stderr",
     "output_type": "stream",
     "text": [
      "/tmp/ipykernel_998/1739257450.py:12: FutureWarning: Pass sr=22050, n_steps=7 as keyword args. From version 0.10 passing these as positional arguments will result in an error\n",
      "  new_y = librosa.effects.pitch_shift(y, sr, steps)\n"
     ]
    },
    {
     "name": "stdout",
     "output_type": "stream",
     "text": [
      "/home/ubuntu/Data/genres_original/rock/changedrock.00069.wav\n"
     ]
    },
    {
     "name": "stderr",
     "output_type": "stream",
     "text": [
      "/tmp/ipykernel_998/1739257450.py:12: FutureWarning: Pass sr=22050, n_steps=7 as keyword args. From version 0.10 passing these as positional arguments will result in an error\n",
      "  new_y = librosa.effects.pitch_shift(y, sr, steps)\n"
     ]
    },
    {
     "name": "stdout",
     "output_type": "stream",
     "text": [
      "/home/ubuntu/Data/genres_original/rock/changedrock.00026.wav\n"
     ]
    },
    {
     "name": "stderr",
     "output_type": "stream",
     "text": [
      "/tmp/ipykernel_998/1739257450.py:12: FutureWarning: Pass sr=22050, n_steps=7 as keyword args. From version 0.10 passing these as positional arguments will result in an error\n",
      "  new_y = librosa.effects.pitch_shift(y, sr, steps)\n"
     ]
    },
    {
     "name": "stdout",
     "output_type": "stream",
     "text": [
      "/home/ubuntu/Data/genres_original/rock/changedrock.00037.wav\n"
     ]
    },
    {
     "name": "stderr",
     "output_type": "stream",
     "text": [
      "/tmp/ipykernel_998/1739257450.py:12: FutureWarning: Pass sr=22050, n_steps=7 as keyword args. From version 0.10 passing these as positional arguments will result in an error\n",
      "  new_y = librosa.effects.pitch_shift(y, sr, steps)\n"
     ]
    },
    {
     "name": "stdout",
     "output_type": "stream",
     "text": [
      "/home/ubuntu/Data/genres_original/rock/changedrock.00067.wav\n"
     ]
    },
    {
     "name": "stderr",
     "output_type": "stream",
     "text": [
      "/tmp/ipykernel_998/1739257450.py:12: FutureWarning: Pass sr=22050, n_steps=7 as keyword args. From version 0.10 passing these as positional arguments will result in an error\n",
      "  new_y = librosa.effects.pitch_shift(y, sr, steps)\n"
     ]
    },
    {
     "name": "stdout",
     "output_type": "stream",
     "text": [
      "/home/ubuntu/Data/genres_original/rock/changedrock.00065.wav\n"
     ]
    },
    {
     "name": "stderr",
     "output_type": "stream",
     "text": [
      "/tmp/ipykernel_998/1739257450.py:12: FutureWarning: Pass sr=22050, n_steps=7 as keyword args. From version 0.10 passing these as positional arguments will result in an error\n",
      "  new_y = librosa.effects.pitch_shift(y, sr, steps)\n"
     ]
    },
    {
     "name": "stdout",
     "output_type": "stream",
     "text": [
      "/home/ubuntu/Data/genres_original/rock/changedrock.00015.wav\n"
     ]
    },
    {
     "name": "stderr",
     "output_type": "stream",
     "text": [
      "/tmp/ipykernel_998/1739257450.py:12: FutureWarning: Pass sr=22050, n_steps=7 as keyword args. From version 0.10 passing these as positional arguments will result in an error\n",
      "  new_y = librosa.effects.pitch_shift(y, sr, steps)\n"
     ]
    },
    {
     "name": "stdout",
     "output_type": "stream",
     "text": [
      "/home/ubuntu/Data/genres_original/rock/changedrock.00050.wav\n"
     ]
    },
    {
     "name": "stderr",
     "output_type": "stream",
     "text": [
      "/tmp/ipykernel_998/1739257450.py:12: FutureWarning: Pass sr=22050, n_steps=7 as keyword args. From version 0.10 passing these as positional arguments will result in an error\n",
      "  new_y = librosa.effects.pitch_shift(y, sr, steps)\n"
     ]
    },
    {
     "name": "stdout",
     "output_type": "stream",
     "text": [
      "/home/ubuntu/Data/genres_original/rock/changedrock.00020.wav\n"
     ]
    },
    {
     "name": "stderr",
     "output_type": "stream",
     "text": [
      "/tmp/ipykernel_998/1739257450.py:12: FutureWarning: Pass sr=22050, n_steps=7 as keyword args. From version 0.10 passing these as positional arguments will result in an error\n",
      "  new_y = librosa.effects.pitch_shift(y, sr, steps)\n"
     ]
    },
    {
     "name": "stdout",
     "output_type": "stream",
     "text": [
      "/home/ubuntu/Data/genres_original/rock/changedrock.00004.wav\n"
     ]
    },
    {
     "name": "stderr",
     "output_type": "stream",
     "text": [
      "/tmp/ipykernel_998/1739257450.py:12: FutureWarning: Pass sr=22050, n_steps=7 as keyword args. From version 0.10 passing these as positional arguments will result in an error\n",
      "  new_y = librosa.effects.pitch_shift(y, sr, steps)\n"
     ]
    },
    {
     "name": "stdout",
     "output_type": "stream",
     "text": [
      "/home/ubuntu/Data/genres_original/rock/changedrock.00092.wav\n"
     ]
    },
    {
     "name": "stderr",
     "output_type": "stream",
     "text": [
      "/tmp/ipykernel_998/1739257450.py:12: FutureWarning: Pass sr=22050, n_steps=7 as keyword args. From version 0.10 passing these as positional arguments will result in an error\n",
      "  new_y = librosa.effects.pitch_shift(y, sr, steps)\n"
     ]
    },
    {
     "name": "stdout",
     "output_type": "stream",
     "text": [
      "/home/ubuntu/Data/genres_original/rock/changedrock.00030.wav\n"
     ]
    },
    {
     "name": "stderr",
     "output_type": "stream",
     "text": [
      "/tmp/ipykernel_998/1739257450.py:12: FutureWarning: Pass sr=22050, n_steps=7 as keyword args. From version 0.10 passing these as positional arguments will result in an error\n",
      "  new_y = librosa.effects.pitch_shift(y, sr, steps)\n"
     ]
    },
    {
     "name": "stdout",
     "output_type": "stream",
     "text": [
      "/home/ubuntu/Data/genres_original/rock/changedrock.00090.wav\n"
     ]
    },
    {
     "name": "stderr",
     "output_type": "stream",
     "text": [
      "/tmp/ipykernel_998/1739257450.py:12: FutureWarning: Pass sr=22050, n_steps=7 as keyword args. From version 0.10 passing these as positional arguments will result in an error\n",
      "  new_y = librosa.effects.pitch_shift(y, sr, steps)\n"
     ]
    },
    {
     "name": "stdout",
     "output_type": "stream",
     "text": [
      "/home/ubuntu/Data/genres_original/rock/changedrock.00056.wav\n"
     ]
    },
    {
     "name": "stderr",
     "output_type": "stream",
     "text": [
      "/tmp/ipykernel_998/1739257450.py:12: FutureWarning: Pass sr=22050, n_steps=7 as keyword args. From version 0.10 passing these as positional arguments will result in an error\n",
      "  new_y = librosa.effects.pitch_shift(y, sr, steps)\n"
     ]
    },
    {
     "name": "stdout",
     "output_type": "stream",
     "text": [
      "/home/ubuntu/Data/genres_original/rock/changedrock.00033.wav\n"
     ]
    },
    {
     "name": "stderr",
     "output_type": "stream",
     "text": [
      "/tmp/ipykernel_998/1739257450.py:12: FutureWarning: Pass sr=22050, n_steps=7 as keyword args. From version 0.10 passing these as positional arguments will result in an error\n",
      "  new_y = librosa.effects.pitch_shift(y, sr, steps)\n"
     ]
    },
    {
     "name": "stdout",
     "output_type": "stream",
     "text": [
      "/home/ubuntu/Data/genres_original/rock/changedrock.00091.wav\n"
     ]
    },
    {
     "name": "stderr",
     "output_type": "stream",
     "text": [
      "/tmp/ipykernel_998/1739257450.py:12: FutureWarning: Pass sr=22050, n_steps=7 as keyword args. From version 0.10 passing these as positional arguments will result in an error\n",
      "  new_y = librosa.effects.pitch_shift(y, sr, steps)\n"
     ]
    },
    {
     "name": "stdout",
     "output_type": "stream",
     "text": [
      "/home/ubuntu/Data/genres_original/rock/changedrock.00041.wav\n"
     ]
    },
    {
     "name": "stderr",
     "output_type": "stream",
     "text": [
      "/tmp/ipykernel_998/1739257450.py:12: FutureWarning: Pass sr=22050, n_steps=7 as keyword args. From version 0.10 passing these as positional arguments will result in an error\n",
      "  new_y = librosa.effects.pitch_shift(y, sr, steps)\n"
     ]
    },
    {
     "name": "stdout",
     "output_type": "stream",
     "text": [
      "/home/ubuntu/Data/genres_original/rock/changedrock.00018.wav\n"
     ]
    },
    {
     "name": "stderr",
     "output_type": "stream",
     "text": [
      "/tmp/ipykernel_998/1739257450.py:12: FutureWarning: Pass sr=22050, n_steps=7 as keyword args. From version 0.10 passing these as positional arguments will result in an error\n",
      "  new_y = librosa.effects.pitch_shift(y, sr, steps)\n"
     ]
    },
    {
     "name": "stdout",
     "output_type": "stream",
     "text": [
      "/home/ubuntu/Data/genres_original/rock/changedrock.00022.wav\n"
     ]
    },
    {
     "name": "stderr",
     "output_type": "stream",
     "text": [
      "/tmp/ipykernel_998/1739257450.py:12: FutureWarning: Pass sr=22050, n_steps=7 as keyword args. From version 0.10 passing these as positional arguments will result in an error\n",
      "  new_y = librosa.effects.pitch_shift(y, sr, steps)\n"
     ]
    },
    {
     "name": "stdout",
     "output_type": "stream",
     "text": [
      "/home/ubuntu/Data/genres_original/rock/changedrock.00051.wav\n"
     ]
    },
    {
     "name": "stderr",
     "output_type": "stream",
     "text": [
      "/tmp/ipykernel_998/1739257450.py:12: FutureWarning: Pass sr=22050, n_steps=7 as keyword args. From version 0.10 passing these as positional arguments will result in an error\n",
      "  new_y = librosa.effects.pitch_shift(y, sr, steps)\n"
     ]
    },
    {
     "name": "stdout",
     "output_type": "stream",
     "text": [
      "/home/ubuntu/Data/genres_original/rock/changedrock.00000.wav\n"
     ]
    },
    {
     "name": "stderr",
     "output_type": "stream",
     "text": [
      "/tmp/ipykernel_998/1739257450.py:12: FutureWarning: Pass sr=22050, n_steps=7 as keyword args. From version 0.10 passing these as positional arguments will result in an error\n",
      "  new_y = librosa.effects.pitch_shift(y, sr, steps)\n"
     ]
    },
    {
     "name": "stdout",
     "output_type": "stream",
     "text": [
      "/home/ubuntu/Data/genres_original/rock/changedrock.00038.wav\n"
     ]
    },
    {
     "name": "stderr",
     "output_type": "stream",
     "text": [
      "/tmp/ipykernel_998/1739257450.py:12: FutureWarning: Pass sr=22050, n_steps=7 as keyword args. From version 0.10 passing these as positional arguments will result in an error\n",
      "  new_y = librosa.effects.pitch_shift(y, sr, steps)\n"
     ]
    },
    {
     "name": "stdout",
     "output_type": "stream",
     "text": [
      "/home/ubuntu/Data/genres_original/rock/changedrock.00003.wav\n"
     ]
    },
    {
     "name": "stderr",
     "output_type": "stream",
     "text": [
      "/tmp/ipykernel_998/1739257450.py:12: FutureWarning: Pass sr=22050, n_steps=7 as keyword args. From version 0.10 passing these as positional arguments will result in an error\n",
      "  new_y = librosa.effects.pitch_shift(y, sr, steps)\n"
     ]
    },
    {
     "name": "stdout",
     "output_type": "stream",
     "text": [
      "/home/ubuntu/Data/genres_original/rock/changedrock.00027.wav\n"
     ]
    },
    {
     "name": "stderr",
     "output_type": "stream",
     "text": [
      "/tmp/ipykernel_998/1739257450.py:12: FutureWarning: Pass sr=22050, n_steps=7 as keyword args. From version 0.10 passing these as positional arguments will result in an error\n",
      "  new_y = librosa.effects.pitch_shift(y, sr, steps)\n"
     ]
    },
    {
     "name": "stdout",
     "output_type": "stream",
     "text": [
      "/home/ubuntu/Data/genres_original/rock/changedrock.00005.wav\n"
     ]
    },
    {
     "name": "stderr",
     "output_type": "stream",
     "text": [
      "/tmp/ipykernel_998/1739257450.py:12: FutureWarning: Pass sr=22050, n_steps=7 as keyword args. From version 0.10 passing these as positional arguments will result in an error\n",
      "  new_y = librosa.effects.pitch_shift(y, sr, steps)\n"
     ]
    },
    {
     "name": "stdout",
     "output_type": "stream",
     "text": [
      "/home/ubuntu/Data/genres_original/rock/changedrock.00043.wav\n"
     ]
    },
    {
     "name": "stderr",
     "output_type": "stream",
     "text": [
      "/tmp/ipykernel_998/1739257450.py:12: FutureWarning: Pass sr=22050, n_steps=7 as keyword args. From version 0.10 passing these as positional arguments will result in an error\n",
      "  new_y = librosa.effects.pitch_shift(y, sr, steps)\n"
     ]
    },
    {
     "name": "stdout",
     "output_type": "stream",
     "text": [
      "/home/ubuntu/Data/genres_original/rock/changedrock.00046.wav\n"
     ]
    },
    {
     "name": "stderr",
     "output_type": "stream",
     "text": [
      "/tmp/ipykernel_998/1739257450.py:12: FutureWarning: Pass sr=22050, n_steps=7 as keyword args. From version 0.10 passing these as positional arguments will result in an error\n",
      "  new_y = librosa.effects.pitch_shift(y, sr, steps)\n"
     ]
    },
    {
     "name": "stdout",
     "output_type": "stream",
     "text": [
      "/home/ubuntu/Data/genres_original/rock/changedrock.00047.wav\n"
     ]
    },
    {
     "name": "stderr",
     "output_type": "stream",
     "text": [
      "/tmp/ipykernel_998/1739257450.py:12: FutureWarning: Pass sr=22050, n_steps=7 as keyword args. From version 0.10 passing these as positional arguments will result in an error\n",
      "  new_y = librosa.effects.pitch_shift(y, sr, steps)\n"
     ]
    },
    {
     "name": "stdout",
     "output_type": "stream",
     "text": [
      "/home/ubuntu/Data/genres_original/rock/changedrock.00007.wav\n"
     ]
    },
    {
     "name": "stderr",
     "output_type": "stream",
     "text": [
      "/tmp/ipykernel_998/1739257450.py:12: FutureWarning: Pass sr=22050, n_steps=7 as keyword args. From version 0.10 passing these as positional arguments will result in an error\n",
      "  new_y = librosa.effects.pitch_shift(y, sr, steps)\n"
     ]
    },
    {
     "name": "stdout",
     "output_type": "stream",
     "text": [
      "/home/ubuntu/Data/genres_original/rock/changedrock.00088.wav\n"
     ]
    },
    {
     "name": "stderr",
     "output_type": "stream",
     "text": [
      "/tmp/ipykernel_998/1739257450.py:12: FutureWarning: Pass sr=22050, n_steps=7 as keyword args. From version 0.10 passing these as positional arguments will result in an error\n",
      "  new_y = librosa.effects.pitch_shift(y, sr, steps)\n"
     ]
    },
    {
     "name": "stdout",
     "output_type": "stream",
     "text": [
      "/home/ubuntu/Data/genres_original/rock/changedrock.00048.wav\n"
     ]
    },
    {
     "name": "stderr",
     "output_type": "stream",
     "text": [
      "/tmp/ipykernel_998/1739257450.py:12: FutureWarning: Pass sr=22050, n_steps=7 as keyword args. From version 0.10 passing these as positional arguments will result in an error\n",
      "  new_y = librosa.effects.pitch_shift(y, sr, steps)\n"
     ]
    },
    {
     "name": "stdout",
     "output_type": "stream",
     "text": [
      "/home/ubuntu/Data/genres_original/rock/changedrock.00025.wav\n"
     ]
    },
    {
     "name": "stderr",
     "output_type": "stream",
     "text": [
      "/tmp/ipykernel_998/1739257450.py:12: FutureWarning: Pass sr=22050, n_steps=7 as keyword args. From version 0.10 passing these as positional arguments will result in an error\n",
      "  new_y = librosa.effects.pitch_shift(y, sr, steps)\n"
     ]
    },
    {
     "name": "stdout",
     "output_type": "stream",
     "text": [
      "/home/ubuntu/Data/genres_original/rock/changedrock.00032.wav\n"
     ]
    },
    {
     "name": "stderr",
     "output_type": "stream",
     "text": [
      "/tmp/ipykernel_998/1739257450.py:12: FutureWarning: Pass sr=22050, n_steps=7 as keyword args. From version 0.10 passing these as positional arguments will result in an error\n",
      "  new_y = librosa.effects.pitch_shift(y, sr, steps)\n"
     ]
    },
    {
     "name": "stdout",
     "output_type": "stream",
     "text": [
      "/home/ubuntu/Data/genres_original/rock/changedrock.00016.wav\n"
     ]
    },
    {
     "name": "stderr",
     "output_type": "stream",
     "text": [
      "/tmp/ipykernel_998/1739257450.py:12: FutureWarning: Pass sr=22050, n_steps=7 as keyword args. From version 0.10 passing these as positional arguments will result in an error\n",
      "  new_y = librosa.effects.pitch_shift(y, sr, steps)\n"
     ]
    },
    {
     "name": "stdout",
     "output_type": "stream",
     "text": [
      "/home/ubuntu/Data/genres_original/rock/changedrock.00052.wav\n"
     ]
    },
    {
     "name": "stderr",
     "output_type": "stream",
     "text": [
      "/tmp/ipykernel_998/1739257450.py:12: FutureWarning: Pass sr=22050, n_steps=7 as keyword args. From version 0.10 passing these as positional arguments will result in an error\n",
      "  new_y = librosa.effects.pitch_shift(y, sr, steps)\n"
     ]
    },
    {
     "name": "stdout",
     "output_type": "stream",
     "text": [
      "/home/ubuntu/Data/genres_original/rock/changedrock.00014.wav\n"
     ]
    },
    {
     "name": "stderr",
     "output_type": "stream",
     "text": [
      "/tmp/ipykernel_998/1739257450.py:12: FutureWarning: Pass sr=22050, n_steps=7 as keyword args. From version 0.10 passing these as positional arguments will result in an error\n",
      "  new_y = librosa.effects.pitch_shift(y, sr, steps)\n"
     ]
    },
    {
     "name": "stdout",
     "output_type": "stream",
     "text": [
      "/home/ubuntu/Data/genres_original/rock/changedrock.00029.wav\n"
     ]
    },
    {
     "name": "stderr",
     "output_type": "stream",
     "text": [
      "/tmp/ipykernel_998/1739257450.py:12: FutureWarning: Pass sr=22050, n_steps=7 as keyword args. From version 0.10 passing these as positional arguments will result in an error\n",
      "  new_y = librosa.effects.pitch_shift(y, sr, steps)\n"
     ]
    },
    {
     "name": "stdout",
     "output_type": "stream",
     "text": [
      "/home/ubuntu/Data/genres_original/rock/changedrock.00087.wav\n"
     ]
    },
    {
     "name": "stderr",
     "output_type": "stream",
     "text": [
      "/tmp/ipykernel_998/1739257450.py:12: FutureWarning: Pass sr=22050, n_steps=7 as keyword args. From version 0.10 passing these as positional arguments will result in an error\n",
      "  new_y = librosa.effects.pitch_shift(y, sr, steps)\n"
     ]
    },
    {
     "name": "stdout",
     "output_type": "stream",
     "text": [
      "/home/ubuntu/Data/genres_original/rock/changedrock.00073.wav\n"
     ]
    },
    {
     "name": "stderr",
     "output_type": "stream",
     "text": [
      "/tmp/ipykernel_998/1739257450.py:12: FutureWarning: Pass sr=22050, n_steps=7 as keyword args. From version 0.10 passing these as positional arguments will result in an error\n",
      "  new_y = librosa.effects.pitch_shift(y, sr, steps)\n"
     ]
    },
    {
     "name": "stdout",
     "output_type": "stream",
     "text": [
      "/home/ubuntu/Data/genres_original/rock/changedrock.00096.wav\n"
     ]
    },
    {
     "name": "stderr",
     "output_type": "stream",
     "text": [
      "/tmp/ipykernel_998/1739257450.py:12: FutureWarning: Pass sr=22050, n_steps=7 as keyword args. From version 0.10 passing these as positional arguments will result in an error\n",
      "  new_y = librosa.effects.pitch_shift(y, sr, steps)\n"
     ]
    },
    {
     "name": "stdout",
     "output_type": "stream",
     "text": [
      "/home/ubuntu/Data/genres_original/rock/changedrock.00060.wav\n"
     ]
    },
    {
     "name": "stderr",
     "output_type": "stream",
     "text": [
      "/tmp/ipykernel_998/1739257450.py:12: FutureWarning: Pass sr=22050, n_steps=7 as keyword args. From version 0.10 passing these as positional arguments will result in an error\n",
      "  new_y = librosa.effects.pitch_shift(y, sr, steps)\n"
     ]
    },
    {
     "name": "stdout",
     "output_type": "stream",
     "text": [
      "/home/ubuntu/Data/genres_original/rock/changedrock.00085.wav\n"
     ]
    },
    {
     "name": "stderr",
     "output_type": "stream",
     "text": [
      "/tmp/ipykernel_998/1739257450.py:12: FutureWarning: Pass sr=22050, n_steps=7 as keyword args. From version 0.10 passing these as positional arguments will result in an error\n",
      "  new_y = librosa.effects.pitch_shift(y, sr, steps)\n"
     ]
    },
    {
     "name": "stdout",
     "output_type": "stream",
     "text": [
      "/home/ubuntu/Data/genres_original/rock/changedrock.00017.wav\n"
     ]
    },
    {
     "name": "stderr",
     "output_type": "stream",
     "text": [
      "/tmp/ipykernel_998/1739257450.py:12: FutureWarning: Pass sr=22050, n_steps=7 as keyword args. From version 0.10 passing these as positional arguments will result in an error\n",
      "  new_y = librosa.effects.pitch_shift(y, sr, steps)\n"
     ]
    },
    {
     "name": "stdout",
     "output_type": "stream",
     "text": [
      "/home/ubuntu/Data/genres_original/rock/changedrock.00024.wav\n"
     ]
    },
    {
     "name": "stderr",
     "output_type": "stream",
     "text": [
      "/tmp/ipykernel_998/1739257450.py:12: FutureWarning: Pass sr=22050, n_steps=7 as keyword args. From version 0.10 passing these as positional arguments will result in an error\n",
      "  new_y = librosa.effects.pitch_shift(y, sr, steps)\n"
     ]
    },
    {
     "name": "stdout",
     "output_type": "stream",
     "text": [
      "/home/ubuntu/Data/genres_original/rock/changedrock.00002.wav\n"
     ]
    },
    {
     "name": "stderr",
     "output_type": "stream",
     "text": [
      "/tmp/ipykernel_998/1739257450.py:12: FutureWarning: Pass sr=22050, n_steps=7 as keyword args. From version 0.10 passing these as positional arguments will result in an error\n",
      "  new_y = librosa.effects.pitch_shift(y, sr, steps)\n"
     ]
    },
    {
     "name": "stdout",
     "output_type": "stream",
     "text": [
      "/home/ubuntu/Data/genres_original/rock/changedrock.00049.wav\n"
     ]
    },
    {
     "name": "stderr",
     "output_type": "stream",
     "text": [
      "/tmp/ipykernel_998/1739257450.py:12: FutureWarning: Pass sr=22050, n_steps=7 as keyword args. From version 0.10 passing these as positional arguments will result in an error\n",
      "  new_y = librosa.effects.pitch_shift(y, sr, steps)\n"
     ]
    },
    {
     "name": "stdout",
     "output_type": "stream",
     "text": [
      "/home/ubuntu/Data/genres_original/rock/changedrock.00009.wav\n"
     ]
    },
    {
     "name": "stderr",
     "output_type": "stream",
     "text": [
      "/tmp/ipykernel_998/1739257450.py:12: FutureWarning: Pass sr=22050, n_steps=7 as keyword args. From version 0.10 passing these as positional arguments will result in an error\n",
      "  new_y = librosa.effects.pitch_shift(y, sr, steps)\n"
     ]
    },
    {
     "name": "stdout",
     "output_type": "stream",
     "text": [
      "/home/ubuntu/Data/genres_original/rock/changedrock.00089.wav\n"
     ]
    },
    {
     "name": "stderr",
     "output_type": "stream",
     "text": [
      "/tmp/ipykernel_998/1739257450.py:12: FutureWarning: Pass sr=22050, n_steps=7 as keyword args. From version 0.10 passing these as positional arguments will result in an error\n",
      "  new_y = librosa.effects.pitch_shift(y, sr, steps)\n"
     ]
    },
    {
     "name": "stdout",
     "output_type": "stream",
     "text": [
      "/home/ubuntu/Data/genres_original/rock/changedrock.00021.wav\n"
     ]
    },
    {
     "name": "stderr",
     "output_type": "stream",
     "text": [
      "/tmp/ipykernel_998/1739257450.py:12: FutureWarning: Pass sr=22050, n_steps=7 as keyword args. From version 0.10 passing these as positional arguments will result in an error\n",
      "  new_y = librosa.effects.pitch_shift(y, sr, steps)\n"
     ]
    },
    {
     "name": "stdout",
     "output_type": "stream",
     "text": [
      "/home/ubuntu/Data/genres_original/rock/changedrock.00034.wav\n"
     ]
    },
    {
     "name": "stderr",
     "output_type": "stream",
     "text": [
      "/tmp/ipykernel_998/1739257450.py:12: FutureWarning: Pass sr=22050, n_steps=7 as keyword args. From version 0.10 passing these as positional arguments will result in an error\n",
      "  new_y = librosa.effects.pitch_shift(y, sr, steps)\n"
     ]
    },
    {
     "name": "stdout",
     "output_type": "stream",
     "text": [
      "/home/ubuntu/Data/genres_original/rock/changedrock.00055.wav\n"
     ]
    },
    {
     "name": "stderr",
     "output_type": "stream",
     "text": [
      "/tmp/ipykernel_998/1739257450.py:12: FutureWarning: Pass sr=22050, n_steps=7 as keyword args. From version 0.10 passing these as positional arguments will result in an error\n",
      "  new_y = librosa.effects.pitch_shift(y, sr, steps)\n"
     ]
    },
    {
     "name": "stdout",
     "output_type": "stream",
     "text": [
      "/home/ubuntu/Data/genres_original/rock/changedrock.00031.wav\n"
     ]
    },
    {
     "name": "stderr",
     "output_type": "stream",
     "text": [
      "/tmp/ipykernel_998/1739257450.py:12: FutureWarning: Pass sr=22050, n_steps=7 as keyword args. From version 0.10 passing these as positional arguments will result in an error\n",
      "  new_y = librosa.effects.pitch_shift(y, sr, steps)\n"
     ]
    },
    {
     "name": "stdout",
     "output_type": "stream",
     "text": [
      "/home/ubuntu/Data/genres_original/rock/changedrock.00097.wav\n"
     ]
    },
    {
     "name": "stderr",
     "output_type": "stream",
     "text": [
      "/tmp/ipykernel_998/1739257450.py:12: FutureWarning: Pass sr=22050, n_steps=7 as keyword args. From version 0.10 passing these as positional arguments will result in an error\n",
      "  new_y = librosa.effects.pitch_shift(y, sr, steps)\n"
     ]
    },
    {
     "name": "stdout",
     "output_type": "stream",
     "text": [
      "/home/ubuntu/Data/genres_original/rock/changedrock.00011.wav\n"
     ]
    },
    {
     "name": "stderr",
     "output_type": "stream",
     "text": [
      "/tmp/ipykernel_998/1739257450.py:12: FutureWarning: Pass sr=22050, n_steps=7 as keyword args. From version 0.10 passing these as positional arguments will result in an error\n",
      "  new_y = librosa.effects.pitch_shift(y, sr, steps)\n"
     ]
    },
    {
     "name": "stdout",
     "output_type": "stream",
     "text": [
      "/home/ubuntu/Data/genres_original/rock/changedrock.00071.wav\n"
     ]
    },
    {
     "name": "stderr",
     "output_type": "stream",
     "text": [
      "/tmp/ipykernel_998/1739257450.py:12: FutureWarning: Pass sr=22050, n_steps=7 as keyword args. From version 0.10 passing these as positional arguments will result in an error\n",
      "  new_y = librosa.effects.pitch_shift(y, sr, steps)\n"
     ]
    },
    {
     "name": "stdout",
     "output_type": "stream",
     "text": [
      "/home/ubuntu/Data/genres_original/rock/changedrock.00080.wav\n"
     ]
    },
    {
     "name": "stderr",
     "output_type": "stream",
     "text": [
      "/tmp/ipykernel_998/1739257450.py:12: FutureWarning: Pass sr=22050, n_steps=7 as keyword args. From version 0.10 passing these as positional arguments will result in an error\n",
      "  new_y = librosa.effects.pitch_shift(y, sr, steps)\n"
     ]
    },
    {
     "name": "stdout",
     "output_type": "stream",
     "text": [
      "/home/ubuntu/Data/genres_original/rock/changedrock.00064.wav\n"
     ]
    },
    {
     "name": "stderr",
     "output_type": "stream",
     "text": [
      "/tmp/ipykernel_998/1739257450.py:12: FutureWarning: Pass sr=22050, n_steps=7 as keyword args. From version 0.10 passing these as positional arguments will result in an error\n",
      "  new_y = librosa.effects.pitch_shift(y, sr, steps)\n"
     ]
    },
    {
     "name": "stdout",
     "output_type": "stream",
     "text": [
      "/home/ubuntu/Data/genres_original/rock/changedrock.00053.wav\n"
     ]
    },
    {
     "name": "stderr",
     "output_type": "stream",
     "text": [
      "/tmp/ipykernel_998/1739257450.py:12: FutureWarning: Pass sr=22050, n_steps=7 as keyword args. From version 0.10 passing these as positional arguments will result in an error\n",
      "  new_y = librosa.effects.pitch_shift(y, sr, steps)\n"
     ]
    },
    {
     "name": "stdout",
     "output_type": "stream",
     "text": [
      "/home/ubuntu/Data/genres_original/rock/changedrock.00066.wav\n"
     ]
    },
    {
     "name": "stderr",
     "output_type": "stream",
     "text": [
      "/tmp/ipykernel_998/1739257450.py:12: FutureWarning: Pass sr=22050, n_steps=7 as keyword args. From version 0.10 passing these as positional arguments will result in an error\n",
      "  new_y = librosa.effects.pitch_shift(y, sr, steps)\n"
     ]
    },
    {
     "name": "stdout",
     "output_type": "stream",
     "text": [
      "/home/ubuntu/Data/genres_original/rock/changedrock.00044.wav\n"
     ]
    },
    {
     "name": "stderr",
     "output_type": "stream",
     "text": [
      "/tmp/ipykernel_998/1739257450.py:12: FutureWarning: Pass sr=22050, n_steps=7 as keyword args. From version 0.10 passing these as positional arguments will result in an error\n",
      "  new_y = librosa.effects.pitch_shift(y, sr, steps)\n"
     ]
    },
    {
     "name": "stdout",
     "output_type": "stream",
     "text": [
      "/home/ubuntu/Data/genres_original/rock/changedrock.00086.wav\n"
     ]
    },
    {
     "name": "stderr",
     "output_type": "stream",
     "text": [
      "/tmp/ipykernel_998/1739257450.py:12: FutureWarning: Pass sr=22050, n_steps=7 as keyword args. From version 0.10 passing these as positional arguments will result in an error\n",
      "  new_y = librosa.effects.pitch_shift(y, sr, steps)\n"
     ]
    },
    {
     "name": "stdout",
     "output_type": "stream",
     "text": [
      "/home/ubuntu/Data/genres_original/rock/changedrock.00006.wav\n"
     ]
    },
    {
     "name": "stderr",
     "output_type": "stream",
     "text": [
      "/tmp/ipykernel_998/1739257450.py:12: FutureWarning: Pass sr=22050, n_steps=7 as keyword args. From version 0.10 passing these as positional arguments will result in an error\n",
      "  new_y = librosa.effects.pitch_shift(y, sr, steps)\n"
     ]
    },
    {
     "name": "stdout",
     "output_type": "stream",
     "text": [
      "/home/ubuntu/Data/genres_original/rock/changedrock.00061.wav\n"
     ]
    },
    {
     "name": "stderr",
     "output_type": "stream",
     "text": [
      "/tmp/ipykernel_998/1739257450.py:12: FutureWarning: Pass sr=22050, n_steps=7 as keyword args. From version 0.10 passing these as positional arguments will result in an error\n",
      "  new_y = librosa.effects.pitch_shift(y, sr, steps)\n"
     ]
    },
    {
     "name": "stdout",
     "output_type": "stream",
     "text": [
      "/home/ubuntu/Data/genres_original/rock/changedrock.00075.wav\n"
     ]
    },
    {
     "name": "stderr",
     "output_type": "stream",
     "text": [
      "/tmp/ipykernel_998/1739257450.py:12: FutureWarning: Pass sr=22050, n_steps=7 as keyword args. From version 0.10 passing these as positional arguments will result in an error\n",
      "  new_y = librosa.effects.pitch_shift(y, sr, steps)\n"
     ]
    },
    {
     "name": "stdout",
     "output_type": "stream",
     "text": [
      "/home/ubuntu/Data/genres_original/rock/changedrock.00058.wav\n"
     ]
    },
    {
     "name": "stderr",
     "output_type": "stream",
     "text": [
      "/tmp/ipykernel_998/1739257450.py:12: FutureWarning: Pass sr=22050, n_steps=7 as keyword args. From version 0.10 passing these as positional arguments will result in an error\n",
      "  new_y = librosa.effects.pitch_shift(y, sr, steps)\n"
     ]
    },
    {
     "name": "stdout",
     "output_type": "stream",
     "text": [
      "/home/ubuntu/Data/genres_original/rock/changedrock.00095.wav\n"
     ]
    },
    {
     "name": "stderr",
     "output_type": "stream",
     "text": [
      "/tmp/ipykernel_998/1739257450.py:12: FutureWarning: Pass sr=22050, n_steps=7 as keyword args. From version 0.10 passing these as positional arguments will result in an error\n",
      "  new_y = librosa.effects.pitch_shift(y, sr, steps)\n"
     ]
    },
    {
     "name": "stdout",
     "output_type": "stream",
     "text": [
      "/home/ubuntu/Data/genres_original/rock/changedrock.00079.wav\n"
     ]
    },
    {
     "name": "stderr",
     "output_type": "stream",
     "text": [
      "/tmp/ipykernel_998/1739257450.py:12: FutureWarning: Pass sr=22050, n_steps=7 as keyword args. From version 0.10 passing these as positional arguments will result in an error\n",
      "  new_y = librosa.effects.pitch_shift(y, sr, steps)\n"
     ]
    },
    {
     "name": "stdout",
     "output_type": "stream",
     "text": [
      "/home/ubuntu/Data/genres_original/rock/changedrock.00028.wav\n"
     ]
    },
    {
     "name": "stderr",
     "output_type": "stream",
     "text": [
      "/tmp/ipykernel_998/1739257450.py:12: FutureWarning: Pass sr=22050, n_steps=7 as keyword args. From version 0.10 passing these as positional arguments will result in an error\n",
      "  new_y = librosa.effects.pitch_shift(y, sr, steps)\n"
     ]
    },
    {
     "name": "stdout",
     "output_type": "stream",
     "text": [
      "/home/ubuntu/Data/genres_original/rock/changedrock.00094.wav\n"
     ]
    },
    {
     "name": "stderr",
     "output_type": "stream",
     "text": [
      "/tmp/ipykernel_998/1739257450.py:12: FutureWarning: Pass sr=22050, n_steps=7 as keyword args. From version 0.10 passing these as positional arguments will result in an error\n",
      "  new_y = librosa.effects.pitch_shift(y, sr, steps)\n"
     ]
    },
    {
     "name": "stdout",
     "output_type": "stream",
     "text": [
      "/home/ubuntu/Data/genres_original/rock/changedrock.00098.wav\n"
     ]
    },
    {
     "name": "stderr",
     "output_type": "stream",
     "text": [
      "/tmp/ipykernel_998/1739257450.py:12: FutureWarning: Pass sr=22050, n_steps=7 as keyword args. From version 0.10 passing these as positional arguments will result in an error\n",
      "  new_y = librosa.effects.pitch_shift(y, sr, steps)\n"
     ]
    },
    {
     "name": "stdout",
     "output_type": "stream",
     "text": [
      "/home/ubuntu/Data/genres_original/rock/changedrock.00023.wav\n"
     ]
    },
    {
     "name": "stderr",
     "output_type": "stream",
     "text": [
      "/tmp/ipykernel_998/1739257450.py:12: FutureWarning: Pass sr=22050, n_steps=7 as keyword args. From version 0.10 passing these as positional arguments will result in an error\n",
      "  new_y = librosa.effects.pitch_shift(y, sr, steps)\n"
     ]
    },
    {
     "name": "stdout",
     "output_type": "stream",
     "text": [
      "/home/ubuntu/Data/genres_original/rock/changedrock.00099.wav\n"
     ]
    },
    {
     "name": "stderr",
     "output_type": "stream",
     "text": [
      "/tmp/ipykernel_998/1739257450.py:12: FutureWarning: Pass sr=22050, n_steps=7 as keyword args. From version 0.10 passing these as positional arguments will result in an error\n",
      "  new_y = librosa.effects.pitch_shift(y, sr, steps)\n"
     ]
    },
    {
     "name": "stdout",
     "output_type": "stream",
     "text": [
      "/home/ubuntu/Data/genres_original/rock/changedrock.00093.wav\n"
     ]
    },
    {
     "name": "stderr",
     "output_type": "stream",
     "text": [
      "/tmp/ipykernel_998/1739257450.py:12: FutureWarning: Pass sr=22050, n_steps=7 as keyword args. From version 0.10 passing these as positional arguments will result in an error\n",
      "  new_y = librosa.effects.pitch_shift(y, sr, steps)\n"
     ]
    },
    {
     "name": "stdout",
     "output_type": "stream",
     "text": [
      "/home/ubuntu/Data/genres_original/rock/changedrock.00077.wav\n"
     ]
    },
    {
     "name": "stderr",
     "output_type": "stream",
     "text": [
      "/tmp/ipykernel_998/1739257450.py:12: FutureWarning: Pass sr=22050, n_steps=7 as keyword args. From version 0.10 passing these as positional arguments will result in an error\n",
      "  new_y = librosa.effects.pitch_shift(y, sr, steps)\n"
     ]
    },
    {
     "name": "stdout",
     "output_type": "stream",
     "text": [
      "/home/ubuntu/Data/genres_original/rock/changedrock.00074.wav\n"
     ]
    },
    {
     "name": "stderr",
     "output_type": "stream",
     "text": [
      "/tmp/ipykernel_998/1739257450.py:12: FutureWarning: Pass sr=22050, n_steps=7 as keyword args. From version 0.10 passing these as positional arguments will result in an error\n",
      "  new_y = librosa.effects.pitch_shift(y, sr, steps)\n"
     ]
    },
    {
     "name": "stdout",
     "output_type": "stream",
     "text": [
      "/home/ubuntu/Data/genres_original/rock/changedrock.00039.wav\n"
     ]
    },
    {
     "name": "stderr",
     "output_type": "stream",
     "text": [
      "/tmp/ipykernel_998/1739257450.py:12: FutureWarning: Pass sr=22050, n_steps=7 as keyword args. From version 0.10 passing these as positional arguments will result in an error\n",
      "  new_y = librosa.effects.pitch_shift(y, sr, steps)\n"
     ]
    },
    {
     "name": "stdout",
     "output_type": "stream",
     "text": [
      "/home/ubuntu/Data/genres_original/rock/changedrock.00045.wav\n"
     ]
    },
    {
     "name": "stderr",
     "output_type": "stream",
     "text": [
      "/tmp/ipykernel_998/1739257450.py:12: FutureWarning: Pass sr=22050, n_steps=7 as keyword args. From version 0.10 passing these as positional arguments will result in an error\n",
      "  new_y = librosa.effects.pitch_shift(y, sr, steps)\n"
     ]
    },
    {
     "name": "stdout",
     "output_type": "stream",
     "text": [
      "/home/ubuntu/Data/genres_original/rock/changedrock.00072.wav\n"
     ]
    },
    {
     "name": "stderr",
     "output_type": "stream",
     "text": [
      "/tmp/ipykernel_998/1739257450.py:12: FutureWarning: Pass sr=22050, n_steps=7 as keyword args. From version 0.10 passing these as positional arguments will result in an error\n",
      "  new_y = librosa.effects.pitch_shift(y, sr, steps)\n"
     ]
    },
    {
     "name": "stdout",
     "output_type": "stream",
     "text": [
      "/home/ubuntu/Data/genres_original/rock/changedrock.00076.wav\n"
     ]
    },
    {
     "name": "stderr",
     "output_type": "stream",
     "text": [
      "/tmp/ipykernel_998/1739257450.py:12: FutureWarning: Pass sr=22050, n_steps=7 as keyword args. From version 0.10 passing these as positional arguments will result in an error\n",
      "  new_y = librosa.effects.pitch_shift(y, sr, steps)\n"
     ]
    },
    {
     "name": "stdout",
     "output_type": "stream",
     "text": [
      "/home/ubuntu/Data/genres_original/rock/changedrock.00019.wav\n"
     ]
    },
    {
     "name": "stderr",
     "output_type": "stream",
     "text": [
      "/tmp/ipykernel_998/1739257450.py:12: FutureWarning: Pass sr=22050, n_steps=7 as keyword args. From version 0.10 passing these as positional arguments will result in an error\n",
      "  new_y = librosa.effects.pitch_shift(y, sr, steps)\n"
     ]
    },
    {
     "name": "stdout",
     "output_type": "stream",
     "text": [
      "/home/ubuntu/Data/genres_original/rock/changedrock.00082.wav\n"
     ]
    },
    {
     "name": "stderr",
     "output_type": "stream",
     "text": [
      "/tmp/ipykernel_998/1739257450.py:12: FutureWarning: Pass sr=22050, n_steps=7 as keyword args. From version 0.10 passing these as positional arguments will result in an error\n",
      "  new_y = librosa.effects.pitch_shift(y, sr, steps)\n"
     ]
    },
    {
     "name": "stdout",
     "output_type": "stream",
     "text": [
      "/home/ubuntu/Data/genres_original/rock/changedrock.00001.wav\n"
     ]
    },
    {
     "name": "stderr",
     "output_type": "stream",
     "text": [
      "/tmp/ipykernel_998/1739257450.py:12: FutureWarning: Pass sr=22050, n_steps=7 as keyword args. From version 0.10 passing these as positional arguments will result in an error\n",
      "  new_y = librosa.effects.pitch_shift(y, sr, steps)\n"
     ]
    },
    {
     "name": "stdout",
     "output_type": "stream",
     "text": [
      "/home/ubuntu/Data/genres_original/rock/changedrock.00010.wav\n"
     ]
    },
    {
     "name": "stderr",
     "output_type": "stream",
     "text": [
      "/tmp/ipykernel_998/1739257450.py:12: FutureWarning: Pass sr=22050, n_steps=7 as keyword args. From version 0.10 passing these as positional arguments will result in an error\n",
      "  new_y = librosa.effects.pitch_shift(y, sr, steps)\n"
     ]
    },
    {
     "name": "stdout",
     "output_type": "stream",
     "text": [
      "/home/ubuntu/Data/genres_original/rock/changedrock.00035.wav\n"
     ]
    },
    {
     "name": "stderr",
     "output_type": "stream",
     "text": [
      "/tmp/ipykernel_998/1739257450.py:12: FutureWarning: Pass sr=22050, n_steps=7 as keyword args. From version 0.10 passing these as positional arguments will result in an error\n",
      "  new_y = librosa.effects.pitch_shift(y, sr, steps)\n"
     ]
    },
    {
     "name": "stdout",
     "output_type": "stream",
     "text": [
      "/home/ubuntu/Data/genres_original/rock/changedrock.00084.wav\n"
     ]
    },
    {
     "name": "stderr",
     "output_type": "stream",
     "text": [
      "/tmp/ipykernel_998/1739257450.py:12: FutureWarning: Pass sr=22050, n_steps=7 as keyword args. From version 0.10 passing these as positional arguments will result in an error\n",
      "  new_y = librosa.effects.pitch_shift(y, sr, steps)\n"
     ]
    },
    {
     "name": "stdout",
     "output_type": "stream",
     "text": [
      "/home/ubuntu/Data/genres_original/rock/changedrock.00068.wav\n"
     ]
    },
    {
     "name": "stderr",
     "output_type": "stream",
     "text": [
      "/tmp/ipykernel_998/1739257450.py:12: FutureWarning: Pass sr=22050, n_steps=7 as keyword args. From version 0.10 passing these as positional arguments will result in an error\n",
      "  new_y = librosa.effects.pitch_shift(y, sr, steps)\n"
     ]
    },
    {
     "name": "stdout",
     "output_type": "stream",
     "text": [
      "/home/ubuntu/Data/genres_original/rock/changedrock.00083.wav\n"
     ]
    },
    {
     "name": "stderr",
     "output_type": "stream",
     "text": [
      "/tmp/ipykernel_998/1739257450.py:12: FutureWarning: Pass sr=22050, n_steps=7 as keyword args. From version 0.10 passing these as positional arguments will result in an error\n",
      "  new_y = librosa.effects.pitch_shift(y, sr, steps)\n"
     ]
    },
    {
     "name": "stdout",
     "output_type": "stream",
     "text": [
      "/home/ubuntu/Data/genres_original/rock/changedrock.00008.wav\n"
     ]
    },
    {
     "name": "stderr",
     "output_type": "stream",
     "text": [
      "/tmp/ipykernel_998/1739257450.py:12: FutureWarning: Pass sr=22050, n_steps=7 as keyword args. From version 0.10 passing these as positional arguments will result in an error\n",
      "  new_y = librosa.effects.pitch_shift(y, sr, steps)\n"
     ]
    },
    {
     "name": "stdout",
     "output_type": "stream",
     "text": [
      "/home/ubuntu/Data/genres_original/rock/changedrock.00036.wav\n"
     ]
    },
    {
     "name": "stderr",
     "output_type": "stream",
     "text": [
      "/tmp/ipykernel_998/1739257450.py:12: FutureWarning: Pass sr=22050, n_steps=7 as keyword args. From version 0.10 passing these as positional arguments will result in an error\n",
      "  new_y = librosa.effects.pitch_shift(y, sr, steps)\n"
     ]
    },
    {
     "name": "stdout",
     "output_type": "stream",
     "text": [
      "/home/ubuntu/Data/genres_original/rock/changedrock.00078.wav\n"
     ]
    },
    {
     "name": "stderr",
     "output_type": "stream",
     "text": [
      "/tmp/ipykernel_998/1739257450.py:12: FutureWarning: Pass sr=22050, n_steps=7 as keyword args. From version 0.10 passing these as positional arguments will result in an error\n",
      "  new_y = librosa.effects.pitch_shift(y, sr, steps)\n"
     ]
    },
    {
     "name": "stdout",
     "output_type": "stream",
     "text": [
      "/home/ubuntu/Data/genres_original/rock/changedrock.00081.wav\n",
      "current dir path is /home/ubuntu/Data/genres_original/jazz\n"
     ]
    },
    {
     "name": "stderr",
     "output_type": "stream",
     "text": [
      "/tmp/ipykernel_998/1739257450.py:12: FutureWarning: Pass sr=22050, n_steps=7 as keyword args. From version 0.10 passing these as positional arguments will result in an error\n",
      "  new_y = librosa.effects.pitch_shift(y, sr, steps)\n"
     ]
    },
    {
     "name": "stdout",
     "output_type": "stream",
     "text": [
      "/home/ubuntu/Data/genres_original/jazz/changedjazz.00000.wav\n"
     ]
    },
    {
     "name": "stderr",
     "output_type": "stream",
     "text": [
      "/tmp/ipykernel_998/1739257450.py:12: FutureWarning: Pass sr=22050, n_steps=7 as keyword args. From version 0.10 passing these as positional arguments will result in an error\n",
      "  new_y = librosa.effects.pitch_shift(y, sr, steps)\n"
     ]
    },
    {
     "name": "stdout",
     "output_type": "stream",
     "text": [
      "/home/ubuntu/Data/genres_original/jazz/changedjazz.00007.wav\n"
     ]
    },
    {
     "name": "stderr",
     "output_type": "stream",
     "text": [
      "/tmp/ipykernel_998/1739257450.py:12: FutureWarning: Pass sr=22050, n_steps=7 as keyword args. From version 0.10 passing these as positional arguments will result in an error\n",
      "  new_y = librosa.effects.pitch_shift(y, sr, steps)\n"
     ]
    },
    {
     "name": "stdout",
     "output_type": "stream",
     "text": [
      "/home/ubuntu/Data/genres_original/jazz/changedjazz.00025.wav\n"
     ]
    },
    {
     "name": "stderr",
     "output_type": "stream",
     "text": [
      "/tmp/ipykernel_998/1739257450.py:12: FutureWarning: Pass sr=22050, n_steps=7 as keyword args. From version 0.10 passing these as positional arguments will result in an error\n",
      "  new_y = librosa.effects.pitch_shift(y, sr, steps)\n"
     ]
    },
    {
     "name": "stdout",
     "output_type": "stream",
     "text": [
      "/home/ubuntu/Data/genres_original/jazz/changedjazz.00089.wav\n"
     ]
    },
    {
     "name": "stderr",
     "output_type": "stream",
     "text": [
      "/tmp/ipykernel_998/1739257450.py:12: FutureWarning: Pass sr=22050, n_steps=7 as keyword args. From version 0.10 passing these as positional arguments will result in an error\n",
      "  new_y = librosa.effects.pitch_shift(y, sr, steps)\n"
     ]
    },
    {
     "name": "stdout",
     "output_type": "stream",
     "text": [
      "/home/ubuntu/Data/genres_original/jazz/changedjazz.00013.wav\n"
     ]
    },
    {
     "name": "stderr",
     "output_type": "stream",
     "text": [
      "/tmp/ipykernel_998/1739257450.py:12: FutureWarning: Pass sr=22050, n_steps=7 as keyword args. From version 0.10 passing these as positional arguments will result in an error\n",
      "  new_y = librosa.effects.pitch_shift(y, sr, steps)\n"
     ]
    },
    {
     "name": "stdout",
     "output_type": "stream",
     "text": [
      "/home/ubuntu/Data/genres_original/jazz/changedjazz.00012.wav\n"
     ]
    },
    {
     "name": "stderr",
     "output_type": "stream",
     "text": [
      "/tmp/ipykernel_998/1739257450.py:12: FutureWarning: Pass sr=22050, n_steps=7 as keyword args. From version 0.10 passing these as positional arguments will result in an error\n",
      "  new_y = librosa.effects.pitch_shift(y, sr, steps)\n"
     ]
    },
    {
     "name": "stdout",
     "output_type": "stream",
     "text": [
      "/home/ubuntu/Data/genres_original/jazz/changedjazz.00028.wav\n"
     ]
    },
    {
     "name": "stderr",
     "output_type": "stream",
     "text": [
      "/tmp/ipykernel_998/1739257450.py:12: FutureWarning: Pass sr=22050, n_steps=7 as keyword args. From version 0.10 passing these as positional arguments will result in an error\n",
      "  new_y = librosa.effects.pitch_shift(y, sr, steps)\n"
     ]
    },
    {
     "name": "stdout",
     "output_type": "stream",
     "text": [
      "/home/ubuntu/Data/genres_original/jazz/changedjazz.00052.wav\n"
     ]
    },
    {
     "name": "stderr",
     "output_type": "stream",
     "text": [
      "/tmp/ipykernel_998/1739257450.py:12: FutureWarning: Pass sr=22050, n_steps=7 as keyword args. From version 0.10 passing these as positional arguments will result in an error\n",
      "  new_y = librosa.effects.pitch_shift(y, sr, steps)\n"
     ]
    },
    {
     "name": "stdout",
     "output_type": "stream",
     "text": [
      "/home/ubuntu/Data/genres_original/jazz/changedjazz.00003.wav\n"
     ]
    },
    {
     "name": "stderr",
     "output_type": "stream",
     "text": [
      "/tmp/ipykernel_998/1739257450.py:12: FutureWarning: Pass sr=22050, n_steps=7 as keyword args. From version 0.10 passing these as positional arguments will result in an error\n",
      "  new_y = librosa.effects.pitch_shift(y, sr, steps)\n"
     ]
    },
    {
     "name": "stdout",
     "output_type": "stream",
     "text": [
      "/home/ubuntu/Data/genres_original/jazz/changedjazz.00029.wav\n"
     ]
    },
    {
     "name": "stderr",
     "output_type": "stream",
     "text": [
      "/tmp/ipykernel_998/1739257450.py:12: FutureWarning: Pass sr=22050, n_steps=7 as keyword args. From version 0.10 passing these as positional arguments will result in an error\n",
      "  new_y = librosa.effects.pitch_shift(y, sr, steps)\n"
     ]
    },
    {
     "name": "stdout",
     "output_type": "stream",
     "text": [
      "/home/ubuntu/Data/genres_original/jazz/changedjazz.00067.wav\n"
     ]
    },
    {
     "name": "stderr",
     "output_type": "stream",
     "text": [
      "/tmp/ipykernel_998/1739257450.py:12: FutureWarning: Pass sr=22050, n_steps=7 as keyword args. From version 0.10 passing these as positional arguments will result in an error\n",
      "  new_y = librosa.effects.pitch_shift(y, sr, steps)\n"
     ]
    },
    {
     "name": "stdout",
     "output_type": "stream",
     "text": [
      "/home/ubuntu/Data/genres_original/jazz/changedjazz.00096.wav\n"
     ]
    },
    {
     "name": "stderr",
     "output_type": "stream",
     "text": [
      "/tmp/ipykernel_998/1739257450.py:12: FutureWarning: Pass sr=22050, n_steps=7 as keyword args. From version 0.10 passing these as positional arguments will result in an error\n",
      "  new_y = librosa.effects.pitch_shift(y, sr, steps)\n"
     ]
    },
    {
     "name": "stdout",
     "output_type": "stream",
     "text": [
      "/home/ubuntu/Data/genres_original/jazz/changedjazz.00034.wav\n"
     ]
    },
    {
     "name": "stderr",
     "output_type": "stream",
     "text": [
      "/tmp/ipykernel_998/1739257450.py:12: FutureWarning: Pass sr=22050, n_steps=7 as keyword args. From version 0.10 passing these as positional arguments will result in an error\n",
      "  new_y = librosa.effects.pitch_shift(y, sr, steps)\n"
     ]
    },
    {
     "name": "stdout",
     "output_type": "stream",
     "text": [
      "/home/ubuntu/Data/genres_original/jazz/changedjazz.00044.wav\n"
     ]
    },
    {
     "name": "stderr",
     "output_type": "stream",
     "text": [
      "/tmp/ipykernel_998/1739257450.py:12: FutureWarning: Pass sr=22050, n_steps=7 as keyword args. From version 0.10 passing these as positional arguments will result in an error\n",
      "  new_y = librosa.effects.pitch_shift(y, sr, steps)\n"
     ]
    },
    {
     "name": "stdout",
     "output_type": "stream",
     "text": [
      "/home/ubuntu/Data/genres_original/jazz/changedjazz.00019.wav\n"
     ]
    },
    {
     "name": "stderr",
     "output_type": "stream",
     "text": [
      "/tmp/ipykernel_998/1739257450.py:12: FutureWarning: Pass sr=22050, n_steps=7 as keyword args. From version 0.10 passing these as positional arguments will result in an error\n",
      "  new_y = librosa.effects.pitch_shift(y, sr, steps)\n"
     ]
    },
    {
     "name": "stdout",
     "output_type": "stream",
     "text": [
      "/home/ubuntu/Data/genres_original/jazz/changedjazz.00083.wav\n"
     ]
    },
    {
     "name": "stderr",
     "output_type": "stream",
     "text": [
      "/tmp/ipykernel_998/1739257450.py:12: FutureWarning: Pass sr=22050, n_steps=7 as keyword args. From version 0.10 passing these as positional arguments will result in an error\n",
      "  new_y = librosa.effects.pitch_shift(y, sr, steps)\n"
     ]
    },
    {
     "name": "stdout",
     "output_type": "stream",
     "text": [
      "/home/ubuntu/Data/genres_original/jazz/changedjazz.00075.wav\n"
     ]
    },
    {
     "name": "stderr",
     "output_type": "stream",
     "text": [
      "/tmp/ipykernel_998/1739257450.py:12: FutureWarning: Pass sr=22050, n_steps=7 as keyword args. From version 0.10 passing these as positional arguments will result in an error\n",
      "  new_y = librosa.effects.pitch_shift(y, sr, steps)\n"
     ]
    },
    {
     "name": "stdout",
     "output_type": "stream",
     "text": [
      "/home/ubuntu/Data/genres_original/jazz/changedjazz.00058.wav\n"
     ]
    },
    {
     "name": "stderr",
     "output_type": "stream",
     "text": [
      "/tmp/ipykernel_998/1739257450.py:12: FutureWarning: Pass sr=22050, n_steps=7 as keyword args. From version 0.10 passing these as positional arguments will result in an error\n",
      "  new_y = librosa.effects.pitch_shift(y, sr, steps)\n"
     ]
    },
    {
     "name": "stdout",
     "output_type": "stream",
     "text": [
      "/home/ubuntu/Data/genres_original/jazz/changedjazz.00072.wav\n"
     ]
    },
    {
     "name": "stderr",
     "output_type": "stream",
     "text": [
      "/tmp/ipykernel_998/1739257450.py:12: FutureWarning: Pass sr=22050, n_steps=7 as keyword args. From version 0.10 passing these as positional arguments will result in an error\n",
      "  new_y = librosa.effects.pitch_shift(y, sr, steps)\n"
     ]
    },
    {
     "name": "stdout",
     "output_type": "stream",
     "text": [
      "/home/ubuntu/Data/genres_original/jazz/changedjazz.00042.wav\n"
     ]
    },
    {
     "name": "stderr",
     "output_type": "stream",
     "text": [
      "/tmp/ipykernel_998/1739257450.py:12: FutureWarning: Pass sr=22050, n_steps=7 as keyword args. From version 0.10 passing these as positional arguments will result in an error\n",
      "  new_y = librosa.effects.pitch_shift(y, sr, steps)\n"
     ]
    },
    {
     "name": "stdout",
     "output_type": "stream",
     "text": [
      "/home/ubuntu/Data/genres_original/jazz/changedjazz.00031.wav\n"
     ]
    },
    {
     "name": "stderr",
     "output_type": "stream",
     "text": [
      "/tmp/ipykernel_998/1739257450.py:12: FutureWarning: Pass sr=22050, n_steps=7 as keyword args. From version 0.10 passing these as positional arguments will result in an error\n",
      "  new_y = librosa.effects.pitch_shift(y, sr, steps)\n"
     ]
    },
    {
     "name": "stdout",
     "output_type": "stream",
     "text": [
      "/home/ubuntu/Data/genres_original/jazz/changedjazz.00095.wav\n"
     ]
    },
    {
     "name": "stderr",
     "output_type": "stream",
     "text": [
      "/tmp/ipykernel_998/1739257450.py:12: FutureWarning: Pass sr=22050, n_steps=7 as keyword args. From version 0.10 passing these as positional arguments will result in an error\n",
      "  new_y = librosa.effects.pitch_shift(y, sr, steps)\n"
     ]
    },
    {
     "name": "stdout",
     "output_type": "stream",
     "text": [
      "/home/ubuntu/Data/genres_original/jazz/changedjazz.00081.wav\n"
     ]
    },
    {
     "name": "stderr",
     "output_type": "stream",
     "text": [
      "/tmp/ipykernel_998/1739257450.py:12: FutureWarning: Pass sr=22050, n_steps=7 as keyword args. From version 0.10 passing these as positional arguments will result in an error\n",
      "  new_y = librosa.effects.pitch_shift(y, sr, steps)\n"
     ]
    },
    {
     "name": "stdout",
     "output_type": "stream",
     "text": [
      "/home/ubuntu/Data/genres_original/jazz/changedjazz.00017.wav\n"
     ]
    },
    {
     "name": "stderr",
     "output_type": "stream",
     "text": [
      "/tmp/ipykernel_998/1739257450.py:12: FutureWarning: Pass sr=22050, n_steps=7 as keyword args. From version 0.10 passing these as positional arguments will result in an error\n",
      "  new_y = librosa.effects.pitch_shift(y, sr, steps)\n"
     ]
    },
    {
     "name": "stdout",
     "output_type": "stream",
     "text": [
      "/home/ubuntu/Data/genres_original/jazz/changedjazz.00061.wav\n"
     ]
    },
    {
     "name": "stderr",
     "output_type": "stream",
     "text": [
      "/tmp/ipykernel_998/1739257450.py:12: FutureWarning: Pass sr=22050, n_steps=7 as keyword args. From version 0.10 passing these as positional arguments will result in an error\n",
      "  new_y = librosa.effects.pitch_shift(y, sr, steps)\n"
     ]
    },
    {
     "name": "stdout",
     "output_type": "stream",
     "text": [
      "/home/ubuntu/Data/genres_original/jazz/changedjazz.00048.wav\n"
     ]
    },
    {
     "name": "stderr",
     "output_type": "stream",
     "text": [
      "/tmp/ipykernel_998/1739257450.py:12: FutureWarning: Pass sr=22050, n_steps=7 as keyword args. From version 0.10 passing these as positional arguments will result in an error\n",
      "  new_y = librosa.effects.pitch_shift(y, sr, steps)\n"
     ]
    },
    {
     "name": "stdout",
     "output_type": "stream",
     "text": [
      "/home/ubuntu/Data/genres_original/jazz/changedjazz.00070.wav\n"
     ]
    },
    {
     "name": "stderr",
     "output_type": "stream",
     "text": [
      "/tmp/ipykernel_998/1739257450.py:12: FutureWarning: Pass sr=22050, n_steps=7 as keyword args. From version 0.10 passing these as positional arguments will result in an error\n",
      "  new_y = librosa.effects.pitch_shift(y, sr, steps)\n"
     ]
    },
    {
     "name": "stdout",
     "output_type": "stream",
     "text": [
      "/home/ubuntu/Data/genres_original/jazz/changedjazz.00024.wav\n"
     ]
    },
    {
     "name": "stderr",
     "output_type": "stream",
     "text": [
      "/tmp/ipykernel_998/1739257450.py:12: FutureWarning: Pass sr=22050, n_steps=7 as keyword args. From version 0.10 passing these as positional arguments will result in an error\n",
      "  new_y = librosa.effects.pitch_shift(y, sr, steps)\n"
     ]
    },
    {
     "name": "stdout",
     "output_type": "stream",
     "text": [
      "/home/ubuntu/Data/genres_original/jazz/changedjazz.00076.wav\n"
     ]
    },
    {
     "name": "stderr",
     "output_type": "stream",
     "text": [
      "/tmp/ipykernel_998/1739257450.py:12: FutureWarning: Pass sr=22050, n_steps=7 as keyword args. From version 0.10 passing these as positional arguments will result in an error\n",
      "  new_y = librosa.effects.pitch_shift(y, sr, steps)\n"
     ]
    },
    {
     "name": "stdout",
     "output_type": "stream",
     "text": [
      "/home/ubuntu/Data/genres_original/jazz/changedjazz.00063.wav\n"
     ]
    },
    {
     "name": "stderr",
     "output_type": "stream",
     "text": [
      "/tmp/ipykernel_998/1739257450.py:12: FutureWarning: Pass sr=22050, n_steps=7 as keyword args. From version 0.10 passing these as positional arguments will result in an error\n",
      "  new_y = librosa.effects.pitch_shift(y, sr, steps)\n"
     ]
    },
    {
     "name": "stdout",
     "output_type": "stream",
     "text": [
      "/home/ubuntu/Data/genres_original/jazz/changedjazz.00038.wav\n"
     ]
    },
    {
     "name": "stderr",
     "output_type": "stream",
     "text": [
      "/tmp/ipykernel_998/1739257450.py:12: FutureWarning: Pass sr=22050, n_steps=7 as keyword args. From version 0.10 passing these as positional arguments will result in an error\n",
      "  new_y = librosa.effects.pitch_shift(y, sr, steps)\n"
     ]
    },
    {
     "name": "stdout",
     "output_type": "stream",
     "text": [
      "/home/ubuntu/Data/genres_original/jazz/changedjazz.00049.wav\n"
     ]
    },
    {
     "name": "stderr",
     "output_type": "stream",
     "text": [
      "/tmp/ipykernel_998/1739257450.py:12: FutureWarning: Pass sr=22050, n_steps=7 as keyword args. From version 0.10 passing these as positional arguments will result in an error\n",
      "  new_y = librosa.effects.pitch_shift(y, sr, steps)\n"
     ]
    },
    {
     "name": "stdout",
     "output_type": "stream",
     "text": [
      "/home/ubuntu/Data/genres_original/jazz/changedjazz.00055.wav\n"
     ]
    },
    {
     "name": "stderr",
     "output_type": "stream",
     "text": [
      "/tmp/ipykernel_998/1739257450.py:12: FutureWarning: Pass sr=22050, n_steps=7 as keyword args. From version 0.10 passing these as positional arguments will result in an error\n",
      "  new_y = librosa.effects.pitch_shift(y, sr, steps)\n"
     ]
    },
    {
     "name": "stdout",
     "output_type": "stream",
     "text": [
      "/home/ubuntu/Data/genres_original/jazz/changedjazz.00004.wav\n"
     ]
    },
    {
     "name": "stderr",
     "output_type": "stream",
     "text": [
      "/tmp/ipykernel_998/1739257450.py:12: FutureWarning: Pass sr=22050, n_steps=7 as keyword args. From version 0.10 passing these as positional arguments will result in an error\n",
      "  new_y = librosa.effects.pitch_shift(y, sr, steps)\n"
     ]
    },
    {
     "name": "stdout",
     "output_type": "stream",
     "text": [
      "/home/ubuntu/Data/genres_original/jazz/changedjazz.00016.wav\n"
     ]
    },
    {
     "name": "stderr",
     "output_type": "stream",
     "text": [
      "/tmp/ipykernel_998/1739257450.py:12: FutureWarning: Pass sr=22050, n_steps=7 as keyword args. From version 0.10 passing these as positional arguments will result in an error\n",
      "  new_y = librosa.effects.pitch_shift(y, sr, steps)\n"
     ]
    },
    {
     "name": "stdout",
     "output_type": "stream",
     "text": [
      "/home/ubuntu/Data/genres_original/jazz/changedjazz.00085.wav\n"
     ]
    },
    {
     "name": "stderr",
     "output_type": "stream",
     "text": [
      "/tmp/ipykernel_998/1739257450.py:12: FutureWarning: Pass sr=22050, n_steps=7 as keyword args. From version 0.10 passing these as positional arguments will result in an error\n",
      "  new_y = librosa.effects.pitch_shift(y, sr, steps)\n"
     ]
    },
    {
     "name": "stdout",
     "output_type": "stream",
     "text": [
      "/home/ubuntu/Data/genres_original/jazz/changedjazz.00060.wav\n"
     ]
    },
    {
     "name": "stderr",
     "output_type": "stream",
     "text": [
      "/tmp/ipykernel_998/1739257450.py:12: FutureWarning: Pass sr=22050, n_steps=7 as keyword args. From version 0.10 passing these as positional arguments will result in an error\n",
      "  new_y = librosa.effects.pitch_shift(y, sr, steps)\n"
     ]
    },
    {
     "name": "stdout",
     "output_type": "stream",
     "text": [
      "/home/ubuntu/Data/genres_original/jazz/changedjazz.00005.wav\n"
     ]
    },
    {
     "name": "stderr",
     "output_type": "stream",
     "text": [
      "/tmp/ipykernel_998/1739257450.py:12: FutureWarning: Pass sr=22050, n_steps=7 as keyword args. From version 0.10 passing these as positional arguments will result in an error\n",
      "  new_y = librosa.effects.pitch_shift(y, sr, steps)\n"
     ]
    },
    {
     "name": "stdout",
     "output_type": "stream",
     "text": [
      "/home/ubuntu/Data/genres_original/jazz/changedjazz.00068.wav\n"
     ]
    },
    {
     "name": "stderr",
     "output_type": "stream",
     "text": [
      "/tmp/ipykernel_998/1739257450.py:12: FutureWarning: Pass sr=22050, n_steps=7 as keyword args. From version 0.10 passing these as positional arguments will result in an error\n",
      "  new_y = librosa.effects.pitch_shift(y, sr, steps)\n"
     ]
    },
    {
     "name": "stdout",
     "output_type": "stream",
     "text": [
      "/home/ubuntu/Data/genres_original/jazz/changedjazz.00026.wav\n"
     ]
    },
    {
     "name": "stderr",
     "output_type": "stream",
     "text": [
      "/tmp/ipykernel_998/1739257450.py:12: FutureWarning: Pass sr=22050, n_steps=7 as keyword args. From version 0.10 passing these as positional arguments will result in an error\n",
      "  new_y = librosa.effects.pitch_shift(y, sr, steps)\n"
     ]
    },
    {
     "name": "stdout",
     "output_type": "stream",
     "text": [
      "/home/ubuntu/Data/genres_original/jazz/changedjazz.00079.wav\n"
     ]
    },
    {
     "name": "stderr",
     "output_type": "stream",
     "text": [
      "/tmp/ipykernel_998/1739257450.py:12: FutureWarning: Pass sr=22050, n_steps=7 as keyword args. From version 0.10 passing these as positional arguments will result in an error\n",
      "  new_y = librosa.effects.pitch_shift(y, sr, steps)\n"
     ]
    },
    {
     "name": "stdout",
     "output_type": "stream",
     "text": [
      "/home/ubuntu/Data/genres_original/jazz/changedjazz.00098.wav\n"
     ]
    },
    {
     "name": "stderr",
     "output_type": "stream",
     "text": [
      "/tmp/ipykernel_998/1739257450.py:12: FutureWarning: Pass sr=22050, n_steps=7 as keyword args. From version 0.10 passing these as positional arguments will result in an error\n",
      "  new_y = librosa.effects.pitch_shift(y, sr, steps)\n"
     ]
    },
    {
     "name": "stdout",
     "output_type": "stream",
     "text": [
      "/home/ubuntu/Data/genres_original/jazz/changedjazz.00073.wav\n"
     ]
    },
    {
     "name": "stderr",
     "output_type": "stream",
     "text": [
      "/tmp/ipykernel_998/1739257450.py:12: FutureWarning: Pass sr=22050, n_steps=7 as keyword args. From version 0.10 passing these as positional arguments will result in an error\n",
      "  new_y = librosa.effects.pitch_shift(y, sr, steps)\n"
     ]
    },
    {
     "name": "stdout",
     "output_type": "stream",
     "text": [
      "/home/ubuntu/Data/genres_original/jazz/changedjazz.00047.wav\n"
     ]
    },
    {
     "name": "stderr",
     "output_type": "stream",
     "text": [
      "/tmp/ipykernel_998/1739257450.py:12: FutureWarning: Pass sr=22050, n_steps=7 as keyword args. From version 0.10 passing these as positional arguments will result in an error\n",
      "  new_y = librosa.effects.pitch_shift(y, sr, steps)\n"
     ]
    },
    {
     "name": "stdout",
     "output_type": "stream",
     "text": [
      "/home/ubuntu/Data/genres_original/jazz/changedjazz.00056.wav\n"
     ]
    },
    {
     "name": "stderr",
     "output_type": "stream",
     "text": [
      "/tmp/ipykernel_998/1739257450.py:12: FutureWarning: Pass sr=22050, n_steps=7 as keyword args. From version 0.10 passing these as positional arguments will result in an error\n",
      "  new_y = librosa.effects.pitch_shift(y, sr, steps)\n"
     ]
    },
    {
     "name": "stdout",
     "output_type": "stream",
     "text": [
      "/home/ubuntu/Data/genres_original/jazz/changedjazz.00077.wav\n"
     ]
    },
    {
     "name": "stderr",
     "output_type": "stream",
     "text": [
      "/tmp/ipykernel_998/1739257450.py:12: FutureWarning: Pass sr=22050, n_steps=7 as keyword args. From version 0.10 passing these as positional arguments will result in an error\n",
      "  new_y = librosa.effects.pitch_shift(y, sr, steps)\n"
     ]
    },
    {
     "name": "stdout",
     "output_type": "stream",
     "text": [
      "/home/ubuntu/Data/genres_original/jazz/changedjazz.00088.wav\n"
     ]
    },
    {
     "name": "stderr",
     "output_type": "stream",
     "text": [
      "/tmp/ipykernel_998/1739257450.py:12: FutureWarning: Pass sr=22050, n_steps=7 as keyword args. From version 0.10 passing these as positional arguments will result in an error\n",
      "  new_y = librosa.effects.pitch_shift(y, sr, steps)\n"
     ]
    },
    {
     "name": "stdout",
     "output_type": "stream",
     "text": [
      "/home/ubuntu/Data/genres_original/jazz/changedjazz.00084.wav\n"
     ]
    },
    {
     "name": "stderr",
     "output_type": "stream",
     "text": [
      "/tmp/ipykernel_998/1739257450.py:12: FutureWarning: Pass sr=22050, n_steps=7 as keyword args. From version 0.10 passing these as positional arguments will result in an error\n",
      "  new_y = librosa.effects.pitch_shift(y, sr, steps)\n"
     ]
    },
    {
     "name": "stdout",
     "output_type": "stream",
     "text": [
      "/home/ubuntu/Data/genres_original/jazz/changedjazz.00086.wav\n"
     ]
    },
    {
     "name": "stderr",
     "output_type": "stream",
     "text": [
      "/tmp/ipykernel_998/1739257450.py:12: FutureWarning: Pass sr=22050, n_steps=7 as keyword args. From version 0.10 passing these as positional arguments will result in an error\n",
      "  new_y = librosa.effects.pitch_shift(y, sr, steps)\n"
     ]
    },
    {
     "name": "stdout",
     "output_type": "stream",
     "text": [
      "/home/ubuntu/Data/genres_original/jazz/changedjazz.00087.wav\n"
     ]
    },
    {
     "name": "stderr",
     "output_type": "stream",
     "text": [
      "/tmp/ipykernel_998/1739257450.py:12: FutureWarning: Pass sr=22050, n_steps=7 as keyword args. From version 0.10 passing these as positional arguments will result in an error\n",
      "  new_y = librosa.effects.pitch_shift(y, sr, steps)\n"
     ]
    },
    {
     "name": "stdout",
     "output_type": "stream",
     "text": [
      "/home/ubuntu/Data/genres_original/jazz/changedjazz.00014.wav\n"
     ]
    },
    {
     "name": "stderr",
     "output_type": "stream",
     "text": [
      "/tmp/ipykernel_998/1739257450.py:12: FutureWarning: Pass sr=22050, n_steps=7 as keyword args. From version 0.10 passing these as positional arguments will result in an error\n",
      "  new_y = librosa.effects.pitch_shift(y, sr, steps)\n"
     ]
    },
    {
     "name": "stdout",
     "output_type": "stream",
     "text": [
      "/home/ubuntu/Data/genres_original/jazz/changedjazz.00023.wav\n"
     ]
    },
    {
     "name": "stderr",
     "output_type": "stream",
     "text": [
      "/tmp/ipykernel_998/1739257450.py:12: FutureWarning: Pass sr=22050, n_steps=7 as keyword args. From version 0.10 passing these as positional arguments will result in an error\n",
      "  new_y = librosa.effects.pitch_shift(y, sr, steps)\n"
     ]
    },
    {
     "name": "stdout",
     "output_type": "stream",
     "text": [
      "/home/ubuntu/Data/genres_original/jazz/changedjazz.00043.wav\n"
     ]
    },
    {
     "name": "stderr",
     "output_type": "stream",
     "text": [
      "/tmp/ipykernel_998/1739257450.py:12: FutureWarning: Pass sr=22050, n_steps=7 as keyword args. From version 0.10 passing these as positional arguments will result in an error\n",
      "  new_y = librosa.effects.pitch_shift(y, sr, steps)\n"
     ]
    },
    {
     "name": "stdout",
     "output_type": "stream",
     "text": [
      "/home/ubuntu/Data/genres_original/jazz/changedjazz.00040.wav\n"
     ]
    },
    {
     "name": "stderr",
     "output_type": "stream",
     "text": [
      "/tmp/ipykernel_998/1739257450.py:12: FutureWarning: Pass sr=22050, n_steps=7 as keyword args. From version 0.10 passing these as positional arguments will result in an error\n",
      "  new_y = librosa.effects.pitch_shift(y, sr, steps)\n"
     ]
    },
    {
     "name": "stdout",
     "output_type": "stream",
     "text": [
      "/home/ubuntu/Data/genres_original/jazz/changedjazz.00011.wav\n"
     ]
    },
    {
     "name": "stderr",
     "output_type": "stream",
     "text": [
      "/tmp/ipykernel_998/1739257450.py:12: FutureWarning: Pass sr=22050, n_steps=7 as keyword args. From version 0.10 passing these as positional arguments will result in an error\n",
      "  new_y = librosa.effects.pitch_shift(y, sr, steps)\n"
     ]
    },
    {
     "name": "stdout",
     "output_type": "stream",
     "text": [
      "/home/ubuntu/Data/genres_original/jazz/changedjazz.00046.wav\n"
     ]
    },
    {
     "name": "stderr",
     "output_type": "stream",
     "text": [
      "/tmp/ipykernel_998/1739257450.py:12: FutureWarning: Pass sr=22050, n_steps=7 as keyword args. From version 0.10 passing these as positional arguments will result in an error\n",
      "  new_y = librosa.effects.pitch_shift(y, sr, steps)\n"
     ]
    },
    {
     "name": "stdout",
     "output_type": "stream",
     "text": [
      "/home/ubuntu/Data/genres_original/jazz/changedjazz.00071.wav\n"
     ]
    },
    {
     "name": "stderr",
     "output_type": "stream",
     "text": [
      "/tmp/ipykernel_998/1739257450.py:12: FutureWarning: Pass sr=22050, n_steps=7 as keyword args. From version 0.10 passing these as positional arguments will result in an error\n",
      "  new_y = librosa.effects.pitch_shift(y, sr, steps)\n"
     ]
    },
    {
     "name": "stdout",
     "output_type": "stream",
     "text": [
      "/home/ubuntu/Data/genres_original/jazz/changedjazz.00018.wav\n"
     ]
    },
    {
     "name": "stderr",
     "output_type": "stream",
     "text": [
      "/tmp/ipykernel_998/1739257450.py:12: FutureWarning: Pass sr=22050, n_steps=7 as keyword args. From version 0.10 passing these as positional arguments will result in an error\n",
      "  new_y = librosa.effects.pitch_shift(y, sr, steps)\n"
     ]
    },
    {
     "name": "stdout",
     "output_type": "stream",
     "text": [
      "/home/ubuntu/Data/genres_original/jazz/changedjazz.00064.wav\n"
     ]
    },
    {
     "name": "stderr",
     "output_type": "stream",
     "text": [
      "/tmp/ipykernel_998/1739257450.py:12: FutureWarning: Pass sr=22050, n_steps=7 as keyword args. From version 0.10 passing these as positional arguments will result in an error\n",
      "  new_y = librosa.effects.pitch_shift(y, sr, steps)\n"
     ]
    },
    {
     "name": "stdout",
     "output_type": "stream",
     "text": [
      "/home/ubuntu/Data/genres_original/jazz/changedjazz.00009.wav\n"
     ]
    },
    {
     "name": "stderr",
     "output_type": "stream",
     "text": [
      "/tmp/ipykernel_998/1739257450.py:12: FutureWarning: Pass sr=22050, n_steps=7 as keyword args. From version 0.10 passing these as positional arguments will result in an error\n",
      "  new_y = librosa.effects.pitch_shift(y, sr, steps)\n"
     ]
    },
    {
     "name": "stdout",
     "output_type": "stream",
     "text": [
      "/home/ubuntu/Data/genres_original/jazz/changedjazz.00094.wav\n"
     ]
    },
    {
     "name": "stderr",
     "output_type": "stream",
     "text": [
      "/tmp/ipykernel_998/1739257450.py:12: FutureWarning: Pass sr=22050, n_steps=7 as keyword args. From version 0.10 passing these as positional arguments will result in an error\n",
      "  new_y = librosa.effects.pitch_shift(y, sr, steps)\n"
     ]
    },
    {
     "name": "stdout",
     "output_type": "stream",
     "text": [
      "/home/ubuntu/Data/genres_original/jazz/changedjazz.00092.wav\n"
     ]
    },
    {
     "name": "stderr",
     "output_type": "stream",
     "text": [
      "/tmp/ipykernel_998/1739257450.py:12: FutureWarning: Pass sr=22050, n_steps=7 as keyword args. From version 0.10 passing these as positional arguments will result in an error\n",
      "  new_y = librosa.effects.pitch_shift(y, sr, steps)\n"
     ]
    },
    {
     "name": "stdout",
     "output_type": "stream",
     "text": [
      "/home/ubuntu/Data/genres_original/jazz/changedjazz.00090.wav\n"
     ]
    },
    {
     "name": "stderr",
     "output_type": "stream",
     "text": [
      "/tmp/ipykernel_998/1739257450.py:12: FutureWarning: Pass sr=22050, n_steps=7 as keyword args. From version 0.10 passing these as positional arguments will result in an error\n",
      "  new_y = librosa.effects.pitch_shift(y, sr, steps)\n"
     ]
    },
    {
     "name": "stdout",
     "output_type": "stream",
     "text": [
      "/home/ubuntu/Data/genres_original/jazz/changedjazz.00053.wav\n"
     ]
    },
    {
     "name": "stderr",
     "output_type": "stream",
     "text": [
      "/tmp/ipykernel_998/1739257450.py:12: FutureWarning: Pass sr=22050, n_steps=7 as keyword args. From version 0.10 passing these as positional arguments will result in an error\n",
      "  new_y = librosa.effects.pitch_shift(y, sr, steps)\n"
     ]
    },
    {
     "name": "stdout",
     "output_type": "stream",
     "text": [
      "/home/ubuntu/Data/genres_original/jazz/changedjazz.00010.wav\n"
     ]
    },
    {
     "name": "stderr",
     "output_type": "stream",
     "text": [
      "/tmp/ipykernel_998/1739257450.py:12: FutureWarning: Pass sr=22050, n_steps=7 as keyword args. From version 0.10 passing these as positional arguments will result in an error\n",
      "  new_y = librosa.effects.pitch_shift(y, sr, steps)\n"
     ]
    },
    {
     "name": "stdout",
     "output_type": "stream",
     "text": [
      "/home/ubuntu/Data/genres_original/jazz/changedjazz.00001.wav\n"
     ]
    },
    {
     "name": "stderr",
     "output_type": "stream",
     "text": [
      "/tmp/ipykernel_998/1739257450.py:12: FutureWarning: Pass sr=22050, n_steps=7 as keyword args. From version 0.10 passing these as positional arguments will result in an error\n",
      "  new_y = librosa.effects.pitch_shift(y, sr, steps)\n"
     ]
    },
    {
     "name": "stdout",
     "output_type": "stream",
     "text": [
      "/home/ubuntu/Data/genres_original/jazz/changedjazz.00037.wav\n"
     ]
    },
    {
     "name": "stderr",
     "output_type": "stream",
     "text": [
      "/tmp/ipykernel_998/1739257450.py:12: FutureWarning: Pass sr=22050, n_steps=7 as keyword args. From version 0.10 passing these as positional arguments will result in an error\n",
      "  new_y = librosa.effects.pitch_shift(y, sr, steps)\n"
     ]
    },
    {
     "name": "stdout",
     "output_type": "stream",
     "text": [
      "/home/ubuntu/Data/genres_original/jazz/changedjazz.00051.wav\n"
     ]
    },
    {
     "name": "stderr",
     "output_type": "stream",
     "text": [
      "/tmp/ipykernel_998/1739257450.py:12: FutureWarning: Pass sr=22050, n_steps=7 as keyword args. From version 0.10 passing these as positional arguments will result in an error\n",
      "  new_y = librosa.effects.pitch_shift(y, sr, steps)\n"
     ]
    },
    {
     "name": "stdout",
     "output_type": "stream",
     "text": [
      "/home/ubuntu/Data/genres_original/jazz/changedjazz.00006.wav\n"
     ]
    },
    {
     "name": "stderr",
     "output_type": "stream",
     "text": [
      "/tmp/ipykernel_998/1739257450.py:12: FutureWarning: Pass sr=22050, n_steps=7 as keyword args. From version 0.10 passing these as positional arguments will result in an error\n",
      "  new_y = librosa.effects.pitch_shift(y, sr, steps)\n"
     ]
    },
    {
     "name": "stdout",
     "output_type": "stream",
     "text": [
      "/home/ubuntu/Data/genres_original/jazz/changedjazz.00027.wav\n"
     ]
    },
    {
     "name": "stderr",
     "output_type": "stream",
     "text": [
      "/tmp/ipykernel_998/1739257450.py:12: FutureWarning: Pass sr=22050, n_steps=7 as keyword args. From version 0.10 passing these as positional arguments will result in an error\n",
      "  new_y = librosa.effects.pitch_shift(y, sr, steps)\n"
     ]
    },
    {
     "name": "stdout",
     "output_type": "stream",
     "text": [
      "/home/ubuntu/Data/genres_original/jazz/changedjazz.00054.wav\n"
     ]
    },
    {
     "name": "stderr",
     "output_type": "stream",
     "text": [
      "/tmp/ipykernel_998/1739257450.py:12: FutureWarning: Pass sr=22050, n_steps=7 as keyword args. From version 0.10 passing these as positional arguments will result in an error\n",
      "  new_y = librosa.effects.pitch_shift(y, sr, steps)\n"
     ]
    },
    {
     "name": "stdout",
     "output_type": "stream",
     "text": [
      "/home/ubuntu/Data/genres_original/jazz/changedjazz.00091.wav\n"
     ]
    },
    {
     "name": "stderr",
     "output_type": "stream",
     "text": [
      "/tmp/ipykernel_998/1739257450.py:12: FutureWarning: Pass sr=22050, n_steps=7 as keyword args. From version 0.10 passing these as positional arguments will result in an error\n",
      "  new_y = librosa.effects.pitch_shift(y, sr, steps)\n"
     ]
    },
    {
     "name": "stdout",
     "output_type": "stream",
     "text": [
      "/home/ubuntu/Data/genres_original/jazz/changedjazz.00020.wav\n"
     ]
    },
    {
     "name": "stderr",
     "output_type": "stream",
     "text": [
      "/tmp/ipykernel_998/1739257450.py:12: FutureWarning: Pass sr=22050, n_steps=7 as keyword args. From version 0.10 passing these as positional arguments will result in an error\n",
      "  new_y = librosa.effects.pitch_shift(y, sr, steps)\n"
     ]
    },
    {
     "name": "stdout",
     "output_type": "stream",
     "text": [
      "/home/ubuntu/Data/genres_original/jazz/changedjazz.00035.wav\n"
     ]
    },
    {
     "name": "stderr",
     "output_type": "stream",
     "text": [
      "/tmp/ipykernel_998/1739257450.py:12: FutureWarning: Pass sr=22050, n_steps=7 as keyword args. From version 0.10 passing these as positional arguments will result in an error\n",
      "  new_y = librosa.effects.pitch_shift(y, sr, steps)\n"
     ]
    },
    {
     "name": "stdout",
     "output_type": "stream",
     "text": [
      "/home/ubuntu/Data/genres_original/jazz/changedjazz.00082.wav\n"
     ]
    },
    {
     "name": "stderr",
     "output_type": "stream",
     "text": [
      "/tmp/ipykernel_998/1739257450.py:12: FutureWarning: Pass sr=22050, n_steps=7 as keyword args. From version 0.10 passing these as positional arguments will result in an error\n",
      "  new_y = librosa.effects.pitch_shift(y, sr, steps)\n"
     ]
    },
    {
     "name": "stdout",
     "output_type": "stream",
     "text": [
      "/home/ubuntu/Data/genres_original/jazz/changedjazz.00033.wav\n"
     ]
    },
    {
     "name": "stderr",
     "output_type": "stream",
     "text": [
      "/tmp/ipykernel_998/1739257450.py:12: FutureWarning: Pass sr=22050, n_steps=7 as keyword args. From version 0.10 passing these as positional arguments will result in an error\n",
      "  new_y = librosa.effects.pitch_shift(y, sr, steps)\n"
     ]
    },
    {
     "name": "stdout",
     "output_type": "stream",
     "text": [
      "/home/ubuntu/Data/genres_original/jazz/changedjazz.00032.wav\n"
     ]
    },
    {
     "name": "stderr",
     "output_type": "stream",
     "text": [
      "/tmp/ipykernel_998/1739257450.py:12: FutureWarning: Pass sr=22050, n_steps=7 as keyword args. From version 0.10 passing these as positional arguments will result in an error\n",
      "  new_y = librosa.effects.pitch_shift(y, sr, steps)\n"
     ]
    },
    {
     "name": "stdout",
     "output_type": "stream",
     "text": [
      "/home/ubuntu/Data/genres_original/jazz/changedjazz.00062.wav\n"
     ]
    },
    {
     "name": "stderr",
     "output_type": "stream",
     "text": [
      "/tmp/ipykernel_998/1739257450.py:12: FutureWarning: Pass sr=22050, n_steps=7 as keyword args. From version 0.10 passing these as positional arguments will result in an error\n",
      "  new_y = librosa.effects.pitch_shift(y, sr, steps)\n"
     ]
    },
    {
     "name": "stdout",
     "output_type": "stream",
     "text": [
      "/home/ubuntu/Data/genres_original/jazz/changedjazz.00015.wav\n"
     ]
    },
    {
     "name": "stderr",
     "output_type": "stream",
     "text": [
      "/tmp/ipykernel_998/1739257450.py:12: FutureWarning: Pass sr=22050, n_steps=7 as keyword args. From version 0.10 passing these as positional arguments will result in an error\n",
      "  new_y = librosa.effects.pitch_shift(y, sr, steps)\n"
     ]
    },
    {
     "name": "stdout",
     "output_type": "stream",
     "text": [
      "/home/ubuntu/Data/genres_original/jazz/changedjazz.00057.wav\n"
     ]
    },
    {
     "name": "stderr",
     "output_type": "stream",
     "text": [
      "/tmp/ipykernel_998/1739257450.py:12: FutureWarning: Pass sr=22050, n_steps=7 as keyword args. From version 0.10 passing these as positional arguments will result in an error\n",
      "  new_y = librosa.effects.pitch_shift(y, sr, steps)\n"
     ]
    },
    {
     "name": "stdout",
     "output_type": "stream",
     "text": [
      "/home/ubuntu/Data/genres_original/jazz/changedjazz.00036.wav\n"
     ]
    },
    {
     "name": "stderr",
     "output_type": "stream",
     "text": [
      "/tmp/ipykernel_998/1739257450.py:12: FutureWarning: Pass sr=22050, n_steps=7 as keyword args. From version 0.10 passing these as positional arguments will result in an error\n",
      "  new_y = librosa.effects.pitch_shift(y, sr, steps)\n"
     ]
    },
    {
     "name": "stdout",
     "output_type": "stream",
     "text": [
      "/home/ubuntu/Data/genres_original/jazz/changedjazz.00039.wav\n"
     ]
    },
    {
     "name": "stderr",
     "output_type": "stream",
     "text": [
      "/tmp/ipykernel_998/1739257450.py:12: FutureWarning: Pass sr=22050, n_steps=7 as keyword args. From version 0.10 passing these as positional arguments will result in an error\n",
      "  new_y = librosa.effects.pitch_shift(y, sr, steps)\n"
     ]
    },
    {
     "name": "stdout",
     "output_type": "stream",
     "text": [
      "/home/ubuntu/Data/genres_original/jazz/changedjazz.00059.wav\n"
     ]
    },
    {
     "name": "stderr",
     "output_type": "stream",
     "text": [
      "/tmp/ipykernel_998/1739257450.py:12: FutureWarning: Pass sr=22050, n_steps=7 as keyword args. From version 0.10 passing these as positional arguments will result in an error\n",
      "  new_y = librosa.effects.pitch_shift(y, sr, steps)\n"
     ]
    },
    {
     "name": "stdout",
     "output_type": "stream",
     "text": [
      "/home/ubuntu/Data/genres_original/jazz/changedjazz.00041.wav\n"
     ]
    },
    {
     "name": "stderr",
     "output_type": "stream",
     "text": [
      "/tmp/ipykernel_998/1739257450.py:12: FutureWarning: Pass sr=22050, n_steps=7 as keyword args. From version 0.10 passing these as positional arguments will result in an error\n",
      "  new_y = librosa.effects.pitch_shift(y, sr, steps)\n"
     ]
    },
    {
     "name": "stdout",
     "output_type": "stream",
     "text": [
      "/home/ubuntu/Data/genres_original/jazz/changedjazz.00008.wav\n"
     ]
    },
    {
     "name": "stderr",
     "output_type": "stream",
     "text": [
      "/tmp/ipykernel_998/1739257450.py:12: FutureWarning: Pass sr=22050, n_steps=7 as keyword args. From version 0.10 passing these as positional arguments will result in an error\n",
      "  new_y = librosa.effects.pitch_shift(y, sr, steps)\n"
     ]
    },
    {
     "name": "stdout",
     "output_type": "stream",
     "text": [
      "/home/ubuntu/Data/genres_original/jazz/changedjazz.00021.wav\n"
     ]
    },
    {
     "name": "stderr",
     "output_type": "stream",
     "text": [
      "/tmp/ipykernel_998/1739257450.py:12: FutureWarning: Pass sr=22050, n_steps=7 as keyword args. From version 0.10 passing these as positional arguments will result in an error\n",
      "  new_y = librosa.effects.pitch_shift(y, sr, steps)\n"
     ]
    },
    {
     "name": "stdout",
     "output_type": "stream",
     "text": [
      "/home/ubuntu/Data/genres_original/jazz/changedjazz.00078.wav\n"
     ]
    },
    {
     "name": "stderr",
     "output_type": "stream",
     "text": [
      "/tmp/ipykernel_998/1739257450.py:12: FutureWarning: Pass sr=22050, n_steps=7 as keyword args. From version 0.10 passing these as positional arguments will result in an error\n",
      "  new_y = librosa.effects.pitch_shift(y, sr, steps)\n"
     ]
    },
    {
     "name": "stdout",
     "output_type": "stream",
     "text": [
      "/home/ubuntu/Data/genres_original/jazz/changedjazz.00097.wav\n"
     ]
    },
    {
     "name": "stderr",
     "output_type": "stream",
     "text": [
      "/tmp/ipykernel_998/1739257450.py:12: FutureWarning: Pass sr=22050, n_steps=7 as keyword args. From version 0.10 passing these as positional arguments will result in an error\n",
      "  new_y = librosa.effects.pitch_shift(y, sr, steps)\n"
     ]
    },
    {
     "name": "stdout",
     "output_type": "stream",
     "text": [
      "/home/ubuntu/Data/genres_original/jazz/changedjazz.00074.wav\n"
     ]
    },
    {
     "name": "stderr",
     "output_type": "stream",
     "text": [
      "/tmp/ipykernel_998/1739257450.py:12: FutureWarning: Pass sr=22050, n_steps=7 as keyword args. From version 0.10 passing these as positional arguments will result in an error\n",
      "  new_y = librosa.effects.pitch_shift(y, sr, steps)\n"
     ]
    },
    {
     "name": "stdout",
     "output_type": "stream",
     "text": [
      "/home/ubuntu/Data/genres_original/jazz/changedjazz.00002.wav\n"
     ]
    },
    {
     "name": "stderr",
     "output_type": "stream",
     "text": [
      "/tmp/ipykernel_998/1739257450.py:12: FutureWarning: Pass sr=22050, n_steps=7 as keyword args. From version 0.10 passing these as positional arguments will result in an error\n",
      "  new_y = librosa.effects.pitch_shift(y, sr, steps)\n"
     ]
    },
    {
     "name": "stdout",
     "output_type": "stream",
     "text": [
      "/home/ubuntu/Data/genres_original/jazz/changedjazz.00050.wav\n"
     ]
    },
    {
     "name": "stderr",
     "output_type": "stream",
     "text": [
      "/tmp/ipykernel_998/1739257450.py:12: FutureWarning: Pass sr=22050, n_steps=7 as keyword args. From version 0.10 passing these as positional arguments will result in an error\n",
      "  new_y = librosa.effects.pitch_shift(y, sr, steps)\n"
     ]
    },
    {
     "name": "stdout",
     "output_type": "stream",
     "text": [
      "/home/ubuntu/Data/genres_original/jazz/changedjazz.00045.wav\n"
     ]
    },
    {
     "name": "stderr",
     "output_type": "stream",
     "text": [
      "/tmp/ipykernel_998/1739257450.py:12: FutureWarning: Pass sr=22050, n_steps=7 as keyword args. From version 0.10 passing these as positional arguments will result in an error\n",
      "  new_y = librosa.effects.pitch_shift(y, sr, steps)\n"
     ]
    },
    {
     "name": "stdout",
     "output_type": "stream",
     "text": [
      "/home/ubuntu/Data/genres_original/jazz/changedjazz.00093.wav\n"
     ]
    },
    {
     "name": "stderr",
     "output_type": "stream",
     "text": [
      "/tmp/ipykernel_998/1739257450.py:12: FutureWarning: Pass sr=22050, n_steps=7 as keyword args. From version 0.10 passing these as positional arguments will result in an error\n",
      "  new_y = librosa.effects.pitch_shift(y, sr, steps)\n"
     ]
    },
    {
     "name": "stdout",
     "output_type": "stream",
     "text": [
      "/home/ubuntu/Data/genres_original/jazz/changedjazz.00030.wav\n"
     ]
    },
    {
     "name": "stderr",
     "output_type": "stream",
     "text": [
      "/tmp/ipykernel_998/1739257450.py:12: FutureWarning: Pass sr=22050, n_steps=7 as keyword args. From version 0.10 passing these as positional arguments will result in an error\n",
      "  new_y = librosa.effects.pitch_shift(y, sr, steps)\n"
     ]
    },
    {
     "name": "stdout",
     "output_type": "stream",
     "text": [
      "/home/ubuntu/Data/genres_original/jazz/changedjazz.00069.wav\n"
     ]
    },
    {
     "name": "stderr",
     "output_type": "stream",
     "text": [
      "/tmp/ipykernel_998/1739257450.py:12: FutureWarning: Pass sr=22050, n_steps=7 as keyword args. From version 0.10 passing these as positional arguments will result in an error\n",
      "  new_y = librosa.effects.pitch_shift(y, sr, steps)\n"
     ]
    },
    {
     "name": "stdout",
     "output_type": "stream",
     "text": [
      "/home/ubuntu/Data/genres_original/jazz/changedjazz.00065.wav\n"
     ]
    },
    {
     "name": "stderr",
     "output_type": "stream",
     "text": [
      "/tmp/ipykernel_998/1739257450.py:12: FutureWarning: Pass sr=22050, n_steps=7 as keyword args. From version 0.10 passing these as positional arguments will result in an error\n",
      "  new_y = librosa.effects.pitch_shift(y, sr, steps)\n"
     ]
    },
    {
     "name": "stdout",
     "output_type": "stream",
     "text": [
      "/home/ubuntu/Data/genres_original/jazz/changedjazz.00022.wav\n"
     ]
    },
    {
     "name": "stderr",
     "output_type": "stream",
     "text": [
      "/tmp/ipykernel_998/1739257450.py:12: FutureWarning: Pass sr=22050, n_steps=7 as keyword args. From version 0.10 passing these as positional arguments will result in an error\n",
      "  new_y = librosa.effects.pitch_shift(y, sr, steps)\n"
     ]
    },
    {
     "name": "stdout",
     "output_type": "stream",
     "text": [
      "/home/ubuntu/Data/genres_original/jazz/changedjazz.00099.wav\n"
     ]
    },
    {
     "name": "stderr",
     "output_type": "stream",
     "text": [
      "/tmp/ipykernel_998/1739257450.py:12: FutureWarning: Pass sr=22050, n_steps=7 as keyword args. From version 0.10 passing these as positional arguments will result in an error\n",
      "  new_y = librosa.effects.pitch_shift(y, sr, steps)\n"
     ]
    },
    {
     "name": "stdout",
     "output_type": "stream",
     "text": [
      "/home/ubuntu/Data/genres_original/jazz/changedjazz.00066.wav\n"
     ]
    },
    {
     "name": "stderr",
     "output_type": "stream",
     "text": [
      "/tmp/ipykernel_998/1739257450.py:12: FutureWarning: Pass sr=22050, n_steps=7 as keyword args. From version 0.10 passing these as positional arguments will result in an error\n",
      "  new_y = librosa.effects.pitch_shift(y, sr, steps)\n"
     ]
    },
    {
     "name": "stdout",
     "output_type": "stream",
     "text": [
      "/home/ubuntu/Data/genres_original/jazz/changedjazz.00080.wav\n",
      "current dir path is /home/ubuntu/Data/genres_original/reggae\n"
     ]
    },
    {
     "name": "stderr",
     "output_type": "stream",
     "text": [
      "/tmp/ipykernel_998/1739257450.py:12: FutureWarning: Pass sr=22050, n_steps=7 as keyword args. From version 0.10 passing these as positional arguments will result in an error\n",
      "  new_y = librosa.effects.pitch_shift(y, sr, steps)\n"
     ]
    },
    {
     "name": "stdout",
     "output_type": "stream",
     "text": [
      "/home/ubuntu/Data/genres_original/reggae/changedreggae.00021.wav\n"
     ]
    },
    {
     "name": "stderr",
     "output_type": "stream",
     "text": [
      "/tmp/ipykernel_998/1739257450.py:12: FutureWarning: Pass sr=22050, n_steps=7 as keyword args. From version 0.10 passing these as positional arguments will result in an error\n",
      "  new_y = librosa.effects.pitch_shift(y, sr, steps)\n"
     ]
    },
    {
     "name": "stdout",
     "output_type": "stream",
     "text": [
      "/home/ubuntu/Data/genres_original/reggae/changedreggae.00028.wav\n"
     ]
    },
    {
     "name": "stderr",
     "output_type": "stream",
     "text": [
      "/tmp/ipykernel_998/1739257450.py:12: FutureWarning: Pass sr=22050, n_steps=7 as keyword args. From version 0.10 passing these as positional arguments will result in an error\n",
      "  new_y = librosa.effects.pitch_shift(y, sr, steps)\n"
     ]
    },
    {
     "name": "stdout",
     "output_type": "stream",
     "text": [
      "/home/ubuntu/Data/genres_original/reggae/changedreggae.00095.wav\n"
     ]
    },
    {
     "name": "stderr",
     "output_type": "stream",
     "text": [
      "/tmp/ipykernel_998/1739257450.py:12: FutureWarning: Pass sr=22050, n_steps=7 as keyword args. From version 0.10 passing these as positional arguments will result in an error\n",
      "  new_y = librosa.effects.pitch_shift(y, sr, steps)\n"
     ]
    },
    {
     "name": "stdout",
     "output_type": "stream",
     "text": [
      "/home/ubuntu/Data/genres_original/reggae/changedreggae.00025.wav\n"
     ]
    },
    {
     "name": "stderr",
     "output_type": "stream",
     "text": [
      "/tmp/ipykernel_998/1739257450.py:12: FutureWarning: Pass sr=22050, n_steps=7 as keyword args. From version 0.10 passing these as positional arguments will result in an error\n",
      "  new_y = librosa.effects.pitch_shift(y, sr, steps)\n"
     ]
    },
    {
     "name": "stdout",
     "output_type": "stream",
     "text": [
      "/home/ubuntu/Data/genres_original/reggae/changedreggae.00059.wav\n"
     ]
    },
    {
     "name": "stderr",
     "output_type": "stream",
     "text": [
      "/tmp/ipykernel_998/1739257450.py:12: FutureWarning: Pass sr=22050, n_steps=7 as keyword args. From version 0.10 passing these as positional arguments will result in an error\n",
      "  new_y = librosa.effects.pitch_shift(y, sr, steps)\n"
     ]
    },
    {
     "name": "stdout",
     "output_type": "stream",
     "text": [
      "/home/ubuntu/Data/genres_original/reggae/changedreggae.00050.wav\n"
     ]
    },
    {
     "name": "stderr",
     "output_type": "stream",
     "text": [
      "/tmp/ipykernel_998/1739257450.py:12: FutureWarning: Pass sr=22050, n_steps=7 as keyword args. From version 0.10 passing these as positional arguments will result in an error\n",
      "  new_y = librosa.effects.pitch_shift(y, sr, steps)\n"
     ]
    },
    {
     "name": "stdout",
     "output_type": "stream",
     "text": [
      "/home/ubuntu/Data/genres_original/reggae/changedreggae.00085.wav\n"
     ]
    },
    {
     "name": "stderr",
     "output_type": "stream",
     "text": [
      "/tmp/ipykernel_998/1739257450.py:12: FutureWarning: Pass sr=22050, n_steps=7 as keyword args. From version 0.10 passing these as positional arguments will result in an error\n",
      "  new_y = librosa.effects.pitch_shift(y, sr, steps)\n"
     ]
    },
    {
     "name": "stdout",
     "output_type": "stream",
     "text": [
      "/home/ubuntu/Data/genres_original/reggae/changedreggae.00039.wav\n"
     ]
    },
    {
     "name": "stderr",
     "output_type": "stream",
     "text": [
      "/tmp/ipykernel_998/1739257450.py:12: FutureWarning: Pass sr=22050, n_steps=7 as keyword args. From version 0.10 passing these as positional arguments will result in an error\n",
      "  new_y = librosa.effects.pitch_shift(y, sr, steps)\n"
     ]
    },
    {
     "name": "stdout",
     "output_type": "stream",
     "text": [
      "/home/ubuntu/Data/genres_original/reggae/changedreggae.00099.wav\n"
     ]
    },
    {
     "name": "stderr",
     "output_type": "stream",
     "text": [
      "/tmp/ipykernel_998/1739257450.py:12: FutureWarning: Pass sr=22050, n_steps=7 as keyword args. From version 0.10 passing these as positional arguments will result in an error\n",
      "  new_y = librosa.effects.pitch_shift(y, sr, steps)\n"
     ]
    },
    {
     "name": "stdout",
     "output_type": "stream",
     "text": [
      "/home/ubuntu/Data/genres_original/reggae/changedreggae.00026.wav\n"
     ]
    },
    {
     "name": "stderr",
     "output_type": "stream",
     "text": [
      "/tmp/ipykernel_998/1739257450.py:12: FutureWarning: Pass sr=22050, n_steps=7 as keyword args. From version 0.10 passing these as positional arguments will result in an error\n",
      "  new_y = librosa.effects.pitch_shift(y, sr, steps)\n"
     ]
    },
    {
     "name": "stdout",
     "output_type": "stream",
     "text": [
      "/home/ubuntu/Data/genres_original/reggae/changedreggae.00056.wav\n"
     ]
    },
    {
     "name": "stderr",
     "output_type": "stream",
     "text": [
      "/tmp/ipykernel_998/1739257450.py:12: FutureWarning: Pass sr=22050, n_steps=7 as keyword args. From version 0.10 passing these as positional arguments will result in an error\n",
      "  new_y = librosa.effects.pitch_shift(y, sr, steps)\n"
     ]
    },
    {
     "name": "stdout",
     "output_type": "stream",
     "text": [
      "/home/ubuntu/Data/genres_original/reggae/changedreggae.00080.wav\n"
     ]
    },
    {
     "name": "stderr",
     "output_type": "stream",
     "text": [
      "/tmp/ipykernel_998/1739257450.py:12: FutureWarning: Pass sr=22050, n_steps=7 as keyword args. From version 0.10 passing these as positional arguments will result in an error\n",
      "  new_y = librosa.effects.pitch_shift(y, sr, steps)\n"
     ]
    },
    {
     "name": "stdout",
     "output_type": "stream",
     "text": [
      "/home/ubuntu/Data/genres_original/reggae/changedreggae.00027.wav\n"
     ]
    },
    {
     "name": "stderr",
     "output_type": "stream",
     "text": [
      "/tmp/ipykernel_998/1739257450.py:12: FutureWarning: Pass sr=22050, n_steps=7 as keyword args. From version 0.10 passing these as positional arguments will result in an error\n",
      "  new_y = librosa.effects.pitch_shift(y, sr, steps)\n"
     ]
    },
    {
     "name": "stdout",
     "output_type": "stream",
     "text": [
      "/home/ubuntu/Data/genres_original/reggae/changedreggae.00030.wav\n"
     ]
    },
    {
     "name": "stderr",
     "output_type": "stream",
     "text": [
      "/tmp/ipykernel_998/1739257450.py:12: FutureWarning: Pass sr=22050, n_steps=7 as keyword args. From version 0.10 passing these as positional arguments will result in an error\n",
      "  new_y = librosa.effects.pitch_shift(y, sr, steps)\n"
     ]
    },
    {
     "name": "stdout",
     "output_type": "stream",
     "text": [
      "/home/ubuntu/Data/genres_original/reggae/changedreggae.00045.wav\n"
     ]
    },
    {
     "name": "stderr",
     "output_type": "stream",
     "text": [
      "/tmp/ipykernel_998/1739257450.py:12: FutureWarning: Pass sr=22050, n_steps=7 as keyword args. From version 0.10 passing these as positional arguments will result in an error\n",
      "  new_y = librosa.effects.pitch_shift(y, sr, steps)\n"
     ]
    },
    {
     "name": "stdout",
     "output_type": "stream",
     "text": [
      "/home/ubuntu/Data/genres_original/reggae/changedreggae.00019.wav\n"
     ]
    },
    {
     "name": "stderr",
     "output_type": "stream",
     "text": [
      "/tmp/ipykernel_998/1739257450.py:12: FutureWarning: Pass sr=22050, n_steps=7 as keyword args. From version 0.10 passing these as positional arguments will result in an error\n",
      "  new_y = librosa.effects.pitch_shift(y, sr, steps)\n"
     ]
    },
    {
     "name": "stdout",
     "output_type": "stream",
     "text": [
      "/home/ubuntu/Data/genres_original/reggae/changedreggae.00044.wav\n"
     ]
    },
    {
     "name": "stderr",
     "output_type": "stream",
     "text": [
      "/tmp/ipykernel_998/1739257450.py:12: FutureWarning: Pass sr=22050, n_steps=7 as keyword args. From version 0.10 passing these as positional arguments will result in an error\n",
      "  new_y = librosa.effects.pitch_shift(y, sr, steps)\n"
     ]
    },
    {
     "name": "stdout",
     "output_type": "stream",
     "text": [
      "/home/ubuntu/Data/genres_original/reggae/changedreggae.00064.wav\n"
     ]
    },
    {
     "name": "stderr",
     "output_type": "stream",
     "text": [
      "/tmp/ipykernel_998/1739257450.py:12: FutureWarning: Pass sr=22050, n_steps=7 as keyword args. From version 0.10 passing these as positional arguments will result in an error\n",
      "  new_y = librosa.effects.pitch_shift(y, sr, steps)\n"
     ]
    },
    {
     "name": "stdout",
     "output_type": "stream",
     "text": [
      "/home/ubuntu/Data/genres_original/reggae/changedreggae.00038.wav\n"
     ]
    },
    {
     "name": "stderr",
     "output_type": "stream",
     "text": [
      "/tmp/ipykernel_998/1739257450.py:12: FutureWarning: Pass sr=22050, n_steps=7 as keyword args. From version 0.10 passing these as positional arguments will result in an error\n",
      "  new_y = librosa.effects.pitch_shift(y, sr, steps)\n"
     ]
    },
    {
     "name": "stdout",
     "output_type": "stream",
     "text": [
      "/home/ubuntu/Data/genres_original/reggae/changedreggae.00058.wav\n"
     ]
    },
    {
     "name": "stderr",
     "output_type": "stream",
     "text": [
      "/tmp/ipykernel_998/1739257450.py:12: FutureWarning: Pass sr=22050, n_steps=7 as keyword args. From version 0.10 passing these as positional arguments will result in an error\n",
      "  new_y = librosa.effects.pitch_shift(y, sr, steps)\n"
     ]
    },
    {
     "name": "stdout",
     "output_type": "stream",
     "text": [
      "/home/ubuntu/Data/genres_original/reggae/changedreggae.00097.wav\n"
     ]
    },
    {
     "name": "stderr",
     "output_type": "stream",
     "text": [
      "/tmp/ipykernel_998/1739257450.py:12: FutureWarning: Pass sr=22050, n_steps=7 as keyword args. From version 0.10 passing these as positional arguments will result in an error\n",
      "  new_y = librosa.effects.pitch_shift(y, sr, steps)\n"
     ]
    },
    {
     "name": "stdout",
     "output_type": "stream",
     "text": [
      "/home/ubuntu/Data/genres_original/reggae/changedreggae.00054.wav\n"
     ]
    },
    {
     "name": "stderr",
     "output_type": "stream",
     "text": [
      "/tmp/ipykernel_998/1739257450.py:12: FutureWarning: Pass sr=22050, n_steps=7 as keyword args. From version 0.10 passing these as positional arguments will result in an error\n",
      "  new_y = librosa.effects.pitch_shift(y, sr, steps)\n"
     ]
    },
    {
     "name": "stdout",
     "output_type": "stream",
     "text": [
      "/home/ubuntu/Data/genres_original/reggae/changedreggae.00000.wav\n"
     ]
    },
    {
     "name": "stderr",
     "output_type": "stream",
     "text": [
      "/tmp/ipykernel_998/1739257450.py:12: FutureWarning: Pass sr=22050, n_steps=7 as keyword args. From version 0.10 passing these as positional arguments will result in an error\n",
      "  new_y = librosa.effects.pitch_shift(y, sr, steps)\n"
     ]
    },
    {
     "name": "stdout",
     "output_type": "stream",
     "text": [
      "/home/ubuntu/Data/genres_original/reggae/changedreggae.00098.wav\n"
     ]
    },
    {
     "name": "stderr",
     "output_type": "stream",
     "text": [
      "/tmp/ipykernel_998/1739257450.py:12: FutureWarning: Pass sr=22050, n_steps=7 as keyword args. From version 0.10 passing these as positional arguments will result in an error\n",
      "  new_y = librosa.effects.pitch_shift(y, sr, steps)\n"
     ]
    },
    {
     "name": "stdout",
     "output_type": "stream",
     "text": [
      "/home/ubuntu/Data/genres_original/reggae/changedreggae.00033.wav\n"
     ]
    },
    {
     "name": "stderr",
     "output_type": "stream",
     "text": [
      "/tmp/ipykernel_998/1739257450.py:12: FutureWarning: Pass sr=22050, n_steps=7 as keyword args. From version 0.10 passing these as positional arguments will result in an error\n",
      "  new_y = librosa.effects.pitch_shift(y, sr, steps)\n"
     ]
    },
    {
     "name": "stdout",
     "output_type": "stream",
     "text": [
      "/home/ubuntu/Data/genres_original/reggae/changedreggae.00092.wav\n"
     ]
    },
    {
     "name": "stderr",
     "output_type": "stream",
     "text": [
      "/tmp/ipykernel_998/1739257450.py:12: FutureWarning: Pass sr=22050, n_steps=7 as keyword args. From version 0.10 passing these as positional arguments will result in an error\n",
      "  new_y = librosa.effects.pitch_shift(y, sr, steps)\n"
     ]
    },
    {
     "name": "stdout",
     "output_type": "stream",
     "text": [
      "/home/ubuntu/Data/genres_original/reggae/changedreggae.00042.wav\n"
     ]
    },
    {
     "name": "stderr",
     "output_type": "stream",
     "text": [
      "/tmp/ipykernel_998/1739257450.py:12: FutureWarning: Pass sr=22050, n_steps=7 as keyword args. From version 0.10 passing these as positional arguments will result in an error\n",
      "  new_y = librosa.effects.pitch_shift(y, sr, steps)\n"
     ]
    },
    {
     "name": "stdout",
     "output_type": "stream",
     "text": [
      "/home/ubuntu/Data/genres_original/reggae/changedreggae.00014.wav\n"
     ]
    },
    {
     "name": "stderr",
     "output_type": "stream",
     "text": [
      "/tmp/ipykernel_998/1739257450.py:12: FutureWarning: Pass sr=22050, n_steps=7 as keyword args. From version 0.10 passing these as positional arguments will result in an error\n",
      "  new_y = librosa.effects.pitch_shift(y, sr, steps)\n"
     ]
    },
    {
     "name": "stdout",
     "output_type": "stream",
     "text": [
      "/home/ubuntu/Data/genres_original/reggae/changedreggae.00091.wav\n"
     ]
    },
    {
     "name": "stderr",
     "output_type": "stream",
     "text": [
      "/tmp/ipykernel_998/1739257450.py:12: FutureWarning: Pass sr=22050, n_steps=7 as keyword args. From version 0.10 passing these as positional arguments will result in an error\n",
      "  new_y = librosa.effects.pitch_shift(y, sr, steps)\n"
     ]
    },
    {
     "name": "stdout",
     "output_type": "stream",
     "text": [
      "/home/ubuntu/Data/genres_original/reggae/changedreggae.00090.wav\n"
     ]
    },
    {
     "name": "stderr",
     "output_type": "stream",
     "text": [
      "/tmp/ipykernel_998/1739257450.py:12: FutureWarning: Pass sr=22050, n_steps=7 as keyword args. From version 0.10 passing these as positional arguments will result in an error\n",
      "  new_y = librosa.effects.pitch_shift(y, sr, steps)\n"
     ]
    },
    {
     "name": "stdout",
     "output_type": "stream",
     "text": [
      "/home/ubuntu/Data/genres_original/reggae/changedreggae.00036.wav\n"
     ]
    },
    {
     "name": "stderr",
     "output_type": "stream",
     "text": [
      "/tmp/ipykernel_998/1739257450.py:12: FutureWarning: Pass sr=22050, n_steps=7 as keyword args. From version 0.10 passing these as positional arguments will result in an error\n",
      "  new_y = librosa.effects.pitch_shift(y, sr, steps)\n"
     ]
    },
    {
     "name": "stdout",
     "output_type": "stream",
     "text": [
      "/home/ubuntu/Data/genres_original/reggae/changedreggae.00047.wav\n"
     ]
    },
    {
     "name": "stderr",
     "output_type": "stream",
     "text": [
      "/tmp/ipykernel_998/1739257450.py:12: FutureWarning: Pass sr=22050, n_steps=7 as keyword args. From version 0.10 passing these as positional arguments will result in an error\n",
      "  new_y = librosa.effects.pitch_shift(y, sr, steps)\n"
     ]
    },
    {
     "name": "stdout",
     "output_type": "stream",
     "text": [
      "/home/ubuntu/Data/genres_original/reggae/changedreggae.00003.wav\n"
     ]
    },
    {
     "name": "stderr",
     "output_type": "stream",
     "text": [
      "/tmp/ipykernel_998/1739257450.py:12: FutureWarning: Pass sr=22050, n_steps=7 as keyword args. From version 0.10 passing these as positional arguments will result in an error\n",
      "  new_y = librosa.effects.pitch_shift(y, sr, steps)\n"
     ]
    },
    {
     "name": "stdout",
     "output_type": "stream",
     "text": [
      "/home/ubuntu/Data/genres_original/reggae/changedreggae.00037.wav\n"
     ]
    },
    {
     "name": "stderr",
     "output_type": "stream",
     "text": [
      "/tmp/ipykernel_998/1739257450.py:12: FutureWarning: Pass sr=22050, n_steps=7 as keyword args. From version 0.10 passing these as positional arguments will result in an error\n",
      "  new_y = librosa.effects.pitch_shift(y, sr, steps)\n"
     ]
    },
    {
     "name": "stdout",
     "output_type": "stream",
     "text": [
      "/home/ubuntu/Data/genres_original/reggae/changedreggae.00065.wav\n"
     ]
    },
    {
     "name": "stderr",
     "output_type": "stream",
     "text": [
      "/tmp/ipykernel_998/1739257450.py:12: FutureWarning: Pass sr=22050, n_steps=7 as keyword args. From version 0.10 passing these as positional arguments will result in an error\n",
      "  new_y = librosa.effects.pitch_shift(y, sr, steps)\n"
     ]
    },
    {
     "name": "stdout",
     "output_type": "stream",
     "text": [
      "/home/ubuntu/Data/genres_original/reggae/changedreggae.00084.wav\n"
     ]
    },
    {
     "name": "stderr",
     "output_type": "stream",
     "text": [
      "/tmp/ipykernel_998/1739257450.py:12: FutureWarning: Pass sr=22050, n_steps=7 as keyword args. From version 0.10 passing these as positional arguments will result in an error\n",
      "  new_y = librosa.effects.pitch_shift(y, sr, steps)\n"
     ]
    },
    {
     "name": "stdout",
     "output_type": "stream",
     "text": [
      "/home/ubuntu/Data/genres_original/reggae/changedreggae.00073.wav\n"
     ]
    },
    {
     "name": "stderr",
     "output_type": "stream",
     "text": [
      "/tmp/ipykernel_998/1739257450.py:12: FutureWarning: Pass sr=22050, n_steps=7 as keyword args. From version 0.10 passing these as positional arguments will result in an error\n",
      "  new_y = librosa.effects.pitch_shift(y, sr, steps)\n"
     ]
    },
    {
     "name": "stdout",
     "output_type": "stream",
     "text": [
      "/home/ubuntu/Data/genres_original/reggae/changedreggae.00010.wav\n"
     ]
    },
    {
     "name": "stderr",
     "output_type": "stream",
     "text": [
      "/tmp/ipykernel_998/1739257450.py:12: FutureWarning: Pass sr=22050, n_steps=7 as keyword args. From version 0.10 passing these as positional arguments will result in an error\n",
      "  new_y = librosa.effects.pitch_shift(y, sr, steps)\n"
     ]
    },
    {
     "name": "stdout",
     "output_type": "stream",
     "text": [
      "/home/ubuntu/Data/genres_original/reggae/changedreggae.00022.wav\n"
     ]
    },
    {
     "name": "stderr",
     "output_type": "stream",
     "text": [
      "/tmp/ipykernel_998/1739257450.py:12: FutureWarning: Pass sr=22050, n_steps=7 as keyword args. From version 0.10 passing these as positional arguments will result in an error\n",
      "  new_y = librosa.effects.pitch_shift(y, sr, steps)\n"
     ]
    },
    {
     "name": "stdout",
     "output_type": "stream",
     "text": [
      "/home/ubuntu/Data/genres_original/reggae/changedreggae.00029.wav\n"
     ]
    },
    {
     "name": "stderr",
     "output_type": "stream",
     "text": [
      "/tmp/ipykernel_998/1739257450.py:12: FutureWarning: Pass sr=22050, n_steps=7 as keyword args. From version 0.10 passing these as positional arguments will result in an error\n",
      "  new_y = librosa.effects.pitch_shift(y, sr, steps)\n"
     ]
    },
    {
     "name": "stdout",
     "output_type": "stream",
     "text": [
      "/home/ubuntu/Data/genres_original/reggae/changedreggae.00077.wav\n"
     ]
    },
    {
     "name": "stderr",
     "output_type": "stream",
     "text": [
      "/tmp/ipykernel_998/1739257450.py:12: FutureWarning: Pass sr=22050, n_steps=7 as keyword args. From version 0.10 passing these as positional arguments will result in an error\n",
      "  new_y = librosa.effects.pitch_shift(y, sr, steps)\n"
     ]
    },
    {
     "name": "stdout",
     "output_type": "stream",
     "text": [
      "/home/ubuntu/Data/genres_original/reggae/changedreggae.00076.wav\n"
     ]
    },
    {
     "name": "stderr",
     "output_type": "stream",
     "text": [
      "/tmp/ipykernel_998/1739257450.py:12: FutureWarning: Pass sr=22050, n_steps=7 as keyword args. From version 0.10 passing these as positional arguments will result in an error\n",
      "  new_y = librosa.effects.pitch_shift(y, sr, steps)\n"
     ]
    },
    {
     "name": "stdout",
     "output_type": "stream",
     "text": [
      "/home/ubuntu/Data/genres_original/reggae/changedreggae.00046.wav\n"
     ]
    },
    {
     "name": "stderr",
     "output_type": "stream",
     "text": [
      "/tmp/ipykernel_998/1739257450.py:12: FutureWarning: Pass sr=22050, n_steps=7 as keyword args. From version 0.10 passing these as positional arguments will result in an error\n",
      "  new_y = librosa.effects.pitch_shift(y, sr, steps)\n"
     ]
    },
    {
     "name": "stdout",
     "output_type": "stream",
     "text": [
      "/home/ubuntu/Data/genres_original/reggae/changedreggae.00071.wav\n"
     ]
    },
    {
     "name": "stderr",
     "output_type": "stream",
     "text": [
      "/tmp/ipykernel_998/1739257450.py:12: FutureWarning: Pass sr=22050, n_steps=7 as keyword args. From version 0.10 passing these as positional arguments will result in an error\n",
      "  new_y = librosa.effects.pitch_shift(y, sr, steps)\n"
     ]
    },
    {
     "name": "stdout",
     "output_type": "stream",
     "text": [
      "/home/ubuntu/Data/genres_original/reggae/changedreggae.00066.wav\n"
     ]
    },
    {
     "name": "stderr",
     "output_type": "stream",
     "text": [
      "/tmp/ipykernel_998/1739257450.py:12: FutureWarning: Pass sr=22050, n_steps=7 as keyword args. From version 0.10 passing these as positional arguments will result in an error\n",
      "  new_y = librosa.effects.pitch_shift(y, sr, steps)\n"
     ]
    },
    {
     "name": "stdout",
     "output_type": "stream",
     "text": [
      "/home/ubuntu/Data/genres_original/reggae/changedreggae.00053.wav\n"
     ]
    },
    {
     "name": "stderr",
     "output_type": "stream",
     "text": [
      "/tmp/ipykernel_998/1739257450.py:12: FutureWarning: Pass sr=22050, n_steps=7 as keyword args. From version 0.10 passing these as positional arguments will result in an error\n",
      "  new_y = librosa.effects.pitch_shift(y, sr, steps)\n"
     ]
    },
    {
     "name": "stdout",
     "output_type": "stream",
     "text": [
      "/home/ubuntu/Data/genres_original/reggae/changedreggae.00017.wav\n"
     ]
    },
    {
     "name": "stderr",
     "output_type": "stream",
     "text": [
      "/tmp/ipykernel_998/1739257450.py:12: FutureWarning: Pass sr=22050, n_steps=7 as keyword args. From version 0.10 passing these as positional arguments will result in an error\n",
      "  new_y = librosa.effects.pitch_shift(y, sr, steps)\n"
     ]
    },
    {
     "name": "stdout",
     "output_type": "stream",
     "text": [
      "/home/ubuntu/Data/genres_original/reggae/changedreggae.00001.wav\n"
     ]
    },
    {
     "name": "stderr",
     "output_type": "stream",
     "text": [
      "/tmp/ipykernel_998/1739257450.py:12: FutureWarning: Pass sr=22050, n_steps=7 as keyword args. From version 0.10 passing these as positional arguments will result in an error\n",
      "  new_y = librosa.effects.pitch_shift(y, sr, steps)\n"
     ]
    },
    {
     "name": "stdout",
     "output_type": "stream",
     "text": [
      "/home/ubuntu/Data/genres_original/reggae/changedreggae.00005.wav\n"
     ]
    },
    {
     "name": "stderr",
     "output_type": "stream",
     "text": [
      "/tmp/ipykernel_998/1739257450.py:12: FutureWarning: Pass sr=22050, n_steps=7 as keyword args. From version 0.10 passing these as positional arguments will result in an error\n",
      "  new_y = librosa.effects.pitch_shift(y, sr, steps)\n"
     ]
    },
    {
     "name": "stdout",
     "output_type": "stream",
     "text": [
      "/home/ubuntu/Data/genres_original/reggae/changedreggae.00096.wav\n"
     ]
    },
    {
     "name": "stderr",
     "output_type": "stream",
     "text": [
      "/tmp/ipykernel_998/1739257450.py:12: FutureWarning: Pass sr=22050, n_steps=7 as keyword args. From version 0.10 passing these as positional arguments will result in an error\n",
      "  new_y = librosa.effects.pitch_shift(y, sr, steps)\n"
     ]
    },
    {
     "name": "stdout",
     "output_type": "stream",
     "text": [
      "/home/ubuntu/Data/genres_original/reggae/changedreggae.00078.wav\n"
     ]
    },
    {
     "name": "stderr",
     "output_type": "stream",
     "text": [
      "/tmp/ipykernel_998/1739257450.py:12: FutureWarning: Pass sr=22050, n_steps=7 as keyword args. From version 0.10 passing these as positional arguments will result in an error\n",
      "  new_y = librosa.effects.pitch_shift(y, sr, steps)\n"
     ]
    },
    {
     "name": "stdout",
     "output_type": "stream",
     "text": [
      "/home/ubuntu/Data/genres_original/reggae/changedreggae.00063.wav\n"
     ]
    },
    {
     "name": "stderr",
     "output_type": "stream",
     "text": [
      "/tmp/ipykernel_998/1739257450.py:12: FutureWarning: Pass sr=22050, n_steps=7 as keyword args. From version 0.10 passing these as positional arguments will result in an error\n",
      "  new_y = librosa.effects.pitch_shift(y, sr, steps)\n"
     ]
    },
    {
     "name": "stdout",
     "output_type": "stream",
     "text": [
      "/home/ubuntu/Data/genres_original/reggae/changedreggae.00070.wav\n"
     ]
    },
    {
     "name": "stderr",
     "output_type": "stream",
     "text": [
      "/tmp/ipykernel_998/1739257450.py:12: FutureWarning: Pass sr=22050, n_steps=7 as keyword args. From version 0.10 passing these as positional arguments will result in an error\n",
      "  new_y = librosa.effects.pitch_shift(y, sr, steps)\n"
     ]
    },
    {
     "name": "stdout",
     "output_type": "stream",
     "text": [
      "/home/ubuntu/Data/genres_original/reggae/changedreggae.00068.wav\n"
     ]
    },
    {
     "name": "stderr",
     "output_type": "stream",
     "text": [
      "/tmp/ipykernel_998/1739257450.py:12: FutureWarning: Pass sr=22050, n_steps=7 as keyword args. From version 0.10 passing these as positional arguments will result in an error\n",
      "  new_y = librosa.effects.pitch_shift(y, sr, steps)\n"
     ]
    },
    {
     "name": "stdout",
     "output_type": "stream",
     "text": [
      "/home/ubuntu/Data/genres_original/reggae/changedreggae.00052.wav\n"
     ]
    },
    {
     "name": "stderr",
     "output_type": "stream",
     "text": [
      "/tmp/ipykernel_998/1739257450.py:12: FutureWarning: Pass sr=22050, n_steps=7 as keyword args. From version 0.10 passing these as positional arguments will result in an error\n",
      "  new_y = librosa.effects.pitch_shift(y, sr, steps)\n"
     ]
    },
    {
     "name": "stdout",
     "output_type": "stream",
     "text": [
      "/home/ubuntu/Data/genres_original/reggae/changedreggae.00007.wav\n"
     ]
    },
    {
     "name": "stderr",
     "output_type": "stream",
     "text": [
      "/tmp/ipykernel_998/1739257450.py:12: FutureWarning: Pass sr=22050, n_steps=7 as keyword args. From version 0.10 passing these as positional arguments will result in an error\n",
      "  new_y = librosa.effects.pitch_shift(y, sr, steps)\n"
     ]
    },
    {
     "name": "stdout",
     "output_type": "stream",
     "text": [
      "/home/ubuntu/Data/genres_original/reggae/changedreggae.00060.wav\n"
     ]
    },
    {
     "name": "stderr",
     "output_type": "stream",
     "text": [
      "/tmp/ipykernel_998/1739257450.py:12: FutureWarning: Pass sr=22050, n_steps=7 as keyword args. From version 0.10 passing these as positional arguments will result in an error\n",
      "  new_y = librosa.effects.pitch_shift(y, sr, steps)\n"
     ]
    },
    {
     "name": "stdout",
     "output_type": "stream",
     "text": [
      "/home/ubuntu/Data/genres_original/reggae/changedreggae.00034.wav\n"
     ]
    },
    {
     "name": "stderr",
     "output_type": "stream",
     "text": [
      "/tmp/ipykernel_998/1739257450.py:12: FutureWarning: Pass sr=22050, n_steps=7 as keyword args. From version 0.10 passing these as positional arguments will result in an error\n",
      "  new_y = librosa.effects.pitch_shift(y, sr, steps)\n"
     ]
    },
    {
     "name": "stdout",
     "output_type": "stream",
     "text": [
      "/home/ubuntu/Data/genres_original/reggae/changedreggae.00062.wav\n"
     ]
    },
    {
     "name": "stderr",
     "output_type": "stream",
     "text": [
      "/tmp/ipykernel_998/1739257450.py:12: FutureWarning: Pass sr=22050, n_steps=7 as keyword args. From version 0.10 passing these as positional arguments will result in an error\n",
      "  new_y = librosa.effects.pitch_shift(y, sr, steps)\n"
     ]
    },
    {
     "name": "stdout",
     "output_type": "stream",
     "text": [
      "/home/ubuntu/Data/genres_original/reggae/changedreggae.00041.wav\n"
     ]
    },
    {
     "name": "stderr",
     "output_type": "stream",
     "text": [
      "/tmp/ipykernel_998/1739257450.py:12: FutureWarning: Pass sr=22050, n_steps=7 as keyword args. From version 0.10 passing these as positional arguments will result in an error\n",
      "  new_y = librosa.effects.pitch_shift(y, sr, steps)\n"
     ]
    },
    {
     "name": "stdout",
     "output_type": "stream",
     "text": [
      "/home/ubuntu/Data/genres_original/reggae/changedreggae.00020.wav\n"
     ]
    },
    {
     "name": "stderr",
     "output_type": "stream",
     "text": [
      "/tmp/ipykernel_998/1739257450.py:12: FutureWarning: Pass sr=22050, n_steps=7 as keyword args. From version 0.10 passing these as positional arguments will result in an error\n",
      "  new_y = librosa.effects.pitch_shift(y, sr, steps)\n"
     ]
    },
    {
     "name": "stdout",
     "output_type": "stream",
     "text": [
      "/home/ubuntu/Data/genres_original/reggae/changedreggae.00015.wav\n"
     ]
    },
    {
     "name": "stderr",
     "output_type": "stream",
     "text": [
      "/tmp/ipykernel_998/1739257450.py:12: FutureWarning: Pass sr=22050, n_steps=7 as keyword args. From version 0.10 passing these as positional arguments will result in an error\n",
      "  new_y = librosa.effects.pitch_shift(y, sr, steps)\n"
     ]
    },
    {
     "name": "stdout",
     "output_type": "stream",
     "text": [
      "/home/ubuntu/Data/genres_original/reggae/changedreggae.00086.wav\n"
     ]
    },
    {
     "name": "stderr",
     "output_type": "stream",
     "text": [
      "/tmp/ipykernel_998/1739257450.py:12: FutureWarning: Pass sr=22050, n_steps=7 as keyword args. From version 0.10 passing these as positional arguments will result in an error\n",
      "  new_y = librosa.effects.pitch_shift(y, sr, steps)\n"
     ]
    },
    {
     "name": "stdout",
     "output_type": "stream",
     "text": [
      "/home/ubuntu/Data/genres_original/reggae/changedreggae.00043.wav\n"
     ]
    },
    {
     "name": "stderr",
     "output_type": "stream",
     "text": [
      "/tmp/ipykernel_998/1739257450.py:12: FutureWarning: Pass sr=22050, n_steps=7 as keyword args. From version 0.10 passing these as positional arguments will result in an error\n",
      "  new_y = librosa.effects.pitch_shift(y, sr, steps)\n"
     ]
    },
    {
     "name": "stdout",
     "output_type": "stream",
     "text": [
      "/home/ubuntu/Data/genres_original/reggae/changedreggae.00016.wav\n"
     ]
    },
    {
     "name": "stderr",
     "output_type": "stream",
     "text": [
      "/tmp/ipykernel_998/1739257450.py:12: FutureWarning: Pass sr=22050, n_steps=7 as keyword args. From version 0.10 passing these as positional arguments will result in an error\n",
      "  new_y = librosa.effects.pitch_shift(y, sr, steps)\n"
     ]
    },
    {
     "name": "stdout",
     "output_type": "stream",
     "text": [
      "/home/ubuntu/Data/genres_original/reggae/changedreggae.00051.wav\n"
     ]
    },
    {
     "name": "stderr",
     "output_type": "stream",
     "text": [
      "/tmp/ipykernel_998/1739257450.py:12: FutureWarning: Pass sr=22050, n_steps=7 as keyword args. From version 0.10 passing these as positional arguments will result in an error\n",
      "  new_y = librosa.effects.pitch_shift(y, sr, steps)\n"
     ]
    },
    {
     "name": "stdout",
     "output_type": "stream",
     "text": [
      "/home/ubuntu/Data/genres_original/reggae/changedreggae.00012.wav\n"
     ]
    },
    {
     "name": "stderr",
     "output_type": "stream",
     "text": [
      "/tmp/ipykernel_998/1739257450.py:12: FutureWarning: Pass sr=22050, n_steps=7 as keyword args. From version 0.10 passing these as positional arguments will result in an error\n",
      "  new_y = librosa.effects.pitch_shift(y, sr, steps)\n"
     ]
    },
    {
     "name": "stdout",
     "output_type": "stream",
     "text": [
      "/home/ubuntu/Data/genres_original/reggae/changedreggae.00094.wav\n"
     ]
    },
    {
     "name": "stderr",
     "output_type": "stream",
     "text": [
      "/tmp/ipykernel_998/1739257450.py:12: FutureWarning: Pass sr=22050, n_steps=7 as keyword args. From version 0.10 passing these as positional arguments will result in an error\n",
      "  new_y = librosa.effects.pitch_shift(y, sr, steps)\n"
     ]
    },
    {
     "name": "stdout",
     "output_type": "stream",
     "text": [
      "/home/ubuntu/Data/genres_original/reggae/changedreggae.00031.wav\n"
     ]
    },
    {
     "name": "stderr",
     "output_type": "stream",
     "text": [
      "/tmp/ipykernel_998/1739257450.py:12: FutureWarning: Pass sr=22050, n_steps=7 as keyword args. From version 0.10 passing these as positional arguments will result in an error\n",
      "  new_y = librosa.effects.pitch_shift(y, sr, steps)\n"
     ]
    },
    {
     "name": "stdout",
     "output_type": "stream",
     "text": [
      "/home/ubuntu/Data/genres_original/reggae/changedreggae.00061.wav\n"
     ]
    },
    {
     "name": "stderr",
     "output_type": "stream",
     "text": [
      "/tmp/ipykernel_998/1739257450.py:12: FutureWarning: Pass sr=22050, n_steps=7 as keyword args. From version 0.10 passing these as positional arguments will result in an error\n",
      "  new_y = librosa.effects.pitch_shift(y, sr, steps)\n"
     ]
    },
    {
     "name": "stdout",
     "output_type": "stream",
     "text": [
      "/home/ubuntu/Data/genres_original/reggae/changedreggae.00083.wav\n"
     ]
    },
    {
     "name": "stderr",
     "output_type": "stream",
     "text": [
      "/tmp/ipykernel_998/1739257450.py:12: FutureWarning: Pass sr=22050, n_steps=7 as keyword args. From version 0.10 passing these as positional arguments will result in an error\n",
      "  new_y = librosa.effects.pitch_shift(y, sr, steps)\n"
     ]
    },
    {
     "name": "stdout",
     "output_type": "stream",
     "text": [
      "/home/ubuntu/Data/genres_original/reggae/changedreggae.00006.wav\n"
     ]
    },
    {
     "name": "stderr",
     "output_type": "stream",
     "text": [
      "/tmp/ipykernel_998/1739257450.py:12: FutureWarning: Pass sr=22050, n_steps=7 as keyword args. From version 0.10 passing these as positional arguments will result in an error\n",
      "  new_y = librosa.effects.pitch_shift(y, sr, steps)\n"
     ]
    },
    {
     "name": "stdout",
     "output_type": "stream",
     "text": [
      "/home/ubuntu/Data/genres_original/reggae/changedreggae.00002.wav\n"
     ]
    },
    {
     "name": "stderr",
     "output_type": "stream",
     "text": [
      "/tmp/ipykernel_998/1739257450.py:12: FutureWarning: Pass sr=22050, n_steps=7 as keyword args. From version 0.10 passing these as positional arguments will result in an error\n",
      "  new_y = librosa.effects.pitch_shift(y, sr, steps)\n"
     ]
    },
    {
     "name": "stdout",
     "output_type": "stream",
     "text": [
      "/home/ubuntu/Data/genres_original/reggae/changedreggae.00079.wav\n"
     ]
    },
    {
     "name": "stderr",
     "output_type": "stream",
     "text": [
      "/tmp/ipykernel_998/1739257450.py:12: FutureWarning: Pass sr=22050, n_steps=7 as keyword args. From version 0.10 passing these as positional arguments will result in an error\n",
      "  new_y = librosa.effects.pitch_shift(y, sr, steps)\n"
     ]
    },
    {
     "name": "stdout",
     "output_type": "stream",
     "text": [
      "/home/ubuntu/Data/genres_original/reggae/changedreggae.00075.wav\n"
     ]
    },
    {
     "name": "stderr",
     "output_type": "stream",
     "text": [
      "/tmp/ipykernel_998/1739257450.py:12: FutureWarning: Pass sr=22050, n_steps=7 as keyword args. From version 0.10 passing these as positional arguments will result in an error\n",
      "  new_y = librosa.effects.pitch_shift(y, sr, steps)\n"
     ]
    },
    {
     "name": "stdout",
     "output_type": "stream",
     "text": [
      "/home/ubuntu/Data/genres_original/reggae/changedreggae.00089.wav\n"
     ]
    },
    {
     "name": "stderr",
     "output_type": "stream",
     "text": [
      "/tmp/ipykernel_998/1739257450.py:12: FutureWarning: Pass sr=22050, n_steps=7 as keyword args. From version 0.10 passing these as positional arguments will result in an error\n",
      "  new_y = librosa.effects.pitch_shift(y, sr, steps)\n"
     ]
    },
    {
     "name": "stdout",
     "output_type": "stream",
     "text": [
      "/home/ubuntu/Data/genres_original/reggae/changedreggae.00023.wav\n"
     ]
    },
    {
     "name": "stderr",
     "output_type": "stream",
     "text": [
      "/tmp/ipykernel_998/1739257450.py:12: FutureWarning: Pass sr=22050, n_steps=7 as keyword args. From version 0.10 passing these as positional arguments will result in an error\n",
      "  new_y = librosa.effects.pitch_shift(y, sr, steps)\n"
     ]
    },
    {
     "name": "stdout",
     "output_type": "stream",
     "text": [
      "/home/ubuntu/Data/genres_original/reggae/changedreggae.00057.wav\n"
     ]
    },
    {
     "name": "stderr",
     "output_type": "stream",
     "text": [
      "/tmp/ipykernel_998/1739257450.py:12: FutureWarning: Pass sr=22050, n_steps=7 as keyword args. From version 0.10 passing these as positional arguments will result in an error\n",
      "  new_y = librosa.effects.pitch_shift(y, sr, steps)\n"
     ]
    },
    {
     "name": "stdout",
     "output_type": "stream",
     "text": [
      "/home/ubuntu/Data/genres_original/reggae/changedreggae.00067.wav\n"
     ]
    },
    {
     "name": "stderr",
     "output_type": "stream",
     "text": [
      "/tmp/ipykernel_998/1739257450.py:12: FutureWarning: Pass sr=22050, n_steps=7 as keyword args. From version 0.10 passing these as positional arguments will result in an error\n",
      "  new_y = librosa.effects.pitch_shift(y, sr, steps)\n"
     ]
    },
    {
     "name": "stdout",
     "output_type": "stream",
     "text": [
      "/home/ubuntu/Data/genres_original/reggae/changedreggae.00018.wav\n"
     ]
    },
    {
     "name": "stderr",
     "output_type": "stream",
     "text": [
      "/tmp/ipykernel_998/1739257450.py:12: FutureWarning: Pass sr=22050, n_steps=7 as keyword args. From version 0.10 passing these as positional arguments will result in an error\n",
      "  new_y = librosa.effects.pitch_shift(y, sr, steps)\n"
     ]
    },
    {
     "name": "stdout",
     "output_type": "stream",
     "text": [
      "/home/ubuntu/Data/genres_original/reggae/changedreggae.00011.wav\n"
     ]
    },
    {
     "name": "stderr",
     "output_type": "stream",
     "text": [
      "/tmp/ipykernel_998/1739257450.py:12: FutureWarning: Pass sr=22050, n_steps=7 as keyword args. From version 0.10 passing these as positional arguments will result in an error\n",
      "  new_y = librosa.effects.pitch_shift(y, sr, steps)\n"
     ]
    },
    {
     "name": "stdout",
     "output_type": "stream",
     "text": [
      "/home/ubuntu/Data/genres_original/reggae/changedreggae.00024.wav\n"
     ]
    },
    {
     "name": "stderr",
     "output_type": "stream",
     "text": [
      "/tmp/ipykernel_998/1739257450.py:12: FutureWarning: Pass sr=22050, n_steps=7 as keyword args. From version 0.10 passing these as positional arguments will result in an error\n",
      "  new_y = librosa.effects.pitch_shift(y, sr, steps)\n"
     ]
    },
    {
     "name": "stdout",
     "output_type": "stream",
     "text": [
      "/home/ubuntu/Data/genres_original/reggae/changedreggae.00004.wav\n"
     ]
    },
    {
     "name": "stderr",
     "output_type": "stream",
     "text": [
      "/tmp/ipykernel_998/1739257450.py:12: FutureWarning: Pass sr=22050, n_steps=7 as keyword args. From version 0.10 passing these as positional arguments will result in an error\n",
      "  new_y = librosa.effects.pitch_shift(y, sr, steps)\n"
     ]
    },
    {
     "name": "stdout",
     "output_type": "stream",
     "text": [
      "/home/ubuntu/Data/genres_original/reggae/changedreggae.00055.wav\n"
     ]
    },
    {
     "name": "stderr",
     "output_type": "stream",
     "text": [
      "/tmp/ipykernel_998/1739257450.py:12: FutureWarning: Pass sr=22050, n_steps=7 as keyword args. From version 0.10 passing these as positional arguments will result in an error\n",
      "  new_y = librosa.effects.pitch_shift(y, sr, steps)\n"
     ]
    },
    {
     "name": "stdout",
     "output_type": "stream",
     "text": [
      "/home/ubuntu/Data/genres_original/reggae/changedreggae.00074.wav\n"
     ]
    },
    {
     "name": "stderr",
     "output_type": "stream",
     "text": [
      "/tmp/ipykernel_998/1739257450.py:12: FutureWarning: Pass sr=22050, n_steps=7 as keyword args. From version 0.10 passing these as positional arguments will result in an error\n",
      "  new_y = librosa.effects.pitch_shift(y, sr, steps)\n"
     ]
    },
    {
     "name": "stdout",
     "output_type": "stream",
     "text": [
      "/home/ubuntu/Data/genres_original/reggae/changedreggae.00049.wav\n"
     ]
    },
    {
     "name": "stderr",
     "output_type": "stream",
     "text": [
      "/tmp/ipykernel_998/1739257450.py:12: FutureWarning: Pass sr=22050, n_steps=7 as keyword args. From version 0.10 passing these as positional arguments will result in an error\n",
      "  new_y = librosa.effects.pitch_shift(y, sr, steps)\n"
     ]
    },
    {
     "name": "stdout",
     "output_type": "stream",
     "text": [
      "/home/ubuntu/Data/genres_original/reggae/changedreggae.00081.wav\n"
     ]
    },
    {
     "name": "stderr",
     "output_type": "stream",
     "text": [
      "/tmp/ipykernel_998/1739257450.py:12: FutureWarning: Pass sr=22050, n_steps=7 as keyword args. From version 0.10 passing these as positional arguments will result in an error\n",
      "  new_y = librosa.effects.pitch_shift(y, sr, steps)\n"
     ]
    },
    {
     "name": "stdout",
     "output_type": "stream",
     "text": [
      "/home/ubuntu/Data/genres_original/reggae/changedreggae.00069.wav\n"
     ]
    },
    {
     "name": "stderr",
     "output_type": "stream",
     "text": [
      "/tmp/ipykernel_998/1739257450.py:12: FutureWarning: Pass sr=22050, n_steps=7 as keyword args. From version 0.10 passing these as positional arguments will result in an error\n",
      "  new_y = librosa.effects.pitch_shift(y, sr, steps)\n"
     ]
    },
    {
     "name": "stdout",
     "output_type": "stream",
     "text": [
      "/home/ubuntu/Data/genres_original/reggae/changedreggae.00008.wav\n"
     ]
    },
    {
     "name": "stderr",
     "output_type": "stream",
     "text": [
      "/tmp/ipykernel_998/1739257450.py:12: FutureWarning: Pass sr=22050, n_steps=7 as keyword args. From version 0.10 passing these as positional arguments will result in an error\n",
      "  new_y = librosa.effects.pitch_shift(y, sr, steps)\n"
     ]
    },
    {
     "name": "stdout",
     "output_type": "stream",
     "text": [
      "/home/ubuntu/Data/genres_original/reggae/changedreggae.00032.wav\n"
     ]
    },
    {
     "name": "stderr",
     "output_type": "stream",
     "text": [
      "/tmp/ipykernel_998/1739257450.py:12: FutureWarning: Pass sr=22050, n_steps=7 as keyword args. From version 0.10 passing these as positional arguments will result in an error\n",
      "  new_y = librosa.effects.pitch_shift(y, sr, steps)\n"
     ]
    },
    {
     "name": "stdout",
     "output_type": "stream",
     "text": [
      "/home/ubuntu/Data/genres_original/reggae/changedreggae.00013.wav\n"
     ]
    },
    {
     "name": "stderr",
     "output_type": "stream",
     "text": [
      "/tmp/ipykernel_998/1739257450.py:12: FutureWarning: Pass sr=22050, n_steps=7 as keyword args. From version 0.10 passing these as positional arguments will result in an error\n",
      "  new_y = librosa.effects.pitch_shift(y, sr, steps)\n"
     ]
    },
    {
     "name": "stdout",
     "output_type": "stream",
     "text": [
      "/home/ubuntu/Data/genres_original/reggae/changedreggae.00009.wav\n"
     ]
    },
    {
     "name": "stderr",
     "output_type": "stream",
     "text": [
      "/tmp/ipykernel_998/1739257450.py:12: FutureWarning: Pass sr=22050, n_steps=7 as keyword args. From version 0.10 passing these as positional arguments will result in an error\n",
      "  new_y = librosa.effects.pitch_shift(y, sr, steps)\n"
     ]
    },
    {
     "name": "stdout",
     "output_type": "stream",
     "text": [
      "/home/ubuntu/Data/genres_original/reggae/changedreggae.00082.wav\n"
     ]
    },
    {
     "name": "stderr",
     "output_type": "stream",
     "text": [
      "/tmp/ipykernel_998/1739257450.py:12: FutureWarning: Pass sr=22050, n_steps=7 as keyword args. From version 0.10 passing these as positional arguments will result in an error\n",
      "  new_y = librosa.effects.pitch_shift(y, sr, steps)\n"
     ]
    },
    {
     "name": "stdout",
     "output_type": "stream",
     "text": [
      "/home/ubuntu/Data/genres_original/reggae/changedreggae.00088.wav\n"
     ]
    },
    {
     "name": "stderr",
     "output_type": "stream",
     "text": [
      "/tmp/ipykernel_998/1739257450.py:12: FutureWarning: Pass sr=22050, n_steps=7 as keyword args. From version 0.10 passing these as positional arguments will result in an error\n",
      "  new_y = librosa.effects.pitch_shift(y, sr, steps)\n"
     ]
    },
    {
     "name": "stdout",
     "output_type": "stream",
     "text": [
      "/home/ubuntu/Data/genres_original/reggae/changedreggae.00035.wav\n"
     ]
    },
    {
     "name": "stderr",
     "output_type": "stream",
     "text": [
      "/tmp/ipykernel_998/1739257450.py:12: FutureWarning: Pass sr=22050, n_steps=7 as keyword args. From version 0.10 passing these as positional arguments will result in an error\n",
      "  new_y = librosa.effects.pitch_shift(y, sr, steps)\n"
     ]
    },
    {
     "name": "stdout",
     "output_type": "stream",
     "text": [
      "/home/ubuntu/Data/genres_original/reggae/changedreggae.00072.wav\n"
     ]
    },
    {
     "name": "stderr",
     "output_type": "stream",
     "text": [
      "/tmp/ipykernel_998/1739257450.py:12: FutureWarning: Pass sr=22050, n_steps=7 as keyword args. From version 0.10 passing these as positional arguments will result in an error\n",
      "  new_y = librosa.effects.pitch_shift(y, sr, steps)\n"
     ]
    },
    {
     "name": "stdout",
     "output_type": "stream",
     "text": [
      "/home/ubuntu/Data/genres_original/reggae/changedreggae.00093.wav\n"
     ]
    },
    {
     "name": "stderr",
     "output_type": "stream",
     "text": [
      "/tmp/ipykernel_998/1739257450.py:12: FutureWarning: Pass sr=22050, n_steps=7 as keyword args. From version 0.10 passing these as positional arguments will result in an error\n",
      "  new_y = librosa.effects.pitch_shift(y, sr, steps)\n"
     ]
    },
    {
     "name": "stdout",
     "output_type": "stream",
     "text": [
      "/home/ubuntu/Data/genres_original/reggae/changedreggae.00040.wav\n"
     ]
    },
    {
     "name": "stderr",
     "output_type": "stream",
     "text": [
      "/tmp/ipykernel_998/1739257450.py:12: FutureWarning: Pass sr=22050, n_steps=7 as keyword args. From version 0.10 passing these as positional arguments will result in an error\n",
      "  new_y = librosa.effects.pitch_shift(y, sr, steps)\n"
     ]
    },
    {
     "name": "stdout",
     "output_type": "stream",
     "text": [
      "/home/ubuntu/Data/genres_original/reggae/changedreggae.00048.wav\n"
     ]
    },
    {
     "name": "stderr",
     "output_type": "stream",
     "text": [
      "/tmp/ipykernel_998/1739257450.py:12: FutureWarning: Pass sr=22050, n_steps=7 as keyword args. From version 0.10 passing these as positional arguments will result in an error\n",
      "  new_y = librosa.effects.pitch_shift(y, sr, steps)\n"
     ]
    },
    {
     "name": "stdout",
     "output_type": "stream",
     "text": [
      "/home/ubuntu/Data/genres_original/reggae/changedreggae.00087.wav\n",
      "current dir path is /home/ubuntu/Data/genres_original/hiphop\n"
     ]
    },
    {
     "name": "stderr",
     "output_type": "stream",
     "text": [
      "/tmp/ipykernel_998/1739257450.py:12: FutureWarning: Pass sr=22050, n_steps=7 as keyword args. From version 0.10 passing these as positional arguments will result in an error\n",
      "  new_y = librosa.effects.pitch_shift(y, sr, steps)\n"
     ]
    },
    {
     "name": "stdout",
     "output_type": "stream",
     "text": [
      "/home/ubuntu/Data/genres_original/hiphop/changedhiphop.00038.wav\n"
     ]
    },
    {
     "name": "stderr",
     "output_type": "stream",
     "text": [
      "/tmp/ipykernel_998/1739257450.py:12: FutureWarning: Pass sr=22050, n_steps=7 as keyword args. From version 0.10 passing these as positional arguments will result in an error\n",
      "  new_y = librosa.effects.pitch_shift(y, sr, steps)\n"
     ]
    },
    {
     "name": "stdout",
     "output_type": "stream",
     "text": [
      "/home/ubuntu/Data/genres_original/hiphop/changedhiphop.00020.wav\n"
     ]
    },
    {
     "name": "stderr",
     "output_type": "stream",
     "text": [
      "/tmp/ipykernel_998/1739257450.py:12: FutureWarning: Pass sr=22050, n_steps=7 as keyword args. From version 0.10 passing these as positional arguments will result in an error\n",
      "  new_y = librosa.effects.pitch_shift(y, sr, steps)\n"
     ]
    },
    {
     "name": "stdout",
     "output_type": "stream",
     "text": [
      "/home/ubuntu/Data/genres_original/hiphop/changedhiphop.00037.wav\n"
     ]
    },
    {
     "name": "stderr",
     "output_type": "stream",
     "text": [
      "/tmp/ipykernel_998/1739257450.py:12: FutureWarning: Pass sr=22050, n_steps=7 as keyword args. From version 0.10 passing these as positional arguments will result in an error\n",
      "  new_y = librosa.effects.pitch_shift(y, sr, steps)\n"
     ]
    },
    {
     "name": "stdout",
     "output_type": "stream",
     "text": [
      "/home/ubuntu/Data/genres_original/hiphop/changedhiphop.00047.wav\n"
     ]
    },
    {
     "name": "stderr",
     "output_type": "stream",
     "text": [
      "/tmp/ipykernel_998/1739257450.py:12: FutureWarning: Pass sr=22050, n_steps=7 as keyword args. From version 0.10 passing these as positional arguments will result in an error\n",
      "  new_y = librosa.effects.pitch_shift(y, sr, steps)\n"
     ]
    },
    {
     "name": "stdout",
     "output_type": "stream",
     "text": [
      "/home/ubuntu/Data/genres_original/hiphop/changedhiphop.00097.wav\n"
     ]
    },
    {
     "name": "stderr",
     "output_type": "stream",
     "text": [
      "/tmp/ipykernel_998/1739257450.py:12: FutureWarning: Pass sr=22050, n_steps=7 as keyword args. From version 0.10 passing these as positional arguments will result in an error\n",
      "  new_y = librosa.effects.pitch_shift(y, sr, steps)\n"
     ]
    },
    {
     "name": "stdout",
     "output_type": "stream",
     "text": [
      "/home/ubuntu/Data/genres_original/hiphop/changedhiphop.00017.wav\n"
     ]
    },
    {
     "name": "stderr",
     "output_type": "stream",
     "text": [
      "/tmp/ipykernel_998/1739257450.py:12: FutureWarning: Pass sr=22050, n_steps=7 as keyword args. From version 0.10 passing these as positional arguments will result in an error\n",
      "  new_y = librosa.effects.pitch_shift(y, sr, steps)\n"
     ]
    },
    {
     "name": "stdout",
     "output_type": "stream",
     "text": [
      "/home/ubuntu/Data/genres_original/hiphop/changedhiphop.00002.wav\n"
     ]
    },
    {
     "name": "stderr",
     "output_type": "stream",
     "text": [
      "/tmp/ipykernel_998/1739257450.py:12: FutureWarning: Pass sr=22050, n_steps=7 as keyword args. From version 0.10 passing these as positional arguments will result in an error\n",
      "  new_y = librosa.effects.pitch_shift(y, sr, steps)\n"
     ]
    },
    {
     "name": "stdout",
     "output_type": "stream",
     "text": [
      "/home/ubuntu/Data/genres_original/hiphop/changedhiphop.00001.wav\n"
     ]
    },
    {
     "name": "stderr",
     "output_type": "stream",
     "text": [
      "/tmp/ipykernel_998/1739257450.py:12: FutureWarning: Pass sr=22050, n_steps=7 as keyword args. From version 0.10 passing these as positional arguments will result in an error\n",
      "  new_y = librosa.effects.pitch_shift(y, sr, steps)\n"
     ]
    },
    {
     "name": "stdout",
     "output_type": "stream",
     "text": [
      "/home/ubuntu/Data/genres_original/hiphop/changedhiphop.00013.wav\n"
     ]
    },
    {
     "name": "stderr",
     "output_type": "stream",
     "text": [
      "/tmp/ipykernel_998/1739257450.py:12: FutureWarning: Pass sr=22050, n_steps=7 as keyword args. From version 0.10 passing these as positional arguments will result in an error\n",
      "  new_y = librosa.effects.pitch_shift(y, sr, steps)\n"
     ]
    },
    {
     "name": "stdout",
     "output_type": "stream",
     "text": [
      "/home/ubuntu/Data/genres_original/hiphop/changedhiphop.00027.wav\n"
     ]
    },
    {
     "name": "stderr",
     "output_type": "stream",
     "text": [
      "/tmp/ipykernel_998/1739257450.py:12: FutureWarning: Pass sr=22050, n_steps=7 as keyword args. From version 0.10 passing these as positional arguments will result in an error\n",
      "  new_y = librosa.effects.pitch_shift(y, sr, steps)\n"
     ]
    },
    {
     "name": "stdout",
     "output_type": "stream",
     "text": [
      "/home/ubuntu/Data/genres_original/hiphop/changedhiphop.00069.wav\n"
     ]
    },
    {
     "name": "stderr",
     "output_type": "stream",
     "text": [
      "/tmp/ipykernel_998/1739257450.py:12: FutureWarning: Pass sr=22050, n_steps=7 as keyword args. From version 0.10 passing these as positional arguments will result in an error\n",
      "  new_y = librosa.effects.pitch_shift(y, sr, steps)\n"
     ]
    },
    {
     "name": "stdout",
     "output_type": "stream",
     "text": [
      "/home/ubuntu/Data/genres_original/hiphop/changedhiphop.00055.wav\n"
     ]
    },
    {
     "name": "stderr",
     "output_type": "stream",
     "text": [
      "/tmp/ipykernel_998/1739257450.py:12: FutureWarning: Pass sr=22050, n_steps=7 as keyword args. From version 0.10 passing these as positional arguments will result in an error\n",
      "  new_y = librosa.effects.pitch_shift(y, sr, steps)\n"
     ]
    },
    {
     "name": "stdout",
     "output_type": "stream",
     "text": [
      "/home/ubuntu/Data/genres_original/hiphop/changedhiphop.00023.wav\n"
     ]
    },
    {
     "name": "stderr",
     "output_type": "stream",
     "text": [
      "/tmp/ipykernel_998/1739257450.py:12: FutureWarning: Pass sr=22050, n_steps=7 as keyword args. From version 0.10 passing these as positional arguments will result in an error\n",
      "  new_y = librosa.effects.pitch_shift(y, sr, steps)\n"
     ]
    },
    {
     "name": "stdout",
     "output_type": "stream",
     "text": [
      "/home/ubuntu/Data/genres_original/hiphop/changedhiphop.00046.wav\n"
     ]
    },
    {
     "name": "stderr",
     "output_type": "stream",
     "text": [
      "/tmp/ipykernel_998/1739257450.py:12: FutureWarning: Pass sr=22050, n_steps=7 as keyword args. From version 0.10 passing these as positional arguments will result in an error\n",
      "  new_y = librosa.effects.pitch_shift(y, sr, steps)\n"
     ]
    },
    {
     "name": "stdout",
     "output_type": "stream",
     "text": [
      "/home/ubuntu/Data/genres_original/hiphop/changedhiphop.00016.wav\n"
     ]
    },
    {
     "name": "stderr",
     "output_type": "stream",
     "text": [
      "/tmp/ipykernel_998/1739257450.py:12: FutureWarning: Pass sr=22050, n_steps=7 as keyword args. From version 0.10 passing these as positional arguments will result in an error\n",
      "  new_y = librosa.effects.pitch_shift(y, sr, steps)\n"
     ]
    },
    {
     "name": "stdout",
     "output_type": "stream",
     "text": [
      "/home/ubuntu/Data/genres_original/hiphop/changedhiphop.00050.wav\n"
     ]
    },
    {
     "name": "stderr",
     "output_type": "stream",
     "text": [
      "/tmp/ipykernel_998/1739257450.py:12: FutureWarning: Pass sr=22050, n_steps=7 as keyword args. From version 0.10 passing these as positional arguments will result in an error\n",
      "  new_y = librosa.effects.pitch_shift(y, sr, steps)\n"
     ]
    },
    {
     "name": "stdout",
     "output_type": "stream",
     "text": [
      "/home/ubuntu/Data/genres_original/hiphop/changedhiphop.00052.wav\n"
     ]
    },
    {
     "name": "stderr",
     "output_type": "stream",
     "text": [
      "/tmp/ipykernel_998/1739257450.py:12: FutureWarning: Pass sr=22050, n_steps=7 as keyword args. From version 0.10 passing these as positional arguments will result in an error\n",
      "  new_y = librosa.effects.pitch_shift(y, sr, steps)\n"
     ]
    },
    {
     "name": "stdout",
     "output_type": "stream",
     "text": [
      "/home/ubuntu/Data/genres_original/hiphop/changedhiphop.00093.wav\n"
     ]
    },
    {
     "name": "stderr",
     "output_type": "stream",
     "text": [
      "/tmp/ipykernel_998/1739257450.py:12: FutureWarning: Pass sr=22050, n_steps=7 as keyword args. From version 0.10 passing these as positional arguments will result in an error\n",
      "  new_y = librosa.effects.pitch_shift(y, sr, steps)\n"
     ]
    },
    {
     "name": "stdout",
     "output_type": "stream",
     "text": [
      "/home/ubuntu/Data/genres_original/hiphop/changedhiphop.00096.wav\n"
     ]
    },
    {
     "name": "stderr",
     "output_type": "stream",
     "text": [
      "/tmp/ipykernel_998/1739257450.py:12: FutureWarning: Pass sr=22050, n_steps=7 as keyword args. From version 0.10 passing these as positional arguments will result in an error\n",
      "  new_y = librosa.effects.pitch_shift(y, sr, steps)\n"
     ]
    },
    {
     "name": "stdout",
     "output_type": "stream",
     "text": [
      "/home/ubuntu/Data/genres_original/hiphop/changedhiphop.00039.wav\n"
     ]
    },
    {
     "name": "stderr",
     "output_type": "stream",
     "text": [
      "/tmp/ipykernel_998/1739257450.py:12: FutureWarning: Pass sr=22050, n_steps=7 as keyword args. From version 0.10 passing these as positional arguments will result in an error\n",
      "  new_y = librosa.effects.pitch_shift(y, sr, steps)\n"
     ]
    },
    {
     "name": "stdout",
     "output_type": "stream",
     "text": [
      "/home/ubuntu/Data/genres_original/hiphop/changedhiphop.00009.wav\n"
     ]
    },
    {
     "name": "stderr",
     "output_type": "stream",
     "text": [
      "/tmp/ipykernel_998/1739257450.py:12: FutureWarning: Pass sr=22050, n_steps=7 as keyword args. From version 0.10 passing these as positional arguments will result in an error\n",
      "  new_y = librosa.effects.pitch_shift(y, sr, steps)\n"
     ]
    },
    {
     "name": "stdout",
     "output_type": "stream",
     "text": [
      "/home/ubuntu/Data/genres_original/hiphop/changedhiphop.00048.wav\n"
     ]
    },
    {
     "name": "stderr",
     "output_type": "stream",
     "text": [
      "/tmp/ipykernel_998/1739257450.py:12: FutureWarning: Pass sr=22050, n_steps=7 as keyword args. From version 0.10 passing these as positional arguments will result in an error\n",
      "  new_y = librosa.effects.pitch_shift(y, sr, steps)\n"
     ]
    },
    {
     "name": "stdout",
     "output_type": "stream",
     "text": [
      "/home/ubuntu/Data/genres_original/hiphop/changedhiphop.00080.wav\n"
     ]
    },
    {
     "name": "stderr",
     "output_type": "stream",
     "text": [
      "/tmp/ipykernel_998/1739257450.py:12: FutureWarning: Pass sr=22050, n_steps=7 as keyword args. From version 0.10 passing these as positional arguments will result in an error\n",
      "  new_y = librosa.effects.pitch_shift(y, sr, steps)\n"
     ]
    },
    {
     "name": "stdout",
     "output_type": "stream",
     "text": [
      "/home/ubuntu/Data/genres_original/hiphop/changedhiphop.00083.wav\n"
     ]
    },
    {
     "name": "stderr",
     "output_type": "stream",
     "text": [
      "/tmp/ipykernel_998/1739257450.py:12: FutureWarning: Pass sr=22050, n_steps=7 as keyword args. From version 0.10 passing these as positional arguments will result in an error\n",
      "  new_y = librosa.effects.pitch_shift(y, sr, steps)\n"
     ]
    },
    {
     "name": "stdout",
     "output_type": "stream",
     "text": [
      "/home/ubuntu/Data/genres_original/hiphop/changedhiphop.00033.wav\n"
     ]
    },
    {
     "name": "stderr",
     "output_type": "stream",
     "text": [
      "/tmp/ipykernel_998/1739257450.py:12: FutureWarning: Pass sr=22050, n_steps=7 as keyword args. From version 0.10 passing these as positional arguments will result in an error\n",
      "  new_y = librosa.effects.pitch_shift(y, sr, steps)\n"
     ]
    },
    {
     "name": "stdout",
     "output_type": "stream",
     "text": [
      "/home/ubuntu/Data/genres_original/hiphop/changedhiphop.00024.wav\n"
     ]
    },
    {
     "name": "stderr",
     "output_type": "stream",
     "text": [
      "/tmp/ipykernel_998/1739257450.py:12: FutureWarning: Pass sr=22050, n_steps=7 as keyword args. From version 0.10 passing these as positional arguments will result in an error\n",
      "  new_y = librosa.effects.pitch_shift(y, sr, steps)\n"
     ]
    },
    {
     "name": "stdout",
     "output_type": "stream",
     "text": [
      "/home/ubuntu/Data/genres_original/hiphop/changedhiphop.00089.wav\n"
     ]
    },
    {
     "name": "stderr",
     "output_type": "stream",
     "text": [
      "/tmp/ipykernel_998/1739257450.py:12: FutureWarning: Pass sr=22050, n_steps=7 as keyword args. From version 0.10 passing these as positional arguments will result in an error\n",
      "  new_y = librosa.effects.pitch_shift(y, sr, steps)\n"
     ]
    },
    {
     "name": "stdout",
     "output_type": "stream",
     "text": [
      "/home/ubuntu/Data/genres_original/hiphop/changedhiphop.00041.wav\n"
     ]
    },
    {
     "name": "stderr",
     "output_type": "stream",
     "text": [
      "/tmp/ipykernel_998/1739257450.py:12: FutureWarning: Pass sr=22050, n_steps=7 as keyword args. From version 0.10 passing these as positional arguments will result in an error\n",
      "  new_y = librosa.effects.pitch_shift(y, sr, steps)\n"
     ]
    },
    {
     "name": "stdout",
     "output_type": "stream",
     "text": [
      "/home/ubuntu/Data/genres_original/hiphop/changedhiphop.00072.wav\n"
     ]
    },
    {
     "name": "stderr",
     "output_type": "stream",
     "text": [
      "/tmp/ipykernel_998/1739257450.py:12: FutureWarning: Pass sr=22050, n_steps=7 as keyword args. From version 0.10 passing these as positional arguments will result in an error\n",
      "  new_y = librosa.effects.pitch_shift(y, sr, steps)\n"
     ]
    },
    {
     "name": "stdout",
     "output_type": "stream",
     "text": [
      "/home/ubuntu/Data/genres_original/hiphop/changedhiphop.00053.wav\n"
     ]
    },
    {
     "name": "stderr",
     "output_type": "stream",
     "text": [
      "/tmp/ipykernel_998/1739257450.py:12: FutureWarning: Pass sr=22050, n_steps=7 as keyword args. From version 0.10 passing these as positional arguments will result in an error\n",
      "  new_y = librosa.effects.pitch_shift(y, sr, steps)\n"
     ]
    },
    {
     "name": "stdout",
     "output_type": "stream",
     "text": [
      "/home/ubuntu/Data/genres_original/hiphop/changedhiphop.00004.wav\n"
     ]
    },
    {
     "name": "stderr",
     "output_type": "stream",
     "text": [
      "/tmp/ipykernel_998/1739257450.py:12: FutureWarning: Pass sr=22050, n_steps=7 as keyword args. From version 0.10 passing these as positional arguments will result in an error\n",
      "  new_y = librosa.effects.pitch_shift(y, sr, steps)\n"
     ]
    },
    {
     "name": "stdout",
     "output_type": "stream",
     "text": [
      "/home/ubuntu/Data/genres_original/hiphop/changedhiphop.00010.wav\n"
     ]
    },
    {
     "name": "stderr",
     "output_type": "stream",
     "text": [
      "/tmp/ipykernel_998/1739257450.py:12: FutureWarning: Pass sr=22050, n_steps=7 as keyword args. From version 0.10 passing these as positional arguments will result in an error\n",
      "  new_y = librosa.effects.pitch_shift(y, sr, steps)\n"
     ]
    },
    {
     "name": "stdout",
     "output_type": "stream",
     "text": [
      "/home/ubuntu/Data/genres_original/hiphop/changedhiphop.00098.wav\n"
     ]
    },
    {
     "name": "stderr",
     "output_type": "stream",
     "text": [
      "/tmp/ipykernel_998/1739257450.py:12: FutureWarning: Pass sr=22050, n_steps=7 as keyword args. From version 0.10 passing these as positional arguments will result in an error\n",
      "  new_y = librosa.effects.pitch_shift(y, sr, steps)\n"
     ]
    },
    {
     "name": "stdout",
     "output_type": "stream",
     "text": [
      "/home/ubuntu/Data/genres_original/hiphop/changedhiphop.00034.wav\n"
     ]
    },
    {
     "name": "stderr",
     "output_type": "stream",
     "text": [
      "/tmp/ipykernel_998/1739257450.py:12: FutureWarning: Pass sr=22050, n_steps=7 as keyword args. From version 0.10 passing these as positional arguments will result in an error\n",
      "  new_y = librosa.effects.pitch_shift(y, sr, steps)\n"
     ]
    },
    {
     "name": "stdout",
     "output_type": "stream",
     "text": [
      "/home/ubuntu/Data/genres_original/hiphop/changedhiphop.00030.wav\n"
     ]
    },
    {
     "name": "stderr",
     "output_type": "stream",
     "text": [
      "/tmp/ipykernel_998/1739257450.py:12: FutureWarning: Pass sr=22050, n_steps=7 as keyword args. From version 0.10 passing these as positional arguments will result in an error\n",
      "  new_y = librosa.effects.pitch_shift(y, sr, steps)\n"
     ]
    },
    {
     "name": "stdout",
     "output_type": "stream",
     "text": [
      "/home/ubuntu/Data/genres_original/hiphop/changedhiphop.00044.wav\n"
     ]
    },
    {
     "name": "stderr",
     "output_type": "stream",
     "text": [
      "/tmp/ipykernel_998/1739257450.py:12: FutureWarning: Pass sr=22050, n_steps=7 as keyword args. From version 0.10 passing these as positional arguments will result in an error\n",
      "  new_y = librosa.effects.pitch_shift(y, sr, steps)\n"
     ]
    },
    {
     "name": "stdout",
     "output_type": "stream",
     "text": [
      "/home/ubuntu/Data/genres_original/hiphop/changedhiphop.00060.wav\n"
     ]
    },
    {
     "name": "stderr",
     "output_type": "stream",
     "text": [
      "/tmp/ipykernel_998/1739257450.py:12: FutureWarning: Pass sr=22050, n_steps=7 as keyword args. From version 0.10 passing these as positional arguments will result in an error\n",
      "  new_y = librosa.effects.pitch_shift(y, sr, steps)\n"
     ]
    },
    {
     "name": "stdout",
     "output_type": "stream",
     "text": [
      "/home/ubuntu/Data/genres_original/hiphop/changedhiphop.00061.wav\n"
     ]
    },
    {
     "name": "stderr",
     "output_type": "stream",
     "text": [
      "/tmp/ipykernel_998/1739257450.py:12: FutureWarning: Pass sr=22050, n_steps=7 as keyword args. From version 0.10 passing these as positional arguments will result in an error\n",
      "  new_y = librosa.effects.pitch_shift(y, sr, steps)\n"
     ]
    },
    {
     "name": "stdout",
     "output_type": "stream",
     "text": [
      "/home/ubuntu/Data/genres_original/hiphop/changedhiphop.00029.wav\n"
     ]
    },
    {
     "name": "stderr",
     "output_type": "stream",
     "text": [
      "/tmp/ipykernel_998/1739257450.py:12: FutureWarning: Pass sr=22050, n_steps=7 as keyword args. From version 0.10 passing these as positional arguments will result in an error\n",
      "  new_y = librosa.effects.pitch_shift(y, sr, steps)\n"
     ]
    },
    {
     "name": "stdout",
     "output_type": "stream",
     "text": [
      "/home/ubuntu/Data/genres_original/hiphop/changedhiphop.00074.wav\n"
     ]
    },
    {
     "name": "stderr",
     "output_type": "stream",
     "text": [
      "/tmp/ipykernel_998/1739257450.py:12: FutureWarning: Pass sr=22050, n_steps=7 as keyword args. From version 0.10 passing these as positional arguments will result in an error\n",
      "  new_y = librosa.effects.pitch_shift(y, sr, steps)\n"
     ]
    },
    {
     "name": "stdout",
     "output_type": "stream",
     "text": [
      "/home/ubuntu/Data/genres_original/hiphop/changedhiphop.00077.wav\n"
     ]
    },
    {
     "name": "stderr",
     "output_type": "stream",
     "text": [
      "/tmp/ipykernel_998/1739257450.py:12: FutureWarning: Pass sr=22050, n_steps=7 as keyword args. From version 0.10 passing these as positional arguments will result in an error\n",
      "  new_y = librosa.effects.pitch_shift(y, sr, steps)\n"
     ]
    },
    {
     "name": "stdout",
     "output_type": "stream",
     "text": [
      "/home/ubuntu/Data/genres_original/hiphop/changedhiphop.00082.wav\n"
     ]
    },
    {
     "name": "stderr",
     "output_type": "stream",
     "text": [
      "/tmp/ipykernel_998/1739257450.py:12: FutureWarning: Pass sr=22050, n_steps=7 as keyword args. From version 0.10 passing these as positional arguments will result in an error\n",
      "  new_y = librosa.effects.pitch_shift(y, sr, steps)\n"
     ]
    },
    {
     "name": "stdout",
     "output_type": "stream",
     "text": [
      "/home/ubuntu/Data/genres_original/hiphop/changedhiphop.00078.wav\n"
     ]
    },
    {
     "name": "stderr",
     "output_type": "stream",
     "text": [
      "/tmp/ipykernel_998/1739257450.py:12: FutureWarning: Pass sr=22050, n_steps=7 as keyword args. From version 0.10 passing these as positional arguments will result in an error\n",
      "  new_y = librosa.effects.pitch_shift(y, sr, steps)\n"
     ]
    },
    {
     "name": "stdout",
     "output_type": "stream",
     "text": [
      "/home/ubuntu/Data/genres_original/hiphop/changedhiphop.00087.wav\n"
     ]
    },
    {
     "name": "stderr",
     "output_type": "stream",
     "text": [
      "/tmp/ipykernel_998/1739257450.py:12: FutureWarning: Pass sr=22050, n_steps=7 as keyword args. From version 0.10 passing these as positional arguments will result in an error\n",
      "  new_y = librosa.effects.pitch_shift(y, sr, steps)\n"
     ]
    },
    {
     "name": "stdout",
     "output_type": "stream",
     "text": [
      "/home/ubuntu/Data/genres_original/hiphop/changedhiphop.00079.wav\n"
     ]
    },
    {
     "name": "stderr",
     "output_type": "stream",
     "text": [
      "/tmp/ipykernel_998/1739257450.py:12: FutureWarning: Pass sr=22050, n_steps=7 as keyword args. From version 0.10 passing these as positional arguments will result in an error\n",
      "  new_y = librosa.effects.pitch_shift(y, sr, steps)\n"
     ]
    },
    {
     "name": "stdout",
     "output_type": "stream",
     "text": [
      "/home/ubuntu/Data/genres_original/hiphop/changedhiphop.00043.wav\n"
     ]
    },
    {
     "name": "stderr",
     "output_type": "stream",
     "text": [
      "/tmp/ipykernel_998/1739257450.py:12: FutureWarning: Pass sr=22050, n_steps=7 as keyword args. From version 0.10 passing these as positional arguments will result in an error\n",
      "  new_y = librosa.effects.pitch_shift(y, sr, steps)\n"
     ]
    },
    {
     "name": "stdout",
     "output_type": "stream",
     "text": [
      "/home/ubuntu/Data/genres_original/hiphop/changedhiphop.00003.wav\n"
     ]
    },
    {
     "name": "stderr",
     "output_type": "stream",
     "text": [
      "/tmp/ipykernel_998/1739257450.py:12: FutureWarning: Pass sr=22050, n_steps=7 as keyword args. From version 0.10 passing these as positional arguments will result in an error\n",
      "  new_y = librosa.effects.pitch_shift(y, sr, steps)\n"
     ]
    },
    {
     "name": "stdout",
     "output_type": "stream",
     "text": [
      "/home/ubuntu/Data/genres_original/hiphop/changedhiphop.00006.wav\n"
     ]
    },
    {
     "name": "stderr",
     "output_type": "stream",
     "text": [
      "/tmp/ipykernel_998/1739257450.py:12: FutureWarning: Pass sr=22050, n_steps=7 as keyword args. From version 0.10 passing these as positional arguments will result in an error\n",
      "  new_y = librosa.effects.pitch_shift(y, sr, steps)\n"
     ]
    },
    {
     "name": "stdout",
     "output_type": "stream",
     "text": [
      "/home/ubuntu/Data/genres_original/hiphop/changedhiphop.00000.wav\n"
     ]
    },
    {
     "name": "stderr",
     "output_type": "stream",
     "text": [
      "/tmp/ipykernel_998/1739257450.py:12: FutureWarning: Pass sr=22050, n_steps=7 as keyword args. From version 0.10 passing these as positional arguments will result in an error\n",
      "  new_y = librosa.effects.pitch_shift(y, sr, steps)\n"
     ]
    },
    {
     "name": "stdout",
     "output_type": "stream",
     "text": [
      "/home/ubuntu/Data/genres_original/hiphop/changedhiphop.00042.wav\n"
     ]
    },
    {
     "name": "stderr",
     "output_type": "stream",
     "text": [
      "/tmp/ipykernel_998/1739257450.py:12: FutureWarning: Pass sr=22050, n_steps=7 as keyword args. From version 0.10 passing these as positional arguments will result in an error\n",
      "  new_y = librosa.effects.pitch_shift(y, sr, steps)\n"
     ]
    },
    {
     "name": "stdout",
     "output_type": "stream",
     "text": [
      "/home/ubuntu/Data/genres_original/hiphop/changedhiphop.00007.wav\n"
     ]
    },
    {
     "name": "stderr",
     "output_type": "stream",
     "text": [
      "/tmp/ipykernel_998/1739257450.py:12: FutureWarning: Pass sr=22050, n_steps=7 as keyword args. From version 0.10 passing these as positional arguments will result in an error\n",
      "  new_y = librosa.effects.pitch_shift(y, sr, steps)\n"
     ]
    },
    {
     "name": "stdout",
     "output_type": "stream",
     "text": [
      "/home/ubuntu/Data/genres_original/hiphop/changedhiphop.00065.wav\n"
     ]
    },
    {
     "name": "stderr",
     "output_type": "stream",
     "text": [
      "/tmp/ipykernel_998/1739257450.py:12: FutureWarning: Pass sr=22050, n_steps=7 as keyword args. From version 0.10 passing these as positional arguments will result in an error\n",
      "  new_y = librosa.effects.pitch_shift(y, sr, steps)\n"
     ]
    },
    {
     "name": "stdout",
     "output_type": "stream",
     "text": [
      "/home/ubuntu/Data/genres_original/hiphop/changedhiphop.00064.wav\n"
     ]
    },
    {
     "name": "stderr",
     "output_type": "stream",
     "text": [
      "/tmp/ipykernel_998/1739257450.py:12: FutureWarning: Pass sr=22050, n_steps=7 as keyword args. From version 0.10 passing these as positional arguments will result in an error\n",
      "  new_y = librosa.effects.pitch_shift(y, sr, steps)\n"
     ]
    },
    {
     "name": "stdout",
     "output_type": "stream",
     "text": [
      "/home/ubuntu/Data/genres_original/hiphop/changedhiphop.00088.wav\n"
     ]
    },
    {
     "name": "stderr",
     "output_type": "stream",
     "text": [
      "/tmp/ipykernel_998/1739257450.py:12: FutureWarning: Pass sr=22050, n_steps=7 as keyword args. From version 0.10 passing these as positional arguments will result in an error\n",
      "  new_y = librosa.effects.pitch_shift(y, sr, steps)\n"
     ]
    },
    {
     "name": "stdout",
     "output_type": "stream",
     "text": [
      "/home/ubuntu/Data/genres_original/hiphop/changedhiphop.00022.wav\n"
     ]
    },
    {
     "name": "stderr",
     "output_type": "stream",
     "text": [
      "/tmp/ipykernel_998/1739257450.py:12: FutureWarning: Pass sr=22050, n_steps=7 as keyword args. From version 0.10 passing these as positional arguments will result in an error\n",
      "  new_y = librosa.effects.pitch_shift(y, sr, steps)\n"
     ]
    },
    {
     "name": "stdout",
     "output_type": "stream",
     "text": [
      "/home/ubuntu/Data/genres_original/hiphop/changedhiphop.00036.wav\n"
     ]
    },
    {
     "name": "stderr",
     "output_type": "stream",
     "text": [
      "/tmp/ipykernel_998/1739257450.py:12: FutureWarning: Pass sr=22050, n_steps=7 as keyword args. From version 0.10 passing these as positional arguments will result in an error\n",
      "  new_y = librosa.effects.pitch_shift(y, sr, steps)\n"
     ]
    },
    {
     "name": "stdout",
     "output_type": "stream",
     "text": [
      "/home/ubuntu/Data/genres_original/hiphop/changedhiphop.00094.wav\n"
     ]
    },
    {
     "name": "stderr",
     "output_type": "stream",
     "text": [
      "/tmp/ipykernel_998/1739257450.py:12: FutureWarning: Pass sr=22050, n_steps=7 as keyword args. From version 0.10 passing these as positional arguments will result in an error\n",
      "  new_y = librosa.effects.pitch_shift(y, sr, steps)\n"
     ]
    },
    {
     "name": "stdout",
     "output_type": "stream",
     "text": [
      "/home/ubuntu/Data/genres_original/hiphop/changedhiphop.00059.wav\n"
     ]
    },
    {
     "name": "stderr",
     "output_type": "stream",
     "text": [
      "/tmp/ipykernel_998/1739257450.py:12: FutureWarning: Pass sr=22050, n_steps=7 as keyword args. From version 0.10 passing these as positional arguments will result in an error\n",
      "  new_y = librosa.effects.pitch_shift(y, sr, steps)\n"
     ]
    },
    {
     "name": "stdout",
     "output_type": "stream",
     "text": [
      "/home/ubuntu/Data/genres_original/hiphop/changedhiphop.00095.wav\n"
     ]
    },
    {
     "name": "stderr",
     "output_type": "stream",
     "text": [
      "/tmp/ipykernel_998/1739257450.py:12: FutureWarning: Pass sr=22050, n_steps=7 as keyword args. From version 0.10 passing these as positional arguments will result in an error\n",
      "  new_y = librosa.effects.pitch_shift(y, sr, steps)\n"
     ]
    },
    {
     "name": "stdout",
     "output_type": "stream",
     "text": [
      "/home/ubuntu/Data/genres_original/hiphop/changedhiphop.00092.wav\n"
     ]
    },
    {
     "name": "stderr",
     "output_type": "stream",
     "text": [
      "/tmp/ipykernel_998/1739257450.py:12: FutureWarning: Pass sr=22050, n_steps=7 as keyword args. From version 0.10 passing these as positional arguments will result in an error\n",
      "  new_y = librosa.effects.pitch_shift(y, sr, steps)\n"
     ]
    },
    {
     "name": "stdout",
     "output_type": "stream",
     "text": [
      "/home/ubuntu/Data/genres_original/hiphop/changedhiphop.00090.wav\n"
     ]
    },
    {
     "name": "stderr",
     "output_type": "stream",
     "text": [
      "/tmp/ipykernel_998/1739257450.py:12: FutureWarning: Pass sr=22050, n_steps=7 as keyword args. From version 0.10 passing these as positional arguments will result in an error\n",
      "  new_y = librosa.effects.pitch_shift(y, sr, steps)\n"
     ]
    },
    {
     "name": "stdout",
     "output_type": "stream",
     "text": [
      "/home/ubuntu/Data/genres_original/hiphop/changedhiphop.00025.wav\n"
     ]
    },
    {
     "name": "stderr",
     "output_type": "stream",
     "text": [
      "/tmp/ipykernel_998/1739257450.py:12: FutureWarning: Pass sr=22050, n_steps=7 as keyword args. From version 0.10 passing these as positional arguments will result in an error\n",
      "  new_y = librosa.effects.pitch_shift(y, sr, steps)\n"
     ]
    },
    {
     "name": "stdout",
     "output_type": "stream",
     "text": [
      "/home/ubuntu/Data/genres_original/hiphop/changedhiphop.00015.wav\n"
     ]
    },
    {
     "name": "stderr",
     "output_type": "stream",
     "text": [
      "/tmp/ipykernel_998/1739257450.py:12: FutureWarning: Pass sr=22050, n_steps=7 as keyword args. From version 0.10 passing these as positional arguments will result in an error\n",
      "  new_y = librosa.effects.pitch_shift(y, sr, steps)\n"
     ]
    },
    {
     "name": "stdout",
     "output_type": "stream",
     "text": [
      "/home/ubuntu/Data/genres_original/hiphop/changedhiphop.00032.wav\n"
     ]
    },
    {
     "name": "stderr",
     "output_type": "stream",
     "text": [
      "/tmp/ipykernel_998/1739257450.py:12: FutureWarning: Pass sr=22050, n_steps=7 as keyword args. From version 0.10 passing these as positional arguments will result in an error\n",
      "  new_y = librosa.effects.pitch_shift(y, sr, steps)\n"
     ]
    },
    {
     "name": "stdout",
     "output_type": "stream",
     "text": [
      "/home/ubuntu/Data/genres_original/hiphop/changedhiphop.00011.wav\n"
     ]
    },
    {
     "name": "stderr",
     "output_type": "stream",
     "text": [
      "/tmp/ipykernel_998/1739257450.py:12: FutureWarning: Pass sr=22050, n_steps=7 as keyword args. From version 0.10 passing these as positional arguments will result in an error\n",
      "  new_y = librosa.effects.pitch_shift(y, sr, steps)\n"
     ]
    },
    {
     "name": "stdout",
     "output_type": "stream",
     "text": [
      "/home/ubuntu/Data/genres_original/hiphop/changedhiphop.00099.wav\n"
     ]
    },
    {
     "name": "stderr",
     "output_type": "stream",
     "text": [
      "/tmp/ipykernel_998/1739257450.py:12: FutureWarning: Pass sr=22050, n_steps=7 as keyword args. From version 0.10 passing these as positional arguments will result in an error\n",
      "  new_y = librosa.effects.pitch_shift(y, sr, steps)\n"
     ]
    },
    {
     "name": "stdout",
     "output_type": "stream",
     "text": [
      "/home/ubuntu/Data/genres_original/hiphop/changedhiphop.00058.wav\n"
     ]
    },
    {
     "name": "stderr",
     "output_type": "stream",
     "text": [
      "/tmp/ipykernel_998/1739257450.py:12: FutureWarning: Pass sr=22050, n_steps=7 as keyword args. From version 0.10 passing these as positional arguments will result in an error\n",
      "  new_y = librosa.effects.pitch_shift(y, sr, steps)\n"
     ]
    },
    {
     "name": "stdout",
     "output_type": "stream",
     "text": [
      "/home/ubuntu/Data/genres_original/hiphop/changedhiphop.00021.wav\n"
     ]
    },
    {
     "name": "stderr",
     "output_type": "stream",
     "text": [
      "/tmp/ipykernel_998/1739257450.py:12: FutureWarning: Pass sr=22050, n_steps=7 as keyword args. From version 0.10 passing these as positional arguments will result in an error\n",
      "  new_y = librosa.effects.pitch_shift(y, sr, steps)\n"
     ]
    },
    {
     "name": "stdout",
     "output_type": "stream",
     "text": [
      "/home/ubuntu/Data/genres_original/hiphop/changedhiphop.00067.wav\n"
     ]
    },
    {
     "name": "stderr",
     "output_type": "stream",
     "text": [
      "/tmp/ipykernel_998/1739257450.py:12: FutureWarning: Pass sr=22050, n_steps=7 as keyword args. From version 0.10 passing these as positional arguments will result in an error\n",
      "  new_y = librosa.effects.pitch_shift(y, sr, steps)\n"
     ]
    },
    {
     "name": "stdout",
     "output_type": "stream",
     "text": [
      "/home/ubuntu/Data/genres_original/hiphop/changedhiphop.00070.wav\n"
     ]
    },
    {
     "name": "stderr",
     "output_type": "stream",
     "text": [
      "/tmp/ipykernel_998/1739257450.py:12: FutureWarning: Pass sr=22050, n_steps=7 as keyword args. From version 0.10 passing these as positional arguments will result in an error\n",
      "  new_y = librosa.effects.pitch_shift(y, sr, steps)\n"
     ]
    },
    {
     "name": "stdout",
     "output_type": "stream",
     "text": [
      "/home/ubuntu/Data/genres_original/hiphop/changedhiphop.00091.wav\n"
     ]
    },
    {
     "name": "stderr",
     "output_type": "stream",
     "text": [
      "/tmp/ipykernel_998/1739257450.py:12: FutureWarning: Pass sr=22050, n_steps=7 as keyword args. From version 0.10 passing these as positional arguments will result in an error\n",
      "  new_y = librosa.effects.pitch_shift(y, sr, steps)\n"
     ]
    },
    {
     "name": "stdout",
     "output_type": "stream",
     "text": [
      "/home/ubuntu/Data/genres_original/hiphop/changedhiphop.00031.wav\n"
     ]
    },
    {
     "name": "stderr",
     "output_type": "stream",
     "text": [
      "/tmp/ipykernel_998/1739257450.py:12: FutureWarning: Pass sr=22050, n_steps=7 as keyword args. From version 0.10 passing these as positional arguments will result in an error\n",
      "  new_y = librosa.effects.pitch_shift(y, sr, steps)\n"
     ]
    },
    {
     "name": "stdout",
     "output_type": "stream",
     "text": [
      "/home/ubuntu/Data/genres_original/hiphop/changedhiphop.00062.wav\n"
     ]
    },
    {
     "name": "stderr",
     "output_type": "stream",
     "text": [
      "/tmp/ipykernel_998/1739257450.py:12: FutureWarning: Pass sr=22050, n_steps=7 as keyword args. From version 0.10 passing these as positional arguments will result in an error\n",
      "  new_y = librosa.effects.pitch_shift(y, sr, steps)\n"
     ]
    },
    {
     "name": "stdout",
     "output_type": "stream",
     "text": [
      "/home/ubuntu/Data/genres_original/hiphop/changedhiphop.00005.wav\n"
     ]
    },
    {
     "name": "stderr",
     "output_type": "stream",
     "text": [
      "/tmp/ipykernel_998/1739257450.py:12: FutureWarning: Pass sr=22050, n_steps=7 as keyword args. From version 0.10 passing these as positional arguments will result in an error\n",
      "  new_y = librosa.effects.pitch_shift(y, sr, steps)\n"
     ]
    },
    {
     "name": "stdout",
     "output_type": "stream",
     "text": [
      "/home/ubuntu/Data/genres_original/hiphop/changedhiphop.00056.wav\n"
     ]
    },
    {
     "name": "stderr",
     "output_type": "stream",
     "text": [
      "/tmp/ipykernel_998/1739257450.py:12: FutureWarning: Pass sr=22050, n_steps=7 as keyword args. From version 0.10 passing these as positional arguments will result in an error\n",
      "  new_y = librosa.effects.pitch_shift(y, sr, steps)\n"
     ]
    },
    {
     "name": "stdout",
     "output_type": "stream",
     "text": [
      "/home/ubuntu/Data/genres_original/hiphop/changedhiphop.00028.wav\n"
     ]
    },
    {
     "name": "stderr",
     "output_type": "stream",
     "text": [
      "/tmp/ipykernel_998/1739257450.py:12: FutureWarning: Pass sr=22050, n_steps=7 as keyword args. From version 0.10 passing these as positional arguments will result in an error\n",
      "  new_y = librosa.effects.pitch_shift(y, sr, steps)\n"
     ]
    },
    {
     "name": "stdout",
     "output_type": "stream",
     "text": [
      "/home/ubuntu/Data/genres_original/hiphop/changedhiphop.00019.wav\n"
     ]
    },
    {
     "name": "stderr",
     "output_type": "stream",
     "text": [
      "/tmp/ipykernel_998/1739257450.py:12: FutureWarning: Pass sr=22050, n_steps=7 as keyword args. From version 0.10 passing these as positional arguments will result in an error\n",
      "  new_y = librosa.effects.pitch_shift(y, sr, steps)\n"
     ]
    },
    {
     "name": "stdout",
     "output_type": "stream",
     "text": [
      "/home/ubuntu/Data/genres_original/hiphop/changedhiphop.00035.wav\n"
     ]
    },
    {
     "name": "stderr",
     "output_type": "stream",
     "text": [
      "/tmp/ipykernel_998/1739257450.py:12: FutureWarning: Pass sr=22050, n_steps=7 as keyword args. From version 0.10 passing these as positional arguments will result in an error\n",
      "  new_y = librosa.effects.pitch_shift(y, sr, steps)\n"
     ]
    },
    {
     "name": "stdout",
     "output_type": "stream",
     "text": [
      "/home/ubuntu/Data/genres_original/hiphop/changedhiphop.00066.wav\n"
     ]
    },
    {
     "name": "stderr",
     "output_type": "stream",
     "text": [
      "/tmp/ipykernel_998/1739257450.py:12: FutureWarning: Pass sr=22050, n_steps=7 as keyword args. From version 0.10 passing these as positional arguments will result in an error\n",
      "  new_y = librosa.effects.pitch_shift(y, sr, steps)\n"
     ]
    },
    {
     "name": "stdout",
     "output_type": "stream",
     "text": [
      "/home/ubuntu/Data/genres_original/hiphop/changedhiphop.00040.wav\n"
     ]
    },
    {
     "name": "stderr",
     "output_type": "stream",
     "text": [
      "/tmp/ipykernel_998/1739257450.py:12: FutureWarning: Pass sr=22050, n_steps=7 as keyword args. From version 0.10 passing these as positional arguments will result in an error\n",
      "  new_y = librosa.effects.pitch_shift(y, sr, steps)\n"
     ]
    },
    {
     "name": "stdout",
     "output_type": "stream",
     "text": [
      "/home/ubuntu/Data/genres_original/hiphop/changedhiphop.00081.wav\n"
     ]
    },
    {
     "name": "stderr",
     "output_type": "stream",
     "text": [
      "/tmp/ipykernel_998/1739257450.py:12: FutureWarning: Pass sr=22050, n_steps=7 as keyword args. From version 0.10 passing these as positional arguments will result in an error\n",
      "  new_y = librosa.effects.pitch_shift(y, sr, steps)\n"
     ]
    },
    {
     "name": "stdout",
     "output_type": "stream",
     "text": [
      "/home/ubuntu/Data/genres_original/hiphop/changedhiphop.00063.wav\n"
     ]
    },
    {
     "name": "stderr",
     "output_type": "stream",
     "text": [
      "/tmp/ipykernel_998/1739257450.py:12: FutureWarning: Pass sr=22050, n_steps=7 as keyword args. From version 0.10 passing these as positional arguments will result in an error\n",
      "  new_y = librosa.effects.pitch_shift(y, sr, steps)\n"
     ]
    },
    {
     "name": "stdout",
     "output_type": "stream",
     "text": [
      "/home/ubuntu/Data/genres_original/hiphop/changedhiphop.00049.wav\n"
     ]
    },
    {
     "name": "stderr",
     "output_type": "stream",
     "text": [
      "/tmp/ipykernel_998/1739257450.py:12: FutureWarning: Pass sr=22050, n_steps=7 as keyword args. From version 0.10 passing these as positional arguments will result in an error\n",
      "  new_y = librosa.effects.pitch_shift(y, sr, steps)\n"
     ]
    },
    {
     "name": "stdout",
     "output_type": "stream",
     "text": [
      "/home/ubuntu/Data/genres_original/hiphop/changedhiphop.00071.wav\n"
     ]
    },
    {
     "name": "stderr",
     "output_type": "stream",
     "text": [
      "/tmp/ipykernel_998/1739257450.py:12: FutureWarning: Pass sr=22050, n_steps=7 as keyword args. From version 0.10 passing these as positional arguments will result in an error\n",
      "  new_y = librosa.effects.pitch_shift(y, sr, steps)\n"
     ]
    },
    {
     "name": "stdout",
     "output_type": "stream",
     "text": [
      "/home/ubuntu/Data/genres_original/hiphop/changedhiphop.00054.wav\n"
     ]
    },
    {
     "name": "stderr",
     "output_type": "stream",
     "text": [
      "/tmp/ipykernel_998/1739257450.py:12: FutureWarning: Pass sr=22050, n_steps=7 as keyword args. From version 0.10 passing these as positional arguments will result in an error\n",
      "  new_y = librosa.effects.pitch_shift(y, sr, steps)\n"
     ]
    },
    {
     "name": "stdout",
     "output_type": "stream",
     "text": [
      "/home/ubuntu/Data/genres_original/hiphop/changedhiphop.00057.wav\n"
     ]
    },
    {
     "name": "stderr",
     "output_type": "stream",
     "text": [
      "/tmp/ipykernel_998/1739257450.py:12: FutureWarning: Pass sr=22050, n_steps=7 as keyword args. From version 0.10 passing these as positional arguments will result in an error\n",
      "  new_y = librosa.effects.pitch_shift(y, sr, steps)\n"
     ]
    },
    {
     "name": "stdout",
     "output_type": "stream",
     "text": [
      "/home/ubuntu/Data/genres_original/hiphop/changedhiphop.00014.wav\n"
     ]
    },
    {
     "name": "stderr",
     "output_type": "stream",
     "text": [
      "/tmp/ipykernel_998/1739257450.py:12: FutureWarning: Pass sr=22050, n_steps=7 as keyword args. From version 0.10 passing these as positional arguments will result in an error\n",
      "  new_y = librosa.effects.pitch_shift(y, sr, steps)\n"
     ]
    },
    {
     "name": "stdout",
     "output_type": "stream",
     "text": [
      "/home/ubuntu/Data/genres_original/hiphop/changedhiphop.00085.wav\n"
     ]
    },
    {
     "name": "stderr",
     "output_type": "stream",
     "text": [
      "/tmp/ipykernel_998/1739257450.py:12: FutureWarning: Pass sr=22050, n_steps=7 as keyword args. From version 0.10 passing these as positional arguments will result in an error\n",
      "  new_y = librosa.effects.pitch_shift(y, sr, steps)\n"
     ]
    },
    {
     "name": "stdout",
     "output_type": "stream",
     "text": [
      "/home/ubuntu/Data/genres_original/hiphop/changedhiphop.00086.wav\n"
     ]
    },
    {
     "name": "stderr",
     "output_type": "stream",
     "text": [
      "/tmp/ipykernel_998/1739257450.py:12: FutureWarning: Pass sr=22050, n_steps=7 as keyword args. From version 0.10 passing these as positional arguments will result in an error\n",
      "  new_y = librosa.effects.pitch_shift(y, sr, steps)\n"
     ]
    },
    {
     "name": "stdout",
     "output_type": "stream",
     "text": [
      "/home/ubuntu/Data/genres_original/hiphop/changedhiphop.00068.wav\n"
     ]
    },
    {
     "name": "stderr",
     "output_type": "stream",
     "text": [
      "/tmp/ipykernel_998/1739257450.py:12: FutureWarning: Pass sr=22050, n_steps=7 as keyword args. From version 0.10 passing these as positional arguments will result in an error\n",
      "  new_y = librosa.effects.pitch_shift(y, sr, steps)\n"
     ]
    },
    {
     "name": "stdout",
     "output_type": "stream",
     "text": [
      "/home/ubuntu/Data/genres_original/hiphop/changedhiphop.00008.wav\n"
     ]
    },
    {
     "name": "stderr",
     "output_type": "stream",
     "text": [
      "/tmp/ipykernel_998/1739257450.py:12: FutureWarning: Pass sr=22050, n_steps=7 as keyword args. From version 0.10 passing these as positional arguments will result in an error\n",
      "  new_y = librosa.effects.pitch_shift(y, sr, steps)\n"
     ]
    },
    {
     "name": "stdout",
     "output_type": "stream",
     "text": [
      "/home/ubuntu/Data/genres_original/hiphop/changedhiphop.00026.wav\n"
     ]
    },
    {
     "name": "stderr",
     "output_type": "stream",
     "text": [
      "/tmp/ipykernel_998/1739257450.py:12: FutureWarning: Pass sr=22050, n_steps=7 as keyword args. From version 0.10 passing these as positional arguments will result in an error\n",
      "  new_y = librosa.effects.pitch_shift(y, sr, steps)\n"
     ]
    },
    {
     "name": "stdout",
     "output_type": "stream",
     "text": [
      "/home/ubuntu/Data/genres_original/hiphop/changedhiphop.00045.wav\n"
     ]
    },
    {
     "name": "stderr",
     "output_type": "stream",
     "text": [
      "/tmp/ipykernel_998/1739257450.py:12: FutureWarning: Pass sr=22050, n_steps=7 as keyword args. From version 0.10 passing these as positional arguments will result in an error\n",
      "  new_y = librosa.effects.pitch_shift(y, sr, steps)\n"
     ]
    },
    {
     "name": "stdout",
     "output_type": "stream",
     "text": [
      "/home/ubuntu/Data/genres_original/hiphop/changedhiphop.00076.wav\n"
     ]
    },
    {
     "name": "stderr",
     "output_type": "stream",
     "text": [
      "/tmp/ipykernel_998/1739257450.py:12: FutureWarning: Pass sr=22050, n_steps=7 as keyword args. From version 0.10 passing these as positional arguments will result in an error\n",
      "  new_y = librosa.effects.pitch_shift(y, sr, steps)\n"
     ]
    },
    {
     "name": "stdout",
     "output_type": "stream",
     "text": [
      "/home/ubuntu/Data/genres_original/hiphop/changedhiphop.00073.wav\n"
     ]
    },
    {
     "name": "stderr",
     "output_type": "stream",
     "text": [
      "/tmp/ipykernel_998/1739257450.py:12: FutureWarning: Pass sr=22050, n_steps=7 as keyword args. From version 0.10 passing these as positional arguments will result in an error\n",
      "  new_y = librosa.effects.pitch_shift(y, sr, steps)\n"
     ]
    },
    {
     "name": "stdout",
     "output_type": "stream",
     "text": [
      "/home/ubuntu/Data/genres_original/hiphop/changedhiphop.00012.wav\n"
     ]
    },
    {
     "name": "stderr",
     "output_type": "stream",
     "text": [
      "/tmp/ipykernel_998/1739257450.py:12: FutureWarning: Pass sr=22050, n_steps=7 as keyword args. From version 0.10 passing these as positional arguments will result in an error\n",
      "  new_y = librosa.effects.pitch_shift(y, sr, steps)\n"
     ]
    },
    {
     "name": "stdout",
     "output_type": "stream",
     "text": [
      "/home/ubuntu/Data/genres_original/hiphop/changedhiphop.00051.wav\n"
     ]
    },
    {
     "name": "stderr",
     "output_type": "stream",
     "text": [
      "/tmp/ipykernel_998/1739257450.py:12: FutureWarning: Pass sr=22050, n_steps=7 as keyword args. From version 0.10 passing these as positional arguments will result in an error\n",
      "  new_y = librosa.effects.pitch_shift(y, sr, steps)\n"
     ]
    },
    {
     "name": "stdout",
     "output_type": "stream",
     "text": [
      "/home/ubuntu/Data/genres_original/hiphop/changedhiphop.00075.wav\n"
     ]
    },
    {
     "name": "stderr",
     "output_type": "stream",
     "text": [
      "/tmp/ipykernel_998/1739257450.py:12: FutureWarning: Pass sr=22050, n_steps=7 as keyword args. From version 0.10 passing these as positional arguments will result in an error\n",
      "  new_y = librosa.effects.pitch_shift(y, sr, steps)\n"
     ]
    },
    {
     "name": "stdout",
     "output_type": "stream",
     "text": [
      "/home/ubuntu/Data/genres_original/hiphop/changedhiphop.00084.wav\n"
     ]
    },
    {
     "name": "stderr",
     "output_type": "stream",
     "text": [
      "/tmp/ipykernel_998/1739257450.py:12: FutureWarning: Pass sr=22050, n_steps=7 as keyword args. From version 0.10 passing these as positional arguments will result in an error\n",
      "  new_y = librosa.effects.pitch_shift(y, sr, steps)\n"
     ]
    },
    {
     "name": "stdout",
     "output_type": "stream",
     "text": [
      "/home/ubuntu/Data/genres_original/hiphop/changedhiphop.00018.wav\n",
      "current dir path is /home/ubuntu/Data/genres_original/blues\n"
     ]
    },
    {
     "name": "stderr",
     "output_type": "stream",
     "text": [
      "/tmp/ipykernel_998/1739257450.py:12: FutureWarning: Pass sr=22050, n_steps=7 as keyword args. From version 0.10 passing these as positional arguments will result in an error\n",
      "  new_y = librosa.effects.pitch_shift(y, sr, steps)\n"
     ]
    },
    {
     "name": "stdout",
     "output_type": "stream",
     "text": [
      "/home/ubuntu/Data/genres_original/blues/changedblues.00081.wav\n"
     ]
    },
    {
     "name": "stderr",
     "output_type": "stream",
     "text": [
      "/tmp/ipykernel_998/1739257450.py:12: FutureWarning: Pass sr=22050, n_steps=7 as keyword args. From version 0.10 passing these as positional arguments will result in an error\n",
      "  new_y = librosa.effects.pitch_shift(y, sr, steps)\n"
     ]
    },
    {
     "name": "stdout",
     "output_type": "stream",
     "text": [
      "/home/ubuntu/Data/genres_original/blues/changedblues.00009.wav\n"
     ]
    },
    {
     "name": "stderr",
     "output_type": "stream",
     "text": [
      "/tmp/ipykernel_998/1739257450.py:12: FutureWarning: Pass sr=22050, n_steps=7 as keyword args. From version 0.10 passing these as positional arguments will result in an error\n",
      "  new_y = librosa.effects.pitch_shift(y, sr, steps)\n"
     ]
    },
    {
     "name": "stdout",
     "output_type": "stream",
     "text": [
      "/home/ubuntu/Data/genres_original/blues/changedblues.00097.wav\n"
     ]
    },
    {
     "name": "stderr",
     "output_type": "stream",
     "text": [
      "/tmp/ipykernel_998/1739257450.py:12: FutureWarning: Pass sr=22050, n_steps=7 as keyword args. From version 0.10 passing these as positional arguments will result in an error\n",
      "  new_y = librosa.effects.pitch_shift(y, sr, steps)\n"
     ]
    },
    {
     "name": "stdout",
     "output_type": "stream",
     "text": [
      "/home/ubuntu/Data/genres_original/blues/changedblues.00057.wav\n"
     ]
    },
    {
     "name": "stderr",
     "output_type": "stream",
     "text": [
      "/tmp/ipykernel_998/1739257450.py:12: FutureWarning: Pass sr=22050, n_steps=7 as keyword args. From version 0.10 passing these as positional arguments will result in an error\n",
      "  new_y = librosa.effects.pitch_shift(y, sr, steps)\n"
     ]
    },
    {
     "name": "stdout",
     "output_type": "stream",
     "text": [
      "/home/ubuntu/Data/genres_original/blues/changedblues.00059.wav\n"
     ]
    },
    {
     "name": "stderr",
     "output_type": "stream",
     "text": [
      "/tmp/ipykernel_998/1739257450.py:12: FutureWarning: Pass sr=22050, n_steps=7 as keyword args. From version 0.10 passing these as positional arguments will result in an error\n",
      "  new_y = librosa.effects.pitch_shift(y, sr, steps)\n"
     ]
    },
    {
     "name": "stdout",
     "output_type": "stream",
     "text": [
      "/home/ubuntu/Data/genres_original/blues/changedblues.00079.wav\n"
     ]
    },
    {
     "name": "stderr",
     "output_type": "stream",
     "text": [
      "/tmp/ipykernel_998/1739257450.py:12: FutureWarning: Pass sr=22050, n_steps=7 as keyword args. From version 0.10 passing these as positional arguments will result in an error\n",
      "  new_y = librosa.effects.pitch_shift(y, sr, steps)\n"
     ]
    },
    {
     "name": "stdout",
     "output_type": "stream",
     "text": [
      "/home/ubuntu/Data/genres_original/blues/changedblues.00091.wav\n"
     ]
    },
    {
     "name": "stderr",
     "output_type": "stream",
     "text": [
      "/tmp/ipykernel_998/1739257450.py:12: FutureWarning: Pass sr=22050, n_steps=7 as keyword args. From version 0.10 passing these as positional arguments will result in an error\n",
      "  new_y = librosa.effects.pitch_shift(y, sr, steps)\n"
     ]
    },
    {
     "name": "stdout",
     "output_type": "stream",
     "text": [
      "/home/ubuntu/Data/genres_original/blues/changedblues.00077.wav\n"
     ]
    },
    {
     "name": "stderr",
     "output_type": "stream",
     "text": [
      "/tmp/ipykernel_998/1739257450.py:12: FutureWarning: Pass sr=22050, n_steps=7 as keyword args. From version 0.10 passing these as positional arguments will result in an error\n",
      "  new_y = librosa.effects.pitch_shift(y, sr, steps)\n"
     ]
    },
    {
     "name": "stdout",
     "output_type": "stream",
     "text": [
      "/home/ubuntu/Data/genres_original/blues/changedblues.00084.wav\n"
     ]
    },
    {
     "name": "stderr",
     "output_type": "stream",
     "text": [
      "/tmp/ipykernel_998/1739257450.py:12: FutureWarning: Pass sr=22050, n_steps=7 as keyword args. From version 0.10 passing these as positional arguments will result in an error\n",
      "  new_y = librosa.effects.pitch_shift(y, sr, steps)\n"
     ]
    },
    {
     "name": "stdout",
     "output_type": "stream",
     "text": [
      "/home/ubuntu/Data/genres_original/blues/changedblues.00037.wav\n"
     ]
    },
    {
     "name": "stderr",
     "output_type": "stream",
     "text": [
      "/tmp/ipykernel_998/1739257450.py:12: FutureWarning: Pass sr=22050, n_steps=7 as keyword args. From version 0.10 passing these as positional arguments will result in an error\n",
      "  new_y = librosa.effects.pitch_shift(y, sr, steps)\n"
     ]
    },
    {
     "name": "stdout",
     "output_type": "stream",
     "text": [
      "/home/ubuntu/Data/genres_original/blues/changedblues.00080.wav\n"
     ]
    },
    {
     "name": "stderr",
     "output_type": "stream",
     "text": [
      "/tmp/ipykernel_998/1739257450.py:12: FutureWarning: Pass sr=22050, n_steps=7 as keyword args. From version 0.10 passing these as positional arguments will result in an error\n",
      "  new_y = librosa.effects.pitch_shift(y, sr, steps)\n"
     ]
    },
    {
     "name": "stdout",
     "output_type": "stream",
     "text": [
      "/home/ubuntu/Data/genres_original/blues/changedblues.00087.wav\n"
     ]
    },
    {
     "name": "stderr",
     "output_type": "stream",
     "text": [
      "/tmp/ipykernel_998/1739257450.py:12: FutureWarning: Pass sr=22050, n_steps=7 as keyword args. From version 0.10 passing these as positional arguments will result in an error\n",
      "  new_y = librosa.effects.pitch_shift(y, sr, steps)\n"
     ]
    },
    {
     "name": "stdout",
     "output_type": "stream",
     "text": [
      "/home/ubuntu/Data/genres_original/blues/changedblues.00022.wav\n"
     ]
    },
    {
     "name": "stderr",
     "output_type": "stream",
     "text": [
      "/tmp/ipykernel_998/1739257450.py:12: FutureWarning: Pass sr=22050, n_steps=7 as keyword args. From version 0.10 passing these as positional arguments will result in an error\n",
      "  new_y = librosa.effects.pitch_shift(y, sr, steps)\n"
     ]
    },
    {
     "name": "stdout",
     "output_type": "stream",
     "text": [
      "/home/ubuntu/Data/genres_original/blues/changedblues.00044.wav\n"
     ]
    },
    {
     "name": "stderr",
     "output_type": "stream",
     "text": [
      "/tmp/ipykernel_998/1739257450.py:12: FutureWarning: Pass sr=22050, n_steps=7 as keyword args. From version 0.10 passing these as positional arguments will result in an error\n",
      "  new_y = librosa.effects.pitch_shift(y, sr, steps)\n"
     ]
    },
    {
     "name": "stdout",
     "output_type": "stream",
     "text": [
      "/home/ubuntu/Data/genres_original/blues/changedblues.00055.wav\n"
     ]
    },
    {
     "name": "stderr",
     "output_type": "stream",
     "text": [
      "/tmp/ipykernel_998/1739257450.py:12: FutureWarning: Pass sr=22050, n_steps=7 as keyword args. From version 0.10 passing these as positional arguments will result in an error\n",
      "  new_y = librosa.effects.pitch_shift(y, sr, steps)\n"
     ]
    },
    {
     "name": "stdout",
     "output_type": "stream",
     "text": [
      "/home/ubuntu/Data/genres_original/blues/changedblues.00054.wav\n"
     ]
    },
    {
     "name": "stderr",
     "output_type": "stream",
     "text": [
      "/tmp/ipykernel_998/1739257450.py:12: FutureWarning: Pass sr=22050, n_steps=7 as keyword args. From version 0.10 passing these as positional arguments will result in an error\n",
      "  new_y = librosa.effects.pitch_shift(y, sr, steps)\n"
     ]
    },
    {
     "name": "stdout",
     "output_type": "stream",
     "text": [
      "/home/ubuntu/Data/genres_original/blues/changedblues.00088.wav\n"
     ]
    },
    {
     "name": "stderr",
     "output_type": "stream",
     "text": [
      "/tmp/ipykernel_998/1739257450.py:12: FutureWarning: Pass sr=22050, n_steps=7 as keyword args. From version 0.10 passing these as positional arguments will result in an error\n",
      "  new_y = librosa.effects.pitch_shift(y, sr, steps)\n"
     ]
    },
    {
     "name": "stdout",
     "output_type": "stream",
     "text": [
      "/home/ubuntu/Data/genres_original/blues/changedblues.00073.wav\n"
     ]
    },
    {
     "name": "stderr",
     "output_type": "stream",
     "text": [
      "/tmp/ipykernel_998/1739257450.py:12: FutureWarning: Pass sr=22050, n_steps=7 as keyword args. From version 0.10 passing these as positional arguments will result in an error\n",
      "  new_y = librosa.effects.pitch_shift(y, sr, steps)\n"
     ]
    },
    {
     "name": "stdout",
     "output_type": "stream",
     "text": [
      "/home/ubuntu/Data/genres_original/blues/changedblues.00025.wav\n"
     ]
    },
    {
     "name": "stderr",
     "output_type": "stream",
     "text": [
      "/tmp/ipykernel_998/1739257450.py:12: FutureWarning: Pass sr=22050, n_steps=7 as keyword args. From version 0.10 passing these as positional arguments will result in an error\n",
      "  new_y = librosa.effects.pitch_shift(y, sr, steps)\n"
     ]
    },
    {
     "name": "stdout",
     "output_type": "stream",
     "text": [
      "/home/ubuntu/Data/genres_original/blues/changedblues.00031.wav\n"
     ]
    },
    {
     "name": "stderr",
     "output_type": "stream",
     "text": [
      "/tmp/ipykernel_998/1739257450.py:12: FutureWarning: Pass sr=22050, n_steps=7 as keyword args. From version 0.10 passing these as positional arguments will result in an error\n",
      "  new_y = librosa.effects.pitch_shift(y, sr, steps)\n"
     ]
    },
    {
     "name": "stdout",
     "output_type": "stream",
     "text": [
      "/home/ubuntu/Data/genres_original/blues/changedblues.00017.wav\n"
     ]
    },
    {
     "name": "stderr",
     "output_type": "stream",
     "text": [
      "/tmp/ipykernel_998/1739257450.py:12: FutureWarning: Pass sr=22050, n_steps=7 as keyword args. From version 0.10 passing these as positional arguments will result in an error\n",
      "  new_y = librosa.effects.pitch_shift(y, sr, steps)\n"
     ]
    },
    {
     "name": "stdout",
     "output_type": "stream",
     "text": [
      "/home/ubuntu/Data/genres_original/blues/changedblues.00092.wav\n"
     ]
    },
    {
     "name": "stderr",
     "output_type": "stream",
     "text": [
      "/tmp/ipykernel_998/1739257450.py:12: FutureWarning: Pass sr=22050, n_steps=7 as keyword args. From version 0.10 passing these as positional arguments will result in an error\n",
      "  new_y = librosa.effects.pitch_shift(y, sr, steps)\n"
     ]
    },
    {
     "name": "stdout",
     "output_type": "stream",
     "text": [
      "/home/ubuntu/Data/genres_original/blues/changedblues.00029.wav\n"
     ]
    },
    {
     "name": "stderr",
     "output_type": "stream",
     "text": [
      "/tmp/ipykernel_998/1739257450.py:12: FutureWarning: Pass sr=22050, n_steps=7 as keyword args. From version 0.10 passing these as positional arguments will result in an error\n",
      "  new_y = librosa.effects.pitch_shift(y, sr, steps)\n"
     ]
    },
    {
     "name": "stdout",
     "output_type": "stream",
     "text": [
      "/home/ubuntu/Data/genres_original/blues/changedblues.00086.wav\n"
     ]
    },
    {
     "name": "stderr",
     "output_type": "stream",
     "text": [
      "/tmp/ipykernel_998/1739257450.py:12: FutureWarning: Pass sr=22050, n_steps=7 as keyword args. From version 0.10 passing these as positional arguments will result in an error\n",
      "  new_y = librosa.effects.pitch_shift(y, sr, steps)\n"
     ]
    },
    {
     "name": "stdout",
     "output_type": "stream",
     "text": [
      "/home/ubuntu/Data/genres_original/blues/changedblues.00018.wav\n"
     ]
    },
    {
     "name": "stderr",
     "output_type": "stream",
     "text": [
      "/tmp/ipykernel_998/1739257450.py:12: FutureWarning: Pass sr=22050, n_steps=7 as keyword args. From version 0.10 passing these as positional arguments will result in an error\n",
      "  new_y = librosa.effects.pitch_shift(y, sr, steps)\n"
     ]
    },
    {
     "name": "stdout",
     "output_type": "stream",
     "text": [
      "/home/ubuntu/Data/genres_original/blues/changedblues.00076.wav\n"
     ]
    },
    {
     "name": "stderr",
     "output_type": "stream",
     "text": [
      "/tmp/ipykernel_998/1739257450.py:12: FutureWarning: Pass sr=22050, n_steps=7 as keyword args. From version 0.10 passing these as positional arguments will result in an error\n",
      "  new_y = librosa.effects.pitch_shift(y, sr, steps)\n"
     ]
    },
    {
     "name": "stdout",
     "output_type": "stream",
     "text": [
      "/home/ubuntu/Data/genres_original/blues/changedblues.00063.wav\n"
     ]
    },
    {
     "name": "stderr",
     "output_type": "stream",
     "text": [
      "/tmp/ipykernel_998/1739257450.py:12: FutureWarning: Pass sr=22050, n_steps=7 as keyword args. From version 0.10 passing these as positional arguments will result in an error\n",
      "  new_y = librosa.effects.pitch_shift(y, sr, steps)\n"
     ]
    },
    {
     "name": "stdout",
     "output_type": "stream",
     "text": [
      "/home/ubuntu/Data/genres_original/blues/changedblues.00078.wav\n"
     ]
    },
    {
     "name": "stderr",
     "output_type": "stream",
     "text": [
      "/tmp/ipykernel_998/1739257450.py:12: FutureWarning: Pass sr=22050, n_steps=7 as keyword args. From version 0.10 passing these as positional arguments will result in an error\n",
      "  new_y = librosa.effects.pitch_shift(y, sr, steps)\n"
     ]
    },
    {
     "name": "stdout",
     "output_type": "stream",
     "text": [
      "/home/ubuntu/Data/genres_original/blues/changedblues.00028.wav\n"
     ]
    },
    {
     "name": "stderr",
     "output_type": "stream",
     "text": [
      "/tmp/ipykernel_998/1739257450.py:12: FutureWarning: Pass sr=22050, n_steps=7 as keyword args. From version 0.10 passing these as positional arguments will result in an error\n",
      "  new_y = librosa.effects.pitch_shift(y, sr, steps)\n"
     ]
    },
    {
     "name": "stdout",
     "output_type": "stream",
     "text": [
      "/home/ubuntu/Data/genres_original/blues/changedblues.00094.wav\n"
     ]
    },
    {
     "name": "stderr",
     "output_type": "stream",
     "text": [
      "/tmp/ipykernel_998/1739257450.py:12: FutureWarning: Pass sr=22050, n_steps=7 as keyword args. From version 0.10 passing these as positional arguments will result in an error\n",
      "  new_y = librosa.effects.pitch_shift(y, sr, steps)\n"
     ]
    },
    {
     "name": "stdout",
     "output_type": "stream",
     "text": [
      "/home/ubuntu/Data/genres_original/blues/changedblues.00083.wav\n"
     ]
    },
    {
     "name": "stderr",
     "output_type": "stream",
     "text": [
      "/tmp/ipykernel_998/1739257450.py:12: FutureWarning: Pass sr=22050, n_steps=7 as keyword args. From version 0.10 passing these as positional arguments will result in an error\n",
      "  new_y = librosa.effects.pitch_shift(y, sr, steps)\n"
     ]
    },
    {
     "name": "stdout",
     "output_type": "stream",
     "text": [
      "/home/ubuntu/Data/genres_original/blues/changedblues.00036.wav\n"
     ]
    },
    {
     "name": "stderr",
     "output_type": "stream",
     "text": [
      "/tmp/ipykernel_998/1739257450.py:12: FutureWarning: Pass sr=22050, n_steps=7 as keyword args. From version 0.10 passing these as positional arguments will result in an error\n",
      "  new_y = librosa.effects.pitch_shift(y, sr, steps)\n"
     ]
    },
    {
     "name": "stdout",
     "output_type": "stream",
     "text": [
      "/home/ubuntu/Data/genres_original/blues/changedblues.00026.wav\n"
     ]
    },
    {
     "name": "stderr",
     "output_type": "stream",
     "text": [
      "/tmp/ipykernel_998/1739257450.py:12: FutureWarning: Pass sr=22050, n_steps=7 as keyword args. From version 0.10 passing these as positional arguments will result in an error\n",
      "  new_y = librosa.effects.pitch_shift(y, sr, steps)\n"
     ]
    },
    {
     "name": "stdout",
     "output_type": "stream",
     "text": [
      "/home/ubuntu/Data/genres_original/blues/changedblues.00070.wav\n"
     ]
    },
    {
     "name": "stderr",
     "output_type": "stream",
     "text": [
      "/tmp/ipykernel_998/1739257450.py:12: FutureWarning: Pass sr=22050, n_steps=7 as keyword args. From version 0.10 passing these as positional arguments will result in an error\n",
      "  new_y = librosa.effects.pitch_shift(y, sr, steps)\n"
     ]
    },
    {
     "name": "stdout",
     "output_type": "stream",
     "text": [
      "/home/ubuntu/Data/genres_original/blues/changedblues.00046.wav\n"
     ]
    },
    {
     "name": "stderr",
     "output_type": "stream",
     "text": [
      "/tmp/ipykernel_998/1739257450.py:12: FutureWarning: Pass sr=22050, n_steps=7 as keyword args. From version 0.10 passing these as positional arguments will result in an error\n",
      "  new_y = librosa.effects.pitch_shift(y, sr, steps)\n"
     ]
    },
    {
     "name": "stdout",
     "output_type": "stream",
     "text": [
      "/home/ubuntu/Data/genres_original/blues/changedblues.00068.wav\n"
     ]
    },
    {
     "name": "stderr",
     "output_type": "stream",
     "text": [
      "/tmp/ipykernel_998/1739257450.py:12: FutureWarning: Pass sr=22050, n_steps=7 as keyword args. From version 0.10 passing these as positional arguments will result in an error\n",
      "  new_y = librosa.effects.pitch_shift(y, sr, steps)\n"
     ]
    },
    {
     "name": "stdout",
     "output_type": "stream",
     "text": [
      "/home/ubuntu/Data/genres_original/blues/changedblues.00008.wav\n"
     ]
    },
    {
     "name": "stderr",
     "output_type": "stream",
     "text": [
      "/tmp/ipykernel_998/1739257450.py:12: FutureWarning: Pass sr=22050, n_steps=7 as keyword args. From version 0.10 passing these as positional arguments will result in an error\n",
      "  new_y = librosa.effects.pitch_shift(y, sr, steps)\n"
     ]
    },
    {
     "name": "stdout",
     "output_type": "stream",
     "text": [
      "/home/ubuntu/Data/genres_original/blues/changedblues.00042.wav\n"
     ]
    },
    {
     "name": "stderr",
     "output_type": "stream",
     "text": [
      "/tmp/ipykernel_998/1739257450.py:12: FutureWarning: Pass sr=22050, n_steps=7 as keyword args. From version 0.10 passing these as positional arguments will result in an error\n",
      "  new_y = librosa.effects.pitch_shift(y, sr, steps)\n"
     ]
    },
    {
     "name": "stdout",
     "output_type": "stream",
     "text": [
      "/home/ubuntu/Data/genres_original/blues/changedblues.00075.wav\n"
     ]
    },
    {
     "name": "stderr",
     "output_type": "stream",
     "text": [
      "/tmp/ipykernel_998/1739257450.py:12: FutureWarning: Pass sr=22050, n_steps=7 as keyword args. From version 0.10 passing these as positional arguments will result in an error\n",
      "  new_y = librosa.effects.pitch_shift(y, sr, steps)\n"
     ]
    },
    {
     "name": "stdout",
     "output_type": "stream",
     "text": [
      "/home/ubuntu/Data/genres_original/blues/changedblues.00058.wav\n"
     ]
    },
    {
     "name": "stderr",
     "output_type": "stream",
     "text": [
      "/tmp/ipykernel_998/1739257450.py:12: FutureWarning: Pass sr=22050, n_steps=7 as keyword args. From version 0.10 passing these as positional arguments will result in an error\n",
      "  new_y = librosa.effects.pitch_shift(y, sr, steps)\n"
     ]
    },
    {
     "name": "stdout",
     "output_type": "stream",
     "text": [
      "/home/ubuntu/Data/genres_original/blues/changedblues.00040.wav\n"
     ]
    },
    {
     "name": "stderr",
     "output_type": "stream",
     "text": [
      "/tmp/ipykernel_998/1739257450.py:12: FutureWarning: Pass sr=22050, n_steps=7 as keyword args. From version 0.10 passing these as positional arguments will result in an error\n",
      "  new_y = librosa.effects.pitch_shift(y, sr, steps)\n"
     ]
    },
    {
     "name": "stdout",
     "output_type": "stream",
     "text": [
      "/home/ubuntu/Data/genres_original/blues/changedblues.00056.wav\n"
     ]
    },
    {
     "name": "stderr",
     "output_type": "stream",
     "text": [
      "/tmp/ipykernel_998/1739257450.py:12: FutureWarning: Pass sr=22050, n_steps=7 as keyword args. From version 0.10 passing these as positional arguments will result in an error\n",
      "  new_y = librosa.effects.pitch_shift(y, sr, steps)\n"
     ]
    },
    {
     "name": "stdout",
     "output_type": "stream",
     "text": [
      "/home/ubuntu/Data/genres_original/blues/changedblues.00069.wav\n"
     ]
    },
    {
     "name": "stderr",
     "output_type": "stream",
     "text": [
      "/tmp/ipykernel_998/1739257450.py:12: FutureWarning: Pass sr=22050, n_steps=7 as keyword args. From version 0.10 passing these as positional arguments will result in an error\n",
      "  new_y = librosa.effects.pitch_shift(y, sr, steps)\n"
     ]
    },
    {
     "name": "stdout",
     "output_type": "stream",
     "text": [
      "/home/ubuntu/Data/genres_original/blues/changedblues.00005.wav\n"
     ]
    },
    {
     "name": "stderr",
     "output_type": "stream",
     "text": [
      "/tmp/ipykernel_998/1739257450.py:12: FutureWarning: Pass sr=22050, n_steps=7 as keyword args. From version 0.10 passing these as positional arguments will result in an error\n",
      "  new_y = librosa.effects.pitch_shift(y, sr, steps)\n"
     ]
    },
    {
     "name": "stdout",
     "output_type": "stream",
     "text": [
      "/home/ubuntu/Data/genres_original/blues/changedblues.00050.wav\n"
     ]
    },
    {
     "name": "stderr",
     "output_type": "stream",
     "text": [
      "/tmp/ipykernel_998/1739257450.py:12: FutureWarning: Pass sr=22050, n_steps=7 as keyword args. From version 0.10 passing these as positional arguments will result in an error\n",
      "  new_y = librosa.effects.pitch_shift(y, sr, steps)\n"
     ]
    },
    {
     "name": "stdout",
     "output_type": "stream",
     "text": [
      "/home/ubuntu/Data/genres_original/blues/changedblues.00030.wav\n"
     ]
    },
    {
     "name": "stderr",
     "output_type": "stream",
     "text": [
      "/tmp/ipykernel_998/1739257450.py:12: FutureWarning: Pass sr=22050, n_steps=7 as keyword args. From version 0.10 passing these as positional arguments will result in an error\n",
      "  new_y = librosa.effects.pitch_shift(y, sr, steps)\n"
     ]
    },
    {
     "name": "stdout",
     "output_type": "stream",
     "text": [
      "/home/ubuntu/Data/genres_original/blues/changedblues.00049.wav\n"
     ]
    },
    {
     "name": "stderr",
     "output_type": "stream",
     "text": [
      "/tmp/ipykernel_998/1739257450.py:12: FutureWarning: Pass sr=22050, n_steps=7 as keyword args. From version 0.10 passing these as positional arguments will result in an error\n",
      "  new_y = librosa.effects.pitch_shift(y, sr, steps)\n"
     ]
    },
    {
     "name": "stdout",
     "output_type": "stream",
     "text": [
      "/home/ubuntu/Data/genres_original/blues/changedblues.00011.wav\n"
     ]
    },
    {
     "name": "stderr",
     "output_type": "stream",
     "text": [
      "/tmp/ipykernel_998/1739257450.py:12: FutureWarning: Pass sr=22050, n_steps=7 as keyword args. From version 0.10 passing these as positional arguments will result in an error\n",
      "  new_y = librosa.effects.pitch_shift(y, sr, steps)\n"
     ]
    },
    {
     "name": "stdout",
     "output_type": "stream",
     "text": [
      "/home/ubuntu/Data/genres_original/blues/changedblues.00012.wav\n"
     ]
    },
    {
     "name": "stderr",
     "output_type": "stream",
     "text": [
      "/tmp/ipykernel_998/1739257450.py:12: FutureWarning: Pass sr=22050, n_steps=7 as keyword args. From version 0.10 passing these as positional arguments will result in an error\n",
      "  new_y = librosa.effects.pitch_shift(y, sr, steps)\n"
     ]
    },
    {
     "name": "stdout",
     "output_type": "stream",
     "text": [
      "/home/ubuntu/Data/genres_original/blues/changedblues.00045.wav\n"
     ]
    },
    {
     "name": "stderr",
     "output_type": "stream",
     "text": [
      "/tmp/ipykernel_998/1739257450.py:12: FutureWarning: Pass sr=22050, n_steps=7 as keyword args. From version 0.10 passing these as positional arguments will result in an error\n",
      "  new_y = librosa.effects.pitch_shift(y, sr, steps)\n"
     ]
    },
    {
     "name": "stdout",
     "output_type": "stream",
     "text": [
      "/home/ubuntu/Data/genres_original/blues/changedblues.00007.wav\n"
     ]
    },
    {
     "name": "stderr",
     "output_type": "stream",
     "text": [
      "/tmp/ipykernel_998/1739257450.py:12: FutureWarning: Pass sr=22050, n_steps=7 as keyword args. From version 0.10 passing these as positional arguments will result in an error\n",
      "  new_y = librosa.effects.pitch_shift(y, sr, steps)\n"
     ]
    },
    {
     "name": "stdout",
     "output_type": "stream",
     "text": [
      "/home/ubuntu/Data/genres_original/blues/changedblues.00002.wav\n"
     ]
    },
    {
     "name": "stderr",
     "output_type": "stream",
     "text": [
      "/tmp/ipykernel_998/1739257450.py:12: FutureWarning: Pass sr=22050, n_steps=7 as keyword args. From version 0.10 passing these as positional arguments will result in an error\n",
      "  new_y = librosa.effects.pitch_shift(y, sr, steps)\n"
     ]
    },
    {
     "name": "stdout",
     "output_type": "stream",
     "text": [
      "/home/ubuntu/Data/genres_original/blues/changedblues.00060.wav\n"
     ]
    },
    {
     "name": "stderr",
     "output_type": "stream",
     "text": [
      "/tmp/ipykernel_998/1739257450.py:12: FutureWarning: Pass sr=22050, n_steps=7 as keyword args. From version 0.10 passing these as positional arguments will result in an error\n",
      "  new_y = librosa.effects.pitch_shift(y, sr, steps)\n"
     ]
    },
    {
     "name": "stdout",
     "output_type": "stream",
     "text": [
      "/home/ubuntu/Data/genres_original/blues/changedblues.00099.wav\n"
     ]
    },
    {
     "name": "stderr",
     "output_type": "stream",
     "text": [
      "/tmp/ipykernel_998/1739257450.py:12: FutureWarning: Pass sr=22050, n_steps=7 as keyword args. From version 0.10 passing these as positional arguments will result in an error\n",
      "  new_y = librosa.effects.pitch_shift(y, sr, steps)\n"
     ]
    },
    {
     "name": "stdout",
     "output_type": "stream",
     "text": [
      "/home/ubuntu/Data/genres_original/blues/changedblues.00014.wav\n"
     ]
    },
    {
     "name": "stderr",
     "output_type": "stream",
     "text": [
      "/tmp/ipykernel_998/1739257450.py:12: FutureWarning: Pass sr=22050, n_steps=7 as keyword args. From version 0.10 passing these as positional arguments will result in an error\n",
      "  new_y = librosa.effects.pitch_shift(y, sr, steps)\n"
     ]
    },
    {
     "name": "stdout",
     "output_type": "stream",
     "text": [
      "/home/ubuntu/Data/genres_original/blues/changedblues.00048.wav\n"
     ]
    },
    {
     "name": "stderr",
     "output_type": "stream",
     "text": [
      "/tmp/ipykernel_998/1739257450.py:12: FutureWarning: Pass sr=22050, n_steps=7 as keyword args. From version 0.10 passing these as positional arguments will result in an error\n",
      "  new_y = librosa.effects.pitch_shift(y, sr, steps)\n"
     ]
    },
    {
     "name": "stdout",
     "output_type": "stream",
     "text": [
      "/home/ubuntu/Data/genres_original/blues/changedblues.00010.wav\n"
     ]
    },
    {
     "name": "stderr",
     "output_type": "stream",
     "text": [
      "/tmp/ipykernel_998/1739257450.py:12: FutureWarning: Pass sr=22050, n_steps=7 as keyword args. From version 0.10 passing these as positional arguments will result in an error\n",
      "  new_y = librosa.effects.pitch_shift(y, sr, steps)\n"
     ]
    },
    {
     "name": "stdout",
     "output_type": "stream",
     "text": [
      "/home/ubuntu/Data/genres_original/blues/changedblues.00089.wav\n"
     ]
    },
    {
     "name": "stderr",
     "output_type": "stream",
     "text": [
      "/tmp/ipykernel_998/1739257450.py:12: FutureWarning: Pass sr=22050, n_steps=7 as keyword args. From version 0.10 passing these as positional arguments will result in an error\n",
      "  new_y = librosa.effects.pitch_shift(y, sr, steps)\n"
     ]
    },
    {
     "name": "stdout",
     "output_type": "stream",
     "text": [
      "/home/ubuntu/Data/genres_original/blues/changedblues.00035.wav\n"
     ]
    },
    {
     "name": "stderr",
     "output_type": "stream",
     "text": [
      "/tmp/ipykernel_998/1739257450.py:12: FutureWarning: Pass sr=22050, n_steps=7 as keyword args. From version 0.10 passing these as positional arguments will result in an error\n",
      "  new_y = librosa.effects.pitch_shift(y, sr, steps)\n"
     ]
    },
    {
     "name": "stdout",
     "output_type": "stream",
     "text": [
      "/home/ubuntu/Data/genres_original/blues/changedblues.00052.wav\n"
     ]
    },
    {
     "name": "stderr",
     "output_type": "stream",
     "text": [
      "/tmp/ipykernel_998/1739257450.py:12: FutureWarning: Pass sr=22050, n_steps=7 as keyword args. From version 0.10 passing these as positional arguments will result in an error\n",
      "  new_y = librosa.effects.pitch_shift(y, sr, steps)\n"
     ]
    },
    {
     "name": "stdout",
     "output_type": "stream",
     "text": [
      "/home/ubuntu/Data/genres_original/blues/changedblues.00064.wav\n"
     ]
    },
    {
     "name": "stderr",
     "output_type": "stream",
     "text": [
      "/tmp/ipykernel_998/1739257450.py:12: FutureWarning: Pass sr=22050, n_steps=7 as keyword args. From version 0.10 passing these as positional arguments will result in an error\n",
      "  new_y = librosa.effects.pitch_shift(y, sr, steps)\n"
     ]
    },
    {
     "name": "stdout",
     "output_type": "stream",
     "text": [
      "/home/ubuntu/Data/genres_original/blues/changedblues.00015.wav\n"
     ]
    },
    {
     "name": "stderr",
     "output_type": "stream",
     "text": [
      "/tmp/ipykernel_998/1739257450.py:12: FutureWarning: Pass sr=22050, n_steps=7 as keyword args. From version 0.10 passing these as positional arguments will result in an error\n",
      "  new_y = librosa.effects.pitch_shift(y, sr, steps)\n"
     ]
    },
    {
     "name": "stdout",
     "output_type": "stream",
     "text": [
      "/home/ubuntu/Data/genres_original/blues/changedblues.00004.wav\n"
     ]
    },
    {
     "name": "stderr",
     "output_type": "stream",
     "text": [
      "/tmp/ipykernel_998/1739257450.py:12: FutureWarning: Pass sr=22050, n_steps=7 as keyword args. From version 0.10 passing these as positional arguments will result in an error\n",
      "  new_y = librosa.effects.pitch_shift(y, sr, steps)\n"
     ]
    },
    {
     "name": "stdout",
     "output_type": "stream",
     "text": [
      "/home/ubuntu/Data/genres_original/blues/changedblues.00098.wav\n"
     ]
    },
    {
     "name": "stderr",
     "output_type": "stream",
     "text": [
      "/tmp/ipykernel_998/1739257450.py:12: FutureWarning: Pass sr=22050, n_steps=7 as keyword args. From version 0.10 passing these as positional arguments will result in an error\n",
      "  new_y = librosa.effects.pitch_shift(y, sr, steps)\n"
     ]
    },
    {
     "name": "stdout",
     "output_type": "stream",
     "text": [
      "/home/ubuntu/Data/genres_original/blues/changedblues.00034.wav\n"
     ]
    },
    {
     "name": "stderr",
     "output_type": "stream",
     "text": [
      "/tmp/ipykernel_998/1739257450.py:12: FutureWarning: Pass sr=22050, n_steps=7 as keyword args. From version 0.10 passing these as positional arguments will result in an error\n",
      "  new_y = librosa.effects.pitch_shift(y, sr, steps)\n"
     ]
    },
    {
     "name": "stdout",
     "output_type": "stream",
     "text": [
      "/home/ubuntu/Data/genres_original/blues/changedblues.00051.wav\n"
     ]
    },
    {
     "name": "stderr",
     "output_type": "stream",
     "text": [
      "/tmp/ipykernel_998/1739257450.py:12: FutureWarning: Pass sr=22050, n_steps=7 as keyword args. From version 0.10 passing these as positional arguments will result in an error\n",
      "  new_y = librosa.effects.pitch_shift(y, sr, steps)\n"
     ]
    },
    {
     "name": "stdout",
     "output_type": "stream",
     "text": [
      "/home/ubuntu/Data/genres_original/blues/changedblues.00033.wav\n"
     ]
    },
    {
     "name": "stderr",
     "output_type": "stream",
     "text": [
      "/tmp/ipykernel_998/1739257450.py:12: FutureWarning: Pass sr=22050, n_steps=7 as keyword args. From version 0.10 passing these as positional arguments will result in an error\n",
      "  new_y = librosa.effects.pitch_shift(y, sr, steps)\n"
     ]
    },
    {
     "name": "stdout",
     "output_type": "stream",
     "text": [
      "/home/ubuntu/Data/genres_original/blues/changedblues.00061.wav\n"
     ]
    },
    {
     "name": "stderr",
     "output_type": "stream",
     "text": [
      "/tmp/ipykernel_998/1739257450.py:12: FutureWarning: Pass sr=22050, n_steps=7 as keyword args. From version 0.10 passing these as positional arguments will result in an error\n",
      "  new_y = librosa.effects.pitch_shift(y, sr, steps)\n"
     ]
    },
    {
     "name": "stdout",
     "output_type": "stream",
     "text": [
      "/home/ubuntu/Data/genres_original/blues/changedblues.00053.wav\n"
     ]
    },
    {
     "name": "stderr",
     "output_type": "stream",
     "text": [
      "/tmp/ipykernel_998/1739257450.py:12: FutureWarning: Pass sr=22050, n_steps=7 as keyword args. From version 0.10 passing these as positional arguments will result in an error\n",
      "  new_y = librosa.effects.pitch_shift(y, sr, steps)\n"
     ]
    },
    {
     "name": "stdout",
     "output_type": "stream",
     "text": [
      "/home/ubuntu/Data/genres_original/blues/changedblues.00082.wav\n"
     ]
    },
    {
     "name": "stderr",
     "output_type": "stream",
     "text": [
      "/tmp/ipykernel_998/1739257450.py:12: FutureWarning: Pass sr=22050, n_steps=7 as keyword args. From version 0.10 passing these as positional arguments will result in an error\n",
      "  new_y = librosa.effects.pitch_shift(y, sr, steps)\n"
     ]
    },
    {
     "name": "stdout",
     "output_type": "stream",
     "text": [
      "/home/ubuntu/Data/genres_original/blues/changedblues.00072.wav\n"
     ]
    },
    {
     "name": "stderr",
     "output_type": "stream",
     "text": [
      "/tmp/ipykernel_998/1739257450.py:12: FutureWarning: Pass sr=22050, n_steps=7 as keyword args. From version 0.10 passing these as positional arguments will result in an error\n",
      "  new_y = librosa.effects.pitch_shift(y, sr, steps)\n"
     ]
    },
    {
     "name": "stdout",
     "output_type": "stream",
     "text": [
      "/home/ubuntu/Data/genres_original/blues/changedblues.00071.wav\n"
     ]
    },
    {
     "name": "stderr",
     "output_type": "stream",
     "text": [
      "/tmp/ipykernel_998/1739257450.py:12: FutureWarning: Pass sr=22050, n_steps=7 as keyword args. From version 0.10 passing these as positional arguments will result in an error\n",
      "  new_y = librosa.effects.pitch_shift(y, sr, steps)\n"
     ]
    },
    {
     "name": "stdout",
     "output_type": "stream",
     "text": [
      "/home/ubuntu/Data/genres_original/blues/changedblues.00001.wav\n"
     ]
    },
    {
     "name": "stderr",
     "output_type": "stream",
     "text": [
      "/tmp/ipykernel_998/1739257450.py:12: FutureWarning: Pass sr=22050, n_steps=7 as keyword args. From version 0.10 passing these as positional arguments will result in an error\n",
      "  new_y = librosa.effects.pitch_shift(y, sr, steps)\n"
     ]
    },
    {
     "name": "stdout",
     "output_type": "stream",
     "text": [
      "/home/ubuntu/Data/genres_original/blues/changedblues.00095.wav\n"
     ]
    },
    {
     "name": "stderr",
     "output_type": "stream",
     "text": [
      "/tmp/ipykernel_998/1739257450.py:12: FutureWarning: Pass sr=22050, n_steps=7 as keyword args. From version 0.10 passing these as positional arguments will result in an error\n",
      "  new_y = librosa.effects.pitch_shift(y, sr, steps)\n"
     ]
    },
    {
     "name": "stdout",
     "output_type": "stream",
     "text": [
      "/home/ubuntu/Data/genres_original/blues/changedblues.00021.wav\n"
     ]
    },
    {
     "name": "stderr",
     "output_type": "stream",
     "text": [
      "/tmp/ipykernel_998/1739257450.py:12: FutureWarning: Pass sr=22050, n_steps=7 as keyword args. From version 0.10 passing these as positional arguments will result in an error\n",
      "  new_y = librosa.effects.pitch_shift(y, sr, steps)\n"
     ]
    },
    {
     "name": "stdout",
     "output_type": "stream",
     "text": [
      "/home/ubuntu/Data/genres_original/blues/changedblues.00006.wav\n"
     ]
    },
    {
     "name": "stderr",
     "output_type": "stream",
     "text": [
      "/tmp/ipykernel_998/1739257450.py:12: FutureWarning: Pass sr=22050, n_steps=7 as keyword args. From version 0.10 passing these as positional arguments will result in an error\n",
      "  new_y = librosa.effects.pitch_shift(y, sr, steps)\n"
     ]
    },
    {
     "name": "stdout",
     "output_type": "stream",
     "text": [
      "/home/ubuntu/Data/genres_original/blues/changedblues.00019.wav\n"
     ]
    },
    {
     "name": "stderr",
     "output_type": "stream",
     "text": [
      "/tmp/ipykernel_998/1739257450.py:12: FutureWarning: Pass sr=22050, n_steps=7 as keyword args. From version 0.10 passing these as positional arguments will result in an error\n",
      "  new_y = librosa.effects.pitch_shift(y, sr, steps)\n"
     ]
    },
    {
     "name": "stdout",
     "output_type": "stream",
     "text": [
      "/home/ubuntu/Data/genres_original/blues/changedblues.00090.wav\n"
     ]
    },
    {
     "name": "stderr",
     "output_type": "stream",
     "text": [
      "/tmp/ipykernel_998/1739257450.py:12: FutureWarning: Pass sr=22050, n_steps=7 as keyword args. From version 0.10 passing these as positional arguments will result in an error\n",
      "  new_y = librosa.effects.pitch_shift(y, sr, steps)\n"
     ]
    },
    {
     "name": "stdout",
     "output_type": "stream",
     "text": [
      "/home/ubuntu/Data/genres_original/blues/changedblues.00032.wav\n"
     ]
    },
    {
     "name": "stderr",
     "output_type": "stream",
     "text": [
      "/tmp/ipykernel_998/1739257450.py:12: FutureWarning: Pass sr=22050, n_steps=7 as keyword args. From version 0.10 passing these as positional arguments will result in an error\n",
      "  new_y = librosa.effects.pitch_shift(y, sr, steps)\n"
     ]
    },
    {
     "name": "stdout",
     "output_type": "stream",
     "text": [
      "/home/ubuntu/Data/genres_original/blues/changedblues.00020.wav\n"
     ]
    },
    {
     "name": "stderr",
     "output_type": "stream",
     "text": [
      "/tmp/ipykernel_998/1739257450.py:12: FutureWarning: Pass sr=22050, n_steps=7 as keyword args. From version 0.10 passing these as positional arguments will result in an error\n",
      "  new_y = librosa.effects.pitch_shift(y, sr, steps)\n"
     ]
    },
    {
     "name": "stdout",
     "output_type": "stream",
     "text": [
      "/home/ubuntu/Data/genres_original/blues/changedblues.00000.wav\n"
     ]
    },
    {
     "name": "stderr",
     "output_type": "stream",
     "text": [
      "/tmp/ipykernel_998/1739257450.py:12: FutureWarning: Pass sr=22050, n_steps=7 as keyword args. From version 0.10 passing these as positional arguments will result in an error\n",
      "  new_y = librosa.effects.pitch_shift(y, sr, steps)\n"
     ]
    },
    {
     "name": "stdout",
     "output_type": "stream",
     "text": [
      "/home/ubuntu/Data/genres_original/blues/changedblues.00074.wav\n"
     ]
    },
    {
     "name": "stderr",
     "output_type": "stream",
     "text": [
      "/tmp/ipykernel_998/1739257450.py:12: FutureWarning: Pass sr=22050, n_steps=7 as keyword args. From version 0.10 passing these as positional arguments will result in an error\n",
      "  new_y = librosa.effects.pitch_shift(y, sr, steps)\n"
     ]
    },
    {
     "name": "stdout",
     "output_type": "stream",
     "text": [
      "/home/ubuntu/Data/genres_original/blues/changedblues.00027.wav\n"
     ]
    },
    {
     "name": "stderr",
     "output_type": "stream",
     "text": [
      "/tmp/ipykernel_998/1739257450.py:12: FutureWarning: Pass sr=22050, n_steps=7 as keyword args. From version 0.10 passing these as positional arguments will result in an error\n",
      "  new_y = librosa.effects.pitch_shift(y, sr, steps)\n"
     ]
    },
    {
     "name": "stdout",
     "output_type": "stream",
     "text": [
      "/home/ubuntu/Data/genres_original/blues/changedblues.00038.wav\n"
     ]
    },
    {
     "name": "stderr",
     "output_type": "stream",
     "text": [
      "/tmp/ipykernel_998/1739257450.py:12: FutureWarning: Pass sr=22050, n_steps=7 as keyword args. From version 0.10 passing these as positional arguments will result in an error\n",
      "  new_y = librosa.effects.pitch_shift(y, sr, steps)\n"
     ]
    },
    {
     "name": "stdout",
     "output_type": "stream",
     "text": [
      "/home/ubuntu/Data/genres_original/blues/changedblues.00047.wav\n"
     ]
    },
    {
     "name": "stderr",
     "output_type": "stream",
     "text": [
      "/tmp/ipykernel_998/1739257450.py:12: FutureWarning: Pass sr=22050, n_steps=7 as keyword args. From version 0.10 passing these as positional arguments will result in an error\n",
      "  new_y = librosa.effects.pitch_shift(y, sr, steps)\n"
     ]
    },
    {
     "name": "stdout",
     "output_type": "stream",
     "text": [
      "/home/ubuntu/Data/genres_original/blues/changedblues.00023.wav\n"
     ]
    },
    {
     "name": "stderr",
     "output_type": "stream",
     "text": [
      "/tmp/ipykernel_998/1739257450.py:12: FutureWarning: Pass sr=22050, n_steps=7 as keyword args. From version 0.10 passing these as positional arguments will result in an error\n",
      "  new_y = librosa.effects.pitch_shift(y, sr, steps)\n"
     ]
    },
    {
     "name": "stdout",
     "output_type": "stream",
     "text": [
      "/home/ubuntu/Data/genres_original/blues/changedblues.00039.wav\n"
     ]
    },
    {
     "name": "stderr",
     "output_type": "stream",
     "text": [
      "/tmp/ipykernel_998/1739257450.py:12: FutureWarning: Pass sr=22050, n_steps=7 as keyword args. From version 0.10 passing these as positional arguments will result in an error\n",
      "  new_y = librosa.effects.pitch_shift(y, sr, steps)\n"
     ]
    },
    {
     "name": "stdout",
     "output_type": "stream",
     "text": [
      "/home/ubuntu/Data/genres_original/blues/changedblues.00065.wav\n"
     ]
    },
    {
     "name": "stderr",
     "output_type": "stream",
     "text": [
      "/tmp/ipykernel_998/1739257450.py:12: FutureWarning: Pass sr=22050, n_steps=7 as keyword args. From version 0.10 passing these as positional arguments will result in an error\n",
      "  new_y = librosa.effects.pitch_shift(y, sr, steps)\n"
     ]
    },
    {
     "name": "stdout",
     "output_type": "stream",
     "text": [
      "/home/ubuntu/Data/genres_original/blues/changedblues.00062.wav\n"
     ]
    },
    {
     "name": "stderr",
     "output_type": "stream",
     "text": [
      "/tmp/ipykernel_998/1739257450.py:12: FutureWarning: Pass sr=22050, n_steps=7 as keyword args. From version 0.10 passing these as positional arguments will result in an error\n",
      "  new_y = librosa.effects.pitch_shift(y, sr, steps)\n"
     ]
    },
    {
     "name": "stdout",
     "output_type": "stream",
     "text": [
      "/home/ubuntu/Data/genres_original/blues/changedblues.00085.wav\n"
     ]
    },
    {
     "name": "stderr",
     "output_type": "stream",
     "text": [
      "/tmp/ipykernel_998/1739257450.py:12: FutureWarning: Pass sr=22050, n_steps=7 as keyword args. From version 0.10 passing these as positional arguments will result in an error\n",
      "  new_y = librosa.effects.pitch_shift(y, sr, steps)\n"
     ]
    },
    {
     "name": "stdout",
     "output_type": "stream",
     "text": [
      "/home/ubuntu/Data/genres_original/blues/changedblues.00043.wav\n"
     ]
    },
    {
     "name": "stderr",
     "output_type": "stream",
     "text": [
      "/tmp/ipykernel_998/1739257450.py:12: FutureWarning: Pass sr=22050, n_steps=7 as keyword args. From version 0.10 passing these as positional arguments will result in an error\n",
      "  new_y = librosa.effects.pitch_shift(y, sr, steps)\n"
     ]
    },
    {
     "name": "stdout",
     "output_type": "stream",
     "text": [
      "/home/ubuntu/Data/genres_original/blues/changedblues.00024.wav\n"
     ]
    },
    {
     "name": "stderr",
     "output_type": "stream",
     "text": [
      "/tmp/ipykernel_998/1739257450.py:12: FutureWarning: Pass sr=22050, n_steps=7 as keyword args. From version 0.10 passing these as positional arguments will result in an error\n",
      "  new_y = librosa.effects.pitch_shift(y, sr, steps)\n"
     ]
    },
    {
     "name": "stdout",
     "output_type": "stream",
     "text": [
      "/home/ubuntu/Data/genres_original/blues/changedblues.00067.wav\n"
     ]
    },
    {
     "name": "stderr",
     "output_type": "stream",
     "text": [
      "/tmp/ipykernel_998/1739257450.py:12: FutureWarning: Pass sr=22050, n_steps=7 as keyword args. From version 0.10 passing these as positional arguments will result in an error\n",
      "  new_y = librosa.effects.pitch_shift(y, sr, steps)\n"
     ]
    },
    {
     "name": "stdout",
     "output_type": "stream",
     "text": [
      "/home/ubuntu/Data/genres_original/blues/changedblues.00093.wav\n"
     ]
    },
    {
     "name": "stderr",
     "output_type": "stream",
     "text": [
      "/tmp/ipykernel_998/1739257450.py:12: FutureWarning: Pass sr=22050, n_steps=7 as keyword args. From version 0.10 passing these as positional arguments will result in an error\n",
      "  new_y = librosa.effects.pitch_shift(y, sr, steps)\n"
     ]
    },
    {
     "name": "stdout",
     "output_type": "stream",
     "text": [
      "/home/ubuntu/Data/genres_original/blues/changedblues.00003.wav\n"
     ]
    },
    {
     "name": "stderr",
     "output_type": "stream",
     "text": [
      "/tmp/ipykernel_998/1739257450.py:12: FutureWarning: Pass sr=22050, n_steps=7 as keyword args. From version 0.10 passing these as positional arguments will result in an error\n",
      "  new_y = librosa.effects.pitch_shift(y, sr, steps)\n"
     ]
    },
    {
     "name": "stdout",
     "output_type": "stream",
     "text": [
      "/home/ubuntu/Data/genres_original/blues/changedblues.00016.wav\n"
     ]
    },
    {
     "name": "stderr",
     "output_type": "stream",
     "text": [
      "/tmp/ipykernel_998/1739257450.py:12: FutureWarning: Pass sr=22050, n_steps=7 as keyword args. From version 0.10 passing these as positional arguments will result in an error\n",
      "  new_y = librosa.effects.pitch_shift(y, sr, steps)\n"
     ]
    },
    {
     "name": "stdout",
     "output_type": "stream",
     "text": [
      "/home/ubuntu/Data/genres_original/blues/changedblues.00041.wav\n"
     ]
    },
    {
     "name": "stderr",
     "output_type": "stream",
     "text": [
      "/tmp/ipykernel_998/1739257450.py:12: FutureWarning: Pass sr=22050, n_steps=7 as keyword args. From version 0.10 passing these as positional arguments will result in an error\n",
      "  new_y = librosa.effects.pitch_shift(y, sr, steps)\n"
     ]
    },
    {
     "name": "stdout",
     "output_type": "stream",
     "text": [
      "/home/ubuntu/Data/genres_original/blues/changedblues.00013.wav\n"
     ]
    },
    {
     "name": "stderr",
     "output_type": "stream",
     "text": [
      "/tmp/ipykernel_998/1739257450.py:12: FutureWarning: Pass sr=22050, n_steps=7 as keyword args. From version 0.10 passing these as positional arguments will result in an error\n",
      "  new_y = librosa.effects.pitch_shift(y, sr, steps)\n"
     ]
    },
    {
     "name": "stdout",
     "output_type": "stream",
     "text": [
      "/home/ubuntu/Data/genres_original/blues/changedblues.00096.wav\n"
     ]
    },
    {
     "name": "stderr",
     "output_type": "stream",
     "text": [
      "/tmp/ipykernel_998/1739257450.py:12: FutureWarning: Pass sr=22050, n_steps=7 as keyword args. From version 0.10 passing these as positional arguments will result in an error\n",
      "  new_y = librosa.effects.pitch_shift(y, sr, steps)\n"
     ]
    },
    {
     "name": "stdout",
     "output_type": "stream",
     "text": [
      "/home/ubuntu/Data/genres_original/blues/changedblues.00066.wav\n",
      "current dir path is /home/ubuntu/Data/genres_original/classical\n"
     ]
    },
    {
     "name": "stderr",
     "output_type": "stream",
     "text": [
      "/tmp/ipykernel_998/1739257450.py:12: FutureWarning: Pass sr=22050, n_steps=7 as keyword args. From version 0.10 passing these as positional arguments will result in an error\n",
      "  new_y = librosa.effects.pitch_shift(y, sr, steps)\n"
     ]
    },
    {
     "name": "stdout",
     "output_type": "stream",
     "text": [
      "/home/ubuntu/Data/genres_original/classical/changedclassical.00093.wav\n"
     ]
    },
    {
     "name": "stderr",
     "output_type": "stream",
     "text": [
      "/tmp/ipykernel_998/1739257450.py:12: FutureWarning: Pass sr=22050, n_steps=7 as keyword args. From version 0.10 passing these as positional arguments will result in an error\n",
      "  new_y = librosa.effects.pitch_shift(y, sr, steps)\n"
     ]
    },
    {
     "name": "stdout",
     "output_type": "stream",
     "text": [
      "/home/ubuntu/Data/genres_original/classical/changedclassical.00051.wav\n"
     ]
    },
    {
     "name": "stderr",
     "output_type": "stream",
     "text": [
      "/tmp/ipykernel_998/1739257450.py:12: FutureWarning: Pass sr=22050, n_steps=7 as keyword args. From version 0.10 passing these as positional arguments will result in an error\n",
      "  new_y = librosa.effects.pitch_shift(y, sr, steps)\n"
     ]
    },
    {
     "name": "stdout",
     "output_type": "stream",
     "text": [
      "/home/ubuntu/Data/genres_original/classical/changedclassical.00062.wav\n"
     ]
    },
    {
     "name": "stderr",
     "output_type": "stream",
     "text": [
      "/tmp/ipykernel_998/1739257450.py:12: FutureWarning: Pass sr=22050, n_steps=7 as keyword args. From version 0.10 passing these as positional arguments will result in an error\n",
      "  new_y = librosa.effects.pitch_shift(y, sr, steps)\n"
     ]
    },
    {
     "name": "stdout",
     "output_type": "stream",
     "text": [
      "/home/ubuntu/Data/genres_original/classical/changedclassical.00099.wav\n"
     ]
    },
    {
     "name": "stderr",
     "output_type": "stream",
     "text": [
      "/tmp/ipykernel_998/1739257450.py:12: FutureWarning: Pass sr=22050, n_steps=7 as keyword args. From version 0.10 passing these as positional arguments will result in an error\n",
      "  new_y = librosa.effects.pitch_shift(y, sr, steps)\n"
     ]
    },
    {
     "name": "stdout",
     "output_type": "stream",
     "text": [
      "/home/ubuntu/Data/genres_original/classical/changedclassical.00054.wav\n"
     ]
    },
    {
     "name": "stderr",
     "output_type": "stream",
     "text": [
      "/tmp/ipykernel_998/1739257450.py:12: FutureWarning: Pass sr=22050, n_steps=7 as keyword args. From version 0.10 passing these as positional arguments will result in an error\n",
      "  new_y = librosa.effects.pitch_shift(y, sr, steps)\n"
     ]
    },
    {
     "name": "stdout",
     "output_type": "stream",
     "text": [
      "/home/ubuntu/Data/genres_original/classical/changedclassical.00016.wav\n"
     ]
    },
    {
     "name": "stderr",
     "output_type": "stream",
     "text": [
      "/tmp/ipykernel_998/1739257450.py:12: FutureWarning: Pass sr=22050, n_steps=7 as keyword args. From version 0.10 passing these as positional arguments will result in an error\n",
      "  new_y = librosa.effects.pitch_shift(y, sr, steps)\n"
     ]
    },
    {
     "name": "stdout",
     "output_type": "stream",
     "text": [
      "/home/ubuntu/Data/genres_original/classical/changedclassical.00046.wav\n"
     ]
    },
    {
     "name": "stderr",
     "output_type": "stream",
     "text": [
      "/tmp/ipykernel_998/1739257450.py:12: FutureWarning: Pass sr=22050, n_steps=7 as keyword args. From version 0.10 passing these as positional arguments will result in an error\n",
      "  new_y = librosa.effects.pitch_shift(y, sr, steps)\n"
     ]
    },
    {
     "name": "stdout",
     "output_type": "stream",
     "text": [
      "/home/ubuntu/Data/genres_original/classical/changedclassical.00083.wav\n"
     ]
    },
    {
     "name": "stderr",
     "output_type": "stream",
     "text": [
      "/tmp/ipykernel_998/1739257450.py:12: FutureWarning: Pass sr=22050, n_steps=7 as keyword args. From version 0.10 passing these as positional arguments will result in an error\n",
      "  new_y = librosa.effects.pitch_shift(y, sr, steps)\n"
     ]
    },
    {
     "name": "stdout",
     "output_type": "stream",
     "text": [
      "/home/ubuntu/Data/genres_original/classical/changedclassical.00058.wav\n"
     ]
    },
    {
     "name": "stderr",
     "output_type": "stream",
     "text": [
      "/tmp/ipykernel_998/1739257450.py:12: FutureWarning: Pass sr=22050, n_steps=7 as keyword args. From version 0.10 passing these as positional arguments will result in an error\n",
      "  new_y = librosa.effects.pitch_shift(y, sr, steps)\n"
     ]
    },
    {
     "name": "stdout",
     "output_type": "stream",
     "text": [
      "/home/ubuntu/Data/genres_original/classical/changedclassical.00085.wav\n"
     ]
    },
    {
     "name": "stderr",
     "output_type": "stream",
     "text": [
      "/tmp/ipykernel_998/1739257450.py:12: FutureWarning: Pass sr=22050, n_steps=7 as keyword args. From version 0.10 passing these as positional arguments will result in an error\n",
      "  new_y = librosa.effects.pitch_shift(y, sr, steps)\n"
     ]
    },
    {
     "name": "stdout",
     "output_type": "stream",
     "text": [
      "/home/ubuntu/Data/genres_original/classical/changedclassical.00024.wav\n"
     ]
    },
    {
     "name": "stderr",
     "output_type": "stream",
     "text": [
      "/tmp/ipykernel_998/1739257450.py:12: FutureWarning: Pass sr=22050, n_steps=7 as keyword args. From version 0.10 passing these as positional arguments will result in an error\n",
      "  new_y = librosa.effects.pitch_shift(y, sr, steps)\n"
     ]
    },
    {
     "name": "stdout",
     "output_type": "stream",
     "text": [
      "/home/ubuntu/Data/genres_original/classical/changedclassical.00078.wav\n"
     ]
    },
    {
     "name": "stderr",
     "output_type": "stream",
     "text": [
      "/tmp/ipykernel_998/1739257450.py:12: FutureWarning: Pass sr=22050, n_steps=7 as keyword args. From version 0.10 passing these as positional arguments will result in an error\n",
      "  new_y = librosa.effects.pitch_shift(y, sr, steps)\n"
     ]
    },
    {
     "name": "stdout",
     "output_type": "stream",
     "text": [
      "/home/ubuntu/Data/genres_original/classical/changedclassical.00026.wav\n"
     ]
    },
    {
     "name": "stderr",
     "output_type": "stream",
     "text": [
      "/tmp/ipykernel_998/1739257450.py:12: FutureWarning: Pass sr=22050, n_steps=7 as keyword args. From version 0.10 passing these as positional arguments will result in an error\n",
      "  new_y = librosa.effects.pitch_shift(y, sr, steps)\n"
     ]
    },
    {
     "name": "stdout",
     "output_type": "stream",
     "text": [
      "/home/ubuntu/Data/genres_original/classical/changedclassical.00067.wav\n"
     ]
    },
    {
     "name": "stderr",
     "output_type": "stream",
     "text": [
      "/tmp/ipykernel_998/1739257450.py:12: FutureWarning: Pass sr=22050, n_steps=7 as keyword args. From version 0.10 passing these as positional arguments will result in an error\n",
      "  new_y = librosa.effects.pitch_shift(y, sr, steps)\n"
     ]
    },
    {
     "name": "stdout",
     "output_type": "stream",
     "text": [
      "/home/ubuntu/Data/genres_original/classical/changedclassical.00036.wav\n"
     ]
    },
    {
     "name": "stderr",
     "output_type": "stream",
     "text": [
      "/tmp/ipykernel_998/1739257450.py:12: FutureWarning: Pass sr=22050, n_steps=7 as keyword args. From version 0.10 passing these as positional arguments will result in an error\n",
      "  new_y = librosa.effects.pitch_shift(y, sr, steps)\n"
     ]
    },
    {
     "name": "stdout",
     "output_type": "stream",
     "text": [
      "/home/ubuntu/Data/genres_original/classical/changedclassical.00035.wav\n"
     ]
    },
    {
     "name": "stderr",
     "output_type": "stream",
     "text": [
      "/tmp/ipykernel_998/1739257450.py:12: FutureWarning: Pass sr=22050, n_steps=7 as keyword args. From version 0.10 passing these as positional arguments will result in an error\n",
      "  new_y = librosa.effects.pitch_shift(y, sr, steps)\n"
     ]
    },
    {
     "name": "stdout",
     "output_type": "stream",
     "text": [
      "/home/ubuntu/Data/genres_original/classical/changedclassical.00014.wav\n"
     ]
    },
    {
     "name": "stderr",
     "output_type": "stream",
     "text": [
      "/tmp/ipykernel_998/1739257450.py:12: FutureWarning: Pass sr=22050, n_steps=7 as keyword args. From version 0.10 passing these as positional arguments will result in an error\n",
      "  new_y = librosa.effects.pitch_shift(y, sr, steps)\n"
     ]
    },
    {
     "name": "stdout",
     "output_type": "stream",
     "text": [
      "/home/ubuntu/Data/genres_original/classical/changedclassical.00090.wav\n"
     ]
    },
    {
     "name": "stderr",
     "output_type": "stream",
     "text": [
      "/tmp/ipykernel_998/1739257450.py:12: FutureWarning: Pass sr=22050, n_steps=7 as keyword args. From version 0.10 passing these as positional arguments will result in an error\n",
      "  new_y = librosa.effects.pitch_shift(y, sr, steps)\n"
     ]
    },
    {
     "name": "stdout",
     "output_type": "stream",
     "text": [
      "/home/ubuntu/Data/genres_original/classical/changedclassical.00008.wav\n"
     ]
    },
    {
     "name": "stderr",
     "output_type": "stream",
     "text": [
      "/tmp/ipykernel_998/1739257450.py:12: FutureWarning: Pass sr=22050, n_steps=7 as keyword args. From version 0.10 passing these as positional arguments will result in an error\n",
      "  new_y = librosa.effects.pitch_shift(y, sr, steps)\n"
     ]
    },
    {
     "name": "stdout",
     "output_type": "stream",
     "text": [
      "/home/ubuntu/Data/genres_original/classical/changedclassical.00060.wav\n"
     ]
    },
    {
     "name": "stderr",
     "output_type": "stream",
     "text": [
      "/tmp/ipykernel_998/1739257450.py:12: FutureWarning: Pass sr=22050, n_steps=7 as keyword args. From version 0.10 passing these as positional arguments will result in an error\n",
      "  new_y = librosa.effects.pitch_shift(y, sr, steps)\n"
     ]
    },
    {
     "name": "stdout",
     "output_type": "stream",
     "text": [
      "/home/ubuntu/Data/genres_original/classical/changedclassical.00079.wav\n"
     ]
    },
    {
     "name": "stderr",
     "output_type": "stream",
     "text": [
      "/tmp/ipykernel_998/1739257450.py:12: FutureWarning: Pass sr=22050, n_steps=7 as keyword args. From version 0.10 passing these as positional arguments will result in an error\n",
      "  new_y = librosa.effects.pitch_shift(y, sr, steps)\n"
     ]
    },
    {
     "name": "stdout",
     "output_type": "stream",
     "text": [
      "/home/ubuntu/Data/genres_original/classical/changedclassical.00071.wav\n"
     ]
    },
    {
     "name": "stderr",
     "output_type": "stream",
     "text": [
      "/tmp/ipykernel_998/1739257450.py:12: FutureWarning: Pass sr=22050, n_steps=7 as keyword args. From version 0.10 passing these as positional arguments will result in an error\n",
      "  new_y = librosa.effects.pitch_shift(y, sr, steps)\n"
     ]
    },
    {
     "name": "stdout",
     "output_type": "stream",
     "text": [
      "/home/ubuntu/Data/genres_original/classical/changedclassical.00076.wav\n"
     ]
    },
    {
     "name": "stderr",
     "output_type": "stream",
     "text": [
      "/tmp/ipykernel_998/1739257450.py:12: FutureWarning: Pass sr=22050, n_steps=7 as keyword args. From version 0.10 passing these as positional arguments will result in an error\n",
      "  new_y = librosa.effects.pitch_shift(y, sr, steps)\n"
     ]
    },
    {
     "name": "stdout",
     "output_type": "stream",
     "text": [
      "/home/ubuntu/Data/genres_original/classical/changedclassical.00041.wav\n"
     ]
    },
    {
     "name": "stderr",
     "output_type": "stream",
     "text": [
      "/tmp/ipykernel_998/1739257450.py:12: FutureWarning: Pass sr=22050, n_steps=7 as keyword args. From version 0.10 passing these as positional arguments will result in an error\n",
      "  new_y = librosa.effects.pitch_shift(y, sr, steps)\n"
     ]
    },
    {
     "name": "stdout",
     "output_type": "stream",
     "text": [
      "/home/ubuntu/Data/genres_original/classical/changedclassical.00075.wav\n"
     ]
    },
    {
     "name": "stderr",
     "output_type": "stream",
     "text": [
      "/tmp/ipykernel_998/1739257450.py:12: FutureWarning: Pass sr=22050, n_steps=7 as keyword args. From version 0.10 passing these as positional arguments will result in an error\n",
      "  new_y = librosa.effects.pitch_shift(y, sr, steps)\n"
     ]
    },
    {
     "name": "stdout",
     "output_type": "stream",
     "text": [
      "/home/ubuntu/Data/genres_original/classical/changedclassical.00029.wav\n"
     ]
    },
    {
     "name": "stderr",
     "output_type": "stream",
     "text": [
      "/tmp/ipykernel_998/1739257450.py:12: FutureWarning: Pass sr=22050, n_steps=7 as keyword args. From version 0.10 passing these as positional arguments will result in an error\n",
      "  new_y = librosa.effects.pitch_shift(y, sr, steps)\n"
     ]
    },
    {
     "name": "stdout",
     "output_type": "stream",
     "text": [
      "/home/ubuntu/Data/genres_original/classical/changedclassical.00056.wav\n"
     ]
    },
    {
     "name": "stderr",
     "output_type": "stream",
     "text": [
      "/tmp/ipykernel_998/1739257450.py:12: FutureWarning: Pass sr=22050, n_steps=7 as keyword args. From version 0.10 passing these as positional arguments will result in an error\n",
      "  new_y = librosa.effects.pitch_shift(y, sr, steps)\n"
     ]
    },
    {
     "name": "stdout",
     "output_type": "stream",
     "text": [
      "/home/ubuntu/Data/genres_original/classical/changedclassical.00065.wav\n"
     ]
    },
    {
     "name": "stderr",
     "output_type": "stream",
     "text": [
      "/tmp/ipykernel_998/1739257450.py:12: FutureWarning: Pass sr=22050, n_steps=7 as keyword args. From version 0.10 passing these as positional arguments will result in an error\n",
      "  new_y = librosa.effects.pitch_shift(y, sr, steps)\n"
     ]
    },
    {
     "name": "stdout",
     "output_type": "stream",
     "text": [
      "/home/ubuntu/Data/genres_original/classical/changedclassical.00082.wav\n"
     ]
    },
    {
     "name": "stderr",
     "output_type": "stream",
     "text": [
      "/tmp/ipykernel_998/1739257450.py:12: FutureWarning: Pass sr=22050, n_steps=7 as keyword args. From version 0.10 passing these as positional arguments will result in an error\n",
      "  new_y = librosa.effects.pitch_shift(y, sr, steps)\n"
     ]
    },
    {
     "name": "stdout",
     "output_type": "stream",
     "text": [
      "/home/ubuntu/Data/genres_original/classical/changedclassical.00007.wav\n"
     ]
    },
    {
     "name": "stderr",
     "output_type": "stream",
     "text": [
      "/tmp/ipykernel_998/1739257450.py:12: FutureWarning: Pass sr=22050, n_steps=7 as keyword args. From version 0.10 passing these as positional arguments will result in an error\n",
      "  new_y = librosa.effects.pitch_shift(y, sr, steps)\n"
     ]
    },
    {
     "name": "stdout",
     "output_type": "stream",
     "text": [
      "/home/ubuntu/Data/genres_original/classical/changedclassical.00037.wav\n"
     ]
    },
    {
     "name": "stderr",
     "output_type": "stream",
     "text": [
      "/tmp/ipykernel_998/1739257450.py:12: FutureWarning: Pass sr=22050, n_steps=7 as keyword args. From version 0.10 passing these as positional arguments will result in an error\n",
      "  new_y = librosa.effects.pitch_shift(y, sr, steps)\n"
     ]
    },
    {
     "name": "stdout",
     "output_type": "stream",
     "text": [
      "/home/ubuntu/Data/genres_original/classical/changedclassical.00001.wav\n"
     ]
    },
    {
     "name": "stderr",
     "output_type": "stream",
     "text": [
      "/tmp/ipykernel_998/1739257450.py:12: FutureWarning: Pass sr=22050, n_steps=7 as keyword args. From version 0.10 passing these as positional arguments will result in an error\n",
      "  new_y = librosa.effects.pitch_shift(y, sr, steps)\n"
     ]
    },
    {
     "name": "stdout",
     "output_type": "stream",
     "text": [
      "/home/ubuntu/Data/genres_original/classical/changedclassical.00072.wav\n"
     ]
    },
    {
     "name": "stderr",
     "output_type": "stream",
     "text": [
      "/tmp/ipykernel_998/1739257450.py:12: FutureWarning: Pass sr=22050, n_steps=7 as keyword args. From version 0.10 passing these as positional arguments will result in an error\n",
      "  new_y = librosa.effects.pitch_shift(y, sr, steps)\n"
     ]
    },
    {
     "name": "stdout",
     "output_type": "stream",
     "text": [
      "/home/ubuntu/Data/genres_original/classical/changedclassical.00094.wav\n"
     ]
    },
    {
     "name": "stderr",
     "output_type": "stream",
     "text": [
      "/tmp/ipykernel_998/1739257450.py:12: FutureWarning: Pass sr=22050, n_steps=7 as keyword args. From version 0.10 passing these as positional arguments will result in an error\n",
      "  new_y = librosa.effects.pitch_shift(y, sr, steps)\n"
     ]
    },
    {
     "name": "stdout",
     "output_type": "stream",
     "text": [
      "/home/ubuntu/Data/genres_original/classical/changedclassical.00066.wav\n"
     ]
    },
    {
     "name": "stderr",
     "output_type": "stream",
     "text": [
      "/tmp/ipykernel_998/1739257450.py:12: FutureWarning: Pass sr=22050, n_steps=7 as keyword args. From version 0.10 passing these as positional arguments will result in an error\n",
      "  new_y = librosa.effects.pitch_shift(y, sr, steps)\n"
     ]
    },
    {
     "name": "stdout",
     "output_type": "stream",
     "text": [
      "/home/ubuntu/Data/genres_original/classical/changedclassical.00089.wav\n"
     ]
    },
    {
     "name": "stderr",
     "output_type": "stream",
     "text": [
      "/tmp/ipykernel_998/1739257450.py:12: FutureWarning: Pass sr=22050, n_steps=7 as keyword args. From version 0.10 passing these as positional arguments will result in an error\n",
      "  new_y = librosa.effects.pitch_shift(y, sr, steps)\n"
     ]
    },
    {
     "name": "stdout",
     "output_type": "stream",
     "text": [
      "/home/ubuntu/Data/genres_original/classical/changedclassical.00042.wav\n"
     ]
    },
    {
     "name": "stderr",
     "output_type": "stream",
     "text": [
      "/tmp/ipykernel_998/1739257450.py:12: FutureWarning: Pass sr=22050, n_steps=7 as keyword args. From version 0.10 passing these as positional arguments will result in an error\n",
      "  new_y = librosa.effects.pitch_shift(y, sr, steps)\n"
     ]
    },
    {
     "name": "stdout",
     "output_type": "stream",
     "text": [
      "/home/ubuntu/Data/genres_original/classical/changedclassical.00032.wav\n"
     ]
    },
    {
     "name": "stderr",
     "output_type": "stream",
     "text": [
      "/tmp/ipykernel_998/1739257450.py:12: FutureWarning: Pass sr=22050, n_steps=7 as keyword args. From version 0.10 passing these as positional arguments will result in an error\n",
      "  new_y = librosa.effects.pitch_shift(y, sr, steps)\n"
     ]
    },
    {
     "name": "stdout",
     "output_type": "stream",
     "text": [
      "/home/ubuntu/Data/genres_original/classical/changedclassical.00064.wav\n"
     ]
    },
    {
     "name": "stderr",
     "output_type": "stream",
     "text": [
      "/tmp/ipykernel_998/1739257450.py:12: FutureWarning: Pass sr=22050, n_steps=7 as keyword args. From version 0.10 passing these as positional arguments will result in an error\n",
      "  new_y = librosa.effects.pitch_shift(y, sr, steps)\n"
     ]
    },
    {
     "name": "stdout",
     "output_type": "stream",
     "text": [
      "/home/ubuntu/Data/genres_original/classical/changedclassical.00050.wav\n"
     ]
    },
    {
     "name": "stderr",
     "output_type": "stream",
     "text": [
      "/tmp/ipykernel_998/1739257450.py:12: FutureWarning: Pass sr=22050, n_steps=7 as keyword args. From version 0.10 passing these as positional arguments will result in an error\n",
      "  new_y = librosa.effects.pitch_shift(y, sr, steps)\n"
     ]
    },
    {
     "name": "stdout",
     "output_type": "stream",
     "text": [
      "/home/ubuntu/Data/genres_original/classical/changedclassical.00043.wav\n"
     ]
    },
    {
     "name": "stderr",
     "output_type": "stream",
     "text": [
      "/tmp/ipykernel_998/1739257450.py:12: FutureWarning: Pass sr=22050, n_steps=7 as keyword args. From version 0.10 passing these as positional arguments will result in an error\n",
      "  new_y = librosa.effects.pitch_shift(y, sr, steps)\n"
     ]
    },
    {
     "name": "stdout",
     "output_type": "stream",
     "text": [
      "/home/ubuntu/Data/genres_original/classical/changedclassical.00057.wav\n"
     ]
    },
    {
     "name": "stderr",
     "output_type": "stream",
     "text": [
      "/tmp/ipykernel_998/1739257450.py:12: FutureWarning: Pass sr=22050, n_steps=7 as keyword args. From version 0.10 passing these as positional arguments will result in an error\n",
      "  new_y = librosa.effects.pitch_shift(y, sr, steps)\n"
     ]
    },
    {
     "name": "stdout",
     "output_type": "stream",
     "text": [
      "/home/ubuntu/Data/genres_original/classical/changedclassical.00022.wav\n"
     ]
    },
    {
     "name": "stderr",
     "output_type": "stream",
     "text": [
      "/tmp/ipykernel_998/1739257450.py:12: FutureWarning: Pass sr=22050, n_steps=7 as keyword args. From version 0.10 passing these as positional arguments will result in an error\n",
      "  new_y = librosa.effects.pitch_shift(y, sr, steps)\n"
     ]
    },
    {
     "name": "stdout",
     "output_type": "stream",
     "text": [
      "/home/ubuntu/Data/genres_original/classical/changedclassical.00025.wav\n"
     ]
    },
    {
     "name": "stderr",
     "output_type": "stream",
     "text": [
      "/tmp/ipykernel_998/1739257450.py:12: FutureWarning: Pass sr=22050, n_steps=7 as keyword args. From version 0.10 passing these as positional arguments will result in an error\n",
      "  new_y = librosa.effects.pitch_shift(y, sr, steps)\n"
     ]
    },
    {
     "name": "stdout",
     "output_type": "stream",
     "text": [
      "/home/ubuntu/Data/genres_original/classical/changedclassical.00020.wav\n"
     ]
    },
    {
     "name": "stderr",
     "output_type": "stream",
     "text": [
      "/tmp/ipykernel_998/1739257450.py:12: FutureWarning: Pass sr=22050, n_steps=7 as keyword args. From version 0.10 passing these as positional arguments will result in an error\n",
      "  new_y = librosa.effects.pitch_shift(y, sr, steps)\n"
     ]
    },
    {
     "name": "stdout",
     "output_type": "stream",
     "text": [
      "/home/ubuntu/Data/genres_original/classical/changedclassical.00069.wav\n"
     ]
    },
    {
     "name": "stderr",
     "output_type": "stream",
     "text": [
      "/tmp/ipykernel_998/1739257450.py:12: FutureWarning: Pass sr=22050, n_steps=7 as keyword args. From version 0.10 passing these as positional arguments will result in an error\n",
      "  new_y = librosa.effects.pitch_shift(y, sr, steps)\n"
     ]
    },
    {
     "name": "stdout",
     "output_type": "stream",
     "text": [
      "/home/ubuntu/Data/genres_original/classical/changedclassical.00052.wav\n"
     ]
    },
    {
     "name": "stderr",
     "output_type": "stream",
     "text": [
      "/tmp/ipykernel_998/1739257450.py:12: FutureWarning: Pass sr=22050, n_steps=7 as keyword args. From version 0.10 passing these as positional arguments will result in an error\n",
      "  new_y = librosa.effects.pitch_shift(y, sr, steps)\n"
     ]
    },
    {
     "name": "stdout",
     "output_type": "stream",
     "text": [
      "/home/ubuntu/Data/genres_original/classical/changedclassical.00019.wav\n"
     ]
    },
    {
     "name": "stderr",
     "output_type": "stream",
     "text": [
      "/tmp/ipykernel_998/1739257450.py:12: FutureWarning: Pass sr=22050, n_steps=7 as keyword args. From version 0.10 passing these as positional arguments will result in an error\n",
      "  new_y = librosa.effects.pitch_shift(y, sr, steps)\n"
     ]
    },
    {
     "name": "stdout",
     "output_type": "stream",
     "text": [
      "/home/ubuntu/Data/genres_original/classical/changedclassical.00096.wav\n"
     ]
    },
    {
     "name": "stderr",
     "output_type": "stream",
     "text": [
      "/tmp/ipykernel_998/1739257450.py:12: FutureWarning: Pass sr=22050, n_steps=7 as keyword args. From version 0.10 passing these as positional arguments will result in an error\n",
      "  new_y = librosa.effects.pitch_shift(y, sr, steps)\n"
     ]
    },
    {
     "name": "stdout",
     "output_type": "stream",
     "text": [
      "/home/ubuntu/Data/genres_original/classical/changedclassical.00021.wav\n"
     ]
    },
    {
     "name": "stderr",
     "output_type": "stream",
     "text": [
      "/tmp/ipykernel_998/1739257450.py:12: FutureWarning: Pass sr=22050, n_steps=7 as keyword args. From version 0.10 passing these as positional arguments will result in an error\n",
      "  new_y = librosa.effects.pitch_shift(y, sr, steps)\n"
     ]
    },
    {
     "name": "stdout",
     "output_type": "stream",
     "text": [
      "/home/ubuntu/Data/genres_original/classical/changedclassical.00039.wav\n"
     ]
    },
    {
     "name": "stderr",
     "output_type": "stream",
     "text": [
      "/tmp/ipykernel_998/1739257450.py:12: FutureWarning: Pass sr=22050, n_steps=7 as keyword args. From version 0.10 passing these as positional arguments will result in an error\n",
      "  new_y = librosa.effects.pitch_shift(y, sr, steps)\n"
     ]
    },
    {
     "name": "stdout",
     "output_type": "stream",
     "text": [
      "/home/ubuntu/Data/genres_original/classical/changedclassical.00080.wav\n"
     ]
    },
    {
     "name": "stderr",
     "output_type": "stream",
     "text": [
      "/tmp/ipykernel_998/1739257450.py:12: FutureWarning: Pass sr=22050, n_steps=7 as keyword args. From version 0.10 passing these as positional arguments will result in an error\n",
      "  new_y = librosa.effects.pitch_shift(y, sr, steps)\n"
     ]
    },
    {
     "name": "stdout",
     "output_type": "stream",
     "text": [
      "/home/ubuntu/Data/genres_original/classical/changedclassical.00091.wav\n"
     ]
    },
    {
     "name": "stderr",
     "output_type": "stream",
     "text": [
      "/tmp/ipykernel_998/1739257450.py:12: FutureWarning: Pass sr=22050, n_steps=7 as keyword args. From version 0.10 passing these as positional arguments will result in an error\n",
      "  new_y = librosa.effects.pitch_shift(y, sr, steps)\n"
     ]
    },
    {
     "name": "stdout",
     "output_type": "stream",
     "text": [
      "/home/ubuntu/Data/genres_original/classical/changedclassical.00033.wav\n"
     ]
    },
    {
     "name": "stderr",
     "output_type": "stream",
     "text": [
      "/tmp/ipykernel_998/1739257450.py:12: FutureWarning: Pass sr=22050, n_steps=7 as keyword args. From version 0.10 passing these as positional arguments will result in an error\n",
      "  new_y = librosa.effects.pitch_shift(y, sr, steps)\n"
     ]
    },
    {
     "name": "stdout",
     "output_type": "stream",
     "text": [
      "/home/ubuntu/Data/genres_original/classical/changedclassical.00018.wav\n"
     ]
    },
    {
     "name": "stderr",
     "output_type": "stream",
     "text": [
      "/tmp/ipykernel_998/1739257450.py:12: FutureWarning: Pass sr=22050, n_steps=7 as keyword args. From version 0.10 passing these as positional arguments will result in an error\n",
      "  new_y = librosa.effects.pitch_shift(y, sr, steps)\n"
     ]
    },
    {
     "name": "stdout",
     "output_type": "stream",
     "text": [
      "/home/ubuntu/Data/genres_original/classical/changedclassical.00017.wav\n"
     ]
    },
    {
     "name": "stderr",
     "output_type": "stream",
     "text": [
      "/tmp/ipykernel_998/1739257450.py:12: FutureWarning: Pass sr=22050, n_steps=7 as keyword args. From version 0.10 passing these as positional arguments will result in an error\n",
      "  new_y = librosa.effects.pitch_shift(y, sr, steps)\n"
     ]
    },
    {
     "name": "stdout",
     "output_type": "stream",
     "text": [
      "/home/ubuntu/Data/genres_original/classical/changedclassical.00010.wav\n"
     ]
    },
    {
     "name": "stderr",
     "output_type": "stream",
     "text": [
      "/tmp/ipykernel_998/1739257450.py:12: FutureWarning: Pass sr=22050, n_steps=7 as keyword args. From version 0.10 passing these as positional arguments will result in an error\n",
      "  new_y = librosa.effects.pitch_shift(y, sr, steps)\n"
     ]
    },
    {
     "name": "stdout",
     "output_type": "stream",
     "text": [
      "/home/ubuntu/Data/genres_original/classical/changedclassical.00084.wav\n"
     ]
    },
    {
     "name": "stderr",
     "output_type": "stream",
     "text": [
      "/tmp/ipykernel_998/1739257450.py:12: FutureWarning: Pass sr=22050, n_steps=7 as keyword args. From version 0.10 passing these as positional arguments will result in an error\n",
      "  new_y = librosa.effects.pitch_shift(y, sr, steps)\n"
     ]
    },
    {
     "name": "stdout",
     "output_type": "stream",
     "text": [
      "/home/ubuntu/Data/genres_original/classical/changedclassical.00098.wav\n"
     ]
    },
    {
     "name": "stderr",
     "output_type": "stream",
     "text": [
      "/tmp/ipykernel_998/1739257450.py:12: FutureWarning: Pass sr=22050, n_steps=7 as keyword args. From version 0.10 passing these as positional arguments will result in an error\n",
      "  new_y = librosa.effects.pitch_shift(y, sr, steps)\n"
     ]
    },
    {
     "name": "stdout",
     "output_type": "stream",
     "text": [
      "/home/ubuntu/Data/genres_original/classical/changedclassical.00005.wav\n"
     ]
    },
    {
     "name": "stderr",
     "output_type": "stream",
     "text": [
      "/tmp/ipykernel_998/1739257450.py:12: FutureWarning: Pass sr=22050, n_steps=7 as keyword args. From version 0.10 passing these as positional arguments will result in an error\n",
      "  new_y = librosa.effects.pitch_shift(y, sr, steps)\n"
     ]
    },
    {
     "name": "stdout",
     "output_type": "stream",
     "text": [
      "/home/ubuntu/Data/genres_original/classical/changedclassical.00087.wav\n"
     ]
    },
    {
     "name": "stderr",
     "output_type": "stream",
     "text": [
      "/tmp/ipykernel_998/1739257450.py:12: FutureWarning: Pass sr=22050, n_steps=7 as keyword args. From version 0.10 passing these as positional arguments will result in an error\n",
      "  new_y = librosa.effects.pitch_shift(y, sr, steps)\n"
     ]
    },
    {
     "name": "stdout",
     "output_type": "stream",
     "text": [
      "/home/ubuntu/Data/genres_original/classical/changedclassical.00073.wav\n"
     ]
    },
    {
     "name": "stderr",
     "output_type": "stream",
     "text": [
      "/tmp/ipykernel_998/1739257450.py:12: FutureWarning: Pass sr=22050, n_steps=7 as keyword args. From version 0.10 passing these as positional arguments will result in an error\n",
      "  new_y = librosa.effects.pitch_shift(y, sr, steps)\n"
     ]
    },
    {
     "name": "stdout",
     "output_type": "stream",
     "text": [
      "/home/ubuntu/Data/genres_original/classical/changedclassical.00061.wav\n"
     ]
    },
    {
     "name": "stderr",
     "output_type": "stream",
     "text": [
      "/tmp/ipykernel_998/1739257450.py:12: FutureWarning: Pass sr=22050, n_steps=7 as keyword args. From version 0.10 passing these as positional arguments will result in an error\n",
      "  new_y = librosa.effects.pitch_shift(y, sr, steps)\n"
     ]
    },
    {
     "name": "stdout",
     "output_type": "stream",
     "text": [
      "/home/ubuntu/Data/genres_original/classical/changedclassical.00047.wav\n"
     ]
    },
    {
     "name": "stderr",
     "output_type": "stream",
     "text": [
      "/tmp/ipykernel_998/1739257450.py:12: FutureWarning: Pass sr=22050, n_steps=7 as keyword args. From version 0.10 passing these as positional arguments will result in an error\n",
      "  new_y = librosa.effects.pitch_shift(y, sr, steps)\n"
     ]
    },
    {
     "name": "stdout",
     "output_type": "stream",
     "text": [
      "/home/ubuntu/Data/genres_original/classical/changedclassical.00063.wav\n"
     ]
    },
    {
     "name": "stderr",
     "output_type": "stream",
     "text": [
      "/tmp/ipykernel_998/1739257450.py:12: FutureWarning: Pass sr=22050, n_steps=7 as keyword args. From version 0.10 passing these as positional arguments will result in an error\n",
      "  new_y = librosa.effects.pitch_shift(y, sr, steps)\n"
     ]
    },
    {
     "name": "stdout",
     "output_type": "stream",
     "text": [
      "/home/ubuntu/Data/genres_original/classical/changedclassical.00074.wav\n"
     ]
    },
    {
     "name": "stderr",
     "output_type": "stream",
     "text": [
      "/tmp/ipykernel_998/1739257450.py:12: FutureWarning: Pass sr=22050, n_steps=7 as keyword args. From version 0.10 passing these as positional arguments will result in an error\n",
      "  new_y = librosa.effects.pitch_shift(y, sr, steps)\n"
     ]
    },
    {
     "name": "stdout",
     "output_type": "stream",
     "text": [
      "/home/ubuntu/Data/genres_original/classical/changedclassical.00088.wav\n"
     ]
    },
    {
     "name": "stderr",
     "output_type": "stream",
     "text": [
      "/tmp/ipykernel_998/1739257450.py:12: FutureWarning: Pass sr=22050, n_steps=7 as keyword args. From version 0.10 passing these as positional arguments will result in an error\n",
      "  new_y = librosa.effects.pitch_shift(y, sr, steps)\n"
     ]
    },
    {
     "name": "stdout",
     "output_type": "stream",
     "text": [
      "/home/ubuntu/Data/genres_original/classical/changedclassical.00009.wav\n"
     ]
    },
    {
     "name": "stderr",
     "output_type": "stream",
     "text": [
      "/tmp/ipykernel_998/1739257450.py:12: FutureWarning: Pass sr=22050, n_steps=7 as keyword args. From version 0.10 passing these as positional arguments will result in an error\n",
      "  new_y = librosa.effects.pitch_shift(y, sr, steps)\n"
     ]
    },
    {
     "name": "stdout",
     "output_type": "stream",
     "text": [
      "/home/ubuntu/Data/genres_original/classical/changedclassical.00038.wav\n"
     ]
    },
    {
     "name": "stderr",
     "output_type": "stream",
     "text": [
      "/tmp/ipykernel_998/1739257450.py:12: FutureWarning: Pass sr=22050, n_steps=7 as keyword args. From version 0.10 passing these as positional arguments will result in an error\n",
      "  new_y = librosa.effects.pitch_shift(y, sr, steps)\n"
     ]
    },
    {
     "name": "stdout",
     "output_type": "stream",
     "text": [
      "/home/ubuntu/Data/genres_original/classical/changedclassical.00028.wav\n"
     ]
    },
    {
     "name": "stderr",
     "output_type": "stream",
     "text": [
      "/tmp/ipykernel_998/1739257450.py:12: FutureWarning: Pass sr=22050, n_steps=7 as keyword args. From version 0.10 passing these as positional arguments will result in an error\n",
      "  new_y = librosa.effects.pitch_shift(y, sr, steps)\n"
     ]
    },
    {
     "name": "stdout",
     "output_type": "stream",
     "text": [
      "/home/ubuntu/Data/genres_original/classical/changedclassical.00045.wav\n"
     ]
    },
    {
     "name": "stderr",
     "output_type": "stream",
     "text": [
      "/tmp/ipykernel_998/1739257450.py:12: FutureWarning: Pass sr=22050, n_steps=7 as keyword args. From version 0.10 passing these as positional arguments will result in an error\n",
      "  new_y = librosa.effects.pitch_shift(y, sr, steps)\n"
     ]
    },
    {
     "name": "stdout",
     "output_type": "stream",
     "text": [
      "/home/ubuntu/Data/genres_original/classical/changedclassical.00053.wav\n"
     ]
    },
    {
     "name": "stderr",
     "output_type": "stream",
     "text": [
      "/tmp/ipykernel_998/1739257450.py:12: FutureWarning: Pass sr=22050, n_steps=7 as keyword args. From version 0.10 passing these as positional arguments will result in an error\n",
      "  new_y = librosa.effects.pitch_shift(y, sr, steps)\n"
     ]
    },
    {
     "name": "stdout",
     "output_type": "stream",
     "text": [
      "/home/ubuntu/Data/genres_original/classical/changedclassical.00095.wav\n"
     ]
    },
    {
     "name": "stderr",
     "output_type": "stream",
     "text": [
      "/tmp/ipykernel_998/1739257450.py:12: FutureWarning: Pass sr=22050, n_steps=7 as keyword args. From version 0.10 passing these as positional arguments will result in an error\n",
      "  new_y = librosa.effects.pitch_shift(y, sr, steps)\n"
     ]
    },
    {
     "name": "stdout",
     "output_type": "stream",
     "text": [
      "/home/ubuntu/Data/genres_original/classical/changedclassical.00003.wav\n"
     ]
    },
    {
     "name": "stderr",
     "output_type": "stream",
     "text": [
      "/tmp/ipykernel_998/1739257450.py:12: FutureWarning: Pass sr=22050, n_steps=7 as keyword args. From version 0.10 passing these as positional arguments will result in an error\n",
      "  new_y = librosa.effects.pitch_shift(y, sr, steps)\n"
     ]
    },
    {
     "name": "stdout",
     "output_type": "stream",
     "text": [
      "/home/ubuntu/Data/genres_original/classical/changedclassical.00077.wav\n"
     ]
    },
    {
     "name": "stderr",
     "output_type": "stream",
     "text": [
      "/tmp/ipykernel_998/1739257450.py:12: FutureWarning: Pass sr=22050, n_steps=7 as keyword args. From version 0.10 passing these as positional arguments will result in an error\n",
      "  new_y = librosa.effects.pitch_shift(y, sr, steps)\n"
     ]
    },
    {
     "name": "stdout",
     "output_type": "stream",
     "text": [
      "/home/ubuntu/Data/genres_original/classical/changedclassical.00004.wav\n"
     ]
    },
    {
     "name": "stderr",
     "output_type": "stream",
     "text": [
      "/tmp/ipykernel_998/1739257450.py:12: FutureWarning: Pass sr=22050, n_steps=7 as keyword args. From version 0.10 passing these as positional arguments will result in an error\n",
      "  new_y = librosa.effects.pitch_shift(y, sr, steps)\n"
     ]
    },
    {
     "name": "stdout",
     "output_type": "stream",
     "text": [
      "/home/ubuntu/Data/genres_original/classical/changedclassical.00023.wav\n"
     ]
    },
    {
     "name": "stderr",
     "output_type": "stream",
     "text": [
      "/tmp/ipykernel_998/1739257450.py:12: FutureWarning: Pass sr=22050, n_steps=7 as keyword args. From version 0.10 passing these as positional arguments will result in an error\n",
      "  new_y = librosa.effects.pitch_shift(y, sr, steps)\n"
     ]
    },
    {
     "name": "stdout",
     "output_type": "stream",
     "text": [
      "/home/ubuntu/Data/genres_original/classical/changedclassical.00059.wav\n"
     ]
    },
    {
     "name": "stderr",
     "output_type": "stream",
     "text": [
      "/tmp/ipykernel_998/1739257450.py:12: FutureWarning: Pass sr=22050, n_steps=7 as keyword args. From version 0.10 passing these as positional arguments will result in an error\n",
      "  new_y = librosa.effects.pitch_shift(y, sr, steps)\n"
     ]
    },
    {
     "name": "stdout",
     "output_type": "stream",
     "text": [
      "/home/ubuntu/Data/genres_original/classical/changedclassical.00049.wav\n"
     ]
    },
    {
     "name": "stderr",
     "output_type": "stream",
     "text": [
      "/tmp/ipykernel_998/1739257450.py:12: FutureWarning: Pass sr=22050, n_steps=7 as keyword args. From version 0.10 passing these as positional arguments will result in an error\n",
      "  new_y = librosa.effects.pitch_shift(y, sr, steps)\n"
     ]
    },
    {
     "name": "stdout",
     "output_type": "stream",
     "text": [
      "/home/ubuntu/Data/genres_original/classical/changedclassical.00086.wav\n"
     ]
    },
    {
     "name": "stderr",
     "output_type": "stream",
     "text": [
      "/tmp/ipykernel_998/1739257450.py:12: FutureWarning: Pass sr=22050, n_steps=7 as keyword args. From version 0.10 passing these as positional arguments will result in an error\n",
      "  new_y = librosa.effects.pitch_shift(y, sr, steps)\n"
     ]
    },
    {
     "name": "stdout",
     "output_type": "stream",
     "text": [
      "/home/ubuntu/Data/genres_original/classical/changedclassical.00048.wav\n"
     ]
    },
    {
     "name": "stderr",
     "output_type": "stream",
     "text": [
      "/tmp/ipykernel_998/1739257450.py:12: FutureWarning: Pass sr=22050, n_steps=7 as keyword args. From version 0.10 passing these as positional arguments will result in an error\n",
      "  new_y = librosa.effects.pitch_shift(y, sr, steps)\n"
     ]
    },
    {
     "name": "stdout",
     "output_type": "stream",
     "text": [
      "/home/ubuntu/Data/genres_original/classical/changedclassical.00044.wav\n"
     ]
    },
    {
     "name": "stderr",
     "output_type": "stream",
     "text": [
      "/tmp/ipykernel_998/1739257450.py:12: FutureWarning: Pass sr=22050, n_steps=7 as keyword args. From version 0.10 passing these as positional arguments will result in an error\n",
      "  new_y = librosa.effects.pitch_shift(y, sr, steps)\n"
     ]
    },
    {
     "name": "stdout",
     "output_type": "stream",
     "text": [
      "/home/ubuntu/Data/genres_original/classical/changedclassical.00027.wav\n"
     ]
    },
    {
     "name": "stderr",
     "output_type": "stream",
     "text": [
      "/tmp/ipykernel_998/1739257450.py:12: FutureWarning: Pass sr=22050, n_steps=7 as keyword args. From version 0.10 passing these as positional arguments will result in an error\n",
      "  new_y = librosa.effects.pitch_shift(y, sr, steps)\n"
     ]
    },
    {
     "name": "stdout",
     "output_type": "stream",
     "text": [
      "/home/ubuntu/Data/genres_original/classical/changedclassical.00034.wav\n"
     ]
    },
    {
     "name": "stderr",
     "output_type": "stream",
     "text": [
      "/tmp/ipykernel_998/1739257450.py:12: FutureWarning: Pass sr=22050, n_steps=7 as keyword args. From version 0.10 passing these as positional arguments will result in an error\n",
      "  new_y = librosa.effects.pitch_shift(y, sr, steps)\n"
     ]
    },
    {
     "name": "stdout",
     "output_type": "stream",
     "text": [
      "/home/ubuntu/Data/genres_original/classical/changedclassical.00068.wav\n"
     ]
    },
    {
     "name": "stderr",
     "output_type": "stream",
     "text": [
      "/tmp/ipykernel_998/1739257450.py:12: FutureWarning: Pass sr=22050, n_steps=7 as keyword args. From version 0.10 passing these as positional arguments will result in an error\n",
      "  new_y = librosa.effects.pitch_shift(y, sr, steps)\n"
     ]
    },
    {
     "name": "stdout",
     "output_type": "stream",
     "text": [
      "/home/ubuntu/Data/genres_original/classical/changedclassical.00011.wav\n"
     ]
    },
    {
     "name": "stderr",
     "output_type": "stream",
     "text": [
      "/tmp/ipykernel_998/1739257450.py:12: FutureWarning: Pass sr=22050, n_steps=7 as keyword args. From version 0.10 passing these as positional arguments will result in an error\n",
      "  new_y = librosa.effects.pitch_shift(y, sr, steps)\n"
     ]
    },
    {
     "name": "stdout",
     "output_type": "stream",
     "text": [
      "/home/ubuntu/Data/genres_original/classical/changedclassical.00012.wav\n"
     ]
    },
    {
     "name": "stderr",
     "output_type": "stream",
     "text": [
      "/tmp/ipykernel_998/1739257450.py:12: FutureWarning: Pass sr=22050, n_steps=7 as keyword args. From version 0.10 passing these as positional arguments will result in an error\n",
      "  new_y = librosa.effects.pitch_shift(y, sr, steps)\n"
     ]
    },
    {
     "name": "stdout",
     "output_type": "stream",
     "text": [
      "/home/ubuntu/Data/genres_original/classical/changedclassical.00070.wav\n"
     ]
    },
    {
     "name": "stderr",
     "output_type": "stream",
     "text": [
      "/tmp/ipykernel_998/1739257450.py:12: FutureWarning: Pass sr=22050, n_steps=7 as keyword args. From version 0.10 passing these as positional arguments will result in an error\n",
      "  new_y = librosa.effects.pitch_shift(y, sr, steps)\n"
     ]
    },
    {
     "name": "stdout",
     "output_type": "stream",
     "text": [
      "/home/ubuntu/Data/genres_original/classical/changedclassical.00006.wav\n"
     ]
    },
    {
     "name": "stderr",
     "output_type": "stream",
     "text": [
      "/tmp/ipykernel_998/1739257450.py:12: FutureWarning: Pass sr=22050, n_steps=7 as keyword args. From version 0.10 passing these as positional arguments will result in an error\n",
      "  new_y = librosa.effects.pitch_shift(y, sr, steps)\n"
     ]
    },
    {
     "name": "stdout",
     "output_type": "stream",
     "text": [
      "/home/ubuntu/Data/genres_original/classical/changedclassical.00031.wav\n"
     ]
    },
    {
     "name": "stderr",
     "output_type": "stream",
     "text": [
      "/tmp/ipykernel_998/1739257450.py:12: FutureWarning: Pass sr=22050, n_steps=7 as keyword args. From version 0.10 passing these as positional arguments will result in an error\n",
      "  new_y = librosa.effects.pitch_shift(y, sr, steps)\n"
     ]
    },
    {
     "name": "stdout",
     "output_type": "stream",
     "text": [
      "/home/ubuntu/Data/genres_original/classical/changedclassical.00000.wav\n"
     ]
    },
    {
     "name": "stderr",
     "output_type": "stream",
     "text": [
      "/tmp/ipykernel_998/1739257450.py:12: FutureWarning: Pass sr=22050, n_steps=7 as keyword args. From version 0.10 passing these as positional arguments will result in an error\n",
      "  new_y = librosa.effects.pitch_shift(y, sr, steps)\n"
     ]
    },
    {
     "name": "stdout",
     "output_type": "stream",
     "text": [
      "/home/ubuntu/Data/genres_original/classical/changedclassical.00081.wav\n"
     ]
    },
    {
     "name": "stderr",
     "output_type": "stream",
     "text": [
      "/tmp/ipykernel_998/1739257450.py:12: FutureWarning: Pass sr=22050, n_steps=7 as keyword args. From version 0.10 passing these as positional arguments will result in an error\n",
      "  new_y = librosa.effects.pitch_shift(y, sr, steps)\n"
     ]
    },
    {
     "name": "stdout",
     "output_type": "stream",
     "text": [
      "/home/ubuntu/Data/genres_original/classical/changedclassical.00015.wav\n"
     ]
    },
    {
     "name": "stderr",
     "output_type": "stream",
     "text": [
      "/tmp/ipykernel_998/1739257450.py:12: FutureWarning: Pass sr=22050, n_steps=7 as keyword args. From version 0.10 passing these as positional arguments will result in an error\n",
      "  new_y = librosa.effects.pitch_shift(y, sr, steps)\n"
     ]
    },
    {
     "name": "stdout",
     "output_type": "stream",
     "text": [
      "/home/ubuntu/Data/genres_original/classical/changedclassical.00030.wav\n"
     ]
    },
    {
     "name": "stderr",
     "output_type": "stream",
     "text": [
      "/tmp/ipykernel_998/1739257450.py:12: FutureWarning: Pass sr=22050, n_steps=7 as keyword args. From version 0.10 passing these as positional arguments will result in an error\n",
      "  new_y = librosa.effects.pitch_shift(y, sr, steps)\n"
     ]
    },
    {
     "name": "stdout",
     "output_type": "stream",
     "text": [
      "/home/ubuntu/Data/genres_original/classical/changedclassical.00040.wav\n"
     ]
    },
    {
     "name": "stderr",
     "output_type": "stream",
     "text": [
      "/tmp/ipykernel_998/1739257450.py:12: FutureWarning: Pass sr=22050, n_steps=7 as keyword args. From version 0.10 passing these as positional arguments will result in an error\n",
      "  new_y = librosa.effects.pitch_shift(y, sr, steps)\n"
     ]
    },
    {
     "name": "stdout",
     "output_type": "stream",
     "text": [
      "/home/ubuntu/Data/genres_original/classical/changedclassical.00055.wav\n"
     ]
    },
    {
     "name": "stderr",
     "output_type": "stream",
     "text": [
      "/tmp/ipykernel_998/1739257450.py:12: FutureWarning: Pass sr=22050, n_steps=7 as keyword args. From version 0.10 passing these as positional arguments will result in an error\n",
      "  new_y = librosa.effects.pitch_shift(y, sr, steps)\n"
     ]
    },
    {
     "name": "stdout",
     "output_type": "stream",
     "text": [
      "/home/ubuntu/Data/genres_original/classical/changedclassical.00002.wav\n"
     ]
    },
    {
     "name": "stderr",
     "output_type": "stream",
     "text": [
      "/tmp/ipykernel_998/1739257450.py:12: FutureWarning: Pass sr=22050, n_steps=7 as keyword args. From version 0.10 passing these as positional arguments will result in an error\n",
      "  new_y = librosa.effects.pitch_shift(y, sr, steps)\n"
     ]
    },
    {
     "name": "stdout",
     "output_type": "stream",
     "text": [
      "/home/ubuntu/Data/genres_original/classical/changedclassical.00092.wav\n"
     ]
    },
    {
     "name": "stderr",
     "output_type": "stream",
     "text": [
      "/tmp/ipykernel_998/1739257450.py:12: FutureWarning: Pass sr=22050, n_steps=7 as keyword args. From version 0.10 passing these as positional arguments will result in an error\n",
      "  new_y = librosa.effects.pitch_shift(y, sr, steps)\n"
     ]
    },
    {
     "name": "stdout",
     "output_type": "stream",
     "text": [
      "/home/ubuntu/Data/genres_original/classical/changedclassical.00097.wav\n"
     ]
    },
    {
     "name": "stderr",
     "output_type": "stream",
     "text": [
      "/tmp/ipykernel_998/1739257450.py:12: FutureWarning: Pass sr=22050, n_steps=7 as keyword args. From version 0.10 passing these as positional arguments will result in an error\n",
      "  new_y = librosa.effects.pitch_shift(y, sr, steps)\n"
     ]
    },
    {
     "name": "stdout",
     "output_type": "stream",
     "text": [
      "/home/ubuntu/Data/genres_original/classical/changedclassical.00013.wav\n",
      "current dir path is /home/ubuntu/Data/genres_original/pop\n"
     ]
    },
    {
     "name": "stderr",
     "output_type": "stream",
     "text": [
      "/tmp/ipykernel_998/1739257450.py:12: FutureWarning: Pass sr=22050, n_steps=7 as keyword args. From version 0.10 passing these as positional arguments will result in an error\n",
      "  new_y = librosa.effects.pitch_shift(y, sr, steps)\n"
     ]
    },
    {
     "name": "stdout",
     "output_type": "stream",
     "text": [
      "/home/ubuntu/Data/genres_original/pop/changedpop.00054.wav\n"
     ]
    },
    {
     "name": "stderr",
     "output_type": "stream",
     "text": [
      "/tmp/ipykernel_998/1739257450.py:12: FutureWarning: Pass sr=22050, n_steps=7 as keyword args. From version 0.10 passing these as positional arguments will result in an error\n",
      "  new_y = librosa.effects.pitch_shift(y, sr, steps)\n"
     ]
    },
    {
     "name": "stdout",
     "output_type": "stream",
     "text": [
      "/home/ubuntu/Data/genres_original/pop/changedpop.00028.wav\n"
     ]
    },
    {
     "name": "stderr",
     "output_type": "stream",
     "text": [
      "/tmp/ipykernel_998/1739257450.py:12: FutureWarning: Pass sr=22050, n_steps=7 as keyword args. From version 0.10 passing these as positional arguments will result in an error\n",
      "  new_y = librosa.effects.pitch_shift(y, sr, steps)\n"
     ]
    },
    {
     "name": "stdout",
     "output_type": "stream",
     "text": [
      "/home/ubuntu/Data/genres_original/pop/changedpop.00081.wav\n"
     ]
    },
    {
     "name": "stderr",
     "output_type": "stream",
     "text": [
      "/tmp/ipykernel_998/1739257450.py:12: FutureWarning: Pass sr=22050, n_steps=7 as keyword args. From version 0.10 passing these as positional arguments will result in an error\n",
      "  new_y = librosa.effects.pitch_shift(y, sr, steps)\n"
     ]
    },
    {
     "name": "stdout",
     "output_type": "stream",
     "text": [
      "/home/ubuntu/Data/genres_original/pop/changedpop.00014.wav\n"
     ]
    },
    {
     "name": "stderr",
     "output_type": "stream",
     "text": [
      "/tmp/ipykernel_998/1739257450.py:12: FutureWarning: Pass sr=22050, n_steps=7 as keyword args. From version 0.10 passing these as positional arguments will result in an error\n",
      "  new_y = librosa.effects.pitch_shift(y, sr, steps)\n"
     ]
    },
    {
     "name": "stdout",
     "output_type": "stream",
     "text": [
      "/home/ubuntu/Data/genres_original/pop/changedpop.00042.wav\n"
     ]
    },
    {
     "name": "stderr",
     "output_type": "stream",
     "text": [
      "/tmp/ipykernel_998/1739257450.py:12: FutureWarning: Pass sr=22050, n_steps=7 as keyword args. From version 0.10 passing these as positional arguments will result in an error\n",
      "  new_y = librosa.effects.pitch_shift(y, sr, steps)\n"
     ]
    },
    {
     "name": "stdout",
     "output_type": "stream",
     "text": [
      "/home/ubuntu/Data/genres_original/pop/changedpop.00001.wav\n"
     ]
    },
    {
     "name": "stderr",
     "output_type": "stream",
     "text": [
      "/tmp/ipykernel_998/1739257450.py:12: FutureWarning: Pass sr=22050, n_steps=7 as keyword args. From version 0.10 passing these as positional arguments will result in an error\n",
      "  new_y = librosa.effects.pitch_shift(y, sr, steps)\n"
     ]
    },
    {
     "name": "stdout",
     "output_type": "stream",
     "text": [
      "/home/ubuntu/Data/genres_original/pop/changedpop.00097.wav\n"
     ]
    },
    {
     "name": "stderr",
     "output_type": "stream",
     "text": [
      "/tmp/ipykernel_998/1739257450.py:12: FutureWarning: Pass sr=22050, n_steps=7 as keyword args. From version 0.10 passing these as positional arguments will result in an error\n",
      "  new_y = librosa.effects.pitch_shift(y, sr, steps)\n"
     ]
    },
    {
     "name": "stdout",
     "output_type": "stream",
     "text": [
      "/home/ubuntu/Data/genres_original/pop/changedpop.00099.wav\n"
     ]
    },
    {
     "name": "stderr",
     "output_type": "stream",
     "text": [
      "/tmp/ipykernel_998/1739257450.py:12: FutureWarning: Pass sr=22050, n_steps=7 as keyword args. From version 0.10 passing these as positional arguments will result in an error\n",
      "  new_y = librosa.effects.pitch_shift(y, sr, steps)\n"
     ]
    },
    {
     "name": "stdout",
     "output_type": "stream",
     "text": [
      "/home/ubuntu/Data/genres_original/pop/changedpop.00094.wav\n"
     ]
    },
    {
     "name": "stderr",
     "output_type": "stream",
     "text": [
      "/tmp/ipykernel_998/1739257450.py:12: FutureWarning: Pass sr=22050, n_steps=7 as keyword args. From version 0.10 passing these as positional arguments will result in an error\n",
      "  new_y = librosa.effects.pitch_shift(y, sr, steps)\n"
     ]
    },
    {
     "name": "stdout",
     "output_type": "stream",
     "text": [
      "/home/ubuntu/Data/genres_original/pop/changedpop.00031.wav\n"
     ]
    },
    {
     "name": "stderr",
     "output_type": "stream",
     "text": [
      "/tmp/ipykernel_998/1739257450.py:12: FutureWarning: Pass sr=22050, n_steps=7 as keyword args. From version 0.10 passing these as positional arguments will result in an error\n",
      "  new_y = librosa.effects.pitch_shift(y, sr, steps)\n"
     ]
    },
    {
     "name": "stdout",
     "output_type": "stream",
     "text": [
      "/home/ubuntu/Data/genres_original/pop/changedpop.00035.wav\n"
     ]
    },
    {
     "name": "stderr",
     "output_type": "stream",
     "text": [
      "/tmp/ipykernel_998/1739257450.py:12: FutureWarning: Pass sr=22050, n_steps=7 as keyword args. From version 0.10 passing these as positional arguments will result in an error\n",
      "  new_y = librosa.effects.pitch_shift(y, sr, steps)\n"
     ]
    },
    {
     "name": "stdout",
     "output_type": "stream",
     "text": [
      "/home/ubuntu/Data/genres_original/pop/changedpop.00005.wav\n"
     ]
    },
    {
     "name": "stderr",
     "output_type": "stream",
     "text": [
      "/tmp/ipykernel_998/1739257450.py:12: FutureWarning: Pass sr=22050, n_steps=7 as keyword args. From version 0.10 passing these as positional arguments will result in an error\n",
      "  new_y = librosa.effects.pitch_shift(y, sr, steps)\n"
     ]
    },
    {
     "name": "stdout",
     "output_type": "stream",
     "text": [
      "/home/ubuntu/Data/genres_original/pop/changedpop.00077.wav\n"
     ]
    },
    {
     "name": "stderr",
     "output_type": "stream",
     "text": [
      "/tmp/ipykernel_998/1739257450.py:12: FutureWarning: Pass sr=22050, n_steps=7 as keyword args. From version 0.10 passing these as positional arguments will result in an error\n",
      "  new_y = librosa.effects.pitch_shift(y, sr, steps)\n"
     ]
    },
    {
     "name": "stdout",
     "output_type": "stream",
     "text": [
      "/home/ubuntu/Data/genres_original/pop/changedpop.00000.wav\n"
     ]
    },
    {
     "name": "stderr",
     "output_type": "stream",
     "text": [
      "/tmp/ipykernel_998/1739257450.py:12: FutureWarning: Pass sr=22050, n_steps=7 as keyword args. From version 0.10 passing these as positional arguments will result in an error\n",
      "  new_y = librosa.effects.pitch_shift(y, sr, steps)\n"
     ]
    },
    {
     "name": "stdout",
     "output_type": "stream",
     "text": [
      "/home/ubuntu/Data/genres_original/pop/changedpop.00016.wav\n"
     ]
    },
    {
     "name": "stderr",
     "output_type": "stream",
     "text": [
      "/tmp/ipykernel_998/1739257450.py:12: FutureWarning: Pass sr=22050, n_steps=7 as keyword args. From version 0.10 passing these as positional arguments will result in an error\n",
      "  new_y = librosa.effects.pitch_shift(y, sr, steps)\n"
     ]
    },
    {
     "name": "stdout",
     "output_type": "stream",
     "text": [
      "/home/ubuntu/Data/genres_original/pop/changedpop.00062.wav\n"
     ]
    },
    {
     "name": "stderr",
     "output_type": "stream",
     "text": [
      "/tmp/ipykernel_998/1739257450.py:12: FutureWarning: Pass sr=22050, n_steps=7 as keyword args. From version 0.10 passing these as positional arguments will result in an error\n",
      "  new_y = librosa.effects.pitch_shift(y, sr, steps)\n"
     ]
    },
    {
     "name": "stdout",
     "output_type": "stream",
     "text": [
      "/home/ubuntu/Data/genres_original/pop/changedpop.00068.wav\n"
     ]
    },
    {
     "name": "stderr",
     "output_type": "stream",
     "text": [
      "/tmp/ipykernel_998/1739257450.py:12: FutureWarning: Pass sr=22050, n_steps=7 as keyword args. From version 0.10 passing these as positional arguments will result in an error\n",
      "  new_y = librosa.effects.pitch_shift(y, sr, steps)\n"
     ]
    },
    {
     "name": "stdout",
     "output_type": "stream",
     "text": [
      "/home/ubuntu/Data/genres_original/pop/changedpop.00002.wav\n"
     ]
    },
    {
     "name": "stderr",
     "output_type": "stream",
     "text": [
      "/tmp/ipykernel_998/1739257450.py:12: FutureWarning: Pass sr=22050, n_steps=7 as keyword args. From version 0.10 passing these as positional arguments will result in an error\n",
      "  new_y = librosa.effects.pitch_shift(y, sr, steps)\n"
     ]
    },
    {
     "name": "stdout",
     "output_type": "stream",
     "text": [
      "/home/ubuntu/Data/genres_original/pop/changedpop.00045.wav\n"
     ]
    },
    {
     "name": "stderr",
     "output_type": "stream",
     "text": [
      "/tmp/ipykernel_998/1739257450.py:12: FutureWarning: Pass sr=22050, n_steps=7 as keyword args. From version 0.10 passing these as positional arguments will result in an error\n",
      "  new_y = librosa.effects.pitch_shift(y, sr, steps)\n"
     ]
    },
    {
     "name": "stdout",
     "output_type": "stream",
     "text": [
      "/home/ubuntu/Data/genres_original/pop/changedpop.00076.wav\n"
     ]
    },
    {
     "name": "stderr",
     "output_type": "stream",
     "text": [
      "/tmp/ipykernel_998/1739257450.py:12: FutureWarning: Pass sr=22050, n_steps=7 as keyword args. From version 0.10 passing these as positional arguments will result in an error\n",
      "  new_y = librosa.effects.pitch_shift(y, sr, steps)\n"
     ]
    },
    {
     "name": "stdout",
     "output_type": "stream",
     "text": [
      "/home/ubuntu/Data/genres_original/pop/changedpop.00078.wav\n"
     ]
    },
    {
     "name": "stderr",
     "output_type": "stream",
     "text": [
      "/tmp/ipykernel_998/1739257450.py:12: FutureWarning: Pass sr=22050, n_steps=7 as keyword args. From version 0.10 passing these as positional arguments will result in an error\n",
      "  new_y = librosa.effects.pitch_shift(y, sr, steps)\n"
     ]
    },
    {
     "name": "stdout",
     "output_type": "stream",
     "text": [
      "/home/ubuntu/Data/genres_original/pop/changedpop.00020.wav\n"
     ]
    },
    {
     "name": "stderr",
     "output_type": "stream",
     "text": [
      "/tmp/ipykernel_998/1739257450.py:12: FutureWarning: Pass sr=22050, n_steps=7 as keyword args. From version 0.10 passing these as positional arguments will result in an error\n",
      "  new_y = librosa.effects.pitch_shift(y, sr, steps)\n"
     ]
    },
    {
     "name": "stdout",
     "output_type": "stream",
     "text": [
      "/home/ubuntu/Data/genres_original/pop/changedpop.00074.wav\n"
     ]
    },
    {
     "name": "stderr",
     "output_type": "stream",
     "text": [
      "/tmp/ipykernel_998/1739257450.py:12: FutureWarning: Pass sr=22050, n_steps=7 as keyword args. From version 0.10 passing these as positional arguments will result in an error\n",
      "  new_y = librosa.effects.pitch_shift(y, sr, steps)\n"
     ]
    },
    {
     "name": "stdout",
     "output_type": "stream",
     "text": [
      "/home/ubuntu/Data/genres_original/pop/changedpop.00032.wav\n"
     ]
    },
    {
     "name": "stderr",
     "output_type": "stream",
     "text": [
      "/tmp/ipykernel_998/1739257450.py:12: FutureWarning: Pass sr=22050, n_steps=7 as keyword args. From version 0.10 passing these as positional arguments will result in an error\n",
      "  new_y = librosa.effects.pitch_shift(y, sr, steps)\n"
     ]
    },
    {
     "name": "stdout",
     "output_type": "stream",
     "text": [
      "/home/ubuntu/Data/genres_original/pop/changedpop.00040.wav\n"
     ]
    },
    {
     "name": "stderr",
     "output_type": "stream",
     "text": [
      "/tmp/ipykernel_998/1739257450.py:12: FutureWarning: Pass sr=22050, n_steps=7 as keyword args. From version 0.10 passing these as positional arguments will result in an error\n",
      "  new_y = librosa.effects.pitch_shift(y, sr, steps)\n"
     ]
    },
    {
     "name": "stdout",
     "output_type": "stream",
     "text": [
      "/home/ubuntu/Data/genres_original/pop/changedpop.00084.wav\n"
     ]
    },
    {
     "name": "stderr",
     "output_type": "stream",
     "text": [
      "/tmp/ipykernel_998/1739257450.py:12: FutureWarning: Pass sr=22050, n_steps=7 as keyword args. From version 0.10 passing these as positional arguments will result in an error\n",
      "  new_y = librosa.effects.pitch_shift(y, sr, steps)\n"
     ]
    },
    {
     "name": "stdout",
     "output_type": "stream",
     "text": [
      "/home/ubuntu/Data/genres_original/pop/changedpop.00088.wav\n"
     ]
    },
    {
     "name": "stderr",
     "output_type": "stream",
     "text": [
      "/tmp/ipykernel_998/1739257450.py:12: FutureWarning: Pass sr=22050, n_steps=7 as keyword args. From version 0.10 passing these as positional arguments will result in an error\n",
      "  new_y = librosa.effects.pitch_shift(y, sr, steps)\n"
     ]
    },
    {
     "name": "stdout",
     "output_type": "stream",
     "text": [
      "/home/ubuntu/Data/genres_original/pop/changedpop.00057.wav\n"
     ]
    },
    {
     "name": "stderr",
     "output_type": "stream",
     "text": [
      "/tmp/ipykernel_998/1739257450.py:12: FutureWarning: Pass sr=22050, n_steps=7 as keyword args. From version 0.10 passing these as positional arguments will result in an error\n",
      "  new_y = librosa.effects.pitch_shift(y, sr, steps)\n"
     ]
    },
    {
     "name": "stdout",
     "output_type": "stream",
     "text": [
      "/home/ubuntu/Data/genres_original/pop/changedpop.00007.wav\n"
     ]
    },
    {
     "name": "stderr",
     "output_type": "stream",
     "text": [
      "/tmp/ipykernel_998/1739257450.py:12: FutureWarning: Pass sr=22050, n_steps=7 as keyword args. From version 0.10 passing these as positional arguments will result in an error\n",
      "  new_y = librosa.effects.pitch_shift(y, sr, steps)\n"
     ]
    },
    {
     "name": "stdout",
     "output_type": "stream",
     "text": [
      "/home/ubuntu/Data/genres_original/pop/changedpop.00070.wav\n"
     ]
    },
    {
     "name": "stderr",
     "output_type": "stream",
     "text": [
      "/tmp/ipykernel_998/1739257450.py:12: FutureWarning: Pass sr=22050, n_steps=7 as keyword args. From version 0.10 passing these as positional arguments will result in an error\n",
      "  new_y = librosa.effects.pitch_shift(y, sr, steps)\n"
     ]
    },
    {
     "name": "stdout",
     "output_type": "stream",
     "text": [
      "/home/ubuntu/Data/genres_original/pop/changedpop.00051.wav\n"
     ]
    },
    {
     "name": "stderr",
     "output_type": "stream",
     "text": [
      "/tmp/ipykernel_998/1739257450.py:12: FutureWarning: Pass sr=22050, n_steps=7 as keyword args. From version 0.10 passing these as positional arguments will result in an error\n",
      "  new_y = librosa.effects.pitch_shift(y, sr, steps)\n"
     ]
    },
    {
     "name": "stdout",
     "output_type": "stream",
     "text": [
      "/home/ubuntu/Data/genres_original/pop/changedpop.00082.wav\n"
     ]
    },
    {
     "name": "stderr",
     "output_type": "stream",
     "text": [
      "/tmp/ipykernel_998/1739257450.py:12: FutureWarning: Pass sr=22050, n_steps=7 as keyword args. From version 0.10 passing these as positional arguments will result in an error\n",
      "  new_y = librosa.effects.pitch_shift(y, sr, steps)\n"
     ]
    },
    {
     "name": "stdout",
     "output_type": "stream",
     "text": [
      "/home/ubuntu/Data/genres_original/pop/changedpop.00083.wav\n"
     ]
    },
    {
     "name": "stderr",
     "output_type": "stream",
     "text": [
      "/tmp/ipykernel_998/1739257450.py:12: FutureWarning: Pass sr=22050, n_steps=7 as keyword args. From version 0.10 passing these as positional arguments will result in an error\n",
      "  new_y = librosa.effects.pitch_shift(y, sr, steps)\n"
     ]
    },
    {
     "name": "stdout",
     "output_type": "stream",
     "text": [
      "/home/ubuntu/Data/genres_original/pop/changedpop.00089.wav\n"
     ]
    },
    {
     "name": "stderr",
     "output_type": "stream",
     "text": [
      "/tmp/ipykernel_998/1739257450.py:12: FutureWarning: Pass sr=22050, n_steps=7 as keyword args. From version 0.10 passing these as positional arguments will result in an error\n",
      "  new_y = librosa.effects.pitch_shift(y, sr, steps)\n"
     ]
    },
    {
     "name": "stdout",
     "output_type": "stream",
     "text": [
      "/home/ubuntu/Data/genres_original/pop/changedpop.00027.wav\n"
     ]
    },
    {
     "name": "stderr",
     "output_type": "stream",
     "text": [
      "/tmp/ipykernel_998/1739257450.py:12: FutureWarning: Pass sr=22050, n_steps=7 as keyword args. From version 0.10 passing these as positional arguments will result in an error\n",
      "  new_y = librosa.effects.pitch_shift(y, sr, steps)\n"
     ]
    },
    {
     "name": "stdout",
     "output_type": "stream",
     "text": [
      "/home/ubuntu/Data/genres_original/pop/changedpop.00044.wav\n"
     ]
    },
    {
     "name": "stderr",
     "output_type": "stream",
     "text": [
      "/tmp/ipykernel_998/1739257450.py:12: FutureWarning: Pass sr=22050, n_steps=7 as keyword args. From version 0.10 passing these as positional arguments will result in an error\n",
      "  new_y = librosa.effects.pitch_shift(y, sr, steps)\n"
     ]
    },
    {
     "name": "stdout",
     "output_type": "stream",
     "text": [
      "/home/ubuntu/Data/genres_original/pop/changedpop.00055.wav\n"
     ]
    },
    {
     "name": "stderr",
     "output_type": "stream",
     "text": [
      "/tmp/ipykernel_998/1739257450.py:12: FutureWarning: Pass sr=22050, n_steps=7 as keyword args. From version 0.10 passing these as positional arguments will result in an error\n",
      "  new_y = librosa.effects.pitch_shift(y, sr, steps)\n"
     ]
    },
    {
     "name": "stdout",
     "output_type": "stream",
     "text": [
      "/home/ubuntu/Data/genres_original/pop/changedpop.00064.wav\n"
     ]
    },
    {
     "name": "stderr",
     "output_type": "stream",
     "text": [
      "/tmp/ipykernel_998/1739257450.py:12: FutureWarning: Pass sr=22050, n_steps=7 as keyword args. From version 0.10 passing these as positional arguments will result in an error\n",
      "  new_y = librosa.effects.pitch_shift(y, sr, steps)\n"
     ]
    },
    {
     "name": "stdout",
     "output_type": "stream",
     "text": [
      "/home/ubuntu/Data/genres_original/pop/changedpop.00065.wav\n"
     ]
    },
    {
     "name": "stderr",
     "output_type": "stream",
     "text": [
      "/tmp/ipykernel_998/1739257450.py:12: FutureWarning: Pass sr=22050, n_steps=7 as keyword args. From version 0.10 passing these as positional arguments will result in an error\n",
      "  new_y = librosa.effects.pitch_shift(y, sr, steps)\n"
     ]
    },
    {
     "name": "stdout",
     "output_type": "stream",
     "text": [
      "/home/ubuntu/Data/genres_original/pop/changedpop.00066.wav\n"
     ]
    },
    {
     "name": "stderr",
     "output_type": "stream",
     "text": [
      "/tmp/ipykernel_998/1739257450.py:12: FutureWarning: Pass sr=22050, n_steps=7 as keyword args. From version 0.10 passing these as positional arguments will result in an error\n",
      "  new_y = librosa.effects.pitch_shift(y, sr, steps)\n"
     ]
    },
    {
     "name": "stdout",
     "output_type": "stream",
     "text": [
      "/home/ubuntu/Data/genres_original/pop/changedpop.00096.wav\n"
     ]
    },
    {
     "name": "stderr",
     "output_type": "stream",
     "text": [
      "/tmp/ipykernel_998/1739257450.py:12: FutureWarning: Pass sr=22050, n_steps=7 as keyword args. From version 0.10 passing these as positional arguments will result in an error\n",
      "  new_y = librosa.effects.pitch_shift(y, sr, steps)\n"
     ]
    },
    {
     "name": "stdout",
     "output_type": "stream",
     "text": [
      "/home/ubuntu/Data/genres_original/pop/changedpop.00090.wav\n"
     ]
    },
    {
     "name": "stderr",
     "output_type": "stream",
     "text": [
      "/tmp/ipykernel_998/1739257450.py:12: FutureWarning: Pass sr=22050, n_steps=7 as keyword args. From version 0.10 passing these as positional arguments will result in an error\n",
      "  new_y = librosa.effects.pitch_shift(y, sr, steps)\n"
     ]
    },
    {
     "name": "stdout",
     "output_type": "stream",
     "text": [
      "/home/ubuntu/Data/genres_original/pop/changedpop.00069.wav\n"
     ]
    },
    {
     "name": "stderr",
     "output_type": "stream",
     "text": [
      "/tmp/ipykernel_998/1739257450.py:12: FutureWarning: Pass sr=22050, n_steps=7 as keyword args. From version 0.10 passing these as positional arguments will result in an error\n",
      "  new_y = librosa.effects.pitch_shift(y, sr, steps)\n"
     ]
    },
    {
     "name": "stdout",
     "output_type": "stream",
     "text": [
      "/home/ubuntu/Data/genres_original/pop/changedpop.00041.wav\n"
     ]
    },
    {
     "name": "stderr",
     "output_type": "stream",
     "text": [
      "/tmp/ipykernel_998/1739257450.py:12: FutureWarning: Pass sr=22050, n_steps=7 as keyword args. From version 0.10 passing these as positional arguments will result in an error\n",
      "  new_y = librosa.effects.pitch_shift(y, sr, steps)\n"
     ]
    },
    {
     "name": "stdout",
     "output_type": "stream",
     "text": [
      "/home/ubuntu/Data/genres_original/pop/changedpop.00073.wav\n"
     ]
    },
    {
     "name": "stderr",
     "output_type": "stream",
     "text": [
      "/tmp/ipykernel_998/1739257450.py:12: FutureWarning: Pass sr=22050, n_steps=7 as keyword args. From version 0.10 passing these as positional arguments will result in an error\n",
      "  new_y = librosa.effects.pitch_shift(y, sr, steps)\n"
     ]
    },
    {
     "name": "stdout",
     "output_type": "stream",
     "text": [
      "/home/ubuntu/Data/genres_original/pop/changedpop.00061.wav\n"
     ]
    },
    {
     "name": "stderr",
     "output_type": "stream",
     "text": [
      "/tmp/ipykernel_998/1739257450.py:12: FutureWarning: Pass sr=22050, n_steps=7 as keyword args. From version 0.10 passing these as positional arguments will result in an error\n",
      "  new_y = librosa.effects.pitch_shift(y, sr, steps)\n"
     ]
    },
    {
     "name": "stdout",
     "output_type": "stream",
     "text": [
      "/home/ubuntu/Data/genres_original/pop/changedpop.00038.wav\n"
     ]
    },
    {
     "name": "stderr",
     "output_type": "stream",
     "text": [
      "/tmp/ipykernel_998/1739257450.py:12: FutureWarning: Pass sr=22050, n_steps=7 as keyword args. From version 0.10 passing these as positional arguments will result in an error\n",
      "  new_y = librosa.effects.pitch_shift(y, sr, steps)\n"
     ]
    },
    {
     "name": "stdout",
     "output_type": "stream",
     "text": [
      "/home/ubuntu/Data/genres_original/pop/changedpop.00004.wav\n"
     ]
    },
    {
     "name": "stderr",
     "output_type": "stream",
     "text": [
      "/tmp/ipykernel_998/1739257450.py:12: FutureWarning: Pass sr=22050, n_steps=7 as keyword args. From version 0.10 passing these as positional arguments will result in an error\n",
      "  new_y = librosa.effects.pitch_shift(y, sr, steps)\n"
     ]
    },
    {
     "name": "stdout",
     "output_type": "stream",
     "text": [
      "/home/ubuntu/Data/genres_original/pop/changedpop.00018.wav\n"
     ]
    },
    {
     "name": "stderr",
     "output_type": "stream",
     "text": [
      "/tmp/ipykernel_998/1739257450.py:12: FutureWarning: Pass sr=22050, n_steps=7 as keyword args. From version 0.10 passing these as positional arguments will result in an error\n",
      "  new_y = librosa.effects.pitch_shift(y, sr, steps)\n"
     ]
    },
    {
     "name": "stdout",
     "output_type": "stream",
     "text": [
      "/home/ubuntu/Data/genres_original/pop/changedpop.00093.wav\n"
     ]
    },
    {
     "name": "stderr",
     "output_type": "stream",
     "text": [
      "/tmp/ipykernel_998/1739257450.py:12: FutureWarning: Pass sr=22050, n_steps=7 as keyword args. From version 0.10 passing these as positional arguments will result in an error\n",
      "  new_y = librosa.effects.pitch_shift(y, sr, steps)\n"
     ]
    },
    {
     "name": "stdout",
     "output_type": "stream",
     "text": [
      "/home/ubuntu/Data/genres_original/pop/changedpop.00072.wav\n"
     ]
    },
    {
     "name": "stderr",
     "output_type": "stream",
     "text": [
      "/tmp/ipykernel_998/1739257450.py:12: FutureWarning: Pass sr=22050, n_steps=7 as keyword args. From version 0.10 passing these as positional arguments will result in an error\n",
      "  new_y = librosa.effects.pitch_shift(y, sr, steps)\n"
     ]
    },
    {
     "name": "stdout",
     "output_type": "stream",
     "text": [
      "/home/ubuntu/Data/genres_original/pop/changedpop.00059.wav\n"
     ]
    },
    {
     "name": "stderr",
     "output_type": "stream",
     "text": [
      "/tmp/ipykernel_998/1739257450.py:12: FutureWarning: Pass sr=22050, n_steps=7 as keyword args. From version 0.10 passing these as positional arguments will result in an error\n",
      "  new_y = librosa.effects.pitch_shift(y, sr, steps)\n"
     ]
    },
    {
     "name": "stdout",
     "output_type": "stream",
     "text": [
      "/home/ubuntu/Data/genres_original/pop/changedpop.00050.wav\n"
     ]
    },
    {
     "name": "stderr",
     "output_type": "stream",
     "text": [
      "/tmp/ipykernel_998/1739257450.py:12: FutureWarning: Pass sr=22050, n_steps=7 as keyword args. From version 0.10 passing these as positional arguments will result in an error\n",
      "  new_y = librosa.effects.pitch_shift(y, sr, steps)\n"
     ]
    },
    {
     "name": "stdout",
     "output_type": "stream",
     "text": [
      "/home/ubuntu/Data/genres_original/pop/changedpop.00029.wav\n"
     ]
    },
    {
     "name": "stderr",
     "output_type": "stream",
     "text": [
      "/tmp/ipykernel_998/1739257450.py:12: FutureWarning: Pass sr=22050, n_steps=7 as keyword args. From version 0.10 passing these as positional arguments will result in an error\n",
      "  new_y = librosa.effects.pitch_shift(y, sr, steps)\n"
     ]
    },
    {
     "name": "stdout",
     "output_type": "stream",
     "text": [
      "/home/ubuntu/Data/genres_original/pop/changedpop.00034.wav\n"
     ]
    },
    {
     "name": "stderr",
     "output_type": "stream",
     "text": [
      "/tmp/ipykernel_998/1739257450.py:12: FutureWarning: Pass sr=22050, n_steps=7 as keyword args. From version 0.10 passing these as positional arguments will result in an error\n",
      "  new_y = librosa.effects.pitch_shift(y, sr, steps)\n"
     ]
    },
    {
     "name": "stdout",
     "output_type": "stream",
     "text": [
      "/home/ubuntu/Data/genres_original/pop/changedpop.00056.wav\n"
     ]
    },
    {
     "name": "stderr",
     "output_type": "stream",
     "text": [
      "/tmp/ipykernel_998/1739257450.py:12: FutureWarning: Pass sr=22050, n_steps=7 as keyword args. From version 0.10 passing these as positional arguments will result in an error\n",
      "  new_y = librosa.effects.pitch_shift(y, sr, steps)\n"
     ]
    },
    {
     "name": "stdout",
     "output_type": "stream",
     "text": [
      "/home/ubuntu/Data/genres_original/pop/changedpop.00030.wav\n"
     ]
    },
    {
     "name": "stderr",
     "output_type": "stream",
     "text": [
      "/tmp/ipykernel_998/1739257450.py:12: FutureWarning: Pass sr=22050, n_steps=7 as keyword args. From version 0.10 passing these as positional arguments will result in an error\n",
      "  new_y = librosa.effects.pitch_shift(y, sr, steps)\n"
     ]
    },
    {
     "name": "stdout",
     "output_type": "stream",
     "text": [
      "/home/ubuntu/Data/genres_original/pop/changedpop.00063.wav\n"
     ]
    },
    {
     "name": "stderr",
     "output_type": "stream",
     "text": [
      "/tmp/ipykernel_998/1739257450.py:12: FutureWarning: Pass sr=22050, n_steps=7 as keyword args. From version 0.10 passing these as positional arguments will result in an error\n",
      "  new_y = librosa.effects.pitch_shift(y, sr, steps)\n"
     ]
    },
    {
     "name": "stdout",
     "output_type": "stream",
     "text": [
      "/home/ubuntu/Data/genres_original/pop/changedpop.00047.wav\n"
     ]
    },
    {
     "name": "stderr",
     "output_type": "stream",
     "text": [
      "/tmp/ipykernel_998/1739257450.py:12: FutureWarning: Pass sr=22050, n_steps=7 as keyword args. From version 0.10 passing these as positional arguments will result in an error\n",
      "  new_y = librosa.effects.pitch_shift(y, sr, steps)\n"
     ]
    },
    {
     "name": "stdout",
     "output_type": "stream",
     "text": [
      "/home/ubuntu/Data/genres_original/pop/changedpop.00048.wav\n"
     ]
    },
    {
     "name": "stderr",
     "output_type": "stream",
     "text": [
      "/tmp/ipykernel_998/1739257450.py:12: FutureWarning: Pass sr=22050, n_steps=7 as keyword args. From version 0.10 passing these as positional arguments will result in an error\n",
      "  new_y = librosa.effects.pitch_shift(y, sr, steps)\n"
     ]
    },
    {
     "name": "stdout",
     "output_type": "stream",
     "text": [
      "/home/ubuntu/Data/genres_original/pop/changedpop.00036.wav\n"
     ]
    },
    {
     "name": "stderr",
     "output_type": "stream",
     "text": [
      "/tmp/ipykernel_998/1739257450.py:12: FutureWarning: Pass sr=22050, n_steps=7 as keyword args. From version 0.10 passing these as positional arguments will result in an error\n",
      "  new_y = librosa.effects.pitch_shift(y, sr, steps)\n"
     ]
    },
    {
     "name": "stdout",
     "output_type": "stream",
     "text": [
      "/home/ubuntu/Data/genres_original/pop/changedpop.00037.wav\n"
     ]
    },
    {
     "name": "stderr",
     "output_type": "stream",
     "text": [
      "/tmp/ipykernel_998/1739257450.py:12: FutureWarning: Pass sr=22050, n_steps=7 as keyword args. From version 0.10 passing these as positional arguments will result in an error\n",
      "  new_y = librosa.effects.pitch_shift(y, sr, steps)\n"
     ]
    },
    {
     "name": "stdout",
     "output_type": "stream",
     "text": [
      "/home/ubuntu/Data/genres_original/pop/changedpop.00095.wav\n"
     ]
    },
    {
     "name": "stderr",
     "output_type": "stream",
     "text": [
      "/tmp/ipykernel_998/1739257450.py:12: FutureWarning: Pass sr=22050, n_steps=7 as keyword args. From version 0.10 passing these as positional arguments will result in an error\n",
      "  new_y = librosa.effects.pitch_shift(y, sr, steps)\n"
     ]
    },
    {
     "name": "stdout",
     "output_type": "stream",
     "text": [
      "/home/ubuntu/Data/genres_original/pop/changedpop.00025.wav\n"
     ]
    },
    {
     "name": "stderr",
     "output_type": "stream",
     "text": [
      "/tmp/ipykernel_998/1739257450.py:12: FutureWarning: Pass sr=22050, n_steps=7 as keyword args. From version 0.10 passing these as positional arguments will result in an error\n",
      "  new_y = librosa.effects.pitch_shift(y, sr, steps)\n"
     ]
    },
    {
     "name": "stdout",
     "output_type": "stream",
     "text": [
      "/home/ubuntu/Data/genres_original/pop/changedpop.00087.wav\n"
     ]
    },
    {
     "name": "stderr",
     "output_type": "stream",
     "text": [
      "/tmp/ipykernel_998/1739257450.py:12: FutureWarning: Pass sr=22050, n_steps=7 as keyword args. From version 0.10 passing these as positional arguments will result in an error\n",
      "  new_y = librosa.effects.pitch_shift(y, sr, steps)\n"
     ]
    },
    {
     "name": "stdout",
     "output_type": "stream",
     "text": [
      "/home/ubuntu/Data/genres_original/pop/changedpop.00033.wav\n"
     ]
    },
    {
     "name": "stderr",
     "output_type": "stream",
     "text": [
      "/tmp/ipykernel_998/1739257450.py:12: FutureWarning: Pass sr=22050, n_steps=7 as keyword args. From version 0.10 passing these as positional arguments will result in an error\n",
      "  new_y = librosa.effects.pitch_shift(y, sr, steps)\n"
     ]
    },
    {
     "name": "stdout",
     "output_type": "stream",
     "text": [
      "/home/ubuntu/Data/genres_original/pop/changedpop.00039.wav\n"
     ]
    },
    {
     "name": "stderr",
     "output_type": "stream",
     "text": [
      "/tmp/ipykernel_998/1739257450.py:12: FutureWarning: Pass sr=22050, n_steps=7 as keyword args. From version 0.10 passing these as positional arguments will result in an error\n",
      "  new_y = librosa.effects.pitch_shift(y, sr, steps)\n"
     ]
    },
    {
     "name": "stdout",
     "output_type": "stream",
     "text": [
      "/home/ubuntu/Data/genres_original/pop/changedpop.00058.wav\n"
     ]
    },
    {
     "name": "stderr",
     "output_type": "stream",
     "text": [
      "/tmp/ipykernel_998/1739257450.py:12: FutureWarning: Pass sr=22050, n_steps=7 as keyword args. From version 0.10 passing these as positional arguments will result in an error\n",
      "  new_y = librosa.effects.pitch_shift(y, sr, steps)\n"
     ]
    },
    {
     "name": "stdout",
     "output_type": "stream",
     "text": [
      "/home/ubuntu/Data/genres_original/pop/changedpop.00008.wav\n"
     ]
    },
    {
     "name": "stderr",
     "output_type": "stream",
     "text": [
      "/tmp/ipykernel_998/1739257450.py:12: FutureWarning: Pass sr=22050, n_steps=7 as keyword args. From version 0.10 passing these as positional arguments will result in an error\n",
      "  new_y = librosa.effects.pitch_shift(y, sr, steps)\n"
     ]
    },
    {
     "name": "stdout",
     "output_type": "stream",
     "text": [
      "/home/ubuntu/Data/genres_original/pop/changedpop.00060.wav\n"
     ]
    },
    {
     "name": "stderr",
     "output_type": "stream",
     "text": [
      "/tmp/ipykernel_998/1739257450.py:12: FutureWarning: Pass sr=22050, n_steps=7 as keyword args. From version 0.10 passing these as positional arguments will result in an error\n",
      "  new_y = librosa.effects.pitch_shift(y, sr, steps)\n"
     ]
    },
    {
     "name": "stdout",
     "output_type": "stream",
     "text": [
      "/home/ubuntu/Data/genres_original/pop/changedpop.00009.wav\n"
     ]
    },
    {
     "name": "stderr",
     "output_type": "stream",
     "text": [
      "/tmp/ipykernel_998/1739257450.py:12: FutureWarning: Pass sr=22050, n_steps=7 as keyword args. From version 0.10 passing these as positional arguments will result in an error\n",
      "  new_y = librosa.effects.pitch_shift(y, sr, steps)\n"
     ]
    },
    {
     "name": "stdout",
     "output_type": "stream",
     "text": [
      "/home/ubuntu/Data/genres_original/pop/changedpop.00080.wav\n"
     ]
    },
    {
     "name": "stderr",
     "output_type": "stream",
     "text": [
      "/tmp/ipykernel_998/1739257450.py:12: FutureWarning: Pass sr=22050, n_steps=7 as keyword args. From version 0.10 passing these as positional arguments will result in an error\n",
      "  new_y = librosa.effects.pitch_shift(y, sr, steps)\n"
     ]
    },
    {
     "name": "stdout",
     "output_type": "stream",
     "text": [
      "/home/ubuntu/Data/genres_original/pop/changedpop.00046.wav\n"
     ]
    },
    {
     "name": "stderr",
     "output_type": "stream",
     "text": [
      "/tmp/ipykernel_998/1739257450.py:12: FutureWarning: Pass sr=22050, n_steps=7 as keyword args. From version 0.10 passing these as positional arguments will result in an error\n",
      "  new_y = librosa.effects.pitch_shift(y, sr, steps)\n"
     ]
    },
    {
     "name": "stdout",
     "output_type": "stream",
     "text": [
      "/home/ubuntu/Data/genres_original/pop/changedpop.00015.wav\n"
     ]
    },
    {
     "name": "stderr",
     "output_type": "stream",
     "text": [
      "/tmp/ipykernel_998/1739257450.py:12: FutureWarning: Pass sr=22050, n_steps=7 as keyword args. From version 0.10 passing these as positional arguments will result in an error\n",
      "  new_y = librosa.effects.pitch_shift(y, sr, steps)\n"
     ]
    },
    {
     "name": "stdout",
     "output_type": "stream",
     "text": [
      "/home/ubuntu/Data/genres_original/pop/changedpop.00071.wav\n"
     ]
    },
    {
     "name": "stderr",
     "output_type": "stream",
     "text": [
      "/tmp/ipykernel_998/1739257450.py:12: FutureWarning: Pass sr=22050, n_steps=7 as keyword args. From version 0.10 passing these as positional arguments will result in an error\n",
      "  new_y = librosa.effects.pitch_shift(y, sr, steps)\n"
     ]
    },
    {
     "name": "stdout",
     "output_type": "stream",
     "text": [
      "/home/ubuntu/Data/genres_original/pop/changedpop.00052.wav\n"
     ]
    },
    {
     "name": "stderr",
     "output_type": "stream",
     "text": [
      "/tmp/ipykernel_998/1739257450.py:12: FutureWarning: Pass sr=22050, n_steps=7 as keyword args. From version 0.10 passing these as positional arguments will result in an error\n",
      "  new_y = librosa.effects.pitch_shift(y, sr, steps)\n"
     ]
    },
    {
     "name": "stdout",
     "output_type": "stream",
     "text": [
      "/home/ubuntu/Data/genres_original/pop/changedpop.00023.wav\n"
     ]
    },
    {
     "name": "stderr",
     "output_type": "stream",
     "text": [
      "/tmp/ipykernel_998/1739257450.py:12: FutureWarning: Pass sr=22050, n_steps=7 as keyword args. From version 0.10 passing these as positional arguments will result in an error\n",
      "  new_y = librosa.effects.pitch_shift(y, sr, steps)\n"
     ]
    },
    {
     "name": "stdout",
     "output_type": "stream",
     "text": [
      "/home/ubuntu/Data/genres_original/pop/changedpop.00098.wav\n"
     ]
    },
    {
     "name": "stderr",
     "output_type": "stream",
     "text": [
      "/tmp/ipykernel_998/1739257450.py:12: FutureWarning: Pass sr=22050, n_steps=7 as keyword args. From version 0.10 passing these as positional arguments will result in an error\n",
      "  new_y = librosa.effects.pitch_shift(y, sr, steps)\n"
     ]
    },
    {
     "name": "stdout",
     "output_type": "stream",
     "text": [
      "/home/ubuntu/Data/genres_original/pop/changedpop.00043.wav\n"
     ]
    },
    {
     "name": "stderr",
     "output_type": "stream",
     "text": [
      "/tmp/ipykernel_998/1739257450.py:12: FutureWarning: Pass sr=22050, n_steps=7 as keyword args. From version 0.10 passing these as positional arguments will result in an error\n",
      "  new_y = librosa.effects.pitch_shift(y, sr, steps)\n"
     ]
    },
    {
     "name": "stdout",
     "output_type": "stream",
     "text": [
      "/home/ubuntu/Data/genres_original/pop/changedpop.00024.wav\n"
     ]
    },
    {
     "name": "stderr",
     "output_type": "stream",
     "text": [
      "/tmp/ipykernel_998/1739257450.py:12: FutureWarning: Pass sr=22050, n_steps=7 as keyword args. From version 0.10 passing these as positional arguments will result in an error\n",
      "  new_y = librosa.effects.pitch_shift(y, sr, steps)\n"
     ]
    },
    {
     "name": "stdout",
     "output_type": "stream",
     "text": [
      "/home/ubuntu/Data/genres_original/pop/changedpop.00011.wav\n"
     ]
    },
    {
     "name": "stderr",
     "output_type": "stream",
     "text": [
      "/tmp/ipykernel_998/1739257450.py:12: FutureWarning: Pass sr=22050, n_steps=7 as keyword args. From version 0.10 passing these as positional arguments will result in an error\n",
      "  new_y = librosa.effects.pitch_shift(y, sr, steps)\n"
     ]
    },
    {
     "name": "stdout",
     "output_type": "stream",
     "text": [
      "/home/ubuntu/Data/genres_original/pop/changedpop.00006.wav\n"
     ]
    },
    {
     "name": "stderr",
     "output_type": "stream",
     "text": [
      "/tmp/ipykernel_998/1739257450.py:12: FutureWarning: Pass sr=22050, n_steps=7 as keyword args. From version 0.10 passing these as positional arguments will result in an error\n",
      "  new_y = librosa.effects.pitch_shift(y, sr, steps)\n"
     ]
    },
    {
     "name": "stdout",
     "output_type": "stream",
     "text": [
      "/home/ubuntu/Data/genres_original/pop/changedpop.00026.wav\n"
     ]
    },
    {
     "name": "stderr",
     "output_type": "stream",
     "text": [
      "/tmp/ipykernel_998/1739257450.py:12: FutureWarning: Pass sr=22050, n_steps=7 as keyword args. From version 0.10 passing these as positional arguments will result in an error\n",
      "  new_y = librosa.effects.pitch_shift(y, sr, steps)\n"
     ]
    },
    {
     "name": "stdout",
     "output_type": "stream",
     "text": [
      "/home/ubuntu/Data/genres_original/pop/changedpop.00086.wav\n"
     ]
    },
    {
     "name": "stderr",
     "output_type": "stream",
     "text": [
      "/tmp/ipykernel_998/1739257450.py:12: FutureWarning: Pass sr=22050, n_steps=7 as keyword args. From version 0.10 passing these as positional arguments will result in an error\n",
      "  new_y = librosa.effects.pitch_shift(y, sr, steps)\n"
     ]
    },
    {
     "name": "stdout",
     "output_type": "stream",
     "text": [
      "/home/ubuntu/Data/genres_original/pop/changedpop.00079.wav\n"
     ]
    },
    {
     "name": "stderr",
     "output_type": "stream",
     "text": [
      "/tmp/ipykernel_998/1739257450.py:12: FutureWarning: Pass sr=22050, n_steps=7 as keyword args. From version 0.10 passing these as positional arguments will result in an error\n",
      "  new_y = librosa.effects.pitch_shift(y, sr, steps)\n"
     ]
    },
    {
     "name": "stdout",
     "output_type": "stream",
     "text": [
      "/home/ubuntu/Data/genres_original/pop/changedpop.00053.wav\n"
     ]
    },
    {
     "name": "stderr",
     "output_type": "stream",
     "text": [
      "/tmp/ipykernel_998/1739257450.py:12: FutureWarning: Pass sr=22050, n_steps=7 as keyword args. From version 0.10 passing these as positional arguments will result in an error\n",
      "  new_y = librosa.effects.pitch_shift(y, sr, steps)\n"
     ]
    },
    {
     "name": "stdout",
     "output_type": "stream",
     "text": [
      "/home/ubuntu/Data/genres_original/pop/changedpop.00003.wav\n"
     ]
    },
    {
     "name": "stderr",
     "output_type": "stream",
     "text": [
      "/tmp/ipykernel_998/1739257450.py:12: FutureWarning: Pass sr=22050, n_steps=7 as keyword args. From version 0.10 passing these as positional arguments will result in an error\n",
      "  new_y = librosa.effects.pitch_shift(y, sr, steps)\n"
     ]
    },
    {
     "name": "stdout",
     "output_type": "stream",
     "text": [
      "/home/ubuntu/Data/genres_original/pop/changedpop.00022.wav\n"
     ]
    },
    {
     "name": "stderr",
     "output_type": "stream",
     "text": [
      "/tmp/ipykernel_998/1739257450.py:12: FutureWarning: Pass sr=22050, n_steps=7 as keyword args. From version 0.10 passing these as positional arguments will result in an error\n",
      "  new_y = librosa.effects.pitch_shift(y, sr, steps)\n"
     ]
    },
    {
     "name": "stdout",
     "output_type": "stream",
     "text": [
      "/home/ubuntu/Data/genres_original/pop/changedpop.00013.wav\n"
     ]
    },
    {
     "name": "stderr",
     "output_type": "stream",
     "text": [
      "/tmp/ipykernel_998/1739257450.py:12: FutureWarning: Pass sr=22050, n_steps=7 as keyword args. From version 0.10 passing these as positional arguments will result in an error\n",
      "  new_y = librosa.effects.pitch_shift(y, sr, steps)\n"
     ]
    },
    {
     "name": "stdout",
     "output_type": "stream",
     "text": [
      "/home/ubuntu/Data/genres_original/pop/changedpop.00010.wav\n"
     ]
    },
    {
     "name": "stderr",
     "output_type": "stream",
     "text": [
      "/tmp/ipykernel_998/1739257450.py:12: FutureWarning: Pass sr=22050, n_steps=7 as keyword args. From version 0.10 passing these as positional arguments will result in an error\n",
      "  new_y = librosa.effects.pitch_shift(y, sr, steps)\n"
     ]
    },
    {
     "name": "stdout",
     "output_type": "stream",
     "text": [
      "/home/ubuntu/Data/genres_original/pop/changedpop.00017.wav\n"
     ]
    },
    {
     "name": "stderr",
     "output_type": "stream",
     "text": [
      "/tmp/ipykernel_998/1739257450.py:12: FutureWarning: Pass sr=22050, n_steps=7 as keyword args. From version 0.10 passing these as positional arguments will result in an error\n",
      "  new_y = librosa.effects.pitch_shift(y, sr, steps)\n"
     ]
    },
    {
     "name": "stdout",
     "output_type": "stream",
     "text": [
      "/home/ubuntu/Data/genres_original/pop/changedpop.00085.wav\n"
     ]
    },
    {
     "name": "stderr",
     "output_type": "stream",
     "text": [
      "/tmp/ipykernel_998/1739257450.py:12: FutureWarning: Pass sr=22050, n_steps=7 as keyword args. From version 0.10 passing these as positional arguments will result in an error\n",
      "  new_y = librosa.effects.pitch_shift(y, sr, steps)\n"
     ]
    },
    {
     "name": "stdout",
     "output_type": "stream",
     "text": [
      "/home/ubuntu/Data/genres_original/pop/changedpop.00092.wav\n"
     ]
    },
    {
     "name": "stderr",
     "output_type": "stream",
     "text": [
      "/tmp/ipykernel_998/1739257450.py:12: FutureWarning: Pass sr=22050, n_steps=7 as keyword args. From version 0.10 passing these as positional arguments will result in an error\n",
      "  new_y = librosa.effects.pitch_shift(y, sr, steps)\n"
     ]
    },
    {
     "name": "stdout",
     "output_type": "stream",
     "text": [
      "/home/ubuntu/Data/genres_original/pop/changedpop.00067.wav\n"
     ]
    },
    {
     "name": "stderr",
     "output_type": "stream",
     "text": [
      "/tmp/ipykernel_998/1739257450.py:12: FutureWarning: Pass sr=22050, n_steps=7 as keyword args. From version 0.10 passing these as positional arguments will result in an error\n",
      "  new_y = librosa.effects.pitch_shift(y, sr, steps)\n"
     ]
    },
    {
     "name": "stdout",
     "output_type": "stream",
     "text": [
      "/home/ubuntu/Data/genres_original/pop/changedpop.00012.wav\n"
     ]
    },
    {
     "name": "stderr",
     "output_type": "stream",
     "text": [
      "/tmp/ipykernel_998/1739257450.py:12: FutureWarning: Pass sr=22050, n_steps=7 as keyword args. From version 0.10 passing these as positional arguments will result in an error\n",
      "  new_y = librosa.effects.pitch_shift(y, sr, steps)\n"
     ]
    },
    {
     "name": "stdout",
     "output_type": "stream",
     "text": [
      "/home/ubuntu/Data/genres_original/pop/changedpop.00091.wav\n"
     ]
    },
    {
     "name": "stderr",
     "output_type": "stream",
     "text": [
      "/tmp/ipykernel_998/1739257450.py:12: FutureWarning: Pass sr=22050, n_steps=7 as keyword args. From version 0.10 passing these as positional arguments will result in an error\n",
      "  new_y = librosa.effects.pitch_shift(y, sr, steps)\n"
     ]
    },
    {
     "name": "stdout",
     "output_type": "stream",
     "text": [
      "/home/ubuntu/Data/genres_original/pop/changedpop.00019.wav\n"
     ]
    },
    {
     "name": "stderr",
     "output_type": "stream",
     "text": [
      "/tmp/ipykernel_998/1739257450.py:12: FutureWarning: Pass sr=22050, n_steps=7 as keyword args. From version 0.10 passing these as positional arguments will result in an error\n",
      "  new_y = librosa.effects.pitch_shift(y, sr, steps)\n"
     ]
    },
    {
     "name": "stdout",
     "output_type": "stream",
     "text": [
      "/home/ubuntu/Data/genres_original/pop/changedpop.00075.wav\n"
     ]
    },
    {
     "name": "stderr",
     "output_type": "stream",
     "text": [
      "/tmp/ipykernel_998/1739257450.py:12: FutureWarning: Pass sr=22050, n_steps=7 as keyword args. From version 0.10 passing these as positional arguments will result in an error\n",
      "  new_y = librosa.effects.pitch_shift(y, sr, steps)\n"
     ]
    },
    {
     "name": "stdout",
     "output_type": "stream",
     "text": [
      "/home/ubuntu/Data/genres_original/pop/changedpop.00021.wav\n"
     ]
    },
    {
     "name": "stderr",
     "output_type": "stream",
     "text": [
      "/tmp/ipykernel_998/1739257450.py:12: FutureWarning: Pass sr=22050, n_steps=7 as keyword args. From version 0.10 passing these as positional arguments will result in an error\n",
      "  new_y = librosa.effects.pitch_shift(y, sr, steps)\n"
     ]
    },
    {
     "name": "stdout",
     "output_type": "stream",
     "text": [
      "/home/ubuntu/Data/genres_original/pop/changedpop.00049.wav\n"
     ]
    }
   ],
   "source": [
    "dataset_path = \"/home/ubuntu/Data/genres_original\"\n",
    "\n",
    "def main():\n",
    "    for i, (dirpath, dirnames, filenames) in enumerate(os.walk(dataset_path)):\n",
    "        print ('current dir path is %s' % dirpath)\n",
    "        # print ('current filenames path is %s' % filenames)\n",
    "        for f in filenames:\n",
    "\t\t# load audio file\n",
    "            file_path = os.path.join(dirpath, f)\n",
    "            y, sr = librosa.load(file_path)\n",
    "            steps = 7 # 7 semitones in a perfect 5th\n",
    "            new_y = librosa.effects.pitch_shift(y, sr, steps)\n",
    "            gname = dirpath.split('/')[-1]\n",
    "            newpath = \"/home/ubuntu/Data/new_genres/\" + gname\n",
    "            # os.mkdir(\"/home/ubuntu/Data/new_genres/\")\n",
    "            if not os.path.exists(newpath):\n",
    "                os.mkdir(newpath)\n",
    "            nf = newpath + \"/changed\" + f \n",
    "            \n",
    "            soundfile.write(nf, new_y, sr,)\n",
    "            \n",
    "            print (nf)\n",
    "\n",
    "    \n",
    "\n",
    "main()"
   ]
  },
  {
   "cell_type": "code",
   "execution_count": null,
   "id": "2588a9c4",
   "metadata": {},
   "outputs": [],
   "source": []
  }
 ],
 "metadata": {
  "kernelspec": {
   "display_name": "Python 3 (ipykernel)",
   "language": "python",
   "name": "python3"
  },
  "language_info": {
   "codemirror_mode": {
    "name": "ipython",
    "version": 3
   },
   "file_extension": ".py",
   "mimetype": "text/x-python",
   "name": "python",
   "nbconvert_exporter": "python",
   "pygments_lexer": "ipython3",
   "version": "3.9.12"
  }
 },
 "nbformat": 4,
 "nbformat_minor": 5
}
